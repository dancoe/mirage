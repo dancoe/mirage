{
 "cells": [
  {
   "cell_type": "markdown",
   "metadata": {},
   "source": [
    "# Using MIRAGE to Generate Simulated NIRCam Images"
   ]
  },
  {
   "cell_type": "markdown",
   "metadata": {},
   "source": [
    "https://github.com/spacetelescope/mirage/blob/master/examples/Imaging_simulator_use_examples.ipynb"
   ]
  },
  {
   "cell_type": "markdown",
   "metadata": {},
   "source": [
    "Here we use MIRAGE to simulate NIRCam imaging based on HST observations of the galaxy cluster MACS0647+70.  \n",
    "Our full APT program executes 160 exposures = 4 dithers x 4 filters x 10 detectors.  \n",
    "Here, we'll just simulate 16 exposures: 4 dithers in the F200W filter in NIRCam Module A (4 detectors).  \n",
    "After completing this notebook, the next step is to run the JWST pipeline to combine all 16 exposures into one image.\n",
    "\n",
    "Inputs:  \n",
    "APT file outputs: .xml, .pointing  \n",
    "Galaxy catalog incl. RA, Dec, Sersic fit parameters, magnitude\n",
    "\n",
    "Outputs:  \n",
    "Simulated NIRCam FITS images (raw, linear)"
   ]
  },
  {
   "cell_type": "code",
   "execution_count": null,
   "metadata": {},
   "outputs": [],
   "source": [
    "import mirage\n",
    "import os\n",
    "os.environ[\"CRDS_DATA\"] = \"$HOME/crds_cache\"\n",
    "os.environ[\"CRDS_SERVER_URL\"] = \"https://jwst-crds.stsci.edu\""
   ]
  },
  {
   "cell_type": "code",
   "execution_count": null,
   "metadata": {},
   "outputs": [],
   "source": [
    "from os.path import expanduser\n",
    "home = expanduser(\"~\")"
   ]
  },
  {
   "cell_type": "code",
   "execution_count": null,
   "metadata": {},
   "outputs": [],
   "source": [
    "if 0:  # for users external to STScI\n",
    "    # Download 343 GB of files (will take some time!)\n",
    "    from mirage.reference_files import downloader\n",
    "    download_path = os.path.join(home, 'MIRAGE', 'data')\n",
    "    os.makedirs(download_path, exist_ok=True)\n",
    "    downloader.download_reffiles(download_path, instrument='nircam', dark_type='both',  # linearized\n",
    "                                 skip_darks=False, skip_cosmic_rays=False, skip_psfs=False, skip_grism=True)\n",
    "    \n",
    "    #os.environ[\"MIRAGE_DATA\"] = download_path"
   ]
  },
  {
   "cell_type": "code",
   "execution_count": null,
   "metadata": {},
   "outputs": [],
   "source": [
    "os.environ[\"MIRAGE_DATA\"] = \"/ifs/jwst/wit/mirage_data\"  # internal to STScI"
   ]
  },
  {
   "cell_type": "code",
   "execution_count": null,
   "metadata": {},
   "outputs": [],
   "source": [
    "# For examining outputs\n",
    "from glob import glob\n",
    "from scipy.stats import sigmaclip\n",
    "import numpy as np\n",
    "from astropy.io import fits\n",
    "\n",
    "#%matplotlib notebook\n",
    "%matplotlib inline\n",
    "import matplotlib.pyplot as plt"
   ]
  },
  {
   "cell_type": "code",
   "execution_count": null,
   "metadata": {},
   "outputs": [],
   "source": [
    "# mirage imports\n",
    "from mirage import imaging_simulator\n",
    "from mirage.seed_image import catalog_seed_image\n",
    "from mirage.dark import dark_prep\n",
    "from mirage.ramp_generator import obs_generator\n",
    "from mirage.yaml import yaml_generator"
   ]
  },
  {
   "cell_type": "code",
   "execution_count": null,
   "metadata": {},
   "outputs": [],
   "source": [
    "import yaml"
   ]
  },
  {
   "cell_type": "code",
   "execution_count": null,
   "metadata": {},
   "outputs": [],
   "source": [
    "# Specify the xml and pointing files exported from APT\n",
    "#xml_file = 'imaging_example_data/example_imaging_program.xml' # all Module B\n",
    "#pointing_file = 'imaging_example_data/example_imaging_program.pointing'  # 4 dithered exposures\n",
    "APT_file = os.path.join(home, 'z11', 'APT', 'JWSTz11_NIRCam')\n",
    "xml_file      = APT_file + '.xml'\n",
    "pointing_file = APT_file + '.pointing'"
   ]
  },
  {
   "cell_type": "code",
   "execution_count": null,
   "metadata": {},
   "outputs": [],
   "source": [
    "# Source catalogs\n",
    "target = 'CLG-J0647+7015'  # must correspond to observed target in APT file (?)\n",
    "cat_dict = {target:{}}\n",
    "cat_dict[target]['galaxy']       = 'imaging_MACS0647/MACS0647_MIRAGE_galaxy_catalog.cat'\n",
    "#cat_dict[target]['point_source'] = 'imaging_example_data/ptsrc_catalog.cat'"
   ]
  },
  {
   "cell_type": "code",
   "execution_count": null,
   "metadata": {},
   "outputs": [],
   "source": [
    "reffile_defaults = 'crds'  # Reference file values: crds or crds_full_name\n",
    "cosmic_rays = {'library': 'SUNMAX', 'scale': 1.0}  # Cosmic ray library and rate\n",
    "background = 'medium'\n",
    "pav3 = 12.5  # telescope roll angle\n",
    "dates = '2022-10-31'  # won't be used by MIRAGE, but will be added to FITS headers"
   ]
  },
  {
   "cell_type": "code",
   "execution_count": null,
   "metadata": {},
   "outputs": [],
   "source": [
    "output_dir     = './imaging_MACS0647/'  # yaml files\n",
    "simulation_dir = './imaging_MACS0647/'  # simulated images"
   ]
  },
  {
   "cell_type": "code",
   "execution_count": null,
   "metadata": {},
   "outputs": [],
   "source": [
    "datatype = 'linear, raw'  # Save both raw (for JWST pipeline) and linear (processed except for dark current subtraction)"
   ]
  },
  {
   "cell_type": "code",
   "execution_count": null,
   "metadata": {},
   "outputs": [],
   "source": [
    "# 4 pointings x 5 detectors in Module B (as specified in APT)\n",
    "yfiles = glob(os.path.join(output_dir,'jw*.yaml'))"
   ]
  },
  {
   "cell_type": "code",
   "execution_count": null,
   "metadata": {},
   "outputs": [],
   "source": [
    "# Print info about these files: filter and detector\n",
    "for yamlfile in np.sort(yfiles):\n",
    "    with open(yamlfile, 'r') as infile:\n",
    "        params = yaml.safe_load(infile)\n",
    "    filt = params['Readout']['filter']\n",
    "    detector = params['Readout']['array_name'][3:5]\n",
    "    print(filt, detector, yamlfile)"
   ]
  },
  {
   "cell_type": "code",
   "execution_count": null,
   "metadata": {},
   "outputs": [],
   "source": [
    "params"
   ]
  },
  {
   "cell_type": "code",
   "execution_count": null,
   "metadata": {
    "scrolled": false
   },
   "outputs": [],
   "source": [
    "# Run the yaml generator\n",
    "# Skipping because I did this already\n",
    "if len(yfiles) == 0:\n",
    "    yam = yaml_generator.SimInput(input_xml=xml_file, pointing_file=pointing_file,\n",
    "                                  catalogs=cat_dict, cosmic_rays=cosmic_rays,\n",
    "                                  background=background, roll_angle=pav3,\n",
    "                                  dates=dates, reffile_defaults=reffile_defaults,\n",
    "                                  verbose=True, output_dir=output_dir,\n",
    "                                  simdata_output_dir=simulation_dir,\n",
    "                                  datatype=datatype)\n",
    "    yam.create_inputs()"
   ]
  },
  {
   "cell_type": "code",
   "execution_count": null,
   "metadata": {},
   "outputs": [],
   "source": [
    "# 4 filters\n",
    "# 4 dithers\n",
    "# 10 detectors\n",
    "len(yfiles)"
   ]
  },
  {
   "cell_type": "code",
   "execution_count": null,
   "metadata": {},
   "outputs": [],
   "source": [
    "# Select only images in NIRCam Module A\n",
    "afiles = [yfile for yfile in yfiles if '_nrca' in yfile]\n",
    "len(afiles)"
   ]
  },
  {
   "cell_type": "code",
   "execution_count": null,
   "metadata": {},
   "outputs": [],
   "source": [
    "# Select only Module A Long Wavelength images: detector A5\n",
    "a5files = [yfile for yfile in yfiles if 'a5.' in yfile]\n",
    "a5files"
   ]
  },
  {
   "cell_type": "markdown",
   "metadata": {},
   "source": [
    "# Create noiseless seed image as a test"
   ]
  },
  {
   "cell_type": "code",
   "execution_count": null,
   "metadata": {},
   "outputs": [],
   "source": [
    "# https://mirage-data-simulator.readthedocs.io/en/latest/seed_images.html\n",
    "# https://mirage-data-simulator.readthedocs.io/en/latest/quickstart.html\n",
    "# catalog_seed_image.py\n",
    "\n",
    "yamlfile = np.sort(a5files)[0]\n",
    "cat = catalog_seed_image.Catalog_seed()\n",
    "cat.paramfile = yamlfile\n",
    "cat.make_seed()"
   ]
  },
  {
   "cell_type": "code",
   "execution_count": null,
   "metadata": {},
   "outputs": [],
   "source": [
    "from astropy.visualization import simple_norm\n",
    "\n",
    "def show(data, percent=99.6):\n",
    "    plt.figure(figsize=(12,12))\n",
    "    norm = simple_norm(data, 'asinh', percent=percent)\n",
    "    plt.imshow(data,norm=norm)\n",
    "    plt.colorbar().set_label('DN$^{-}$/s')\n",
    "    \n",
    "show(cat.seedimage)"
   ]
  },
  {
   "cell_type": "code",
   "execution_count": null,
   "metadata": {},
   "outputs": [],
   "source": [
    "# Select only Module A images in filter F200W\n",
    "yamls_to_process = []\n",
    "for yamlfile in np.sort(afiles):\n",
    "    with open(yamlfile, 'r') as infile:\n",
    "        params = yaml.safe_load(infile)\n",
    "    filt = params['Readout']['filter']\n",
    "    if filt == 'F200W':\n",
    "        yamls_to_process.append(yamlfile)\n",
    "        \n",
    "len(yamls_to_process)"
   ]
  },
  {
   "cell_type": "code",
   "execution_count": null,
   "metadata": {},
   "outputs": [],
   "source": [
    "yamls_to_process"
   ]
  },
  {
   "cell_type": "code",
   "execution_count": null,
   "metadata": {},
   "outputs": [],
   "source": [
    "# Only create images that haven't been created already\n",
    "yamls = np.sort(yamls_to_process)\n",
    "yamls_to_process = []\n",
    "for yamlfile in yamls:\n",
    "    outfits = yamlfile.replace('.yaml', '_uncal.fits')\n",
    "    already_did_it = os.path.exists(outfits)\n",
    "    havent_done_it_yet = not already_did_it\n",
    "    if havent_done_it_yet:\n",
    "        yamls_to_process.append(yamlfile)"
   ]
  },
  {
   "cell_type": "code",
   "execution_count": null,
   "metadata": {},
   "outputs": [],
   "source": [
    "len(yamls_to_process) "
   ]
  },
  {
   "cell_type": "code",
   "execution_count": null,
   "metadata": {},
   "outputs": [],
   "source": [
    "yamls_to_process = np.sort(yamls_to_process)\n",
    "yamls_to_process"
   ]
  },
  {
   "cell_type": "markdown",
   "metadata": {},
   "source": [
    "# Create the simulated images (will take a while)"
   ]
  },
  {
   "cell_type": "code",
   "execution_count": null,
   "metadata": {},
   "outputs": [],
   "source": [
    "for yfile in yamls_to_process:\n",
    "    print(yfile)\n",
    "    m = imaging_simulator.ImgSim()\n",
    "    m.paramfile = yfile\n",
    "    m.create()"
   ]
  },
  {
   "cell_type": "markdown",
   "metadata": {},
   "source": [
    "# Show results for one exposure"
   ]
  },
  {
   "cell_type": "code",
   "execution_count": null,
   "metadata": {},
   "outputs": [],
   "source": [
    "raw_image_file = yfile.replace('.yaml', '_uncal.fits')\n",
    "raw_data = fits.open(raw_image_file)['SCI'].data\n",
    "print(raw_data.shape)\n",
    "data = 1. * raw_data[0, 3, :, :] - 1. * raw_data[0, 0, :, :]\n",
    "show(data)\n",
    "raw_image_file"
   ]
  },
  {
   "cell_type": "code",
   "execution_count": null,
   "metadata": {},
   "outputs": [],
   "source": [
    "linear_image_file = yfile.replace('.yaml', '_linear.fits')\n",
    "linear_data = fits.open(linear_image_file)['SCI'].data\n",
    "show(linear_data[0, 3, :, :])\n",
    "linear_image_file"
   ]
  },
  {
   "cell_type": "markdown",
   "metadata": {},
   "source": [
    "The raw data file is now ready to be run through the [JWST calibration pipeline](https://jwst-pipeline.readthedocs.io/en/stable/) from the beginning. If dark current subtraction is not important for you, you can use Mirage's linear output, skip some of the initial steps of the pipeline, and begin by running the [Jump detection](https://jwst-pipeline.readthedocs.io/en/stable/jwst/jump/index.html?highlight=jump) and [ramp fitting](https://jwst-pipeline.readthedocs.io/en/stable/jwst/ramp_fitting/index.html) steps."
   ]
  },
  {
   "cell_type": "markdown",
   "metadata": {},
   "source": [
    "---\n",
    "<a id='mult_sims'></a>\n",
    "## Simulating Multiple Exposures"
   ]
  },
  {
   "cell_type": "markdown",
   "metadata": {},
   "source": [
    "Each yaml file will simulate an exposure for a single pointing using a single detector. To simulate multiple exposures, or a single exposure with multiple detectors, multiple calls to the *imaging_simulator* must be made."
   ]
  },
  {
   "cell_type": "markdown",
   "metadata": {},
   "source": [
    "### In Series\n",
    "```python\n",
    "paramlist = [yaml_a1,yaml_a2,yaml_a3,yaml_a4,yaml_a5]\n",
    "\n",
    "def many_sim(paramlist):\n",
    "    '''Function to run many simulations in series\n",
    "    '''\n",
    "    for file in paramlist:\n",
    "        m = imaging_simulator.ImgSim()\n",
    "        m.paramfile = file\n",
    "        m.create()\n",
    "```\n",
    "\n",
    "### In Parallel\n",
    "\n",
    "Since each `yaml` simulations does not depend on the others, we can parallelize the process to speed things up:\n",
    "```python\n",
    "from multiprocessing import Pool\n",
    "\n",
    "n_procs = 5 # number of cores available\n",
    "\n",
    "with Pool(n_procs) as pool:\n",
    "    pool.map(make_sim, paramlist)\n",
    "```"
   ]
  },
  {
   "cell_type": "code",
   "execution_count": null,
   "metadata": {},
   "outputs": [],
   "source": [
    "# https://techwiser.com/how-many-cores-does-my-cpu-have/\n",
    "n_procs = 6 # number of cores available"
   ]
  }
 ],
 "metadata": {
  "kernelspec": {
   "display_name": "Python 3",
   "language": "python",
   "name": "python3"
  },
  "language_info": {
   "codemirror_mode": {
    "name": "ipython",
    "version": 3
   },
   "file_extension": ".py",
   "mimetype": "text/x-python",
   "name": "python",
   "nbconvert_exporter": "python",
   "pygments_lexer": "ipython3",
   "version": "3.8.2"
  }
 },
 "nbformat": 4,
 "nbformat_minor": 2
}
