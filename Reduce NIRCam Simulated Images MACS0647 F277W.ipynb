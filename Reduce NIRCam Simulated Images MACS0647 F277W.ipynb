{
 "cells": [
  {
   "cell_type": "markdown",
   "id": "b127355b",
   "metadata": {},
   "source": [
    "# Reduce JWST NIRCam Images\n",
    "\n",
    "## Using the JWST Pipeline plus tips from CEERS\n",
    "\n",
    "https://github.com/dancoe/mirage"
   ]
  },
  {
   "cell_type": "markdown",
   "id": "4e4c3a71",
   "metadata": {},
   "source": [
    "### JWST Pipeline run including recommendations from CEERS program\n",
    "\n",
    "Micaela Bagley's CEERS notebook ceers_nircam_reduction.ipynb offers detailed help and instructions. Custom reduction scripts and files are also provided:\n",
    "\n",
    "https://ceers.github.io/releases.html#sdr1\n",
    "\n",
    "### JWST Pipeline documentation\n",
    "\n",
    "https://jwst-docs.stsci.edu/jwst-data-reduction-pipeline\n",
    "\n",
    "https://jwst-docs.stsci.edu/jwst-data-reduction-pipeline/algorithm-documentation/stages-of-processing\n",
    "\n",
    "https://jwst-pipeline.readthedocs.io/en/latest/jwst/introduction.html\n",
    "\n",
    "https://jwst-pipeline.readthedocs.io/en/latest/jwst/pipeline/\n",
    "\n",
    "https://jwst-pipeline.readthedocs.io/en/latest/jwst/pipeline/calwebb_image3.html\n",
    "\n",
    "Associations to process and combine multiple images:\n",
    "\n",
    "https://jwst-pipeline.readthedocs.io/en/latest/jwst/associations/asn_from_list.html\n",
    "\n",
    "https://jwst-pipeline.readthedocs.io/en/latest/jwst/associations/level3_asn_technical.html\n",
    "\n",
    "STScI training notebook:\n",
    "\n",
    "https://github.com/spacetelescope/nircam_calib/blob/master/nircam_calib/training_notebooks/jwst_pipeline_walkthrough.ipynb"
   ]
  },
  {
   "cell_type": "raw",
   "id": "1843631a",
   "metadata": {},
   "source": [
    "_uncal.fits (1b) -- uncalibrated simulated images output from MIRAGE\n",
    "Stage 1: Detector1Pipeline: Count-rate slopes: Detector-level corrections and ramp fitting\n",
    "_rate.fits (2a) -- cosmic rays removed\n",
    "CEERS remove striping\n",
    "Stage 2: Image2Pipeline: Calibrations: Instrument-mode\n",
    "_cal.fits (2b) -- galaxy wings appear after background subtraction and flat field correction\n",
    "CEERS remove A5 feature in simulated images\n",
    "_skymatchstep.fits CEERS run pipeline skymatch on each image individually\n",
    "Stage 3: Combining multiple exposures within an observation\n",
    "_id2.fits (2c) -- drizzled image"
   ]
  },
  {
   "cell_type": "raw",
   "id": "9a507680",
   "metadata": {},
   "source": [
    "We have used MIRAGE to simulate NIRCam imaging based on HST observations of the galaxy cluster MACS0647+70,\n",
    "including the lensed z=11 galaxy MACS0647-JD.\n",
    "\n",
    "Here we simulate images in one filter in one NIRCam Module A.\n",
    "The short wavelength detector gaps are filled by 4 INTRAMODULEBOX dithers.\n",
    "For the short wavelength filters, that will be 4 dithers x 4 detectors = 16 images.\n",
    "For the long  wavelength filters, that will be 4 dithers x 1 detector  =  4 images.\n",
    "This notebook combines 4 F277W exposures into one drizzled image.\n",
    "\n",
    "HST inputs (previous notebook):\n",
    "APT file outputs: .xml, .pointing\n",
    "Galaxy catalog incl. RA, Dec, Sersic fit parameters, magnitude\n",
    "\n",
    "MIRAGE outputs (previous notebook): \n",
    "MIRAGE Simulated NIRCam FITS images (raw.fits)\n",
    "\n",
    "JWST Pipeline outputs (this notebook):\n",
    "JWST Pipeline -> Reduced NIRCam FITS images, catalog, and segmentation map (id2.fits, cat.ecsv, segm.fits)"
   ]
  },
  {
   "cell_type": "markdown",
   "id": "a81cbfe9",
   "metadata": {},
   "source": [
    "## Outstanding issues\n",
    "\n",
    "* Stars too small (MIRAGE)\n",
    "* Darks skipped (seem to be inconsistent between MIRAGE and JWST pipeline)\n",
    "* Alignment between short and long wavelength images (JWST pipeline)"
   ]
  },
  {
   "cell_type": "code",
   "execution_count": null,
   "id": "2a192a59",
   "metadata": {},
   "outputs": [],
   "source": [
    "import jwst\n",
    "from jwst.pipeline import calwebb_detector1, calwebb_image2, calwebb_image3  # Detector1Pipeline, Image2Pipeline\n",
    "\n",
    "from jwst.associations.lib.rules_level2_base import DMSLevel2bBase\n",
    "from jwst.associations.lib.rules_level3_base import DMS_Level3_Base\n",
    "from jwst.associations import asn_from_list\n",
    "\n",
    "jwst.__version__"
   ]
  },
  {
   "cell_type": "code",
   "execution_count": null,
   "id": "e04cac0c",
   "metadata": {},
   "outputs": [],
   "source": [
    "# CEERS custom pipeline steps\n",
    "custom_gain_file = 'inputs/gains_v2.1.0/jwst_nircam_gain_nrca1.fits'  # detector1 jump and ramp_fit steps\n",
    "from applyflat import apply_custom_flat   # remove artifact in simulated F277W, F356W, F444W images\n",
    "from remstriping import measure_striping  # remove vertical and horizontal striping\n",
    "# image2\n",
    "from jwst.skymatch import SkyMatchStep    # run skymatch on each image individually\n",
    "# image3"
   ]
  },
  {
   "cell_type": "code",
   "execution_count": null,
   "id": "257c04c3",
   "metadata": {},
   "outputs": [],
   "source": [
    "from astropy.io import fits\n",
    "from glob import glob\n",
    "import numpy as np\n",
    "import yaml\n",
    "import os"
   ]
  },
  {
   "cell_type": "code",
   "execution_count": null,
   "id": "e0629528",
   "metadata": {},
   "outputs": [],
   "source": [
    "os.environ[\"CRDS_DATA\"] = \"$HOME/crds_cache\"\n",
    "os.environ[\"CRDS_SERVER_URL\"] = \"https://jwst-crds.stsci.edu\"\n",
    "os.environ[\"CRDS_CONTEXT\"] = 'jwst_0674.pmap'  # CEERS"
   ]
  },
  {
   "cell_type": "markdown",
   "id": "ec5d493f",
   "metadata": {},
   "source": [
    "# Inputs"
   ]
  },
  {
   "cell_type": "code",
   "execution_count": null,
   "id": "46d423cd",
   "metadata": {},
   "outputs": [],
   "source": [
    "filt_to_process = 'F277W'\n",
    "output_dir = os.path.join('images', filt_to_process)"
   ]
  },
  {
   "cell_type": "code",
   "execution_count": null,
   "id": "c3ff6861",
   "metadata": {},
   "outputs": [],
   "source": [
    "lam = int(filt_to_process[1:4])\n",
    "channel = ['sw', 'lw'][lam > 235]\n",
    "detector_pixel_scale = {'sw':0.031, 'lw':0.063}[channel]\n",
    "filt_to_process, lam, channel, detector_pixel_scale"
   ]
  },
  {
   "cell_type": "code",
   "execution_count": null,
   "id": "0037beb1",
   "metadata": {},
   "outputs": [],
   "source": [
    "# Uncalibrated images (generated by MIRAGE)\n",
    "uncal_files = glob(os.path.join(output_dir, '*_uncal.fits'))\n",
    "uncal_files = list(np.sort(uncal_files))\n",
    "len(uncal_files), uncal_files"
   ]
  },
  {
   "cell_type": "markdown",
   "id": "c0d79a58",
   "metadata": {},
   "source": [
    "# Start Processing and Calibrating Images"
   ]
  },
  {
   "cell_type": "code",
   "execution_count": null,
   "id": "49301d38",
   "metadata": {},
   "outputs": [],
   "source": [
    "# detector1\n",
    "for uncal_file in uncal_files:\n",
    "    rate_file = uncal_file.replace('_uncal.fits', '_rate.fits')\n",
    "    if not os.path.exists(rate_file):\n",
    "        # 3 minutes w/o dark and w/o superbias\n",
    "        detector1 = calwebb_detector1.Detector1Pipeline()\n",
    "        detector1.output_dir = output_dir\n",
    "        # (if using dark, 3 minutes to download the 3GB dark file -- it seems to do this every time it uses it!)\n",
    "        detector1.dark_current.skip = True  # Causes errors, 3GB files take forever, and nearly zero anyway, right?\n",
    "        detector1.superbias.skip = True  # Superbias already subtracted by MIRAGE linearized dark file?\n",
    "        detector1.ipc.skip = False  # Correct for interpixel capicitance simulated by MIRAGE\n",
    "        detector1.persistence.skip = True  # Persistence not simulated by MIRAGE\n",
    "        # Override the gain reference file used for the jump and ramp_fit steps\n",
    "        detector1.jump.override_gain = custom_gain_file\n",
    "        detector1.ramp_fit.override_gain = detector1.jump.override_gain\n",
    "        detector1.save_results = True\n",
    "        detector1_output = detector1.run(uncal_file)\n",
    "        \n",
    "# _uncal.fits -> _rate.fits"
   ]
  },
  {
   "cell_type": "code",
   "execution_count": null,
   "id": "5f742c77",
   "metadata": {
    "scrolled": true
   },
   "outputs": [],
   "source": [
    "# CEERS Custom Step - remstriping.py\n",
    "# measure and remove the horizontal and vertical striping from the two countrate images\n",
    "for uncal_file in uncal_files:\n",
    "    # 20 seconds\n",
    "    rate_file = uncal_file.replace('_uncal.fits', '_rate.fits')\n",
    "    rate_orig_file = rate_file.replace('_rate.fits', '_rate_orig.fits')\n",
    "    if not os.path.exists(rate_orig_file):\n",
    "        measure_striping(rate_file, apply_flat=True, mask_sources=True, seedim_directory=output_dir, threshold=0.01)\n",
    "        # There will be some warnings related to empty slices in the images, where the rows and columns \n",
    "        # of reference pixels along the image edges have been masked out of the median calculation.\n",
    "    \n",
    "# OLD _rate.fits -> _rate_orig.fits\n",
    "# NEW _rate.fits"
   ]
  },
  {
   "cell_type": "code",
   "execution_count": null,
   "id": "7d9bb66b",
   "metadata": {
    "scrolled": true
   },
   "outputs": [],
   "source": [
    "# image2\n",
    "for uncal_file in uncal_files:\n",
    "    rate_file = uncal_file.replace('_uncal.fits', '_rate.fits')\n",
    "    cal_file  = uncal_file.replace('_uncal.fits', '_cal.fits')\n",
    "    if not os.path.exists(cal_file):\n",
    "        # 30 seconds (mostly flat fielding)\n",
    "        image2 = calwebb_image2.Image2Pipeline()  # Create an instance of the pipeline class\n",
    "        image2.output_dir = output_dir\n",
    "        image2.save_results = True\n",
    "        image2.resample.skip = True  # Don't produce quick-look individual rectified *_i2d.fits\n",
    "        image2.run(rate_file)  # rate -> cal\n",
    "        \n",
    "# _rate.fits -> _cal.fits"
   ]
  },
  {
   "cell_type": "code",
   "execution_count": null,
   "id": "ca6c521d",
   "metadata": {},
   "outputs": [],
   "source": [
    "# CEERS Custom Step: Remove A5 Detector Feature in simulated images produced with flipped reference file\n",
    "# CEERS only produced these files for F277W, F356W, F444W\n",
    "\n",
    "#if channel == 'lw':\n",
    "if filt_to_process in 'F277W F356W F444W'.split():\n",
    "    for uncal_file in uncal_files:\n",
    "        cal_file    = uncal_file.replace('_uncal.fits', '_cal.fits')\n",
    "        unflat_file = uncal_file.replace('_uncal.fits', '_unflat.fits')\n",
    "        if not os.path.exists(unflat_file):\n",
    "            apply_custom_flat(cal_file)\n",
    "            # very quick\n",
    "\n",
    "# OLD _cal.fits -> _unflat.fits\n",
    "# NEW _cal.fits"
   ]
  },
  {
   "cell_type": "code",
   "execution_count": null,
   "id": "98af0203",
   "metadata": {},
   "outputs": [],
   "source": [
    "# CEERS Custom Step: Sky Subtraction on each image individually\n",
    "for uncal_file in uncal_files:\n",
    "    cal_file  = uncal_file.replace('_uncal.fits', '_cal.fits')\n",
    "    skymatch_file = uncal_file.replace('_uncal.fits', '_skymatchstep.fits')\n",
    "    \n",
    "    if not os.path.exists(skymatch_file):\n",
    "        file_root_name = os.path.basename(cal_file).split('.')[0]\n",
    "        association_file = file_root_name + '.json'\n",
    "        association = asn_from_list.asn_from_list([cal_file], product_name=file_root_name,\n",
    "                                                  rule=DMS_Level3_Base, asn_rule='Asn_Image')\n",
    "\n",
    "        with open(association_file, 'w') as fh:\n",
    "           fh.write(association.dump()[1])\n",
    "        \n",
    "        skymatch = SkyMatchStep()\n",
    "        skymatch.save_results = True\n",
    "        skymatch.output_dir = output_dir\n",
    "        skymatch.output_file = file_root_name\n",
    "\n",
    "        # sky statistics parameters\n",
    "        skymatch.skymethod = 'local' # the default is global+match, doesn't matter as we're processing files individually\n",
    "        skymatch.lsigma = 2.0\n",
    "        skymatch.usigma = 2.0\n",
    "        skymatch.nclip = 10\n",
    "        skymatch.upper = 1.0\n",
    "\n",
    "        skymatch.subtract = True  # subtract calculated sky value from the image (off by default)\n",
    "        sky = skymatch.run(association_file)  # cal -> skymatchstep\n",
    "        # jw01433010001_01101_00001_nrca1_skymatchstep.fits\n",
    "        \n",
    "# _cal.fits -> _skymatchstep.fits"
   ]
  },
  {
   "cell_type": "markdown",
   "id": "c7435c41",
   "metadata": {},
   "source": [
    "# Drizzle combine images"
   ]
  },
  {
   "cell_type": "code",
   "execution_count": null,
   "id": "f4bfaca5",
   "metadata": {},
   "outputs": [],
   "source": [
    "output_file_root_name = 'MACS0647_' + filt_to_process\n",
    "output_file_root_name"
   ]
  },
  {
   "cell_type": "code",
   "execution_count": null,
   "id": "d9792b58",
   "metadata": {},
   "outputs": [],
   "source": [
    "#association_file = 'MACS0647_%s_image_associations.json' % filt_to_process\n",
    "association_file = output_file_root_name + '_image_associations.json'\n",
    "association_file"
   ]
  },
  {
   "cell_type": "code",
   "execution_count": null,
   "id": "9d8ce193",
   "metadata": {},
   "outputs": [],
   "source": [
    "#cal_images = [uncal_file.replace('_uncal.fits', '_cal.fits') for uncal_file in uncal_files]\n",
    "cal_images = [uncal_file.replace('_uncal.fits', '_skymatchstep.fits') for uncal_file in uncal_files]\n",
    "cal_images"
   ]
  },
  {
   "cell_type": "code",
   "execution_count": null,
   "id": "e62f630f",
   "metadata": {},
   "outputs": [],
   "source": [
    "association = asn_from_list.asn_from_list(cal_images, product_name=output_file_root_name,\n",
    "                                          rule=DMS_Level3_Base, asn_rule='Asn_Image')\n",
    "\n",
    "with open(association_file, 'w') as fh:\n",
    "   fh.write(association.dump()[1])"
   ]
  },
  {
   "cell_type": "code",
   "execution_count": null,
   "id": "17ffb491",
   "metadata": {},
   "outputs": [],
   "source": [
    "if 0:\n",
    "    # extract reference WCS from image produced previously \n",
    "    infile = glob('images/F150W/original/*_i2d.fits')[0]\n",
    "    hdu = fits.open(infile)\n",
    "    output_shape = hdu[1].header['NAXIS1'], hdu[1].header['NAXIS2']\n",
    "    crval = hdu[1].header['CRVAL1'], hdu[1].header['CRVAL2']\n",
    "    crpix = hdu[1].header['CRPIX1'], hdu[1].header['CRPIX2']\n",
    "    rotation = np.arccos(hdu[1].header['PC2_2']) / np.pi * 180  # degrees\n",
    "\n",
    "    print(infile)\n",
    "    print(output_shape, 'image pixels')\n",
    "    print(crval, 'CRVAL (RA, Dec of CRPIX)')\n",
    "    print(crpix, 'CRPIX (reference pixel)')\n",
    "    print(rotation, 'rotation (degrees)')\n",
    "\n",
    "    # next we'll generate the new image matched to this WCS"
   ]
  },
  {
   "cell_type": "code",
   "execution_count": null,
   "id": "e68340ee",
   "metadata": {},
   "outputs": [],
   "source": [
    "# 10 minutes for 16 SW images -> 1 image\n",
    "#  3 minutes for  4 SW images -> 1 image\n",
    "\n",
    "image3 = calwebb_image3.Image3Pipeline()  # calwebb_image3.py\n",
    "\n",
    "image3.tweakreg.skip = True  # skip TweakReg since simulated images are perfectly aligned\n",
    "image3.skymatch.skip = True  # skip SkyMatch since already did it above for each image individually\n",
    "\n",
    "output_pixel_scale = 0.03  # (arcsec) for both SW and LW\n",
    "image3.resample.pixel_scale = output_pixel_scale\n",
    "#image3.resample.pixel_scale = 0.04  # (arcsec) for both SW and LW\n",
    "#image3.resample.pixel_scale_ratio = output_pixel_scale / detector_pixel_scale\n",
    "\n",
    "if 0:  # Output images WCS aligned to existing images\n",
    "    # Without rotation input, drizzled LW image is rotated slightly 0.484 deg clockwise wrt SW image\n",
    "    image3.resample.output_shape = output_shape\n",
    "    image3.resample.crval = crval\n",
    "    image3.resample.crpix = crpix\n",
    "    image3.resample.rotation = rotation\n",
    "\n",
    "image3.output_dir = output_dir\n",
    "image3.save_results = True  # _i2d.fits\n",
    "\n",
    "#image3.outlier_detection.skip = False\n",
    "#image3.source_catalog.snr_threshold = 5  # 20\n",
    "#image3.source_catalog.output_file = \"MACS0647_%s_cat.ecsv\" % filt_to_process\n",
    "image3.source_catalog.output_file = output_file_root_name + '_cat.ecsv'\n",
    "\n",
    "image3.run(association_file)\n",
    "\n",
    "# _i2d.fits [1] SCI, [2] ERR, [3] CONtext, [4] WHT, [5] VAR_POISSON, [6] VAR_RNOISE, [7] VAR_FLAT"
   ]
  },
  {
   "cell_type": "code",
   "execution_count": null,
   "id": "40406ff6",
   "metadata": {},
   "outputs": [],
   "source": [
    "# Did it produce the output image the way we asked? Almost. CRPIX is a bit off\n",
    "\n",
    "infile = glob('images/%s/*_i2d.fits' % filt_to_process)[0]\n",
    "hdu = fits.open(infile)\n",
    "output_shape = hdu[1].header['NAXIS1'], hdu[1].header['NAXIS2']\n",
    "crval = hdu[1].header['CRVAL1'], hdu[1].header['CRVAL2']\n",
    "crpix = hdu[1].header['CRPIX1'], hdu[1].header['CRPIX2']\n",
    "rotation = np.arccos(hdu[1].header['PC2_2']) / np.pi * 180  # degrees\n",
    "\n",
    "print(infile)\n",
    "print(output_shape, 'image pixels')\n",
    "print(crval, 'CRVAL (RA, Dec of CRPIX)')\n",
    "print(crpix, 'CRPIX (reference pixel)')\n",
    "print(rotation, 'rotation (degrees)')"
   ]
  },
  {
   "cell_type": "raw",
   "id": "8976fd8b",
   "metadata": {},
   "source": [
    "images/F150W/original/jw01433010001_01101_00008_nrca4_i2d.fits\n",
    "(4628, 4596) image pixels\n",
    "(101.9584337381626, 70.24829639573132) CRVAL (RA, Dec of CRPIX)\n",
    "(2314.884725222353, 2299.243064089753) CRPIX (reference pixel)\n",
    "11.923955850488753 rotation (degrees)"
   ]
  },
  {
   "cell_type": "code",
   "execution_count": null,
   "id": "d8edd6f9",
   "metadata": {},
   "outputs": [],
   "source": []
  }
 ],
 "metadata": {
  "kernelspec": {
   "display_name": "Python 3",
   "language": "python",
   "name": "python3"
  },
  "language_info": {
   "codemirror_mode": {
    "name": "ipython",
    "version": 3
   },
   "file_extension": ".py",
   "mimetype": "text/x-python",
   "name": "python",
   "nbconvert_exporter": "python",
   "pygments_lexer": "ipython3",
   "version": "3.10.2"
  }
 },
 "nbformat": 4,
 "nbformat_minor": 5
}
