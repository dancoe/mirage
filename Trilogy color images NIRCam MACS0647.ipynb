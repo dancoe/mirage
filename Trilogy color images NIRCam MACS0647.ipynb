{
 "cells": [
  {
   "cell_type": "markdown",
   "metadata": {},
   "source": [
    "# Trilogy color images\n",
    "\n",
    "Adapting for use in a Python Jupyter notebook"
   ]
  },
  {
   "cell_type": "code",
   "execution_count": null,
   "metadata": {},
   "outputs": [],
   "source": [
    "import numpy as np\n",
    "import os\n",
    "from glob import glob\n",
    "from copy import deepcopy\n",
    "from os.path import join\n",
    "from os.path import expanduser\n",
    "home = expanduser(\"~\")\n",
    "\n",
    "import astropy  # version 4.2 is required to write magnitudes to ecsv file\n",
    "import astropy.io.fits as pyfits\n",
    "from astropy.io import fits\n",
    "import astropy.wcs as wcs\n",
    "from astropy.table import QTable, Table\n",
    "import astropy.units as u\n",
    "from astropy.visualization import make_lupton_rgb, SqrtStretch, LogStretch, LinearStretch, hist\n",
    "from astropy.visualization.mpl_normalize import ImageNormalize\n",
    "from astropy.coordinates import SkyCoord\n",
    "from astropy.stats import sigma_clipped_stats\n",
    "\n",
    "from importlib import reload"
   ]
  },
  {
   "cell_type": "code",
   "execution_count": null,
   "metadata": {},
   "outputs": [],
   "source": [
    "#%matplotlib inline\n",
    "%matplotlib notebook\n",
    "import matplotlib\n",
    "import matplotlib.pyplot as plt\n",
    "# https://matplotlib.org/tutorials/introductory/customizing.html\\n\",\n",
    "#plt.style.use('/Users/dcoe/p/matplotlibrc.txt')\n",
    "plt.style.use('https://www.stsci.edu/~dcoe/matplotlibrc.txt')\n",
    "colors = plt.rcParams['axes.prop_cycle'].by_key()['color']"
   ]
  },
  {
   "cell_type": "code",
   "execution_count": null,
   "metadata": {},
   "outputs": [],
   "source": [
    "#filters = 'F277W F356W F444W F480M'.split()\n",
    "#filters = 'F115W F277W F480M'.split(); out_ext = 'spread'\n",
    "#filters = 'F277W F356W F444W'.split(); out_ext = 'LW'\n",
    "#filters = 'F115W F150W F200W'.split(); out_ext = 'SW'\n",
    "#filters = 'F200W F200W F277W'.split()\n",
    "#filters = 'F115W F277W F444W'.split(); out_ext = '1274'\n",
    "filters = 'F115W F200W F444W'.split(); out_ext = ''\n",
    "\n",
    "image_files = ['images/%s/MACS0647_%s_i2d.fits' % (filt, filt) for filt in filters]\n",
    "num_images = len(image_files)\n",
    "image_files"
   ]
  },
  {
   "cell_type": "code",
   "execution_count": null,
   "metadata": {},
   "outputs": [],
   "source": [
    "for i in range(num_images):\n",
    "    hdu = pyfits.open(image_files[i])\n",
    "    data = hdu[1].data\n",
    "    ny, nx = data.shape\n",
    "    imwcs = wcs.WCS(hdu[1].header, hdu)\n",
    "    # image_pixel_scale = np.abs(hdu[0].header['CD1_1']) * 3600\n",
    "    image_pixel_scale = wcs.utils.proj_plane_pixel_scales(imwcs)[0] \n",
    "    image_pixel_scale *= imwcs.wcs.cunit[0].to('arcsec')\n",
    "    outline = '%d x %d pixels' % (ny, nx)\n",
    "    outline += ' = %d\" x %d\"' % (ny * image_pixel_scale, nx * image_pixel_scale)\n",
    "    outline += \" = %.1f' x %.1f'\" % (ny * image_pixel_scale / 60., nx * image_pixel_scale / 60.)\n",
    "    outline += ' (%.2f\" / pixel)' % image_pixel_scale\n",
    "    print(outline)"
   ]
  },
  {
   "cell_type": "code",
   "execution_count": null,
   "metadata": {},
   "outputs": [],
   "source": [
    "# Lupton color image\n",
    "# 3 NIRCam long wavelength channel images\n",
    "r = fits.open(image_files[2])[1].data\n",
    "g = fits.open(image_files[1])[1].data\n",
    "b = fits.open(image_files[0])[1].data\n",
    "#color_image = make_lupton_rgb(r, g, b, Q=5, stretch=0.02)\n",
    "color_image = make_lupton_rgb(r, g, b, Q=10, stretch=0.07)\n",
    "#color_image = make_lupton_rgb(r, g, b, Q=10, stretch=0.2, minimum=(0.25, 0.11, 0.12))\n",
    "fig, ax = plt.subplots(1, 1, figsize=(9.5, 6))\n",
    "plt.imshow(color_image, origin='lower')"
   ]
  },
  {
   "cell_type": "code",
   "execution_count": null,
   "metadata": {},
   "outputs": [],
   "source": [
    "#fig, ax = plt.subplots(1, 1, figsize=(9.5, 6))\n",
    "#plt.imshow(color_image, origin='lower')\n",
    "#plt.xlabel('Right Ascension')\n",
    "#plt.ylabel('Declination')\n",
    "#plt.title('Short Wavelength Channel')"
   ]
  },
  {
   "cell_type": "code",
   "execution_count": null,
   "metadata": {},
   "outputs": [],
   "source": [
    "# Show each image as grayscale\n",
    "\n",
    "fig, ax = plt.subplots(1, num_images, sharex=True, sharey=True, figsize=(9.5, 3))\n",
    "# For RA,Dec axes instead of pixels, add: , subplot_kw={'projection': imwcs})\n",
    "\n",
    "norm_images = ImageNormalize(stretch=SqrtStretch(), vmin=0, vmax=1)\n",
    "\n",
    "for i in range(num_images):\n",
    "    data = pyfits.open(image_files[i])[1].data\n",
    "    ax[i].imshow(data, origin='lower', cmap='Greys_r', norm=norm_images)\n",
    "    ax[i].set_title(filters[i])\n",
    "\n",
    "fig.tight_layout()\n",
    "\n",
    "print('Interactive zoom / pan controls all images simultaneously')"
   ]
  },
  {
   "cell_type": "code",
   "execution_count": null,
   "metadata": {},
   "outputs": [],
   "source": [
    "# Trilogy\n",
    "\n",
    "from scipy.optimize import golden\n",
    "\n",
    "def da(k):\n",
    "    a1 = k * (x1 - x0) + 1\n",
    "    a2 = k * (x2 - x0) + 1\n",
    "    a1n = a1**n\n",
    "    a1n = np.abs(a1n)  # Don't want the solutions where a1 & a2 are both negative!\n",
    "    da1 = a1n - a2\n",
    "    k = np.abs(k)\n",
    "    if k == 0:\n",
    "        return da(1e-10)\n",
    "    else:\n",
    "        da1 = da1 / k  # To avoid solution k = 0!\n",
    "    return abs(da1)\n",
    "\n",
    "def imscale2(data, levels, y1):\n",
    "    # x0, x1, x2  YIELD  0, y1, 1,  RESPECTIVELY\n",
    "    # y1 = noiselum\n",
    "    global n, x0, x1, x2  # So that golden can use them\n",
    "    x0, x1, x2 = levels  \n",
    "    if y1 == 0.5:\n",
    "        k = (x2 - 2 * x1 + x0) / float(x1 - x0) ** 2\n",
    "    else:\n",
    "        n = 1 / y1\n",
    "        k = np.abs(golden(da))\n",
    "    r1 = np.log10( k * (x2 - x0) + 1)\n",
    "    v = np.ravel(data)\n",
    "    v = clip2(v, 0, None)\n",
    "    d = k * (v - x0) + 1\n",
    "    d = clip2(d, 1e-30, None)\n",
    "    z = np.log10(d) / r1\n",
    "    z = np.clip(z, 0, 1)\n",
    "    z.shape = data.shape\n",
    "    z = z * 255\n",
    "    z = z.astype(np.uint8)\n",
    "    return z\n",
    "\n",
    "def clip2(m, m_min=None, m_max=None):\n",
    "    if m_min == None:\n",
    "        m_min = np.min(m)\n",
    "    if m_max == None:\n",
    "        m_max = np.max(m)\n",
    "    return np.clip(m, m_min, m_max)\n",
    "\n",
    "\n",
    "# PREVIOUSLY in colorimage.py\n",
    "def set_levels(data, pp, stripneg=False, sortedalready=False):\n",
    "    if sortedalready:\n",
    "        vs = data\n",
    "    else:\n",
    "        print('sorting...')\n",
    "        vs = np.sort(data.flat)\n",
    "    if stripneg:  # Get rid of negative values altogether!\n",
    "        # This is the way I was doing it for a while\n",
    "        # Now that I'm not, resulting images should change (get lighter)\n",
    "        i = np.searchsorted(vs, 0)\n",
    "        vs = vs[i+1:]\n",
    "    else:  # Clip negative values to zero\n",
    "        vs = clip2(vs, 0, None)\n",
    "    ii = np.array(pp) * len(vs)\n",
    "    ii = ii.astype(int)\n",
    "    ii = np.clip(ii, 0, len(vs)-1)\n",
    "    levels = vs.take(ii)\n",
    "    #print ii, levels, vs, sort(vs)\n",
    "    return levels\n",
    "\n",
    "\n",
    "def determine_scaling(data, unsatpercent, noisesig=1, correctbias=True, noisesig0=2):\n",
    "    \"\"\"Determines data values (x0,x1,x2) which will be scaled to (0,noiselum,1)\"\"\"\n",
    "    # Robust mean & standard deviation\n",
    "    datasorted = data + 0\n",
    "    datasorted[np.isnan(datasorted)]=0  # set all nan values to zero\n",
    "    datasorted = np.sort(datasorted.flat)\n",
    "    if datasorted[0] == datasorted[-1]:  # data is all one value\n",
    "        levels = 0, 1, 100  # whatever\n",
    "    else:\n",
    "        data_mean, data_median, data_stddev = sigma_clipped_stats(datasorted)\n",
    "        m = data_mean\n",
    "        r = data_stddev\n",
    "        print('%g +/- %g' % (m, r))\n",
    "\n",
    "        if correctbias:\n",
    "            x0 = m - noisesig0 * r\n",
    "        else:\n",
    "            x0 = 0\n",
    "        x1 = m + noisesig * r\n",
    "        x2 = set_levels(datasorted, np.array([unsatpercent]), sortedalready=True)[0]\n",
    "        levels = x0, x1, x2\n",
    "    return levels"
   ]
  },
  {
   "cell_type": "code",
   "execution_count": null,
   "metadata": {},
   "outputs": [],
   "source": [
    "noiselum = 0.12\n",
    "satpercent = 0.1\n",
    "unsatpercent = 1 - 0.01 * satpercent"
   ]
  },
  {
   "cell_type": "code",
   "execution_count": null,
   "metadata": {},
   "outputs": [],
   "source": [
    "scaled_images = []\n",
    "for i in range(3):\n",
    "    image_file = image_files[i]\n",
    "    print(image_file)\n",
    "    data = pyfits.open(image_file)[1].data\n",
    "    levels = determine_scaling(data.ravel(), unsatpercent)\n",
    "    print(levels)\n",
    "    print()\n",
    "    scaled = imscale2(data, levels, noiselum)\n",
    "    scaled_images.append(scaled)"
   ]
  },
  {
   "cell_type": "code",
   "execution_count": null,
   "metadata": {},
   "outputs": [],
   "source": [
    "imrgb = np.array(scaled_images[::-1]).transpose((1,2,0))"
   ]
  },
  {
   "cell_type": "code",
   "execution_count": null,
   "metadata": {},
   "outputs": [],
   "source": [
    "fig, ax = plt.subplots(1, 1, figsize=(9.5, 6))\n",
    "plt.imshow(imrgb, origin='lower')"
   ]
  },
  {
   "cell_type": "code",
   "execution_count": null,
   "metadata": {},
   "outputs": [],
   "source": [
    "import matplotlib\n",
    "outfile = 'color/MACS0647_color_%s.png' % out_ext\n",
    "matplotlib.image.imsave(outfile, imrgb)"
   ]
  },
  {
   "cell_type": "code",
   "execution_count": null,
   "metadata": {},
   "outputs": [],
   "source": []
  }
 ],
 "metadata": {
  "kernelspec": {
   "display_name": "Python 3",
   "language": "python",
   "name": "python3"
  },
  "language_info": {
   "codemirror_mode": {
    "name": "ipython",
    "version": 3
   },
   "file_extension": ".py",
   "mimetype": "text/x-python",
   "name": "python",
   "nbconvert_exporter": "python",
   "pygments_lexer": "ipython3",
   "version": "3.10.2"
  }
 },
 "nbformat": 4,
 "nbformat_minor": 4
}
