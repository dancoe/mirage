{
 "cells": [
  {
   "cell_type": "markdown",
   "metadata": {},
   "source": [
    "# Simulate NIRCam Images\n",
    "\n",
    "## Using MIRAGE and the JWST Pipeline"
   ]
  },
  {
   "cell_type": "markdown",
   "metadata": {},
   "source": [
    "https://github.com/spacetelescope/mirage/blob/master/examples/Imaging_simulator_use_examples.ipynb"
   ]
  },
  {
   "cell_type": "markdown",
   "metadata": {},
   "source": [
    "Here we use MIRAGE to simulate NIRCam imaging based on HST observations of the galaxy cluster MACS0647+70.  \n",
    "Our full APT program executes 160 exposures = 4 dithers x 4 filters x 10 detectors.\n",
    "Here we simulate images in one filter in one NIRCam Module A.\n",
    "For the short wavelength filters, that will be 4 dithers x 4 detectors = 16 images.\n",
    "For the long wavelength filters,  that will be 4 dithers x 1 detector  =  4 images.\n",
    "\n",
    "Inputs:  \n",
    "APT file outputs: .xml, .pointing\n",
    "Galaxy catalog incl. RA, Dec, Sersic fit parameters, magnitude\n",
    "\n",
    "Outputs:  \n",
    "MIRAGE Simulated NIRCam FITS images (raw.fits; don't save linear.fits)\n",
    "\n",
    "Next up:\n",
    "JWST Pipeline -> Reduced NIRCam FITS images and catalog (id2.fits, cat.ecsv)"
   ]
  },
  {
   "cell_type": "raw",
   "metadata": {},
   "source": [
    "STScI VPN required to acces files\n",
    "e.g., /grp/crds/cache/references/jwst/jwst_nircam_mask_0033.fits MASK reference file \n",
    "/grp/crds/cache/references/jwst/jwst_nircam_linearity_0053.fits"
   ]
  },
  {
   "cell_type": "markdown",
   "metadata": {},
   "source": [
    "# Outstanding issues / room for improvement:\n",
    "\n",
    "- Darks\n",
    "- Stars too small"
   ]
  },
  {
   "cell_type": "markdown",
   "metadata": {},
   "source": [
    "# Import general"
   ]
  },
  {
   "cell_type": "code",
   "execution_count": 1,
   "metadata": {},
   "outputs": [],
   "source": [
    "import os\n",
    "home = os.path.expanduser(\"~\")\n",
    "from glob import glob\n",
    "import numpy as np\n",
    "from astropy.io import fits"
   ]
  },
  {
   "cell_type": "markdown",
   "metadata": {},
   "source": [
    "# Inputs"
   ]
  },
  {
   "cell_type": "code",
   "execution_count": 2,
   "metadata": {},
   "outputs": [],
   "source": [
    "filt_to_process = 'F277W'\n",
    "# Uncomment CEERS tweaks below next time you run this\n",
    "obs_to_process = ['010', '020']  # 2 NIRCam epochs\n",
    "module_to_process = 'A'\n",
    "exposures_to_process = 'all'  # [1]  # e.g., 1, 2, 3, 4 -OR- 'all' to process all"
   ]
  },
  {
   "cell_type": "code",
   "execution_count": 3,
   "metadata": {},
   "outputs": [],
   "source": [
    "# Specify the xml and pointing files exported from APT\n",
    "APT_input_dir     = './inputs/'  # APT\n",
    "APT_file = os.path.join(APT_input_dir, 'macs0647_NIRCam')\n",
    "xml_file      = APT_file + '.xml'\n",
    "pointing_file = APT_file + '.pointing'"
   ]
  },
  {
   "cell_type": "code",
   "execution_count": 4,
   "metadata": {},
   "outputs": [],
   "source": [
    "# Source catalogs\n",
    "target = 'MACS0647+7015'  # must correspond to observed target in APT file!!\n",
    "# Otherwise may throw error when calculating catalog seed image\n",
    "cat_dict = {target:{}}\n",
    "galaxy_catalog_file = 'MACS0647_MIRAGE_galaxy_catalog_%s.cat' % filt_to_process\n",
    "galaxy_catalog_file = os.path.join(APT_input_dir, galaxy_catalog_file)\n",
    "cat_dict[target]['galaxy'] = galaxy_catalog_file\n",
    "#cat_dict[target]['point_source'] = 'imaging_example_data/ptsrc_catalog.cat'"
   ]
  },
  {
   "cell_type": "code",
   "execution_count": 5,
   "metadata": {},
   "outputs": [],
   "source": [
    "reffile_defaults = 'crds'  # Reference file values: crds or crds_full_name\n",
    "cosmic_rays = {'library': 'SUNMAX', 'scale': 1.0}  # Cosmic ray library and rate\n",
    "background = 'medium'\n",
    "pav3 = 12.5  # telescope roll angle\n",
    "dates = '2022-10-31'  # won't be used by MIRAGE, but will be added to FITS headers"
   ]
  },
  {
   "cell_type": "markdown",
   "metadata": {},
   "source": [
    "# Outputs"
   ]
  },
  {
   "cell_type": "code",
   "execution_count": 12,
   "metadata": {},
   "outputs": [],
   "source": [
    "#output_dir     = './yaml/'    # yaml files\n",
    "image_dir = './images/'  # simulated images\n",
    "image_dir = os.path.join(image_dir, filt_to_process)\n",
    "output_dir = simulation_dir = image_dir\n",
    "if not os.path.exists(image_dir):\n",
    "    os.makedirs(image_dir)\n",
    "\n",
    "#yaml_dir = image_dir\n",
    "yaml_dir  = './yaml/'    # yaml files\n",
    "yaml_dir = os.path.join(yaml_dir, filt_to_process)\n",
    "if not os.path.exists(yaml_dir):\n",
    "    os.makedirs(yaml_dir)\n",
    "\n",
    "#datatype = 'linear, raw'  # Save both raw (for JWST pipeline) and linear (processed except for dark current subtraction)\n",
    "datatype = 'raw'  # Save raw images only for JWST pipeline"
   ]
  },
  {
   "cell_type": "markdown",
   "metadata": {},
   "source": [
    "# Import MIRAGE"
   ]
  },
  {
   "cell_type": "code",
   "execution_count": 7,
   "metadata": {},
   "outputs": [
    {
     "data": {
      "text/plain": [
       "'2.2.1'"
      ]
     },
     "execution_count": 7,
     "metadata": {},
     "output_type": "execute_result"
    }
   ],
   "source": [
    "import mirage\n",
    "os.environ[\"CRDS_DATA\"] = \"$HOME/crds_cache\"\n",
    "os.environ[\"CRDS_SERVER_URL\"] = \"https://jwst-crds.stsci.edu\"\n",
    "os.environ[\"MIRAGE_DATA\"] = \"/ifs/jwst/wit/mirage_data\"  # internal to STScI\n",
    "mirage.__version__"
   ]
  },
  {
   "cell_type": "code",
   "execution_count": 8,
   "metadata": {},
   "outputs": [],
   "source": [
    "if 0:  # for users external to STScI\n",
    "    # Download 343 GB of files (will take some time!)\n",
    "    from mirage.reference_files import downloader\n",
    "    download_path = os.path.join(home, 'MIRAGE', 'data')\n",
    "    os.makedirs(download_path, exist_ok=True)\n",
    "    downloader.download_reffiles(download_path, instrument='nircam', dark_type='both',  # linearized\n",
    "                                 skip_darks=False, skip_cosmic_rays=False, skip_psfs=False, skip_grism=True)\n",
    "    \n",
    "    os.environ[\"MIRAGE_DATA\"] = download_path"
   ]
  },
  {
   "cell_type": "code",
   "execution_count": 9,
   "metadata": {},
   "outputs": [
    {
     "name": "stdout",
     "output_type": "stream",
     "text": [
      "**WARNING**: LOCAL JWST PRD VERSION PRDOPSSOC-044 DOESN'T MATCH THE CURRENT ONLINE VERSION PRDOPSSOC-045\n",
      "Please consider updating pysiaf, e.g. pip install --upgrade pysiaf or conda update pysiaf\n",
      "2022-04-21 23:13:56,446 - numexpr.utils - INFO - Note: NumExpr detected 12 cores but \"NUMEXPR_MAX_THREADS\" not set, so enforcing safe limit of 8.\n",
      "2022-04-21 23:13:56,448 - numexpr.utils - INFO - NumExpr defaulting to 8 threads.\n"
     ]
    }
   ],
   "source": [
    "# mirage imports\n",
    "from mirage import imaging_simulator\n",
    "from mirage.seed_image import catalog_seed_image\n",
    "from mirage.dark import dark_prep\n",
    "from mirage.ramp_generator import obs_generator\n",
    "from mirage.yaml import yaml_generator"
   ]
  },
  {
   "cell_type": "code",
   "execution_count": 10,
   "metadata": {},
   "outputs": [],
   "source": [
    "import yaml"
   ]
  },
  {
   "cell_type": "markdown",
   "metadata": {},
   "source": [
    "# Import JWST Pipeline"
   ]
  },
  {
   "cell_type": "code",
   "execution_count": 11,
   "metadata": {},
   "outputs": [
    {
     "data": {
      "text/plain": [
       "'1.4.6'"
      ]
     },
     "execution_count": 11,
     "metadata": {},
     "output_type": "execute_result"
    }
   ],
   "source": [
    "import jwst\n",
    "from jwst.pipeline import Detector1Pipeline, Image2Pipeline\n",
    "from jwst.associations.lib.rules_level2_base import DMSLevel2bBase\n",
    "from jwst.associations.lib.rules_level3_base import DMS_Level3_Base\n",
    "from jwst.associations import asn_from_list\n",
    "from jwst.pipeline import calwebb_image3\n",
    "jwst.__version__"
   ]
  },
  {
   "cell_type": "markdown",
   "metadata": {},
   "source": [
    "# Run"
   ]
  },
  {
   "cell_type": "code",
   "execution_count": 13,
   "metadata": {
    "scrolled": true
   },
   "outputs": [
    {
     "name": "stdout",
     "output_type": "stream",
     "text": [
      "2022-04-21 23:18:49,314 - mirage.yaml.yaml_generator - INFO - Running yaml_generator....\n"
     ]
    },
    {
     "name": "stderr",
     "output_type": "stream",
     "text": [
      "2022-04-21 23:18:49,314 - stpipe - INFO - Running yaml_generator....\n"
     ]
    },
    {
     "name": "stdout",
     "output_type": "stream",
     "text": [
      "2022-04-21 23:18:49,314 - stpipe - INFO - Running yaml_generator....\n",
      "2022-04-21 23:18:49,322 - mirage.yaml.yaml_generator - INFO - \n"
     ]
    },
    {
     "name": "stderr",
     "output_type": "stream",
     "text": [
      "2022-04-21 23:18:49,322 - stpipe - INFO - \n"
     ]
    },
    {
     "name": "stdout",
     "output_type": "stream",
     "text": [
      "2022-04-21 23:18:49,322 - stpipe - INFO - \n",
      "2022-04-21 23:18:49,325 - mirage.yaml.yaml_generator - INFO - using APT xml file: ./inputs/macs0647_NIRCam.xml\n"
     ]
    },
    {
     "name": "stderr",
     "output_type": "stream",
     "text": [
      "2022-04-21 23:18:49,325 - stpipe - INFO - using APT xml file: ./inputs/macs0647_NIRCam.xml\n"
     ]
    },
    {
     "name": "stdout",
     "output_type": "stream",
     "text": [
      "2022-04-21 23:18:49,325 - stpipe - INFO - using APT xml file: ./inputs/macs0647_NIRCam.xml\n",
      "2022-04-21 23:18:49,327 - mirage.yaml.yaml_generator - INFO - \n"
     ]
    },
    {
     "name": "stderr",
     "output_type": "stream",
     "text": [
      "2022-04-21 23:18:49,327 - stpipe - INFO - \n"
     ]
    },
    {
     "name": "stdout",
     "output_type": "stream",
     "text": [
      "2022-04-21 23:18:49,327 - stpipe - INFO - \n",
      "2022-04-21 23:18:49,328 - mirage.yaml.yaml_generator - INFO - Original log file name: ./mirage_latest.log\n"
     ]
    },
    {
     "name": "stderr",
     "output_type": "stream",
     "text": [
      "2022-04-21 23:18:49,328 - stpipe - INFO - Original log file name: ./mirage_latest.log\n"
     ]
    },
    {
     "name": "stdout",
     "output_type": "stream",
     "text": [
      "2022-04-21 23:18:49,328 - stpipe - INFO - Original log file name: ./mirage_latest.log\n",
      "2022-04-21 23:18:49,855 - mirage.reference_files.crds_tools.path_check - INFO - CRDS_PATH environment variable not set. Setting to /Users/dcoe/crds_cache\n"
     ]
    },
    {
     "name": "stderr",
     "output_type": "stream",
     "text": [
      "2022-04-21 23:18:49,855 - stpipe - INFO - CRDS_PATH environment variable not set. Setting to /Users/dcoe/crds_cache\n"
     ]
    },
    {
     "name": "stdout",
     "output_type": "stream",
     "text": [
      "2022-04-21 23:18:49,855 - stpipe - INFO - CRDS_PATH environment variable not set. Setting to /Users/dcoe/crds_cache\n",
      "2022-04-21 23:18:49,914 - mirage.apt.read_apt_xml - INFO - Running read_apt_xml....\n"
     ]
    },
    {
     "name": "stderr",
     "output_type": "stream",
     "text": [
      "2022-04-21 23:18:49,914 - stpipe - INFO - Running read_apt_xml....\n"
     ]
    },
    {
     "name": "stdout",
     "output_type": "stream",
     "text": [
      "2022-04-21 23:18:49,914 - stpipe - INFO - Running read_apt_xml....\n",
      "2022-04-21 23:18:49,916 - mirage.apt.read_apt_xml - INFO - \n"
     ]
    },
    {
     "name": "stderr",
     "output_type": "stream",
     "text": [
      "2022-04-21 23:18:49,916 - stpipe - INFO - \n"
     ]
    },
    {
     "name": "stdout",
     "output_type": "stream",
     "text": [
      "2022-04-21 23:18:49,916 - stpipe - INFO - \n",
      "2022-04-21 23:18:49,929 - mirage.apt.read_apt_xml - INFO - target_info:\n"
     ]
    },
    {
     "name": "stderr",
     "output_type": "stream",
     "text": [
      "2022-04-21 23:18:49,929 - stpipe - INFO - target_info:\n"
     ]
    },
    {
     "name": "stdout",
     "output_type": "stream",
     "text": [
      "2022-04-21 23:18:49,929 - stpipe - INFO - target_info:\n",
      "2022-04-21 23:18:49,931 - mirage.apt.read_apt_xml - INFO -     ('MACS0647+7015', ('06:47:50.0000', '+70:14:55.00'))\n"
     ]
    },
    {
     "name": "stderr",
     "output_type": "stream",
     "text": [
      "2022-04-21 23:18:49,931 - stpipe - INFO -     ('MACS0647+7015', ('06:47:50.0000', '+70:14:55.00'))\n"
     ]
    },
    {
     "name": "stdout",
     "output_type": "stream",
     "text": [
      "2022-04-21 23:18:49,931 - stpipe - INFO -     ('MACS0647+7015', ('06:47:50.0000', '+70:14:55.00'))\n",
      "2022-04-21 23:18:49,933 - mirage.apt.read_apt_xml - INFO -     ('MACS0647-JD', ('06:47:49.0637', '+70:14:41.60'))\n"
     ]
    },
    {
     "name": "stderr",
     "output_type": "stream",
     "text": [
      "2022-04-21 23:18:49,933 - stpipe - INFO -     ('MACS0647-JD', ('06:47:49.0637', '+70:14:41.60'))\n"
     ]
    },
    {
     "name": "stdout",
     "output_type": "stream",
     "text": [
      "2022-04-21 23:18:49,933 - stpipe - INFO -     ('MACS0647-JD', ('06:47:49.0637', '+70:14:41.60'))\n",
      "2022-04-21 23:18:49,935 - mirage.apt.read_apt_xml - INFO - ++++++++++++++++++++++++++++++++++++++++++++++++++++++++++++++++++++++++++++++++++++++++++++++++++++\n"
     ]
    },
    {
     "name": "stderr",
     "output_type": "stream",
     "text": [
      "2022-04-21 23:18:49,935 - stpipe - INFO - ++++++++++++++++++++++++++++++++++++++++++++++++++++++++++++++++++++++++++++++++++++++++++++++++++++\n"
     ]
    },
    {
     "name": "stdout",
     "output_type": "stream",
     "text": [
      "2022-04-21 23:18:49,935 - stpipe - INFO - ++++++++++++++++++++++++++++++++++++++++++++++++++++++++++++++++++++++++++++++++++++++++++++++++++++\n",
      "2022-04-21 23:18:49,936 - mirage.apt.read_apt_xml - INFO - Observation `010` labelled `NIRCam Imaging` uses template `NircamImaging`\n"
     ]
    },
    {
     "name": "stderr",
     "output_type": "stream",
     "text": [
      "2022-04-21 23:18:49,936 - stpipe - INFO - Observation `010` labelled `NIRCam Imaging` uses template `NircamImaging`\n"
     ]
    },
    {
     "name": "stdout",
     "output_type": "stream",
     "text": [
      "2022-04-21 23:18:49,936 - stpipe - INFO - Observation `010` labelled `NIRCam Imaging` uses template `NircamImaging`\n",
      "2022-04-21 23:18:49,937 - mirage.apt.read_apt_xml - INFO - APTObservationParams Dictionary holds 0 entries before reading template\n"
     ]
    },
    {
     "name": "stderr",
     "output_type": "stream",
     "text": [
      "2022-04-21 23:18:49,937 - stpipe - INFO - APTObservationParams Dictionary holds 0 entries before reading template\n"
     ]
    },
    {
     "name": "stdout",
     "output_type": "stream",
     "text": [
      "2022-04-21 23:18:49,937 - stpipe - INFO - APTObservationParams Dictionary holds 0 entries before reading template\n",
      "2022-04-21 23:18:49,939 - mirage.apt.read_apt_xml - INFO - Number of dithers: 4 primary * 1 subpixel = 4\n"
     ]
    },
    {
     "name": "stderr",
     "output_type": "stream",
     "text": [
      "2022-04-21 23:18:49,939 - stpipe - INFO - Number of dithers: 4 primary * 1 subpixel = 4\n"
     ]
    },
    {
     "name": "stdout",
     "output_type": "stream",
     "text": [
      "2022-04-21 23:18:49,939 - stpipe - INFO - Number of dithers: 4 primary * 1 subpixel = 4\n",
      "2022-04-21 23:18:49,941 - mirage.apt.read_apt_xml - INFO - Dictionary read from template has 3 entries.\n"
     ]
    },
    {
     "name": "stderr",
     "output_type": "stream",
     "text": [
      "2022-04-21 23:18:49,941 - stpipe - INFO - Dictionary read from template has 3 entries.\n"
     ]
    },
    {
     "name": "stdout",
     "output_type": "stream",
     "text": [
      "2022-04-21 23:18:49,941 - stpipe - INFO - Dictionary read from template has 3 entries.\n",
      "2022-04-21 23:18:49,943 - mirage.apt.read_apt_xml - INFO - Found 1 tile(s) for observation 010 NIRCam Imaging\n"
     ]
    },
    {
     "name": "stderr",
     "output_type": "stream",
     "text": [
      "2022-04-21 23:18:49,943 - stpipe - INFO - Found 1 tile(s) for observation 010 NIRCam Imaging\n"
     ]
    },
    {
     "name": "stdout",
     "output_type": "stream",
     "text": [
      "2022-04-21 23:18:49,943 - stpipe - INFO - Found 1 tile(s) for observation 010 NIRCam Imaging\n",
      "2022-04-21 23:18:49,945 - mirage.apt.read_apt_xml - INFO - Found 1 visits with numbers: [1]\n"
     ]
    },
    {
     "name": "stderr",
     "output_type": "stream",
     "text": [
      "2022-04-21 23:18:49,945 - stpipe - INFO - Found 1 visits with numbers: [1]\n"
     ]
    },
    {
     "name": "stdout",
     "output_type": "stream",
     "text": [
      "2022-04-21 23:18:49,945 - stpipe - INFO - Found 1 visits with numbers: [1]\n",
      "2022-04-21 23:18:49,946 - mirage.apt.read_apt_xml - INFO - APTObservationParams Dictionary holds 3 entries after reading template (+3 entries)\n"
     ]
    },
    {
     "name": "stderr",
     "output_type": "stream",
     "text": [
      "2022-04-21 23:18:49,946 - stpipe - INFO - APTObservationParams Dictionary holds 3 entries after reading template (+3 entries)\n"
     ]
    },
    {
     "name": "stdout",
     "output_type": "stream",
     "text": [
      "2022-04-21 23:18:49,946 - stpipe - INFO - APTObservationParams Dictionary holds 3 entries after reading template (+3 entries)\n",
      "2022-04-21 23:18:49,948 - mirage.apt.read_apt_xml - INFO - ++++++++++++++++++++++++++++++++++++++++++++++++++++++++++++++++++++++++++++++++++++++++++++++++++++\n"
     ]
    },
    {
     "name": "stderr",
     "output_type": "stream",
     "text": [
      "2022-04-21 23:18:49,948 - stpipe - INFO - ++++++++++++++++++++++++++++++++++++++++++++++++++++++++++++++++++++++++++++++++++++++++++++++++++++\n"
     ]
    },
    {
     "name": "stdout",
     "output_type": "stream",
     "text": [
      "2022-04-21 23:18:49,948 - stpipe - INFO - ++++++++++++++++++++++++++++++++++++++++++++++++++++++++++++++++++++++++++++++++++++++++++++++++++++\n",
      "2022-04-21 23:18:49,949 - mirage.apt.read_apt_xml - INFO - Observation `020` labelled `NIRCam Imaging` uses template `NircamImaging`\n"
     ]
    },
    {
     "name": "stderr",
     "output_type": "stream",
     "text": [
      "2022-04-21 23:18:49,949 - stpipe - INFO - Observation `020` labelled `NIRCam Imaging` uses template `NircamImaging`\n"
     ]
    },
    {
     "name": "stdout",
     "output_type": "stream",
     "text": [
      "2022-04-21 23:18:49,949 - stpipe - INFO - Observation `020` labelled `NIRCam Imaging` uses template `NircamImaging`\n",
      "2022-04-21 23:18:49,951 - mirage.apt.read_apt_xml - INFO - APTObservationParams Dictionary holds 3 entries before reading template\n"
     ]
    },
    {
     "name": "stderr",
     "output_type": "stream",
     "text": [
      "2022-04-21 23:18:49,951 - stpipe - INFO - APTObservationParams Dictionary holds 3 entries before reading template\n"
     ]
    },
    {
     "name": "stdout",
     "output_type": "stream",
     "text": [
      "2022-04-21 23:18:49,951 - stpipe - INFO - APTObservationParams Dictionary holds 3 entries before reading template\n",
      "2022-04-21 23:18:49,953 - mirage.apt.read_apt_xml - INFO - Number of dithers: 4 primary * 1 subpixel = 4\n"
     ]
    },
    {
     "name": "stderr",
     "output_type": "stream",
     "text": [
      "2022-04-21 23:18:49,953 - stpipe - INFO - Number of dithers: 4 primary * 1 subpixel = 4\n"
     ]
    },
    {
     "name": "stdout",
     "output_type": "stream",
     "text": [
      "2022-04-21 23:18:49,953 - stpipe - INFO - Number of dithers: 4 primary * 1 subpixel = 4\n",
      "2022-04-21 23:18:49,954 - mirage.apt.read_apt_xml - INFO - Dictionary read from template has 1 entries.\n"
     ]
    },
    {
     "name": "stderr",
     "output_type": "stream",
     "text": [
      "2022-04-21 23:18:49,954 - stpipe - INFO - Dictionary read from template has 1 entries.\n"
     ]
    },
    {
     "name": "stdout",
     "output_type": "stream",
     "text": [
      "2022-04-21 23:18:49,954 - stpipe - INFO - Dictionary read from template has 1 entries.\n",
      "2022-04-21 23:18:49,956 - mirage.apt.read_apt_xml - INFO - Found 1 tile(s) for observation 020 NIRCam Imaging\n"
     ]
    },
    {
     "name": "stderr",
     "output_type": "stream",
     "text": [
      "2022-04-21 23:18:49,956 - stpipe - INFO - Found 1 tile(s) for observation 020 NIRCam Imaging\n"
     ]
    },
    {
     "name": "stdout",
     "output_type": "stream",
     "text": [
      "2022-04-21 23:18:49,956 - stpipe - INFO - Found 1 tile(s) for observation 020 NIRCam Imaging\n",
      "2022-04-21 23:18:49,959 - mirage.apt.read_apt_xml - INFO - Found 1 visits with numbers: [1]\n"
     ]
    },
    {
     "name": "stderr",
     "output_type": "stream",
     "text": [
      "2022-04-21 23:18:49,959 - stpipe - INFO - Found 1 visits with numbers: [1]\n"
     ]
    },
    {
     "name": "stdout",
     "output_type": "stream",
     "text": [
      "2022-04-21 23:18:49,959 - stpipe - INFO - Found 1 visits with numbers: [1]\n",
      "2022-04-21 23:18:49,961 - mirage.apt.read_apt_xml - INFO - APTObservationParams Dictionary holds 4 entries after reading template (+1 entries)\n"
     ]
    },
    {
     "name": "stderr",
     "output_type": "stream",
     "text": [
      "2022-04-21 23:18:49,961 - stpipe - INFO - APTObservationParams Dictionary holds 4 entries after reading template (+1 entries)\n"
     ]
    },
    {
     "name": "stdout",
     "output_type": "stream",
     "text": [
      "2022-04-21 23:18:49,961 - stpipe - INFO - APTObservationParams Dictionary holds 4 entries after reading template (+1 entries)\n",
      "2022-04-21 23:18:49,964 - mirage.apt.read_apt_xml - INFO - Finished reading APT xml file.\n"
     ]
    },
    {
     "name": "stderr",
     "output_type": "stream",
     "text": [
      "2022-04-21 23:18:49,964 - stpipe - INFO - Finished reading APT xml file.\n"
     ]
    },
    {
     "name": "stdout",
     "output_type": "stream",
     "text": [
      "2022-04-21 23:18:49,964 - stpipe - INFO - Finished reading APT xml file.\n",
      "2022-04-21 23:18:49,966 - mirage.apt.read_apt_xml - INFO - ++++++++++++++++++++++++++++++++++++++++++++++++++++++++++++++++++++++++++++++++++++++++++++++++++++\n"
     ]
    },
    {
     "name": "stderr",
     "output_type": "stream",
     "text": [
      "2022-04-21 23:18:49,966 - stpipe - INFO - ++++++++++++++++++++++++++++++++++++++++++++++++++++++++++++++++++++++++++++++++++++++++++++++++++++\n"
     ]
    },
    {
     "name": "stdout",
     "output_type": "stream",
     "text": [
      "2022-04-21 23:18:49,966 - stpipe - INFO - ++++++++++++++++++++++++++++++++++++++++++++++++++++++++++++++++++++++++++++++++++++++++++++++++++++\n",
      "2022-04-21 23:18:50,151 - mirage.yaml.generate_observationlist.expand_for_dithers - INFO - Number of entries before expanding dithers: 4\n"
     ]
    },
    {
     "name": "stderr",
     "output_type": "stream",
     "text": [
      "2022-04-21 23:18:50,151 - stpipe - INFO - Number of entries before expanding dithers: 4\n"
     ]
    },
    {
     "name": "stdout",
     "output_type": "stream",
     "text": [
      "2022-04-21 23:18:50,151 - stpipe - INFO - Number of entries before expanding dithers: 4\n",
      "2022-04-21 23:18:50,153 - mirage.yaml.generate_observationlist.expand_for_dithers - INFO - Number of entries after expanding dithers:  16\n"
     ]
    },
    {
     "name": "stderr",
     "output_type": "stream",
     "text": [
      "2022-04-21 23:18:50,153 - stpipe - INFO - Number of entries after expanding dithers:  16\n"
     ]
    },
    {
     "name": "stdout",
     "output_type": "stream",
     "text": [
      "2022-04-21 23:18:50,153 - stpipe - INFO - Number of entries after expanding dithers:  16\n",
      "2022-04-21 23:18:50,154 - mirage.yaml.generate_observationlist.expand_for_dithers - INFO - Expanded table for Observation 010 has 12 entries\n"
     ]
    },
    {
     "name": "stderr",
     "output_type": "stream",
     "text": [
      "2022-04-21 23:18:50,154 - stpipe - INFO - Expanded table for Observation 010 has 12 entries\n"
     ]
    },
    {
     "name": "stdout",
     "output_type": "stream",
     "text": [
      "2022-04-21 23:18:50,154 - stpipe - INFO - Expanded table for Observation 010 has 12 entries\n",
      "2022-04-21 23:18:50,155 - mirage.yaml.generate_observationlist.expand_for_dithers - INFO - Expanded table for Observation 020 has 4 entries\n"
     ]
    },
    {
     "name": "stderr",
     "output_type": "stream",
     "text": [
      "2022-04-21 23:18:50,155 - stpipe - INFO - Expanded table for Observation 020 has 4 entries\n"
     ]
    },
    {
     "name": "stdout",
     "output_type": "stream",
     "text": [
      "2022-04-21 23:18:50,155 - stpipe - INFO - Expanded table for Observation 020 has 4 entries\n",
      "2022-04-21 23:18:50,165 - mirage.yaml.generate_observationlist.get_observation_dict - INFO - Wrote 2 observations and 16 entries to /Users/dcoe/NIRCam/MIRAGE/2022April/yaml/F277W/observation_list.yaml\n"
     ]
    },
    {
     "name": "stderr",
     "output_type": "stream",
     "text": [
      "2022-04-21 23:18:50,165 - stpipe - INFO - Wrote 2 observations and 16 entries to /Users/dcoe/NIRCam/MIRAGE/2022April/yaml/F277W/observation_list.yaml\n"
     ]
    },
    {
     "name": "stdout",
     "output_type": "stream",
     "text": [
      "2022-04-21 23:18:50,165 - stpipe - INFO - Wrote 2 observations and 16 entries to /Users/dcoe/NIRCam/MIRAGE/2022April/yaml/F277W/observation_list.yaml\n",
      "2022-04-21 23:18:53,623 - mirage.apt.apt_inputs - WARNING - \n"
     ]
    },
    {
     "name": "stderr",
     "output_type": "stream",
     "text": [
      "2022-04-21 23:18:53,623 - stpipe - WARNING - \n"
     ]
    },
    {
     "name": "stdout",
     "output_type": "stream",
     "text": [
      "2022-04-21 23:18:53,623 - stpipe - WARNING - \n",
      "2022-04-21 23:18:53,625 - mirage.apt.apt_inputs - WARNING - !!!!!!!!!!!!!!!!!!!!!!!!!!!!!!!!!!!!!!!!!!!!!!!!!!!\n"
     ]
    },
    {
     "name": "stderr",
     "output_type": "stream",
     "text": [
      "2022-04-21 23:18:53,625 - stpipe - WARNING - !!!!!!!!!!!!!!!!!!!!!!!!!!!!!!!!!!!!!!!!!!!!!!!!!!!\n"
     ]
    },
    {
     "name": "stdout",
     "output_type": "stream",
     "text": [
      "2022-04-21 23:18:53,625 - stpipe - WARNING - !!!!!!!!!!!!!!!!!!!!!!!!!!!!!!!!!!!!!!!!!!!!!!!!!!!\n",
      "2022-04-21 23:18:53,627 - mirage.apt.apt_inputs - WARNING - The pointing file from APT was created using PRD version: PRDOPSSOC-037,\n"
     ]
    },
    {
     "name": "stderr",
     "output_type": "stream",
     "text": [
      "2022-04-21 23:18:53,627 - stpipe - WARNING - The pointing file from APT was created using PRD version: PRDOPSSOC-037,\n"
     ]
    },
    {
     "name": "stdout",
     "output_type": "stream",
     "text": [
      "2022-04-21 23:18:53,627 - stpipe - WARNING - The pointing file from APT was created using PRD version: PRDOPSSOC-037,\n",
      "2022-04-21 23:18:53,629 - mirage.apt.apt_inputs - WARNING - while the current installation of pysiaf uses PRD version: PRDOPSSOC-044.\n"
     ]
    },
    {
     "name": "stderr",
     "output_type": "stream",
     "text": [
      "2022-04-21 23:18:53,629 - stpipe - WARNING - while the current installation of pysiaf uses PRD version: PRDOPSSOC-044.\n"
     ]
    },
    {
     "name": "stdout",
     "output_type": "stream",
     "text": [
      "2022-04-21 23:18:53,629 - stpipe - WARNING - while the current installation of pysiaf uses PRD version: PRDOPSSOC-044.\n",
      "2022-04-21 23:18:53,631 - mirage.apt.apt_inputs - WARNING - This inconsistency may lead to errors in source locations or\n"
     ]
    },
    {
     "name": "stderr",
     "output_type": "stream",
     "text": [
      "2022-04-21 23:18:53,631 - stpipe - WARNING - This inconsistency may lead to errors in source locations or\n"
     ]
    },
    {
     "name": "stdout",
     "output_type": "stream",
     "text": [
      "2022-04-21 23:18:53,631 - stpipe - WARNING - This inconsistency may lead to errors in source locations or\n",
      "2022-04-21 23:18:53,632 - mirage.apt.apt_inputs - WARNING - the WCS of simulated data if the apertures being simulated are\n"
     ]
    },
    {
     "name": "stderr",
     "output_type": "stream",
     "text": [
      "2022-04-21 23:18:53,632 - stpipe - WARNING - the WCS of simulated data if the apertures being simulated are\n"
     ]
    },
    {
     "name": "stdout",
     "output_type": "stream",
     "text": [
      "2022-04-21 23:18:53,632 - stpipe - WARNING - the WCS of simulated data if the apertures being simulated are\n",
      "2022-04-21 23:18:53,634 - mirage.apt.apt_inputs - WARNING - shifted between the two versions. We highly recommend using a\n"
     ]
    },
    {
     "name": "stderr",
     "output_type": "stream",
     "text": [
      "2022-04-21 23:18:53,634 - stpipe - WARNING - shifted between the two versions. We highly recommend using a\n"
     ]
    },
    {
     "name": "stdout",
     "output_type": "stream",
     "text": [
      "2022-04-21 23:18:53,634 - stpipe - WARNING - shifted between the two versions. We highly recommend using a\n",
      "2022-04-21 23:18:53,635 - mirage.apt.apt_inputs - WARNING - consistent version of the PRD between APT and pysiaf.\n"
     ]
    },
    {
     "name": "stderr",
     "output_type": "stream",
     "text": [
      "2022-04-21 23:18:53,635 - stpipe - WARNING - consistent version of the PRD between APT and pysiaf.\n"
     ]
    },
    {
     "name": "stdout",
     "output_type": "stream",
     "text": [
      "2022-04-21 23:18:53,635 - stpipe - WARNING - consistent version of the PRD between APT and pysiaf.\n",
      "2022-04-21 23:18:53,636 - mirage.apt.apt_inputs - WARNING - !!!!!!!!!!!!!!!!!!!!!!!!!!!!!!!!!!!!!!!!!!!!!!!!!!!\n"
     ]
    },
    {
     "name": "stderr",
     "output_type": "stream",
     "text": [
      "2022-04-21 23:18:53,636 - stpipe - WARNING - !!!!!!!!!!!!!!!!!!!!!!!!!!!!!!!!!!!!!!!!!!!!!!!!!!!\n"
     ]
    },
    {
     "name": "stdout",
     "output_type": "stream",
     "text": [
      "2022-04-21 23:18:53,636 - stpipe - WARNING - !!!!!!!!!!!!!!!!!!!!!!!!!!!!!!!!!!!!!!!!!!!!!!!!!!!\n",
      "2022-04-21 23:18:53,638 - mirage.apt.apt_inputs - WARNING - \n"
     ]
    },
    {
     "name": "stderr",
     "output_type": "stream",
     "text": [
      "2022-04-21 23:18:53,638 - stpipe - WARNING - \n"
     ]
    },
    {
     "name": "stdout",
     "output_type": "stream",
     "text": [
      "2022-04-21 23:18:53,638 - stpipe - WARNING - \n",
      "2022-04-21 23:19:39,280 - mirage.apt.apt_inputs - INFO - csv exposure list written to /Users/dcoe/NIRCam/MIRAGE/2022April/yaml/F277W/Observation_table_for_macs0647_NIRCam.csv\n"
     ]
    },
    {
     "name": "stderr",
     "output_type": "stream",
     "text": [
      "2022-04-21 23:19:39,280 - stpipe - INFO - csv exposure list written to /Users/dcoe/NIRCam/MIRAGE/2022April/yaml/F277W/Observation_table_for_macs0647_NIRCam.csv\n"
     ]
    },
    {
     "name": "stdout",
     "output_type": "stream",
     "text": [
      "2022-04-21 23:19:39,280 - stpipe - INFO - csv exposure list written to /Users/dcoe/NIRCam/MIRAGE/2022April/yaml/F277W/Observation_table_for_macs0647_NIRCam.csv\n",
      "2022-04-21 23:19:41,797 - mirage.yaml.yaml_generator - INFO - No PSF path provided. Using default path as PSF path for all yamls.\n"
     ]
    },
    {
     "name": "stderr",
     "output_type": "stream",
     "text": [
      "2022-04-21 23:19:41,797 - stpipe - INFO - No PSF path provided. Using default path as PSF path for all yamls.\n"
     ]
    },
    {
     "name": "stdout",
     "output_type": "stream",
     "text": [
      "2022-04-21 23:19:41,797 - stpipe - INFO - No PSF path provided. Using default path as PSF path for all yamls.\n",
      "2022-04-21 23:19:41,869 - mirage.yaml.yaml_generator - INFO - Updated observation table file saved to /Users/dcoe/NIRCam/MIRAGE/2022April/yaml/F277W/Observation_table_for_macs0647_NIRCam.xml_with_yaml_parameters.csv\n"
     ]
    },
    {
     "name": "stderr",
     "output_type": "stream",
     "text": [
      "2022-04-21 23:19:41,869 - stpipe - INFO - Updated observation table file saved to /Users/dcoe/NIRCam/MIRAGE/2022April/yaml/F277W/Observation_table_for_macs0647_NIRCam.xml_with_yaml_parameters.csv\n"
     ]
    },
    {
     "name": "stdout",
     "output_type": "stream",
     "text": [
      "2022-04-21 23:19:41,869 - stpipe - INFO - Updated observation table file saved to /Users/dcoe/NIRCam/MIRAGE/2022April/yaml/F277W/Observation_table_for_macs0647_NIRCam.xml_with_yaml_parameters.csv\n",
      "2022-04-21 23:20:58,241 - mirage.yaml.yaml_generator - INFO - \n"
     ]
    },
    {
     "name": "stderr",
     "output_type": "stream",
     "text": [
      "2022-04-21 23:20:58,241 - stpipe - INFO - \n"
     ]
    },
    {
     "name": "stdout",
     "output_type": "stream",
     "text": [
      "2022-04-21 23:20:58,241 - stpipe - INFO - \n",
      "2022-04-21 23:20:58,242 - mirage.yaml.yaml_generator - INFO - \n"
     ]
    },
    {
     "name": "stderr",
     "output_type": "stream",
     "text": [
      "2022-04-21 23:20:58,242 - stpipe - INFO - \n"
     ]
    },
    {
     "name": "stdout",
     "output_type": "stream",
     "text": [
      "2022-04-21 23:20:58,242 - stpipe - INFO - \n",
      "2022-04-21 23:20:58,244 - mirage.yaml.yaml_generator - INFO - Observation 010:\n"
     ]
    },
    {
     "name": "stderr",
     "output_type": "stream",
     "text": [
      "2022-04-21 23:20:58,244 - stpipe - INFO - Observation 010:\n"
     ]
    },
    {
     "name": "stdout",
     "output_type": "stream",
     "text": [
      "2022-04-21 23:20:58,244 - stpipe - INFO - Observation 010:\n",
      "2022-04-21 23:20:58,246 - mirage.yaml.yaml_generator - INFO -     Prime: NIRCAM\n"
     ]
    },
    {
     "name": "stderr",
     "output_type": "stream",
     "text": [
      "2022-04-21 23:20:58,246 - stpipe - INFO -     Prime: NIRCAM\n"
     ]
    },
    {
     "name": "stdout",
     "output_type": "stream",
     "text": [
      "2022-04-21 23:20:58,246 - stpipe - INFO -     Prime: NIRCAM\n",
      "2022-04-21 23:20:58,247 - mirage.yaml.yaml_generator - INFO -     1 visit(s)\n"
     ]
    },
    {
     "name": "stderr",
     "output_type": "stream",
     "text": [
      "2022-04-21 23:20:58,247 - stpipe - INFO -     1 visit(s)\n"
     ]
    },
    {
     "name": "stdout",
     "output_type": "stream",
     "text": [
      "2022-04-21 23:20:58,247 - stpipe - INFO -     1 visit(s)\n",
      "2022-04-21 23:20:58,249 - mirage.yaml.yaml_generator - INFO -     12 activity(ies)\n"
     ]
    },
    {
     "name": "stderr",
     "output_type": "stream",
     "text": [
      "2022-04-21 23:20:58,249 - stpipe - INFO -     12 activity(ies)\n"
     ]
    },
    {
     "name": "stdout",
     "output_type": "stream",
     "text": [
      "2022-04-21 23:20:58,249 - stpipe - INFO -     12 activity(ies)\n",
      "2022-04-21 23:20:58,250 - mirage.yaml.yaml_generator - INFO -     10 NIRCam detector(s) in module A and B\n"
     ]
    },
    {
     "name": "stderr",
     "output_type": "stream",
     "text": [
      "2022-04-21 23:20:58,250 - stpipe - INFO -     10 NIRCam detector(s) in module A and B\n"
     ]
    },
    {
     "name": "stdout",
     "output_type": "stream",
     "text": [
      "2022-04-21 23:20:58,250 - stpipe - INFO -     10 NIRCam detector(s) in module A and B\n",
      "2022-04-21 23:20:58,252 - mirage.yaml.yaml_generator - INFO -     120 file(s)\n"
     ]
    },
    {
     "name": "stderr",
     "output_type": "stream",
     "text": [
      "2022-04-21 23:20:58,252 - stpipe - INFO -     120 file(s)\n"
     ]
    },
    {
     "name": "stdout",
     "output_type": "stream",
     "text": [
      "2022-04-21 23:20:58,252 - stpipe - INFO -     120 file(s)\n",
      "2022-04-21 23:20:58,253 - mirage.yaml.yaml_generator - INFO - Observation 020:\n"
     ]
    },
    {
     "name": "stderr",
     "output_type": "stream",
     "text": [
      "2022-04-21 23:20:58,253 - stpipe - INFO - Observation 020:\n"
     ]
    },
    {
     "name": "stdout",
     "output_type": "stream",
     "text": [
      "2022-04-21 23:20:58,253 - stpipe - INFO - Observation 020:\n",
      "2022-04-21 23:20:58,255 - mirage.yaml.yaml_generator - INFO -     Prime: NIRCAM\n"
     ]
    },
    {
     "name": "stderr",
     "output_type": "stream",
     "text": [
      "2022-04-21 23:20:58,255 - stpipe - INFO -     Prime: NIRCAM\n"
     ]
    },
    {
     "name": "stdout",
     "output_type": "stream",
     "text": [
      "2022-04-21 23:20:58,255 - stpipe - INFO -     Prime: NIRCAM\n",
      "2022-04-21 23:20:58,256 - mirage.yaml.yaml_generator - INFO -     1 visit(s)\n"
     ]
    },
    {
     "name": "stderr",
     "output_type": "stream",
     "text": [
      "2022-04-21 23:20:58,256 - stpipe - INFO -     1 visit(s)\n"
     ]
    },
    {
     "name": "stdout",
     "output_type": "stream",
     "text": [
      "2022-04-21 23:20:58,256 - stpipe - INFO -     1 visit(s)\n",
      "2022-04-21 23:20:58,257 - mirage.yaml.yaml_generator - INFO -     4 activity(ies)\n"
     ]
    },
    {
     "name": "stderr",
     "output_type": "stream",
     "text": [
      "2022-04-21 23:20:58,257 - stpipe - INFO -     4 activity(ies)\n"
     ]
    },
    {
     "name": "stdout",
     "output_type": "stream",
     "text": [
      "2022-04-21 23:20:58,257 - stpipe - INFO -     4 activity(ies)\n",
      "2022-04-21 23:20:58,259 - mirage.yaml.yaml_generator - INFO -     10 NIRCam detector(s) in module A and B\n"
     ]
    },
    {
     "name": "stderr",
     "output_type": "stream",
     "text": [
      "2022-04-21 23:20:58,259 - stpipe - INFO -     10 NIRCam detector(s) in module A and B\n"
     ]
    },
    {
     "name": "stdout",
     "output_type": "stream",
     "text": [
      "2022-04-21 23:20:58,259 - stpipe - INFO -     10 NIRCam detector(s) in module A and B\n",
      "2022-04-21 23:20:58,261 - mirage.yaml.yaml_generator - INFO -     40 file(s)\n"
     ]
    },
    {
     "name": "stderr",
     "output_type": "stream",
     "text": [
      "2022-04-21 23:20:58,261 - stpipe - INFO -     40 file(s)\n"
     ]
    },
    {
     "name": "stdout",
     "output_type": "stream",
     "text": [
      "2022-04-21 23:20:58,261 - stpipe - INFO -     40 file(s)\n",
      "2022-04-21 23:20:58,262 - mirage.yaml.yaml_generator - INFO - 160 output files written to: /Users/dcoe/NIRCam/MIRAGE/2022April/yaml/F277W\n"
     ]
    },
    {
     "name": "stderr",
     "output_type": "stream",
     "text": [
      "2022-04-21 23:20:58,262 - stpipe - INFO - 160 output files written to: /Users/dcoe/NIRCam/MIRAGE/2022April/yaml/F277W\n"
     ]
    },
    {
     "name": "stdout",
     "output_type": "stream",
     "text": [
      "2022-04-21 23:20:58,262 - stpipe - INFO - 160 output files written to: /Users/dcoe/NIRCam/MIRAGE/2022April/yaml/F277W\n",
      "2022-04-21 23:20:58,263 - mirage.yaml.yaml_generator - INFO - Yaml generator complete\n"
     ]
    },
    {
     "name": "stderr",
     "output_type": "stream",
     "text": [
      "2022-04-21 23:20:58,263 - stpipe - INFO - Yaml generator complete\n"
     ]
    },
    {
     "name": "stdout",
     "output_type": "stream",
     "text": [
      "2022-04-21 23:20:58,263 - stpipe - INFO - Yaml generator complete\n"
     ]
    }
   ],
   "source": [
    "# Run the yaml generator (takes a minute or so)\n",
    "yam = yaml_generator.SimInput(input_xml=xml_file, pointing_file=pointing_file, catalogs=cat_dict, \n",
    "                              cosmic_rays=cosmic_rays, background=background, roll_angle=pav3, dates=dates, \n",
    "                              reffile_defaults=reffile_defaults, datatype=datatype, verbose=True,\n",
    "                              output_dir=yaml_dir, simdata_output_dir=image_dir)\n",
    "\n",
    "# https://mirage-data-simulator.readthedocs.io/en/latest/dark_preparation.html#calibration-and-linearization\n",
    "#yam.use_linearized_darks = False  # MIRAGE gave me an error\n",
    "yam.use_linearized_darks = True\n",
    "\n",
    "yam.create_inputs()"
   ]
  },
  {
   "cell_type": "code",
   "execution_count": 14,
   "metadata": {},
   "outputs": [
    {
     "data": {
      "text/plain": [
       "True"
      ]
     },
     "execution_count": 14,
     "metadata": {},
     "output_type": "execute_result"
    }
   ],
   "source": [
    "yam.use_linearized_darks"
   ]
  },
  {
   "cell_type": "code",
   "execution_count": 15,
   "metadata": {},
   "outputs": [
    {
     "data": {
      "text/plain": [
       "160"
      ]
     },
     "execution_count": 15,
     "metadata": {},
     "output_type": "execute_result"
    }
   ],
   "source": [
    "# 4 filters x 4 dithers x 10 detectors (as specified in APT)\n",
    "yfiles = glob(os.path.join(yaml_dir,'jw*.yaml'))\n",
    "yfiles = np.sort(yfiles)\n",
    "len(yfiles)"
   ]
  },
  {
   "cell_type": "code",
   "execution_count": 16,
   "metadata": {},
   "outputs": [
    {
     "name": "stdout",
     "output_type": "stream",
     "text": [
      "F115W A1 010 ./yaml/F277W/jw01433010001_01101_00001_nrca1.yaml\n",
      "F115W A2 010 ./yaml/F277W/jw01433010001_01101_00001_nrca2.yaml\n",
      "F115W A3 010 ./yaml/F277W/jw01433010001_01101_00001_nrca3.yaml\n",
      "F115W A4 010 ./yaml/F277W/jw01433010001_01101_00001_nrca4.yaml\n",
      "F444W A5 010 ./yaml/F277W/jw01433010001_01101_00001_nrca5.yaml\n",
      "F115W B1 010 ./yaml/F277W/jw01433010001_01101_00001_nrcb1.yaml\n",
      "F115W B2 010 ./yaml/F277W/jw01433010001_01101_00001_nrcb2.yaml\n",
      "F115W B3 010 ./yaml/F277W/jw01433010001_01101_00001_nrcb3.yaml\n",
      "F115W B4 010 ./yaml/F277W/jw01433010001_01101_00001_nrcb4.yaml\n",
      "F444W B5 010 ./yaml/F277W/jw01433010001_01101_00001_nrcb5.yaml\n",
      "F115W A1 010 ./yaml/F277W/jw01433010001_01101_00002_nrca1.yaml\n",
      "F115W A2 010 ./yaml/F277W/jw01433010001_01101_00002_nrca2.yaml\n",
      "F115W A3 010 ./yaml/F277W/jw01433010001_01101_00002_nrca3.yaml\n",
      "F115W A4 010 ./yaml/F277W/jw01433010001_01101_00002_nrca4.yaml\n",
      "F444W A5 010 ./yaml/F277W/jw01433010001_01101_00002_nrca5.yaml\n",
      "F115W B1 010 ./yaml/F277W/jw01433010001_01101_00002_nrcb1.yaml\n",
      "F115W B2 010 ./yaml/F277W/jw01433010001_01101_00002_nrcb2.yaml\n",
      "F115W B3 010 ./yaml/F277W/jw01433010001_01101_00002_nrcb3.yaml\n",
      "F115W B4 010 ./yaml/F277W/jw01433010001_01101_00002_nrcb4.yaml\n",
      "F444W B5 010 ./yaml/F277W/jw01433010001_01101_00002_nrcb5.yaml\n",
      "F115W A1 010 ./yaml/F277W/jw01433010001_01101_00003_nrca1.yaml\n",
      "F115W A2 010 ./yaml/F277W/jw01433010001_01101_00003_nrca2.yaml\n",
      "F115W A3 010 ./yaml/F277W/jw01433010001_01101_00003_nrca3.yaml\n",
      "F115W A4 010 ./yaml/F277W/jw01433010001_01101_00003_nrca4.yaml\n",
      "F444W A5 010 ./yaml/F277W/jw01433010001_01101_00003_nrca5.yaml\n",
      "F115W B1 010 ./yaml/F277W/jw01433010001_01101_00003_nrcb1.yaml\n",
      "F115W B2 010 ./yaml/F277W/jw01433010001_01101_00003_nrcb2.yaml\n",
      "F115W B3 010 ./yaml/F277W/jw01433010001_01101_00003_nrcb3.yaml\n",
      "F115W B4 010 ./yaml/F277W/jw01433010001_01101_00003_nrcb4.yaml\n",
      "F444W B5 010 ./yaml/F277W/jw01433010001_01101_00003_nrcb5.yaml\n",
      "F115W A1 010 ./yaml/F277W/jw01433010001_01101_00004_nrca1.yaml\n",
      "F115W A2 010 ./yaml/F277W/jw01433010001_01101_00004_nrca2.yaml\n",
      "F115W A3 010 ./yaml/F277W/jw01433010001_01101_00004_nrca3.yaml\n",
      "F115W A4 010 ./yaml/F277W/jw01433010001_01101_00004_nrca4.yaml\n",
      "F444W A5 010 ./yaml/F277W/jw01433010001_01101_00004_nrca5.yaml\n",
      "F115W B1 010 ./yaml/F277W/jw01433010001_01101_00004_nrcb1.yaml\n",
      "F115W B2 010 ./yaml/F277W/jw01433010001_01101_00004_nrcb2.yaml\n",
      "F115W B3 010 ./yaml/F277W/jw01433010001_01101_00004_nrcb3.yaml\n",
      "F115W B4 010 ./yaml/F277W/jw01433010001_01101_00004_nrcb4.yaml\n",
      "F444W B5 010 ./yaml/F277W/jw01433010001_01101_00004_nrcb5.yaml\n",
      "F150W A1 010 ./yaml/F277W/jw01433010001_01101_00005_nrca1.yaml\n",
      "F150W A2 010 ./yaml/F277W/jw01433010001_01101_00005_nrca2.yaml\n",
      "F150W A3 010 ./yaml/F277W/jw01433010001_01101_00005_nrca3.yaml\n",
      "F150W A4 010 ./yaml/F277W/jw01433010001_01101_00005_nrca4.yaml\n",
      "F356W A5 010 ./yaml/F277W/jw01433010001_01101_00005_nrca5.yaml\n",
      "F150W B1 010 ./yaml/F277W/jw01433010001_01101_00005_nrcb1.yaml\n",
      "F150W B2 010 ./yaml/F277W/jw01433010001_01101_00005_nrcb2.yaml\n",
      "F150W B3 010 ./yaml/F277W/jw01433010001_01101_00005_nrcb3.yaml\n",
      "F150W B4 010 ./yaml/F277W/jw01433010001_01101_00005_nrcb4.yaml\n",
      "F356W B5 010 ./yaml/F277W/jw01433010001_01101_00005_nrcb5.yaml\n",
      "F150W A1 010 ./yaml/F277W/jw01433010001_01101_00006_nrca1.yaml\n",
      "F150W A2 010 ./yaml/F277W/jw01433010001_01101_00006_nrca2.yaml\n",
      "F150W A3 010 ./yaml/F277W/jw01433010001_01101_00006_nrca3.yaml\n",
      "F150W A4 010 ./yaml/F277W/jw01433010001_01101_00006_nrca4.yaml\n",
      "F356W A5 010 ./yaml/F277W/jw01433010001_01101_00006_nrca5.yaml\n",
      "F150W B1 010 ./yaml/F277W/jw01433010001_01101_00006_nrcb1.yaml\n",
      "F150W B2 010 ./yaml/F277W/jw01433010001_01101_00006_nrcb2.yaml\n",
      "F150W B3 010 ./yaml/F277W/jw01433010001_01101_00006_nrcb3.yaml\n",
      "F150W B4 010 ./yaml/F277W/jw01433010001_01101_00006_nrcb4.yaml\n",
      "F356W B5 010 ./yaml/F277W/jw01433010001_01101_00006_nrcb5.yaml\n",
      "F150W A1 010 ./yaml/F277W/jw01433010001_01101_00007_nrca1.yaml\n",
      "F150W A2 010 ./yaml/F277W/jw01433010001_01101_00007_nrca2.yaml\n",
      "F150W A3 010 ./yaml/F277W/jw01433010001_01101_00007_nrca3.yaml\n",
      "F150W A4 010 ./yaml/F277W/jw01433010001_01101_00007_nrca4.yaml\n",
      "F356W A5 010 ./yaml/F277W/jw01433010001_01101_00007_nrca5.yaml\n",
      "F150W B1 010 ./yaml/F277W/jw01433010001_01101_00007_nrcb1.yaml\n",
      "F150W B2 010 ./yaml/F277W/jw01433010001_01101_00007_nrcb2.yaml\n",
      "F150W B3 010 ./yaml/F277W/jw01433010001_01101_00007_nrcb3.yaml\n",
      "F150W B4 010 ./yaml/F277W/jw01433010001_01101_00007_nrcb4.yaml\n",
      "F356W B5 010 ./yaml/F277W/jw01433010001_01101_00007_nrcb5.yaml\n",
      "F150W A1 010 ./yaml/F277W/jw01433010001_01101_00008_nrca1.yaml\n",
      "F150W A2 010 ./yaml/F277W/jw01433010001_01101_00008_nrca2.yaml\n",
      "F150W A3 010 ./yaml/F277W/jw01433010001_01101_00008_nrca3.yaml\n",
      "F150W A4 010 ./yaml/F277W/jw01433010001_01101_00008_nrca4.yaml\n",
      "F356W A5 010 ./yaml/F277W/jw01433010001_01101_00008_nrca5.yaml\n",
      "F150W B1 010 ./yaml/F277W/jw01433010001_01101_00008_nrcb1.yaml\n",
      "F150W B2 010 ./yaml/F277W/jw01433010001_01101_00008_nrcb2.yaml\n",
      "F150W B3 010 ./yaml/F277W/jw01433010001_01101_00008_nrcb3.yaml\n",
      "F150W B4 010 ./yaml/F277W/jw01433010001_01101_00008_nrcb4.yaml\n",
      "F356W B5 010 ./yaml/F277W/jw01433010001_01101_00008_nrcb5.yaml\n",
      "F200W A1 010 ./yaml/F277W/jw01433010001_01101_00009_nrca1.yaml\n",
      "F200W A2 010 ./yaml/F277W/jw01433010001_01101_00009_nrca2.yaml\n",
      "F200W A3 010 ./yaml/F277W/jw01433010001_01101_00009_nrca3.yaml\n",
      "F200W A4 010 ./yaml/F277W/jw01433010001_01101_00009_nrca4.yaml\n",
      "F277W A5 010 ./yaml/F277W/jw01433010001_01101_00009_nrca5.yaml\n",
      "F200W B1 010 ./yaml/F277W/jw01433010001_01101_00009_nrcb1.yaml\n",
      "F200W B2 010 ./yaml/F277W/jw01433010001_01101_00009_nrcb2.yaml\n",
      "F200W B3 010 ./yaml/F277W/jw01433010001_01101_00009_nrcb3.yaml\n",
      "F200W B4 010 ./yaml/F277W/jw01433010001_01101_00009_nrcb4.yaml\n",
      "F277W B5 010 ./yaml/F277W/jw01433010001_01101_00009_nrcb5.yaml\n",
      "F200W A1 010 ./yaml/F277W/jw01433010001_01101_00010_nrca1.yaml\n",
      "F200W A2 010 ./yaml/F277W/jw01433010001_01101_00010_nrca2.yaml\n",
      "F200W A3 010 ./yaml/F277W/jw01433010001_01101_00010_nrca3.yaml\n",
      "F200W A4 010 ./yaml/F277W/jw01433010001_01101_00010_nrca4.yaml\n",
      "F277W A5 010 ./yaml/F277W/jw01433010001_01101_00010_nrca5.yaml\n",
      "F200W B1 010 ./yaml/F277W/jw01433010001_01101_00010_nrcb1.yaml\n",
      "F200W B2 010 ./yaml/F277W/jw01433010001_01101_00010_nrcb2.yaml\n",
      "F200W B3 010 ./yaml/F277W/jw01433010001_01101_00010_nrcb3.yaml\n",
      "F200W B4 010 ./yaml/F277W/jw01433010001_01101_00010_nrcb4.yaml\n",
      "F277W B5 010 ./yaml/F277W/jw01433010001_01101_00010_nrcb5.yaml\n",
      "F200W A1 010 ./yaml/F277W/jw01433010001_01101_00011_nrca1.yaml\n",
      "F200W A2 010 ./yaml/F277W/jw01433010001_01101_00011_nrca2.yaml\n",
      "F200W A3 010 ./yaml/F277W/jw01433010001_01101_00011_nrca3.yaml\n",
      "F200W A4 010 ./yaml/F277W/jw01433010001_01101_00011_nrca4.yaml\n",
      "F277W A5 010 ./yaml/F277W/jw01433010001_01101_00011_nrca5.yaml\n",
      "F200W B1 010 ./yaml/F277W/jw01433010001_01101_00011_nrcb1.yaml\n",
      "F200W B2 010 ./yaml/F277W/jw01433010001_01101_00011_nrcb2.yaml\n",
      "F200W B3 010 ./yaml/F277W/jw01433010001_01101_00011_nrcb3.yaml\n",
      "F200W B4 010 ./yaml/F277W/jw01433010001_01101_00011_nrcb4.yaml\n",
      "F277W B5 010 ./yaml/F277W/jw01433010001_01101_00011_nrcb5.yaml\n",
      "F200W A1 010 ./yaml/F277W/jw01433010001_01101_00012_nrca1.yaml\n",
      "F200W A2 010 ./yaml/F277W/jw01433010001_01101_00012_nrca2.yaml\n",
      "F200W A3 010 ./yaml/F277W/jw01433010001_01101_00012_nrca3.yaml\n",
      "F200W A4 010 ./yaml/F277W/jw01433010001_01101_00012_nrca4.yaml\n",
      "F277W A5 010 ./yaml/F277W/jw01433010001_01101_00012_nrca5.yaml\n",
      "F200W B1 010 ./yaml/F277W/jw01433010001_01101_00012_nrcb1.yaml\n",
      "F200W B2 010 ./yaml/F277W/jw01433010001_01101_00012_nrcb2.yaml\n",
      "F200W B3 010 ./yaml/F277W/jw01433010001_01101_00012_nrcb3.yaml\n",
      "F200W B4 010 ./yaml/F277W/jw01433010001_01101_00012_nrcb4.yaml\n",
      "F277W B5 010 ./yaml/F277W/jw01433010001_01101_00012_nrcb5.yaml\n",
      "F200W A1 020 ./yaml/F277W/jw01433020001_01101_00001_nrca1.yaml\n",
      "F200W A2 020 ./yaml/F277W/jw01433020001_01101_00001_nrca2.yaml\n",
      "F200W A3 020 ./yaml/F277W/jw01433020001_01101_00001_nrca3.yaml\n",
      "F200W A4 020 ./yaml/F277W/jw01433020001_01101_00001_nrca4.yaml\n",
      "F480M A5 020 ./yaml/F277W/jw01433020001_01101_00001_nrca5.yaml\n",
      "F200W B1 020 ./yaml/F277W/jw01433020001_01101_00001_nrcb1.yaml\n",
      "F200W B2 020 ./yaml/F277W/jw01433020001_01101_00001_nrcb2.yaml\n",
      "F200W B3 020 ./yaml/F277W/jw01433020001_01101_00001_nrcb3.yaml\n",
      "F200W B4 020 ./yaml/F277W/jw01433020001_01101_00001_nrcb4.yaml\n",
      "F480M B5 020 ./yaml/F277W/jw01433020001_01101_00001_nrcb5.yaml\n",
      "F200W A1 020 ./yaml/F277W/jw01433020001_01101_00002_nrca1.yaml\n"
     ]
    },
    {
     "name": "stdout",
     "output_type": "stream",
     "text": [
      "F200W A2 020 ./yaml/F277W/jw01433020001_01101_00002_nrca2.yaml\n",
      "F200W A3 020 ./yaml/F277W/jw01433020001_01101_00002_nrca3.yaml\n",
      "F200W A4 020 ./yaml/F277W/jw01433020001_01101_00002_nrca4.yaml\n",
      "F480M A5 020 ./yaml/F277W/jw01433020001_01101_00002_nrca5.yaml\n",
      "F200W B1 020 ./yaml/F277W/jw01433020001_01101_00002_nrcb1.yaml\n",
      "F200W B2 020 ./yaml/F277W/jw01433020001_01101_00002_nrcb2.yaml\n",
      "F200W B3 020 ./yaml/F277W/jw01433020001_01101_00002_nrcb3.yaml\n",
      "F200W B4 020 ./yaml/F277W/jw01433020001_01101_00002_nrcb4.yaml\n",
      "F480M B5 020 ./yaml/F277W/jw01433020001_01101_00002_nrcb5.yaml\n",
      "F200W A1 020 ./yaml/F277W/jw01433020001_01101_00003_nrca1.yaml\n",
      "F200W A2 020 ./yaml/F277W/jw01433020001_01101_00003_nrca2.yaml\n",
      "F200W A3 020 ./yaml/F277W/jw01433020001_01101_00003_nrca3.yaml\n",
      "F200W A4 020 ./yaml/F277W/jw01433020001_01101_00003_nrca4.yaml\n",
      "F480M A5 020 ./yaml/F277W/jw01433020001_01101_00003_nrca5.yaml\n",
      "F200W B1 020 ./yaml/F277W/jw01433020001_01101_00003_nrcb1.yaml\n",
      "F200W B2 020 ./yaml/F277W/jw01433020001_01101_00003_nrcb2.yaml\n",
      "F200W B3 020 ./yaml/F277W/jw01433020001_01101_00003_nrcb3.yaml\n",
      "F200W B4 020 ./yaml/F277W/jw01433020001_01101_00003_nrcb4.yaml\n",
      "F480M B5 020 ./yaml/F277W/jw01433020001_01101_00003_nrcb5.yaml\n",
      "F200W A1 020 ./yaml/F277W/jw01433020001_01101_00004_nrca1.yaml\n",
      "F200W A2 020 ./yaml/F277W/jw01433020001_01101_00004_nrca2.yaml\n",
      "F200W A3 020 ./yaml/F277W/jw01433020001_01101_00004_nrca3.yaml\n",
      "F200W A4 020 ./yaml/F277W/jw01433020001_01101_00004_nrca4.yaml\n",
      "F480M A5 020 ./yaml/F277W/jw01433020001_01101_00004_nrca5.yaml\n",
      "F200W B1 020 ./yaml/F277W/jw01433020001_01101_00004_nrcb1.yaml\n",
      "F200W B2 020 ./yaml/F277W/jw01433020001_01101_00004_nrcb2.yaml\n",
      "F200W B3 020 ./yaml/F277W/jw01433020001_01101_00004_nrcb3.yaml\n",
      "F200W B4 020 ./yaml/F277W/jw01433020001_01101_00004_nrcb4.yaml\n",
      "F480M B5 020 ./yaml/F277W/jw01433020001_01101_00004_nrcb5.yaml\n"
     ]
    }
   ],
   "source": [
    "# Print info about these files: filter and detector\n",
    "for yamlfile in yfiles:\n",
    "    with open(yamlfile, 'r') as infile:\n",
    "        params = yaml.safe_load(infile)\n",
    "    filt = params['Readout']['filter']\n",
    "    detector = params['Readout']['array_name'][3:5]\n",
    "    print(filt, detector, params['Output']['observation_number'], yamlfile)"
   ]
  },
  {
   "cell_type": "code",
   "execution_count": 17,
   "metadata": {
    "scrolled": false
   },
   "outputs": [],
   "source": [
    "#params"
   ]
  },
  {
   "cell_type": "code",
   "execution_count": 18,
   "metadata": {
    "scrolled": true
   },
   "outputs": [
    {
     "data": {
      "text/plain": [
       "{'Inst': {'instrument': 'NIRCAM',\n",
       "  'mode': 'imaging',\n",
       "  'use_JWST_pipeline': True},\n",
       " 'Readout': {'readpatt': 'SHALLOW4',\n",
       "  'ngroup': 10,\n",
       "  'nint': 1,\n",
       "  'namp': 4,\n",
       "  'resets_bet_ints': 1,\n",
       "  'array_name': 'NRCB5_FULL',\n",
       "  'intermediate_aperture': 'None',\n",
       "  'PPS_aperture': 'NRCALL_FULL',\n",
       "  'filter': 'F480M',\n",
       "  'pupil': 'CLEAR'},\n",
       " 'Reffiles': {'dark': 'None',\n",
       "  'linearized_darkfile': '/ifs/jwst/wit/mirage_data/nircam/darks/linearized/B5/Linearized_Dark_and_SBRefpix_NRCNRCBLONG-DARK-60011525031_1_490_SE_2016-01-01T17h24m42_uncal.fits',\n",
       "  'badpixmask': 'crds',\n",
       "  'superbias': 'crds',\n",
       "  'linearity': 'crds',\n",
       "  'saturation': 'crds',\n",
       "  'gain': 'crds',\n",
       "  'pixelflat': 'crds',\n",
       "  'illumflat': 'None',\n",
       "  'astrometric': 'crds',\n",
       "  'photom': 'crds',\n",
       "  'ipc': 'crds',\n",
       "  'invertIPC': True,\n",
       "  'occult': 'None',\n",
       "  'pixelAreaMap': 'crds',\n",
       "  'transmission': 'crds',\n",
       "  'subarray_defs': '/Users/dcoe/miniconda3/envs/python3.10/lib/python3.10/site-packages/mirage/config/NIRCam_subarray_definitions.list',\n",
       "  'readpattdefs': '/Users/dcoe/miniconda3/envs/python3.10/lib/python3.10/site-packages/mirage/config/nircam_read_pattern_definitions.list',\n",
       "  'crosstalk': '/Users/dcoe/miniconda3/envs/python3.10/lib/python3.10/site-packages/mirage/config/xtalk20150303g0.errorcut.txt',\n",
       "  'filtpupilcombo': '/Users/dcoe/miniconda3/envs/python3.10/lib/python3.10/site-packages/mirage/config/nircam_filter_pupil_pairings.list',\n",
       "  'filter_wheel_positions': '/Users/dcoe/miniconda3/envs/python3.10/lib/python3.10/site-packages/mirage/config/nircam_filter_and_pupil_wheel_positions.txt',\n",
       "  'flux_cal': '/Users/dcoe/miniconda3/envs/python3.10/lib/python3.10/site-packages/mirage/config/NIRCam_zeropoints.list',\n",
       "  'filter_throughput': '/Users/dcoe/miniconda3/envs/python3.10/lib/python3.10/site-packages/mirage/config/placeholder.txt'},\n",
       " 'nonlin': {'limit': 60000.0,\n",
       "  'accuracy': 1e-06,\n",
       "  'maxiter': 10,\n",
       "  'robberto': False},\n",
       " 'cosmicRay': {'path': '/ifs/jwst/wit/mirage_data/nircam/cosmic_ray_library',\n",
       "  'library': 'SUNMAX',\n",
       "  'scale': 1.0,\n",
       "  'suffix': 'IPC_NIRCam_B5',\n",
       "  'seed': 112227343},\n",
       " 'simSignals': {'pointsource': 'None',\n",
       "  'gridded_psf_library_row_padding': 4,\n",
       "  'psf_wing_threshold_file': '/Users/dcoe/miniconda3/envs/python3.10/lib/python3.10/site-packages/mirage/config/nircam_psf_wing_rate_thresholds.txt',\n",
       "  'add_psf_wings': True,\n",
       "  'psfpath': '/ifs/jwst/wit/mirage_data/nircam/gridded_psf_library',\n",
       "  'psfwfe': 'predicted',\n",
       "  'psfwfegroup': 0,\n",
       "  'galaxyListFile': '/Users/dcoe/NIRCam/MIRAGE/2022April/inputs/MACS0647_MIRAGE_galaxy_catalog_F277W.cat',\n",
       "  'extended': 'None',\n",
       "  'extendedscale': 1.0,\n",
       "  'extendedCenter': '1024,1024',\n",
       "  'PSFConvolveExtended': True,\n",
       "  'movingTargetList': 'None',\n",
       "  'movingTargetSersic': 'None',\n",
       "  'movingTargetExtended': 'None',\n",
       "  'movingTargetToTrack': 'None',\n",
       "  'tso_imaging_catalog': 'None',\n",
       "  'tso_grism_catalog': 'None',\n",
       "  'zodiacal': 'None',\n",
       "  'zodiscale': 1.0,\n",
       "  'scattered': 'None',\n",
       "  'scatteredscale': 1.0,\n",
       "  'bkgdrate': 'medium',\n",
       "  'poissonseed': 3972359725,\n",
       "  'photonyield': True,\n",
       "  'pymethod': True,\n",
       "  'expand_catalog_for_segments': False,\n",
       "  'use_dateobs_for_background': False,\n",
       "  'signal_low_limit_for_segmap': 0.031,\n",
       "  'signal_low_limit_for_segmap_units': 'ADU/sec',\n",
       "  'add_ghosts': True,\n",
       "  'PSFConvolveGhosts': False},\n",
       " 'Telescope': {'ra': 101.82091338688707,\n",
       "  'dec': 70.26002718548847,\n",
       "  'rotation': 12.5,\n",
       "  'tracking': 'sidereal'},\n",
       " 'newRamp': {'dq_configfile': '/Users/dcoe/miniconda3/envs/python3.10/lib/python3.10/site-packages/mirage/config/dq_init.cfg',\n",
       "  'sat_configfile': '/Users/dcoe/miniconda3/envs/python3.10/lib/python3.10/site-packages/mirage/config/saturation.cfg',\n",
       "  'superbias_configfile': '/Users/dcoe/miniconda3/envs/python3.10/lib/python3.10/site-packages/mirage/config/superbias.cfg',\n",
       "  'refpix_configfile': '/Users/dcoe/miniconda3/envs/python3.10/lib/python3.10/site-packages/mirage/config/refpix.cfg',\n",
       "  'linear_configfile': '/Users/dcoe/miniconda3/envs/python3.10/lib/python3.10/site-packages/mirage/config/linearity.cfg'},\n",
       " 'Output': {'directory': '/Users/dcoe/NIRCam/MIRAGE/2022April/images/F277W',\n",
       "  'file': 'jw01433020001_01101_00004_nrcb5_uncal.fits',\n",
       "  'datatype': 'raw',\n",
       "  'format': 'DMS',\n",
       "  'save_intermediates': False,\n",
       "  'grism_source_image': False,\n",
       "  'unsigned': True,\n",
       "  'dmsOrient': True,\n",
       "  'program_number': 795,\n",
       "  'title': 'Physical Properties of the Triply-Lensed z = 11 Galaxy',\n",
       "  'PI_Name': 'Dan Coe',\n",
       "  'Proposal_category': 'GO',\n",
       "  'Science_category': 'Galaxies',\n",
       "  'target_name': 'MACS0647+7015',\n",
       "  'target_ra': 101.95833,\n",
       "  'target_dec': 70.24861,\n",
       "  'observation_number': '020',\n",
       "  'observation_label': 'NIRCam Imaging',\n",
       "  'visit_number': '001',\n",
       "  'visit_group': '01',\n",
       "  'visit_id': '01433020001',\n",
       "  'sequence_id': '1',\n",
       "  'activity_id': '01',\n",
       "  'exposure_number': '00004',\n",
       "  'obs_id': 'V01433020001P0000000001101',\n",
       "  'date_obs': '2022-10-31',\n",
       "  'time_obs': '02:55:56.784',\n",
       "  'primary_dither_type': 'INTRAMODULEBOX',\n",
       "  'total_primary_dither_positions': 4,\n",
       "  'primary_dither_position': 4,\n",
       "  'subpix_dither_type': 'STANDARD',\n",
       "  'total_subpix_dither_positions': 1,\n",
       "  'subpix_dither_position': 1,\n",
       "  'xoffset': -82.9,\n",
       "  'yoffset': -2.9}}"
      ]
     },
     "execution_count": 18,
     "metadata": {},
     "output_type": "execute_result"
    }
   ],
   "source": [
    "# Print info about these files: filter and detector\n",
    "for yamlfile in yfiles:\n",
    "    with open(yamlfile, 'r') as infile:\n",
    "        params = yaml.safe_load(infile)\n",
    "    filt = params['Readout']['filter']\n",
    "    detector = params['Readout']['array_name'][3:5]\n",
    "    #if detector == 'A2':  # bad dark\n",
    "    #    break\n",
    "        \n",
    "params"
   ]
  },
  {
   "cell_type": "code",
   "execution_count": 19,
   "metadata": {},
   "outputs": [
    {
     "data": {
      "text/plain": [
       "4"
      ]
     },
     "execution_count": 19,
     "metadata": {},
     "output_type": "execute_result"
    }
   ],
   "source": [
    "int(params['Output']['exposure_number'])"
   ]
  },
  {
   "cell_type": "code",
   "execution_count": 20,
   "metadata": {},
   "outputs": [],
   "source": [
    "if   module_to_process == 'A':\n",
    "    yfiles = [yfile for yfile in yfiles if '_nrca' in yfile]  # Select only images in NIRCam Module A\n",
    "elif module_to_process == 'B':\n",
    "    yfiles = [yfile for yfile in yfiles if '_nrcb' in yfile]  # Select only images in NIRCam Module B\n",
    "\n",
    "#a5files = [yfile for yfile in yfiles if 'a5.' in yfile] # Select only Module A Long Wavelength images: detector A5"
   ]
  },
  {
   "cell_type": "code",
   "execution_count": 21,
   "metadata": {},
   "outputs": [],
   "source": [
    "#exposures_to_process = [1]"
   ]
  },
  {
   "cell_type": "code",
   "execution_count": 22,
   "metadata": {},
   "outputs": [
    {
     "data": {
      "text/plain": [
       "4"
      ]
     },
     "execution_count": 22,
     "metadata": {},
     "output_type": "execute_result"
    }
   ],
   "source": [
    "# Select filter observations\n",
    "yamls_to_process = []\n",
    "for yamlfile in yfiles:\n",
    "    with open(yamlfile, 'r') as infile:\n",
    "        params = yaml.safe_load(infile)\n",
    "    yaml_filt = params['Readout']['filter']\n",
    "    obs_num = params['Output']['observation_number']\n",
    "    if obs_num in obs_to_process:\n",
    "        if yaml_filt == filt_to_process:\n",
    "            if (exposures_to_process == 'all') or (int(params['Output']['exposure_number']) in exposures_to_process):\n",
    "                yamls_to_process.append(yamlfile)\n",
    "        \n",
    "len(yamls_to_process)"
   ]
  },
  {
   "cell_type": "code",
   "execution_count": 23,
   "metadata": {},
   "outputs": [
    {
     "data": {
      "text/plain": [
       "['./yaml/F277W/jw01433010001_01101_00009_nrca5.yaml',\n",
       " './yaml/F277W/jw01433010001_01101_00010_nrca5.yaml',\n",
       " './yaml/F277W/jw01433010001_01101_00011_nrca5.yaml',\n",
       " './yaml/F277W/jw01433010001_01101_00012_nrca5.yaml']"
      ]
     },
     "execution_count": 23,
     "metadata": {},
     "output_type": "execute_result"
    }
   ],
   "source": [
    "yamls_to_process"
   ]
  },
  {
   "cell_type": "code",
   "execution_count": 24,
   "metadata": {},
   "outputs": [],
   "source": [
    "# Only create images that haven't been created already\n",
    "yamls = np.sort(yamls_to_process)\n",
    "yamls_to_process = []\n",
    "for yamlfile in yamls:\n",
    "    outfits = yamlfile.replace('.yaml', '_uncal.fits')\n",
    "    already_did_it = os.path.exists(outfits)\n",
    "    havent_done_it_yet = not already_did_it\n",
    "    if havent_done_it_yet:\n",
    "        yamls_to_process.append(yamlfile)"
   ]
  },
  {
   "cell_type": "code",
   "execution_count": 25,
   "metadata": {},
   "outputs": [
    {
     "data": {
      "text/plain": [
       "4"
      ]
     },
     "execution_count": 25,
     "metadata": {},
     "output_type": "execute_result"
    }
   ],
   "source": [
    "len(yamls_to_process) "
   ]
  },
  {
   "cell_type": "code",
   "execution_count": 26,
   "metadata": {},
   "outputs": [
    {
     "data": {
      "text/plain": [
       "array(['./yaml/F277W/jw01433010001_01101_00009_nrca5.yaml',\n",
       "       './yaml/F277W/jw01433010001_01101_00010_nrca5.yaml',\n",
       "       './yaml/F277W/jw01433010001_01101_00011_nrca5.yaml',\n",
       "       './yaml/F277W/jw01433010001_01101_00012_nrca5.yaml'], dtype='<U49')"
      ]
     },
     "execution_count": 26,
     "metadata": {},
     "output_type": "execute_result"
    }
   ],
   "source": [
    "yamls_to_process = np.sort(yamls_to_process)\n",
    "yamls_to_process"
   ]
  },
  {
   "cell_type": "markdown",
   "metadata": {},
   "source": [
    "# Create the simulated images (will take a while)"
   ]
  },
  {
   "cell_type": "code",
   "execution_count": 28,
   "metadata": {},
   "outputs": [
    {
     "name": "stdout",
     "output_type": "stream",
     "text": [
      "./yaml/F277W/jw01433010001_01101_00009_nrca5.yaml\n",
      "2022-04-21 23:23:18,903 - mirage.imaging_simulator - INFO - \n"
     ]
    },
    {
     "name": "stderr",
     "output_type": "stream",
     "text": [
      "2022-04-21 23:23:18,903 - stpipe - INFO - \n"
     ]
    },
    {
     "name": "stdout",
     "output_type": "stream",
     "text": [
      "2022-04-21 23:23:18,903 - stpipe - INFO - \n",
      "2022-04-21 23:23:18,910 - mirage.imaging_simulator - INFO - \n"
     ]
    },
    {
     "name": "stderr",
     "output_type": "stream",
     "text": [
      "2022-04-21 23:23:18,910 - stpipe - INFO - \n"
     ]
    },
    {
     "name": "stdout",
     "output_type": "stream",
     "text": [
      "2022-04-21 23:23:18,910 - stpipe - INFO - \n",
      "2022-04-21 23:23:18,916 - mirage.imaging_simulator - INFO - Running imaging_simulator....\n"
     ]
    },
    {
     "name": "stderr",
     "output_type": "stream",
     "text": [
      "2022-04-21 23:23:18,916 - stpipe - INFO - Running imaging_simulator....\n"
     ]
    },
    {
     "name": "stdout",
     "output_type": "stream",
     "text": [
      "2022-04-21 23:23:18,916 - stpipe - INFO - Running imaging_simulator....\n",
      "2022-04-21 23:23:18,921 - mirage.imaging_simulator - INFO - \n"
     ]
    },
    {
     "name": "stderr",
     "output_type": "stream",
     "text": [
      "2022-04-21 23:23:18,921 - stpipe - INFO - \n"
     ]
    },
    {
     "name": "stdout",
     "output_type": "stream",
     "text": [
      "2022-04-21 23:23:18,921 - stpipe - INFO - \n",
      "2022-04-21 23:23:18,926 - mirage.imaging_simulator - INFO - using parameter file: ./yaml/F277W/jw01433010001_01101_00009_nrca5.yaml\n"
     ]
    },
    {
     "name": "stderr",
     "output_type": "stream",
     "text": [
      "2022-04-21 23:23:18,926 - stpipe - INFO - using parameter file: ./yaml/F277W/jw01433010001_01101_00009_nrca5.yaml\n"
     ]
    },
    {
     "name": "stdout",
     "output_type": "stream",
     "text": [
      "2022-04-21 23:23:18,926 - stpipe - INFO - using parameter file: ./yaml/F277W/jw01433010001_01101_00009_nrca5.yaml\n",
      "2022-04-21 23:23:19,020 - mirage.seed_image.catalog_seed_image - INFO - \n"
     ]
    },
    {
     "name": "stderr",
     "output_type": "stream",
     "text": [
      "2022-04-21 23:23:19,020 - stpipe - INFO - \n"
     ]
    },
    {
     "name": "stdout",
     "output_type": "stream",
     "text": [
      "2022-04-21 23:23:19,020 - stpipe - INFO - \n",
      "2022-04-21 23:23:19,027 - mirage.seed_image.catalog_seed_image - INFO - \n"
     ]
    },
    {
     "name": "stderr",
     "output_type": "stream",
     "text": [
      "2022-04-21 23:23:19,027 - stpipe - INFO - \n"
     ]
    },
    {
     "name": "stdout",
     "output_type": "stream",
     "text": [
      "2022-04-21 23:23:19,027 - stpipe - INFO - \n",
      "2022-04-21 23:23:19,033 - mirage.seed_image.catalog_seed_image - INFO - Running catalog_seed_image..\n"
     ]
    },
    {
     "name": "stderr",
     "output_type": "stream",
     "text": [
      "2022-04-21 23:23:19,033 - stpipe - INFO - Running catalog_seed_image..\n"
     ]
    },
    {
     "name": "stdout",
     "output_type": "stream",
     "text": [
      "2022-04-21 23:23:19,033 - stpipe - INFO - Running catalog_seed_image..\n",
      "2022-04-21 23:23:19,038 - mirage.seed_image.catalog_seed_image - INFO - \n"
     ]
    },
    {
     "name": "stderr",
     "output_type": "stream",
     "text": [
      "2022-04-21 23:23:19,038 - stpipe - INFO - \n"
     ]
    },
    {
     "name": "stdout",
     "output_type": "stream",
     "text": [
      "2022-04-21 23:23:19,038 - stpipe - INFO - \n",
      "2022-04-21 23:23:19,044 - mirage.seed_image.catalog_seed_image - INFO - Reading parameter file: ./yaml/F277W/jw01433010001_01101_00009_nrca5.yaml\n"
     ]
    },
    {
     "name": "stderr",
     "output_type": "stream",
     "text": [
      "2022-04-21 23:23:19,044 - stpipe - INFO - Reading parameter file: ./yaml/F277W/jw01433010001_01101_00009_nrca5.yaml\n"
     ]
    },
    {
     "name": "stdout",
     "output_type": "stream",
     "text": [
      "2022-04-21 23:23:19,044 - stpipe - INFO - Reading parameter file: ./yaml/F277W/jw01433010001_01101_00009_nrca5.yaml\n",
      "2022-04-21 23:23:19,049 - mirage.seed_image.catalog_seed_image - INFO - \n"
     ]
    },
    {
     "name": "stderr",
     "output_type": "stream",
     "text": [
      "2022-04-21 23:23:19,049 - stpipe - INFO - \n"
     ]
    },
    {
     "name": "stdout",
     "output_type": "stream",
     "text": [
      "2022-04-21 23:23:19,049 - stpipe - INFO - \n",
      "2022-04-21 23:23:19,054 - mirage.seed_image.catalog_seed_image - INFO - Original log file name: ./mirage_latest.log\n"
     ]
    },
    {
     "name": "stderr",
     "output_type": "stream",
     "text": [
      "2022-04-21 23:23:19,054 - stpipe - INFO - Original log file name: ./mirage_latest.log\n"
     ]
    },
    {
     "name": "stdout",
     "output_type": "stream",
     "text": [
      "2022-04-21 23:23:19,054 - stpipe - INFO - Original log file name: ./mirage_latest.log\n",
      "2022-04-21 23:23:24,679 - mirage.utils.utils.full_paths - INFO - From CRDS, found /Users/dcoe/crds_cache/references/jwst/nircam/jwst_nircam_mask_0052.fits as the badpixmask reference file.\n"
     ]
    },
    {
     "name": "stderr",
     "output_type": "stream",
     "text": [
      "2022-04-21 23:23:24,679 - stpipe - INFO - From CRDS, found /Users/dcoe/crds_cache/references/jwst/nircam/jwst_nircam_mask_0052.fits as the badpixmask reference file.\n"
     ]
    },
    {
     "name": "stdout",
     "output_type": "stream",
     "text": [
      "2022-04-21 23:23:24,679 - stpipe - INFO - From CRDS, found /Users/dcoe/crds_cache/references/jwst/nircam/jwst_nircam_mask_0052.fits as the badpixmask reference file.\n",
      "2022-04-21 23:23:24,686 - mirage.utils.utils.full_paths - INFO - From CRDS, found /Users/dcoe/crds_cache/references/jwst/nircam/jwst_nircam_superbias_0022.fits as the superbias reference file.\n"
     ]
    },
    {
     "name": "stderr",
     "output_type": "stream",
     "text": [
      "2022-04-21 23:23:24,686 - stpipe - INFO - From CRDS, found /Users/dcoe/crds_cache/references/jwst/nircam/jwst_nircam_superbias_0022.fits as the superbias reference file.\n"
     ]
    },
    {
     "name": "stdout",
     "output_type": "stream",
     "text": [
      "2022-04-21 23:23:24,686 - stpipe - INFO - From CRDS, found /Users/dcoe/crds_cache/references/jwst/nircam/jwst_nircam_superbias_0022.fits as the superbias reference file.\n",
      "2022-04-21 23:23:24,692 - mirage.utils.utils.full_paths - INFO - From CRDS, found /Users/dcoe/crds_cache/references/jwst/nircam/jwst_nircam_linearity_0052.fits as the linearity reference file.\n"
     ]
    },
    {
     "name": "stderr",
     "output_type": "stream",
     "text": [
      "2022-04-21 23:23:24,692 - stpipe - INFO - From CRDS, found /Users/dcoe/crds_cache/references/jwst/nircam/jwst_nircam_linearity_0052.fits as the linearity reference file.\n"
     ]
    },
    {
     "name": "stdout",
     "output_type": "stream",
     "text": [
      "2022-04-21 23:23:24,692 - stpipe - INFO - From CRDS, found /Users/dcoe/crds_cache/references/jwst/nircam/jwst_nircam_linearity_0052.fits as the linearity reference file.\n"
     ]
    },
    {
     "name": "stderr",
     "output_type": "stream",
     "text": [
      "CRDS - INFO -  Fetching  /Users/dcoe/crds_cache/references/jwst/nircam/jwst_nircam_saturation_0091.fits   33.6 M bytes  (1 / 1 files) (0 / 33.6 M bytes)\n"
     ]
    },
    {
     "name": "stdout",
     "output_type": "stream",
     "text": [
      "2022-04-21 23:23:34,723 - mirage.utils.utils.full_paths - INFO - From CRDS, found /Users/dcoe/crds_cache/references/jwst/nircam/jwst_nircam_saturation_0091.fits as the saturation reference file.\n"
     ]
    },
    {
     "name": "stderr",
     "output_type": "stream",
     "text": [
      "2022-04-21 23:23:34,723 - stpipe - INFO - From CRDS, found /Users/dcoe/crds_cache/references/jwst/nircam/jwst_nircam_saturation_0091.fits as the saturation reference file.\n"
     ]
    },
    {
     "name": "stdout",
     "output_type": "stream",
     "text": [
      "2022-04-21 23:23:34,723 - stpipe - INFO - From CRDS, found /Users/dcoe/crds_cache/references/jwst/nircam/jwst_nircam_saturation_0091.fits as the saturation reference file.\n",
      "2022-04-21 23:23:34,729 - mirage.utils.utils.full_paths - INFO - From CRDS, found /Users/dcoe/crds_cache/references/jwst/nircam/jwst_nircam_gain_0056.fits as the gain reference file.\n"
     ]
    },
    {
     "name": "stderr",
     "output_type": "stream",
     "text": [
      "2022-04-21 23:23:34,729 - stpipe - INFO - From CRDS, found /Users/dcoe/crds_cache/references/jwst/nircam/jwst_nircam_gain_0056.fits as the gain reference file.\n"
     ]
    },
    {
     "name": "stdout",
     "output_type": "stream",
     "text": [
      "2022-04-21 23:23:34,729 - stpipe - INFO - From CRDS, found /Users/dcoe/crds_cache/references/jwst/nircam/jwst_nircam_gain_0056.fits as the gain reference file.\n",
      "2022-04-21 23:23:34,735 - mirage.utils.utils.full_paths - INFO - From CRDS, found /Users/dcoe/crds_cache/references/jwst/nircam/jwst_nircam_flat_0266.fits as the pixelflat reference file.\n"
     ]
    },
    {
     "name": "stderr",
     "output_type": "stream",
     "text": [
      "2022-04-21 23:23:34,735 - stpipe - INFO - From CRDS, found /Users/dcoe/crds_cache/references/jwst/nircam/jwst_nircam_flat_0266.fits as the pixelflat reference file.\n"
     ]
    },
    {
     "name": "stdout",
     "output_type": "stream",
     "text": [
      "2022-04-21 23:23:34,735 - stpipe - INFO - From CRDS, found /Users/dcoe/crds_cache/references/jwst/nircam/jwst_nircam_flat_0266.fits as the pixelflat reference file.\n",
      "2022-04-21 23:23:34,741 - mirage.utils.utils.full_paths - INFO - From CRDS, found /Users/dcoe/crds_cache/references/jwst/nircam/jwst_nircam_ipc_0028.fits as the ipc reference file.\n"
     ]
    },
    {
     "name": "stderr",
     "output_type": "stream",
     "text": [
      "2022-04-21 23:23:34,741 - stpipe - INFO - From CRDS, found /Users/dcoe/crds_cache/references/jwst/nircam/jwst_nircam_ipc_0028.fits as the ipc reference file.\n"
     ]
    },
    {
     "name": "stdout",
     "output_type": "stream",
     "text": [
      "2022-04-21 23:23:34,741 - stpipe - INFO - From CRDS, found /Users/dcoe/crds_cache/references/jwst/nircam/jwst_nircam_ipc_0028.fits as the ipc reference file.\n",
      "2022-04-21 23:23:34,746 - mirage.utils.utils.full_paths - INFO - Found an existing inverted kernel for this IPC file: /Users/dcoe/crds_cache/references/jwst/nircam/Kernel_to_add_IPC_effects_from_jwst_nircam_ipc_0028.fits\n"
     ]
    },
    {
     "name": "stderr",
     "output_type": "stream",
     "text": [
      "2022-04-21 23:23:34,746 - stpipe - INFO - Found an existing inverted kernel for this IPC file: /Users/dcoe/crds_cache/references/jwst/nircam/Kernel_to_add_IPC_effects_from_jwst_nircam_ipc_0028.fits\n"
     ]
    },
    {
     "name": "stdout",
     "output_type": "stream",
     "text": [
      "2022-04-21 23:23:34,746 - stpipe - INFO - Found an existing inverted kernel for this IPC file: /Users/dcoe/crds_cache/references/jwst/nircam/Kernel_to_add_IPC_effects_from_jwst_nircam_ipc_0028.fits\n"
     ]
    },
    {
     "name": "stderr",
     "output_type": "stream",
     "text": [
      "CRDS - INFO -  Fetching  /Users/dcoe/crds_cache/references/jwst/nircam/jwst_nircam_distortion_0133.asdf   10.0 K bytes  (1 / 1 files) (0 / 10.0 K bytes)\n"
     ]
    },
    {
     "name": "stdout",
     "output_type": "stream",
     "text": [
      "2022-04-21 23:23:35,477 - mirage.utils.utils.full_paths - INFO - From CRDS, found /Users/dcoe/crds_cache/references/jwst/nircam/jwst_nircam_distortion_0133.asdf as the astrometric reference file.\n"
     ]
    },
    {
     "name": "stderr",
     "output_type": "stream",
     "text": [
      "2022-04-21 23:23:35,477 - stpipe - INFO - From CRDS, found /Users/dcoe/crds_cache/references/jwst/nircam/jwst_nircam_distortion_0133.asdf as the astrometric reference file.\n"
     ]
    },
    {
     "name": "stdout",
     "output_type": "stream",
     "text": [
      "2022-04-21 23:23:35,477 - stpipe - INFO - From CRDS, found /Users/dcoe/crds_cache/references/jwst/nircam/jwst_nircam_distortion_0133.asdf as the astrometric reference file.\n",
      "2022-04-21 23:23:35,488 - mirage.utils.utils.full_paths - INFO - From CRDS, found /Users/dcoe/crds_cache/references/jwst/nircam/jwst_nircam_area_0015.fits as the pixelAreaMap reference file.\n"
     ]
    },
    {
     "name": "stderr",
     "output_type": "stream",
     "text": [
      "2022-04-21 23:23:35,488 - stpipe - INFO - From CRDS, found /Users/dcoe/crds_cache/references/jwst/nircam/jwst_nircam_area_0015.fits as the pixelAreaMap reference file.\n"
     ]
    },
    {
     "name": "stdout",
     "output_type": "stream",
     "text": [
      "2022-04-21 23:23:35,488 - stpipe - INFO - From CRDS, found /Users/dcoe/crds_cache/references/jwst/nircam/jwst_nircam_area_0015.fits as the pixelAreaMap reference file.\n",
      "2022-04-21 23:23:35,494 - mirage.reference_files.utils.get_transmission_file - INFO - POM Transmission filename: None\n"
     ]
    },
    {
     "name": "stderr",
     "output_type": "stream",
     "text": [
      "2022-04-21 23:23:35,494 - stpipe - INFO - POM Transmission filename: None\n"
     ]
    },
    {
     "name": "stdout",
     "output_type": "stream",
     "text": [
      "2022-04-21 23:23:35,494 - stpipe - INFO - POM Transmission filename: None\n",
      "2022-04-21 23:23:35,499 - mirage.utils.utils.full_paths - INFO - From grism library, found None as the POM transmission file.\n"
     ]
    },
    {
     "name": "stderr",
     "output_type": "stream",
     "text": [
      "2022-04-21 23:23:35,499 - stpipe - INFO - From grism library, found None as the POM transmission file.\n"
     ]
    },
    {
     "name": "stdout",
     "output_type": "stream",
     "text": [
      "2022-04-21 23:23:35,499 - stpipe - INFO - From grism library, found None as the POM transmission file.\n",
      "2022-04-21 23:23:35,506 - mirage.utils.utils.full_paths - INFO - From CRDS, found /Users/dcoe/crds_cache/references/jwst/nircam/jwst_nircam_photom_0092.fits as the photom reference file.\n"
     ]
    },
    {
     "name": "stderr",
     "output_type": "stream",
     "text": [
      "2022-04-21 23:23:35,506 - stpipe - INFO - From CRDS, found /Users/dcoe/crds_cache/references/jwst/nircam/jwst_nircam_photom_0092.fits as the photom reference file.\n"
     ]
    },
    {
     "name": "stdout",
     "output_type": "stream",
     "text": [
      "2022-04-21 23:23:35,506 - stpipe - INFO - From CRDS, found /Users/dcoe/crds_cache/references/jwst/nircam/jwst_nircam_photom_0092.fits as the photom reference file.\n",
      "2022-04-21 23:23:35,599 - mirage.seed_image.catalog_seed_image - INFO - Requested readout pattern SHALLOW4 is valid. Using the nframe = 4 and nskip = 1\n"
     ]
    },
    {
     "name": "stderr",
     "output_type": "stream",
     "text": [
      "2022-04-21 23:23:35,599 - stpipe - INFO - Requested readout pattern SHALLOW4 is valid. Using the nframe = 4 and nskip = 1\n"
     ]
    },
    {
     "name": "stdout",
     "output_type": "stream",
     "text": [
      "2022-04-21 23:23:35,599 - stpipe - INFO - Requested readout pattern SHALLOW4 is valid. Using the nframe = 4 and nskip = 1\n",
      "2022-04-21 23:23:35,603 - mirage.seed_image.catalog_seed_image - INFO - No point source catalog provided in yaml file.\n"
     ]
    },
    {
     "name": "stderr",
     "output_type": "stream",
     "text": [
      "2022-04-21 23:23:35,603 - stpipe - INFO - No point source catalog provided in yaml file.\n"
     ]
    },
    {
     "name": "stdout",
     "output_type": "stream",
     "text": [
      "2022-04-21 23:23:35,603 - stpipe - INFO - No point source catalog provided in yaml file.\n",
      "2022-04-21 23:23:36,554 - mirage.seed_image.catalog_seed_image - INFO - SIAF: Requested NRCA5_FULL   got NRCA5_FULL\n"
     ]
    },
    {
     "name": "stderr",
     "output_type": "stream",
     "text": [
      "2022-04-21 23:23:36,554 - stpipe - INFO - SIAF: Requested NRCA5_FULL   got NRCA5_FULL\n"
     ]
    },
    {
     "name": "stdout",
     "output_type": "stream",
     "text": [
      "2022-04-21 23:23:36,554 - stpipe - INFO - SIAF: Requested NRCA5_FULL   got NRCA5_FULL\n",
      "2022-04-21 23:23:36,558 - mirage.seed_image.catalog_seed_image - INFO - Calculating background rate using jwst_background based on medium level\n"
     ]
    },
    {
     "name": "stderr",
     "output_type": "stream",
     "text": [
      "2022-04-21 23:23:36,558 - stpipe - INFO - Calculating background rate using jwst_background based on medium level\n"
     ]
    },
    {
     "name": "stdout",
     "output_type": "stream",
     "text": [
      "2022-04-21 23:23:36,558 - stpipe - INFO - Calculating background rate using jwst_background based on medium level\n",
      "2022-04-21 23:23:36,564 - mirage.seed_image.catalog_seed_image - INFO - Using /Users/dcoe/miniconda3/envs/python3.10/lib/python3.10/site-packages/mirage/config/F277W_CLEAR_nircam_plus_ote_throughput_moda_sorted.txt filter throughput file for background calculation.\n"
     ]
    },
    {
     "name": "stderr",
     "output_type": "stream",
     "text": [
      "2022-04-21 23:23:36,564 - stpipe - INFO - Using /Users/dcoe/miniconda3/envs/python3.10/lib/python3.10/site-packages/mirage/config/F277W_CLEAR_nircam_plus_ote_throughput_moda_sorted.txt filter throughput file for background calculation.\n"
     ]
    },
    {
     "name": "stdout",
     "output_type": "stream",
     "text": [
      "2022-04-21 23:23:36,564 - stpipe - INFO - Using /Users/dcoe/miniconda3/envs/python3.10/lib/python3.10/site-packages/mirage/config/F277W_CLEAR_nircam_plus_ote_throughput_moda_sorted.txt filter throughput file for background calculation.\n",
      "2022-04-21 23:23:37,722 - mirage.seed_image.catalog_seed_image - INFO - Background rate determined using medium level: 0.2699153975533858\n"
     ]
    },
    {
     "name": "stderr",
     "output_type": "stream",
     "text": [
      "2022-04-21 23:23:37,722 - stpipe - INFO - Background rate determined using medium level: 0.2699153975533858\n"
     ]
    },
    {
     "name": "stdout",
     "output_type": "stream",
     "text": [
      "2022-04-21 23:23:37,722 - stpipe - INFO - Background rate determined using medium level: 0.2699153975533858\n",
      "2022-04-21 23:23:37,922 - mirage.seed_image.catalog_seed_image - INFO - No transmission file given. Assuming full transmission for all pixels, not including flat field effects. (no e.g. occulters blocking any pixels).\n"
     ]
    },
    {
     "name": "stderr",
     "output_type": "stream",
     "text": [
      "2022-04-21 23:23:37,922 - stpipe - INFO - No transmission file given. Assuming full transmission for all pixels, not including flat field effects. (no e.g. occulters blocking any pixels).\n"
     ]
    },
    {
     "name": "stdout",
     "output_type": "stream",
     "text": [
      "2022-04-21 23:23:37,922 - stpipe - INFO - No transmission file given. Assuming full transmission for all pixels, not including flat field effects. (no e.g. occulters blocking any pixels).\n",
      "2022-04-21 23:23:37,958 - mirage.seed_image.catalog_seed_image - INFO - XXXXXXXXXXXXXXXXXXXXXXXXXXXXXXXXXXXXXXXXXXXXXXXXXXXX\n"
     ]
    },
    {
     "name": "stderr",
     "output_type": "stream",
     "text": [
      "2022-04-21 23:23:37,958 - stpipe - INFO - XXXXXXXXXXXXXXXXXXXXXXXXXXXXXXXXXXXXXXXXXXXXXXXXXXXX\n"
     ]
    },
    {
     "name": "stdout",
     "output_type": "stream",
     "text": [
      "2022-04-21 23:23:37,958 - stpipe - INFO - XXXXXXXXXXXXXXXXXXXXXXXXXXXXXXXXXXXXXXXXXXXXXXXXXXXX\n",
      "2022-04-21 23:23:37,963 - mirage.seed_image.catalog_seed_image - INFO - Seed image output dimensions (x, y) are: (2048, 2048)\n"
     ]
    },
    {
     "name": "stderr",
     "output_type": "stream",
     "text": [
      "2022-04-21 23:23:37,963 - stpipe - INFO - Seed image output dimensions (x, y) are: (2048, 2048)\n"
     ]
    },
    {
     "name": "stdout",
     "output_type": "stream",
     "text": [
      "2022-04-21 23:23:37,963 - stpipe - INFO - Seed image output dimensions (x, y) are: (2048, 2048)\n",
      "2022-04-21 23:23:37,967 - mirage.seed_image.catalog_seed_image - INFO - XXXXXXXXXXXXXXXXXXXXXXXXXXXXXXXXXXXXXXXXXXXXXXXXXXXX\n"
     ]
    },
    {
     "name": "stderr",
     "output_type": "stream",
     "text": [
      "2022-04-21 23:23:37,967 - stpipe - INFO - XXXXXXXXXXXXXXXXXXXXXXXXXXXXXXXXXXXXXXXXXXXXXXXXXXXX\n"
     ]
    },
    {
     "name": "stdout",
     "output_type": "stream",
     "text": [
      "2022-04-21 23:23:37,967 - stpipe - INFO - XXXXXXXXXXXXXXXXXXXXXXXXXXXXXXXXXXXXXXXXXXXXXXXXXXXX\n",
      "2022-04-21 23:23:37,972 - mirage.seed_image.catalog_seed_image - INFO - Frametime is 10.736770000000002\n"
     ]
    },
    {
     "name": "stderr",
     "output_type": "stream",
     "text": [
      "2022-04-21 23:23:37,972 - stpipe - INFO - Frametime is 10.736770000000002\n"
     ]
    },
    {
     "name": "stdout",
     "output_type": "stream",
     "text": [
      "2022-04-21 23:23:37,972 - stpipe - INFO - Frametime is 10.736770000000002\n",
      "2022-04-21 23:23:38,419 - mirage.psf.psf_selection.get_gridded_psf_library - INFO - PSFs will be generated using: /ifs/jwst/wit/mirage_data/nircam/gridded_psf_library/nircam_nrca5_f277w_clear_fovp43_samp5_npsf16_predicted_realization0.fits\n"
     ]
    },
    {
     "name": "stderr",
     "output_type": "stream",
     "text": [
      "2022-04-21 23:23:38,419 - stpipe - INFO - PSFs will be generated using: /ifs/jwst/wit/mirage_data/nircam/gridded_psf_library/nircam_nrca5_f277w_clear_fovp43_samp5_npsf16_predicted_realization0.fits\n"
     ]
    },
    {
     "name": "stdout",
     "output_type": "stream",
     "text": [
      "2022-04-21 23:23:38,419 - stpipe - INFO - PSFs will be generated using: /ifs/jwst/wit/mirage_data/nircam/gridded_psf_library/nircam_nrca5_f277w_clear_fovp43_samp5_npsf16_predicted_realization0.fits\n",
      "2022-04-21 23:23:41,063 - mirage.psf.psf_selection.get_psf_wings - INFO - PSF wings will be from: nircam_nrca5_f277w_clear_fovp401_samp1_predicted_realization0.fits\n"
     ]
    },
    {
     "name": "stderr",
     "output_type": "stream",
     "text": [
      "2022-04-21 23:23:41,063 - stpipe - INFO - PSF wings will be from: nircam_nrca5_f277w_clear_fovp401_samp1_predicted_realization0.fits\n"
     ]
    },
    {
     "name": "stdout",
     "output_type": "stream",
     "text": [
      "2022-04-21 23:23:41,063 - stpipe - INFO - PSF wings will be from: nircam_nrca5_f277w_clear_fovp401_samp1_predicted_realization0.fits\n",
      "2022-04-21 23:23:41,374 - mirage.seed_image.catalog_seed_image - INFO - Creating signal rate image of sidereal synthetic inputs.\n"
     ]
    },
    {
     "name": "stderr",
     "output_type": "stream",
     "text": [
      "2022-04-21 23:23:41,374 - stpipe - INFO - Creating signal rate image of sidereal synthetic inputs.\n"
     ]
    },
    {
     "name": "stdout",
     "output_type": "stream",
     "text": [
      "2022-04-21 23:23:41,374 - stpipe - INFO - Creating signal rate image of sidereal synthetic inputs.\n",
      "2022-04-21 23:23:41,407 - mirage.seed_image.catalog_seed_image - INFO - Galaxy list input positions assumed to be in units of RA and Dec.\n"
     ]
    },
    {
     "name": "stderr",
     "output_type": "stream",
     "text": [
      "2022-04-21 23:23:41,407 - stpipe - INFO - Galaxy list input positions assumed to be in units of RA and Dec.\n"
     ]
    },
    {
     "name": "stdout",
     "output_type": "stream",
     "text": [
      "2022-04-21 23:23:41,407 - stpipe - INFO - Galaxy list input positions assumed to be in units of RA and Dec.\n",
      "2022-04-21 23:23:41,411 - mirage.seed_image.catalog_seed_image - INFO - Galaxy list input radii assumed to be in units of arcsec.\n"
     ]
    },
    {
     "name": "stderr",
     "output_type": "stream",
     "text": [
      "2022-04-21 23:23:41,411 - stpipe - INFO - Galaxy list input radii assumed to be in units of arcsec.\n"
     ]
    },
    {
     "name": "stdout",
     "output_type": "stream",
     "text": [
      "2022-04-21 23:23:41,411 - stpipe - INFO - Galaxy list input radii assumed to be in units of arcsec.\n",
      "2022-04-21 23:23:41,452 - mirage.seed_image.catalog_seed_image - WARNING - WARNING: Catalog MACS0647_MIRAGE_galaxy_catalog_F277W.cat does not have a magnitude column called nircam_f277w_magnitude, but does have a generic 'magnitude' column. Continuing simulation using that.\n"
     ]
    },
    {
     "name": "stderr",
     "output_type": "stream",
     "text": [
      "2022-04-21 23:23:41,452 - stpipe - WARNING - WARNING: Catalog MACS0647_MIRAGE_galaxy_catalog_F277W.cat does not have a magnitude column called nircam_f277w_magnitude, but does have a generic 'magnitude' column. Continuing simulation using that.\n"
     ]
    },
    {
     "name": "stdout",
     "output_type": "stream",
     "text": [
      "2022-04-21 23:23:41,452 - stpipe - WARNING - WARNING: Catalog MACS0647_MIRAGE_galaxy_catalog_F277W.cat does not have a magnitude column called nircam_f277w_magnitude, but does have a generic 'magnitude' column. Continuing simulation using that.\n",
      "2022-04-21 23:23:53,711 - mirage.seed_image.catalog_seed_image - INFO - Number of galaxies found within or close to the requested aperture: 985\n"
     ]
    },
    {
     "name": "stderr",
     "output_type": "stream",
     "text": [
      "2022-04-21 23:23:53,711 - stpipe - INFO - Number of galaxies found within or close to the requested aperture: 985\n"
     ]
    },
    {
     "name": "stdout",
     "output_type": "stream",
     "text": [
      "2022-04-21 23:23:53,711 - stpipe - INFO - Number of galaxies found within or close to the requested aperture: 985\n",
      "2022-04-21 23:23:54,606 - mirage.seed_image.catalog_seed_image - INFO - Working on galaxy #20. Estimated time remaining to add all galaxies to the stamp image: 0.64 minutes. Projected finish time: 2022-04-21 23:24:33.006687\n"
     ]
    },
    {
     "name": "stderr",
     "output_type": "stream",
     "text": [
      "2022-04-21 23:23:54,606 - stpipe - INFO - Working on galaxy #20. Estimated time remaining to add all galaxies to the stamp image: 0.64 minutes. Projected finish time: 2022-04-21 23:24:33.006687\n"
     ]
    },
    {
     "name": "stdout",
     "output_type": "stream",
     "text": [
      "2022-04-21 23:23:54,606 - stpipe - INFO - Working on galaxy #20. Estimated time remaining to add all galaxies to the stamp image: 0.64 minutes. Projected finish time: 2022-04-21 23:24:33.006687\n",
      "2022-04-21 23:23:56,637 - mirage.seed_image.catalog_seed_image - INFO - Working on galaxy #100. Estimated time remaining to add all galaxies to the stamp image: 0.42 minutes. Projected finish time: 2022-04-21 23:24:21.837702\n"
     ]
    },
    {
     "name": "stderr",
     "output_type": "stream",
     "text": [
      "2022-04-21 23:23:56,637 - stpipe - INFO - Working on galaxy #100. Estimated time remaining to add all galaxies to the stamp image: 0.42 minutes. Projected finish time: 2022-04-21 23:24:21.837702\n"
     ]
    },
    {
     "name": "stdout",
     "output_type": "stream",
     "text": [
      "2022-04-21 23:23:56,637 - stpipe - INFO - Working on galaxy #100. Estimated time remaining to add all galaxies to the stamp image: 0.42 minutes. Projected finish time: 2022-04-21 23:24:21.837702\n",
      "2022-04-21 23:23:58,164 - mirage.seed_image.catalog_seed_image - INFO - Working on galaxy #200. Estimated time remaining to add all galaxies to the stamp image: 0.28 minutes. Projected finish time: 2022-04-21 23:24:14.964342\n"
     ]
    },
    {
     "name": "stderr",
     "output_type": "stream",
     "text": [
      "2022-04-21 23:23:58,164 - stpipe - INFO - Working on galaxy #200. Estimated time remaining to add all galaxies to the stamp image: 0.28 minutes. Projected finish time: 2022-04-21 23:24:14.964342\n"
     ]
    },
    {
     "name": "stdout",
     "output_type": "stream",
     "text": [
      "2022-04-21 23:23:58,164 - stpipe - INFO - Working on galaxy #200. Estimated time remaining to add all galaxies to the stamp image: 0.28 minutes. Projected finish time: 2022-04-21 23:24:14.964342\n",
      "2022-04-21 23:23:59,602 - mirage.seed_image.catalog_seed_image - INFO - Working on galaxy #300. Estimated time remaining to add all galaxies to the stamp image: 0.22 minutes. Projected finish time: 2022-04-21 23:24:12.802026\n"
     ]
    },
    {
     "name": "stderr",
     "output_type": "stream",
     "text": [
      "2022-04-21 23:23:59,602 - stpipe - INFO - Working on galaxy #300. Estimated time remaining to add all galaxies to the stamp image: 0.22 minutes. Projected finish time: 2022-04-21 23:24:12.802026\n"
     ]
    },
    {
     "name": "stdout",
     "output_type": "stream",
     "text": [
      "2022-04-21 23:23:59,602 - stpipe - INFO - Working on galaxy #300. Estimated time remaining to add all galaxies to the stamp image: 0.22 minutes. Projected finish time: 2022-04-21 23:24:12.802026\n",
      "2022-04-21 23:24:00,803 - mirage.seed_image.catalog_seed_image - INFO - Working on galaxy #400. Estimated time remaining to add all galaxies to the stamp image: 0.17 minutes. Projected finish time: 2022-04-21 23:24:11.003150\n"
     ]
    },
    {
     "name": "stderr",
     "output_type": "stream",
     "text": [
      "2022-04-21 23:24:00,803 - stpipe - INFO - Working on galaxy #400. Estimated time remaining to add all galaxies to the stamp image: 0.17 minutes. Projected finish time: 2022-04-21 23:24:11.003150\n"
     ]
    },
    {
     "name": "stdout",
     "output_type": "stream",
     "text": [
      "2022-04-21 23:24:00,803 - stpipe - INFO - Working on galaxy #400. Estimated time remaining to add all galaxies to the stamp image: 0.17 minutes. Projected finish time: 2022-04-21 23:24:11.003150\n",
      "2022-04-21 23:24:02,015 - mirage.seed_image.catalog_seed_image - INFO - Working on galaxy #500. Estimated time remaining to add all galaxies to the stamp image: 0.13 minutes. Projected finish time: 2022-04-21 23:24:09.815604\n"
     ]
    },
    {
     "name": "stderr",
     "output_type": "stream",
     "text": [
      "2022-04-21 23:24:02,015 - stpipe - INFO - Working on galaxy #500. Estimated time remaining to add all galaxies to the stamp image: 0.13 minutes. Projected finish time: 2022-04-21 23:24:09.815604\n"
     ]
    },
    {
     "name": "stdout",
     "output_type": "stream",
     "text": [
      "2022-04-21 23:24:02,015 - stpipe - INFO - Working on galaxy #500. Estimated time remaining to add all galaxies to the stamp image: 0.13 minutes. Projected finish time: 2022-04-21 23:24:09.815604\n",
      "2022-04-21 23:24:03,075 - mirage.seed_image.catalog_seed_image - INFO - Working on galaxy #600. Estimated time remaining to add all galaxies to the stamp image: 0.1 minutes. Projected finish time: 2022-04-21 23:24:09.075535\n"
     ]
    },
    {
     "name": "stderr",
     "output_type": "stream",
     "text": [
      "2022-04-21 23:24:03,075 - stpipe - INFO - Working on galaxy #600. Estimated time remaining to add all galaxies to the stamp image: 0.1 minutes. Projected finish time: 2022-04-21 23:24:09.075535\n"
     ]
    },
    {
     "name": "stdout",
     "output_type": "stream",
     "text": [
      "2022-04-21 23:24:03,075 - stpipe - INFO - Working on galaxy #600. Estimated time remaining to add all galaxies to the stamp image: 0.1 minutes. Projected finish time: 2022-04-21 23:24:09.075535\n",
      "2022-04-21 23:24:04,146 - mirage.seed_image.catalog_seed_image - INFO - Working on galaxy #700. Estimated time remaining to add all galaxies to the stamp image: 0.07 minutes. Projected finish time: 2022-04-21 23:24:08.346784\n"
     ]
    },
    {
     "name": "stderr",
     "output_type": "stream",
     "text": [
      "2022-04-21 23:24:04,146 - stpipe - INFO - Working on galaxy #700. Estimated time remaining to add all galaxies to the stamp image: 0.07 minutes. Projected finish time: 2022-04-21 23:24:08.346784\n"
     ]
    },
    {
     "name": "stdout",
     "output_type": "stream",
     "text": [
      "2022-04-21 23:24:04,146 - stpipe - INFO - Working on galaxy #700. Estimated time remaining to add all galaxies to the stamp image: 0.07 minutes. Projected finish time: 2022-04-21 23:24:08.346784\n",
      "2022-04-21 23:24:05,108 - mirage.seed_image.catalog_seed_image - INFO - Working on galaxy #800. Estimated time remaining to add all galaxies to the stamp image: 0.04 minutes. Projected finish time: 2022-04-21 23:24:07.508023\n"
     ]
    },
    {
     "name": "stderr",
     "output_type": "stream",
     "text": [
      "2022-04-21 23:24:05,108 - stpipe - INFO - Working on galaxy #800. Estimated time remaining to add all galaxies to the stamp image: 0.04 minutes. Projected finish time: 2022-04-21 23:24:07.508023\n"
     ]
    },
    {
     "name": "stdout",
     "output_type": "stream",
     "text": [
      "2022-04-21 23:24:05,108 - stpipe - INFO - Working on galaxy #800. Estimated time remaining to add all galaxies to the stamp image: 0.04 minutes. Projected finish time: 2022-04-21 23:24:07.508023\n",
      "2022-04-21 23:24:06,006 - mirage.seed_image.catalog_seed_image - INFO - Working on galaxy #900. Estimated time remaining to add all galaxies to the stamp image: 0.02 minutes. Projected finish time: 2022-04-21 23:24:07.206802\n"
     ]
    },
    {
     "name": "stderr",
     "output_type": "stream",
     "text": [
      "2022-04-21 23:24:06,006 - stpipe - INFO - Working on galaxy #900. Estimated time remaining to add all galaxies to the stamp image: 0.02 minutes. Projected finish time: 2022-04-21 23:24:07.206802\n"
     ]
    },
    {
     "name": "stdout",
     "output_type": "stream",
     "text": [
      "2022-04-21 23:24:06,006 - stpipe - INFO - Working on galaxy #900. Estimated time remaining to add all galaxies to the stamp image: 0.02 minutes. Projected finish time: 2022-04-21 23:24:07.206802\n",
      "2022-04-21 23:24:07,039 - mirage.seed_image.catalog_seed_image - INFO - Seed image is 2D.\n"
     ]
    },
    {
     "name": "stderr",
     "output_type": "stream",
     "text": [
      "2022-04-21 23:24:07,039 - stpipe - INFO - Seed image is 2D.\n"
     ]
    },
    {
     "name": "stdout",
     "output_type": "stream",
     "text": [
      "2022-04-21 23:24:07,039 - stpipe - INFO - Seed image is 2D.\n",
      "2022-04-21 23:24:07,452 - mirage.seed_image.catalog_seed_image - INFO - Simulated galaxy image and segmap saved as /Users/dcoe/NIRCam/MIRAGE/2022April/images/F277W/jw01433010001_01101_00009_nrca5_uncal_F277W_CLEAR_galaxy_seed_image.fits\n"
     ]
    },
    {
     "name": "stderr",
     "output_type": "stream",
     "text": [
      "2022-04-21 23:24:07,452 - stpipe - INFO - Simulated galaxy image and segmap saved as /Users/dcoe/NIRCam/MIRAGE/2022April/images/F277W/jw01433010001_01101_00009_nrca5_uncal_F277W_CLEAR_galaxy_seed_image.fits\n"
     ]
    },
    {
     "name": "stdout",
     "output_type": "stream",
     "text": [
      "2022-04-21 23:24:07,452 - stpipe - INFO - Simulated galaxy image and segmap saved as /Users/dcoe/NIRCam/MIRAGE/2022April/images/F277W/jw01433010001_01101_00009_nrca5_uncal_F277W_CLEAR_galaxy_seed_image.fits\n",
      "2022-04-21 23:24:07,635 - mirage.seed_image.catalog_seed_image - INFO - Multiplying seed by POM transmission image.\n"
     ]
    },
    {
     "name": "stderr",
     "output_type": "stream",
     "text": [
      "2022-04-21 23:24:07,635 - stpipe - INFO - Multiplying seed by POM transmission image.\n"
     ]
    },
    {
     "name": "stdout",
     "output_type": "stream",
     "text": [
      "2022-04-21 23:24:07,635 - stpipe - INFO - Multiplying seed by POM transmission image.\n",
      "2022-04-21 23:24:07,645 - mirage.seed_image.catalog_seed_image - INFO - Seed image is 2D.\n"
     ]
    },
    {
     "name": "stderr",
     "output_type": "stream",
     "text": [
      "2022-04-21 23:24:07,645 - stpipe - INFO - Seed image is 2D.\n"
     ]
    },
    {
     "name": "stdout",
     "output_type": "stream",
     "text": [
      "2022-04-21 23:24:07,645 - stpipe - INFO - Seed image is 2D.\n",
      "2022-04-21 23:24:08,007 - mirage.seed_image.catalog_seed_image - INFO - Final seed image and segmentation map saved as /Users/dcoe/NIRCam/MIRAGE/2022April/images/F277W/jw01433010001_01101_00009_nrca5_uncal_F277W_CLEAR_final_seed_image.fits\n"
     ]
    },
    {
     "name": "stderr",
     "output_type": "stream",
     "text": [
      "2022-04-21 23:24:08,007 - stpipe - INFO - Final seed image and segmentation map saved as /Users/dcoe/NIRCam/MIRAGE/2022April/images/F277W/jw01433010001_01101_00009_nrca5_uncal_F277W_CLEAR_final_seed_image.fits\n"
     ]
    },
    {
     "name": "stdout",
     "output_type": "stream",
     "text": [
      "2022-04-21 23:24:08,007 - stpipe - INFO - Final seed image and segmentation map saved as /Users/dcoe/NIRCam/MIRAGE/2022April/images/F277W/jw01433010001_01101_00009_nrca5_uncal_F277W_CLEAR_final_seed_image.fits\n",
      "2022-04-21 23:24:08,009 - mirage.seed_image.catalog_seed_image - INFO - Seed image, segmentation map, and metadata available as:\n"
     ]
    },
    {
     "name": "stderr",
     "output_type": "stream",
     "text": [
      "2022-04-21 23:24:08,009 - stpipe - INFO - Seed image, segmentation map, and metadata available as:\n"
     ]
    },
    {
     "name": "stdout",
     "output_type": "stream",
     "text": [
      "2022-04-21 23:24:08,009 - stpipe - INFO - Seed image, segmentation map, and metadata available as:\n",
      "2022-04-21 23:24:08,010 - mirage.seed_image.catalog_seed_image - INFO - self.seedimage, self.seed_segmap, self.seedinfo.\n"
     ]
    },
    {
     "name": "stderr",
     "output_type": "stream",
     "text": [
      "2022-04-21 23:24:08,010 - stpipe - INFO - self.seedimage, self.seed_segmap, self.seedinfo.\n"
     ]
    },
    {
     "name": "stdout",
     "output_type": "stream",
     "text": [
      "2022-04-21 23:24:08,010 - stpipe - INFO - self.seedimage, self.seed_segmap, self.seedinfo.\n",
      "2022-04-21 23:24:08,012 - mirage.seed_image.catalog_seed_image - INFO - \n"
     ]
    },
    {
     "name": "stderr",
     "output_type": "stream",
     "text": [
      "2022-04-21 23:24:08,012 - stpipe - INFO - \n"
     ]
    },
    {
     "name": "stdout",
     "output_type": "stream",
     "text": [
      "2022-04-21 23:24:08,012 - stpipe - INFO - \n",
      "2022-04-21 23:24:08,014 - mirage.seed_image.catalog_seed_image - INFO - \n"
     ]
    },
    {
     "name": "stderr",
     "output_type": "stream",
     "text": [
      "2022-04-21 23:24:08,014 - stpipe - INFO - \n"
     ]
    },
    {
     "name": "stdout",
     "output_type": "stream",
     "text": [
      "2022-04-21 23:24:08,014 - stpipe - INFO - \n",
      "2022-04-21 23:24:08,020 - mirage.imaging_simulator - INFO - Perform dark preparation:\n"
     ]
    },
    {
     "name": "stderr",
     "output_type": "stream",
     "text": [
      "2022-04-21 23:24:08,020 - stpipe - INFO - Perform dark preparation:\n"
     ]
    },
    {
     "name": "stdout",
     "output_type": "stream",
     "text": [
      "2022-04-21 23:24:08,020 - stpipe - INFO - Perform dark preparation:\n",
      "2022-04-21 23:24:08,050 - mirage.dark.dark_prep - INFO - \n"
     ]
    },
    {
     "name": "stderr",
     "output_type": "stream",
     "text": [
      "2022-04-21 23:24:08,050 - stpipe - INFO - \n"
     ]
    },
    {
     "name": "stdout",
     "output_type": "stream",
     "text": [
      "2022-04-21 23:24:08,050 - stpipe - INFO - \n",
      "2022-04-21 23:24:08,052 - mirage.dark.dark_prep - INFO - \n"
     ]
    },
    {
     "name": "stderr",
     "output_type": "stream",
     "text": [
      "2022-04-21 23:24:08,052 - stpipe - INFO - \n"
     ]
    },
    {
     "name": "stdout",
     "output_type": "stream",
     "text": [
      "2022-04-21 23:24:08,052 - stpipe - INFO - \n",
      "2022-04-21 23:24:08,054 - mirage.dark.dark_prep - INFO - Running dark_prep..\n"
     ]
    },
    {
     "name": "stderr",
     "output_type": "stream",
     "text": [
      "2022-04-21 23:24:08,054 - stpipe - INFO - Running dark_prep..\n"
     ]
    },
    {
     "name": "stdout",
     "output_type": "stream",
     "text": [
      "2022-04-21 23:24:08,054 - stpipe - INFO - Running dark_prep..\n",
      "2022-04-21 23:24:08,056 - mirage.dark.dark_prep - INFO - \n"
     ]
    },
    {
     "name": "stderr",
     "output_type": "stream",
     "text": [
      "2022-04-21 23:24:08,056 - stpipe - INFO - \n"
     ]
    },
    {
     "name": "stdout",
     "output_type": "stream",
     "text": [
      "2022-04-21 23:24:08,056 - stpipe - INFO - \n",
      "2022-04-21 23:24:08,058 - mirage.dark.dark_prep - INFO - Reading parameter file: ./yaml/F277W/jw01433010001_01101_00009_nrca5.yaml\n"
     ]
    },
    {
     "name": "stderr",
     "output_type": "stream",
     "text": [
      "2022-04-21 23:24:08,058 - stpipe - INFO - Reading parameter file: ./yaml/F277W/jw01433010001_01101_00009_nrca5.yaml\n"
     ]
    },
    {
     "name": "stdout",
     "output_type": "stream",
     "text": [
      "2022-04-21 23:24:08,058 - stpipe - INFO - Reading parameter file: ./yaml/F277W/jw01433010001_01101_00009_nrca5.yaml\n",
      "2022-04-21 23:24:08,060 - mirage.dark.dark_prep - INFO - \n"
     ]
    },
    {
     "name": "stderr",
     "output_type": "stream",
     "text": [
      "2022-04-21 23:24:08,060 - stpipe - INFO - \n"
     ]
    },
    {
     "name": "stdout",
     "output_type": "stream",
     "text": [
      "2022-04-21 23:24:08,060 - stpipe - INFO - \n",
      "2022-04-21 23:24:08,062 - mirage.dark.dark_prep - INFO - Original log file name: ./mirage_latest.log\n"
     ]
    },
    {
     "name": "stderr",
     "output_type": "stream",
     "text": [
      "2022-04-21 23:24:08,062 - stpipe - INFO - Original log file name: ./mirage_latest.log\n"
     ]
    },
    {
     "name": "stdout",
     "output_type": "stream",
     "text": [
      "2022-04-21 23:24:08,062 - stpipe - INFO - Original log file name: ./mirage_latest.log\n",
      "2022-04-21 23:24:08,065 - mirage.utils.utils.full_paths - INFO - From CRDS, found /Users/dcoe/crds_cache/references/jwst/nircam/jwst_nircam_mask_0052.fits as the badpixmask reference file.\n"
     ]
    },
    {
     "name": "stderr",
     "output_type": "stream",
     "text": [
      "2022-04-21 23:24:08,065 - stpipe - INFO - From CRDS, found /Users/dcoe/crds_cache/references/jwst/nircam/jwst_nircam_mask_0052.fits as the badpixmask reference file.\n"
     ]
    },
    {
     "name": "stdout",
     "output_type": "stream",
     "text": [
      "2022-04-21 23:24:08,065 - stpipe - INFO - From CRDS, found /Users/dcoe/crds_cache/references/jwst/nircam/jwst_nircam_mask_0052.fits as the badpixmask reference file.\n",
      "2022-04-21 23:24:08,068 - mirage.utils.utils.full_paths - INFO - From CRDS, found /Users/dcoe/crds_cache/references/jwst/nircam/jwst_nircam_superbias_0022.fits as the superbias reference file.\n"
     ]
    },
    {
     "name": "stderr",
     "output_type": "stream",
     "text": [
      "2022-04-21 23:24:08,068 - stpipe - INFO - From CRDS, found /Users/dcoe/crds_cache/references/jwst/nircam/jwst_nircam_superbias_0022.fits as the superbias reference file.\n"
     ]
    },
    {
     "name": "stdout",
     "output_type": "stream",
     "text": [
      "2022-04-21 23:24:08,068 - stpipe - INFO - From CRDS, found /Users/dcoe/crds_cache/references/jwst/nircam/jwst_nircam_superbias_0022.fits as the superbias reference file.\n",
      "2022-04-21 23:24:08,071 - mirage.utils.utils.full_paths - INFO - From CRDS, found /Users/dcoe/crds_cache/references/jwst/nircam/jwst_nircam_linearity_0052.fits as the linearity reference file.\n"
     ]
    },
    {
     "name": "stderr",
     "output_type": "stream",
     "text": [
      "2022-04-21 23:24:08,071 - stpipe - INFO - From CRDS, found /Users/dcoe/crds_cache/references/jwst/nircam/jwst_nircam_linearity_0052.fits as the linearity reference file.\n"
     ]
    },
    {
     "name": "stdout",
     "output_type": "stream",
     "text": [
      "2022-04-21 23:24:08,071 - stpipe - INFO - From CRDS, found /Users/dcoe/crds_cache/references/jwst/nircam/jwst_nircam_linearity_0052.fits as the linearity reference file.\n",
      "2022-04-21 23:24:08,074 - mirage.utils.utils.full_paths - INFO - From CRDS, found /Users/dcoe/crds_cache/references/jwst/nircam/jwst_nircam_saturation_0091.fits as the saturation reference file.\n"
     ]
    },
    {
     "name": "stderr",
     "output_type": "stream",
     "text": [
      "2022-04-21 23:24:08,074 - stpipe - INFO - From CRDS, found /Users/dcoe/crds_cache/references/jwst/nircam/jwst_nircam_saturation_0091.fits as the saturation reference file.\n"
     ]
    },
    {
     "name": "stdout",
     "output_type": "stream",
     "text": [
      "2022-04-21 23:24:08,074 - stpipe - INFO - From CRDS, found /Users/dcoe/crds_cache/references/jwst/nircam/jwst_nircam_saturation_0091.fits as the saturation reference file.\n",
      "2022-04-21 23:24:08,077 - mirage.utils.utils.full_paths - INFO - From CRDS, found /Users/dcoe/crds_cache/references/jwst/nircam/jwst_nircam_gain_0056.fits as the gain reference file.\n"
     ]
    },
    {
     "name": "stderr",
     "output_type": "stream",
     "text": [
      "2022-04-21 23:24:08,077 - stpipe - INFO - From CRDS, found /Users/dcoe/crds_cache/references/jwst/nircam/jwst_nircam_gain_0056.fits as the gain reference file.\n"
     ]
    },
    {
     "name": "stdout",
     "output_type": "stream",
     "text": [
      "2022-04-21 23:24:08,077 - stpipe - INFO - From CRDS, found /Users/dcoe/crds_cache/references/jwst/nircam/jwst_nircam_gain_0056.fits as the gain reference file.\n",
      "2022-04-21 23:24:08,080 - mirage.utils.utils.full_paths - INFO - From CRDS, found /Users/dcoe/crds_cache/references/jwst/nircam/jwst_nircam_flat_0266.fits as the pixelflat reference file.\n"
     ]
    },
    {
     "name": "stderr",
     "output_type": "stream",
     "text": [
      "2022-04-21 23:24:08,080 - stpipe - INFO - From CRDS, found /Users/dcoe/crds_cache/references/jwst/nircam/jwst_nircam_flat_0266.fits as the pixelflat reference file.\n"
     ]
    },
    {
     "name": "stdout",
     "output_type": "stream",
     "text": [
      "2022-04-21 23:24:08,080 - stpipe - INFO - From CRDS, found /Users/dcoe/crds_cache/references/jwst/nircam/jwst_nircam_flat_0266.fits as the pixelflat reference file.\n",
      "2022-04-21 23:24:08,083 - mirage.utils.utils.full_paths - INFO - From CRDS, found /Users/dcoe/crds_cache/references/jwst/nircam/jwst_nircam_ipc_0028.fits as the ipc reference file.\n"
     ]
    },
    {
     "name": "stderr",
     "output_type": "stream",
     "text": [
      "2022-04-21 23:24:08,083 - stpipe - INFO - From CRDS, found /Users/dcoe/crds_cache/references/jwst/nircam/jwst_nircam_ipc_0028.fits as the ipc reference file.\n"
     ]
    },
    {
     "name": "stdout",
     "output_type": "stream",
     "text": [
      "2022-04-21 23:24:08,083 - stpipe - INFO - From CRDS, found /Users/dcoe/crds_cache/references/jwst/nircam/jwst_nircam_ipc_0028.fits as the ipc reference file.\n",
      "2022-04-21 23:24:08,085 - mirage.utils.utils.full_paths - INFO - Found an existing inverted kernel for this IPC file: /Users/dcoe/crds_cache/references/jwst/nircam/Kernel_to_add_IPC_effects_from_jwst_nircam_ipc_0028.fits\n"
     ]
    },
    {
     "name": "stderr",
     "output_type": "stream",
     "text": [
      "2022-04-21 23:24:08,085 - stpipe - INFO - Found an existing inverted kernel for this IPC file: /Users/dcoe/crds_cache/references/jwst/nircam/Kernel_to_add_IPC_effects_from_jwst_nircam_ipc_0028.fits\n"
     ]
    },
    {
     "name": "stdout",
     "output_type": "stream",
     "text": [
      "2022-04-21 23:24:08,085 - stpipe - INFO - Found an existing inverted kernel for this IPC file: /Users/dcoe/crds_cache/references/jwst/nircam/Kernel_to_add_IPC_effects_from_jwst_nircam_ipc_0028.fits\n",
      "2022-04-21 23:24:08,088 - mirage.utils.utils.full_paths - INFO - From CRDS, found /Users/dcoe/crds_cache/references/jwst/nircam/jwst_nircam_distortion_0133.asdf as the astrometric reference file.\n"
     ]
    },
    {
     "name": "stderr",
     "output_type": "stream",
     "text": [
      "2022-04-21 23:24:08,088 - stpipe - INFO - From CRDS, found /Users/dcoe/crds_cache/references/jwst/nircam/jwst_nircam_distortion_0133.asdf as the astrometric reference file.\n"
     ]
    },
    {
     "name": "stdout",
     "output_type": "stream",
     "text": [
      "2022-04-21 23:24:08,088 - stpipe - INFO - From CRDS, found /Users/dcoe/crds_cache/references/jwst/nircam/jwst_nircam_distortion_0133.asdf as the astrometric reference file.\n",
      "2022-04-21 23:24:08,092 - mirage.utils.utils.full_paths - INFO - From CRDS, found /Users/dcoe/crds_cache/references/jwst/nircam/jwst_nircam_area_0015.fits as the pixelAreaMap reference file.\n"
     ]
    },
    {
     "name": "stderr",
     "output_type": "stream",
     "text": [
      "2022-04-21 23:24:08,092 - stpipe - INFO - From CRDS, found /Users/dcoe/crds_cache/references/jwst/nircam/jwst_nircam_area_0015.fits as the pixelAreaMap reference file.\n"
     ]
    },
    {
     "name": "stdout",
     "output_type": "stream",
     "text": [
      "2022-04-21 23:24:08,092 - stpipe - INFO - From CRDS, found /Users/dcoe/crds_cache/references/jwst/nircam/jwst_nircam_area_0015.fits as the pixelAreaMap reference file.\n",
      "2022-04-21 23:24:08,095 - mirage.reference_files.utils.get_transmission_file - INFO - POM Transmission filename: None\n"
     ]
    },
    {
     "name": "stderr",
     "output_type": "stream",
     "text": [
      "2022-04-21 23:24:08,095 - stpipe - INFO - POM Transmission filename: None\n"
     ]
    },
    {
     "name": "stdout",
     "output_type": "stream",
     "text": [
      "2022-04-21 23:24:08,095 - stpipe - INFO - POM Transmission filename: None\n",
      "2022-04-21 23:24:08,098 - mirage.utils.utils.full_paths - INFO - From grism library, found None as the POM transmission file.\n"
     ]
    },
    {
     "name": "stderr",
     "output_type": "stream",
     "text": [
      "2022-04-21 23:24:08,098 - stpipe - INFO - From grism library, found None as the POM transmission file.\n"
     ]
    },
    {
     "name": "stdout",
     "output_type": "stream",
     "text": [
      "2022-04-21 23:24:08,098 - stpipe - INFO - From grism library, found None as the POM transmission file.\n",
      "2022-04-21 23:24:08,102 - mirage.utils.utils.full_paths - INFO - From CRDS, found /Users/dcoe/crds_cache/references/jwst/nircam/jwst_nircam_photom_0092.fits as the photom reference file.\n"
     ]
    },
    {
     "name": "stderr",
     "output_type": "stream",
     "text": [
      "2022-04-21 23:24:08,102 - stpipe - INFO - From CRDS, found /Users/dcoe/crds_cache/references/jwst/nircam/jwst_nircam_photom_0092.fits as the photom reference file.\n"
     ]
    },
    {
     "name": "stdout",
     "output_type": "stream",
     "text": [
      "2022-04-21 23:24:08,102 - stpipe - INFO - From CRDS, found /Users/dcoe/crds_cache/references/jwst/nircam/jwst_nircam_photom_0092.fits as the photom reference file.\n",
      "2022-04-21 23:24:08,187 - mirage.dark.dark_prep - INFO - Requested readout pattern SHALLOW4 is valid. Using the nframe = 4 and nskip = 1\n"
     ]
    },
    {
     "name": "stderr",
     "output_type": "stream",
     "text": [
      "2022-04-21 23:24:08,187 - stpipe - INFO - Requested readout pattern SHALLOW4 is valid. Using the nframe = 4 and nskip = 1\n"
     ]
    },
    {
     "name": "stdout",
     "output_type": "stream",
     "text": [
      "2022-04-21 23:24:08,187 - stpipe - INFO - Requested readout pattern SHALLOW4 is valid. Using the nframe = 4 and nskip = 1\n",
      "2022-04-21 23:24:08,712 - mirage.dark.dark_prep - INFO - File splitting enabled. Starting integration numbers for all file segments: [0 1]\n"
     ]
    },
    {
     "name": "stderr",
     "output_type": "stream",
     "text": [
      "2022-04-21 23:24:08,712 - stpipe - INFO - File splitting enabled. Starting integration numbers for all file segments: [0 1]\n"
     ]
    },
    {
     "name": "stdout",
     "output_type": "stream",
     "text": [
      "2022-04-21 23:24:08,712 - stpipe - INFO - File splitting enabled. Starting integration numbers for all file segments: [0 1]\n",
      "2022-04-21 23:24:08,714 - mirage.dark.dark_prep - INFO - Segment number: 0\n"
     ]
    },
    {
     "name": "stderr",
     "output_type": "stream",
     "text": [
      "2022-04-21 23:24:08,714 - stpipe - INFO - Segment number: 0\n"
     ]
    },
    {
     "name": "stdout",
     "output_type": "stream",
     "text": [
      "2022-04-21 23:24:08,714 - stpipe - INFO - Segment number: 0\n",
      "2022-04-21 23:24:08,716 - mirage.dark.dark_prep - INFO - Number of integrations: 1\n"
     ]
    },
    {
     "name": "stderr",
     "output_type": "stream",
     "text": [
      "2022-04-21 23:24:08,716 - stpipe - INFO - Number of integrations: 1\n"
     ]
    },
    {
     "name": "stdout",
     "output_type": "stream",
     "text": [
      "2022-04-21 23:24:08,716 - stpipe - INFO - Number of integrations: 1\n",
      "2022-04-21 23:24:08,719 - mirage.dark.dark_prep - INFO - Dark files to use:\n"
     ]
    },
    {
     "name": "stderr",
     "output_type": "stream",
     "text": [
      "2022-04-21 23:24:08,719 - stpipe - INFO - Dark files to use:\n"
     ]
    },
    {
     "name": "stdout",
     "output_type": "stream",
     "text": [
      "2022-04-21 23:24:08,719 - stpipe - INFO - Dark files to use:\n",
      "2022-04-21 23:24:08,721 - mirage.dark.dark_prep - INFO - /ifs/jwst/wit/mirage_data/nircam/darks/linearized/A5/Linearized_Dark_and_SBRefpix_NRCNRCALONG-DARK-53551738001_1_485_SE_2015-12-21T18h08m20_uncal.fits\n"
     ]
    },
    {
     "name": "stderr",
     "output_type": "stream",
     "text": [
      "2022-04-21 23:24:08,721 - stpipe - INFO - /ifs/jwst/wit/mirage_data/nircam/darks/linearized/A5/Linearized_Dark_and_SBRefpix_NRCNRCALONG-DARK-53551738001_1_485_SE_2015-12-21T18h08m20_uncal.fits\n"
     ]
    },
    {
     "name": "stdout",
     "output_type": "stream",
     "text": [
      "2022-04-21 23:24:08,721 - stpipe - INFO - /ifs/jwst/wit/mirage_data/nircam/darks/linearized/A5/Linearized_Dark_and_SBRefpix_NRCNRCALONG-DARK-53551738001_1_485_SE_2015-12-21T18h08m20_uncal.fits\n",
      "2022-04-21 23:24:08,724 - mirage.dark.dark_prep - INFO - Working on dark file: /ifs/jwst/wit/mirage_data/nircam/darks/linearized/A5/Linearized_Dark_and_SBRefpix_NRCNRCALONG-DARK-53551738001_1_485_SE_2015-12-21T18h08m20_uncal.fits\n"
     ]
    },
    {
     "name": "stderr",
     "output_type": "stream",
     "text": [
      "2022-04-21 23:24:08,724 - stpipe - INFO - Working on dark file: /ifs/jwst/wit/mirage_data/nircam/darks/linearized/A5/Linearized_Dark_and_SBRefpix_NRCNRCALONG-DARK-53551738001_1_485_SE_2015-12-21T18h08m20_uncal.fits\n"
     ]
    },
    {
     "name": "stdout",
     "output_type": "stream",
     "text": [
      "2022-04-21 23:24:08,724 - stpipe - INFO - Working on dark file: /ifs/jwst/wit/mirage_data/nircam/darks/linearized/A5/Linearized_Dark_and_SBRefpix_NRCNRCALONG-DARK-53551738001_1_485_SE_2015-12-21T18h08m20_uncal.fits\n",
      "2022-04-21 23:24:08,726 - mirage.dark.dark_prep - INFO - Reading in linearized dark current ramp from /ifs/jwst/wit/mirage_data/nircam/darks/linearized/A5/Linearized_Dark_and_SBRefpix_NRCNRCALONG-DARK-53551738001_1_485_SE_2015-12-21T18h08m20_uncal.fits\n"
     ]
    },
    {
     "name": "stderr",
     "output_type": "stream",
     "text": [
      "2022-04-21 23:24:08,726 - stpipe - INFO - Reading in linearized dark current ramp from /ifs/jwst/wit/mirage_data/nircam/darks/linearized/A5/Linearized_Dark_and_SBRefpix_NRCNRCALONG-DARK-53551738001_1_485_SE_2015-12-21T18h08m20_uncal.fits\n"
     ]
    },
    {
     "name": "stdout",
     "output_type": "stream",
     "text": [
      "2022-04-21 23:24:08,726 - stpipe - INFO - Reading in linearized dark current ramp from /ifs/jwst/wit/mirage_data/nircam/darks/linearized/A5/Linearized_Dark_and_SBRefpix_NRCNRCALONG-DARK-53551738001_1_485_SE_2015-12-21T18h08m20_uncal.fits\n",
      "2022-04-21 23:24:09,387 - mirage.dark.dark_prep - INFO - Averaging dark current ramp. Frames [0 1 2 3], to become group 0\n"
     ]
    },
    {
     "name": "stderr",
     "output_type": "stream",
     "text": [
      "2022-04-21 23:24:09,387 - stpipe - INFO - Averaging dark current ramp. Frames [0 1 2 3], to become group 0\n"
     ]
    },
    {
     "name": "stdout",
     "output_type": "stream",
     "text": [
      "2022-04-21 23:24:09,387 - stpipe - INFO - Averaging dark current ramp. Frames [0 1 2 3], to become group 0\n",
      "2022-04-21 23:24:52,821 - mirage.dark.dark_prep - INFO - Averaging dark current ramp. Frames [5 6 7 8], to become group 1\n"
     ]
    },
    {
     "name": "stderr",
     "output_type": "stream",
     "text": [
      "2022-04-21 23:24:52,821 - stpipe - INFO - Averaging dark current ramp. Frames [5 6 7 8], to become group 1\n"
     ]
    },
    {
     "name": "stdout",
     "output_type": "stream",
     "text": [
      "2022-04-21 23:24:52,821 - stpipe - INFO - Averaging dark current ramp. Frames [5 6 7 8], to become group 1\n",
      "2022-04-21 23:25:46,599 - mirage.dark.dark_prep - INFO - Averaging dark current ramp. Frames [10 11 12 13], to become group 2\n"
     ]
    },
    {
     "name": "stderr",
     "output_type": "stream",
     "text": [
      "2022-04-21 23:25:46,599 - stpipe - INFO - Averaging dark current ramp. Frames [10 11 12 13], to become group 2\n"
     ]
    },
    {
     "name": "stdout",
     "output_type": "stream",
     "text": [
      "2022-04-21 23:25:46,599 - stpipe - INFO - Averaging dark current ramp. Frames [10 11 12 13], to become group 2\n",
      "2022-04-21 23:26:23,673 - mirage.dark.dark_prep - INFO - Averaging dark current ramp. Frames [15 16 17 18], to become group 3\n"
     ]
    },
    {
     "name": "stderr",
     "output_type": "stream",
     "text": [
      "2022-04-21 23:26:23,673 - stpipe - INFO - Averaging dark current ramp. Frames [15 16 17 18], to become group 3\n"
     ]
    },
    {
     "name": "stdout",
     "output_type": "stream",
     "text": [
      "2022-04-21 23:26:23,673 - stpipe - INFO - Averaging dark current ramp. Frames [15 16 17 18], to become group 3\n",
      "2022-04-21 23:26:58,136 - mirage.dark.dark_prep - INFO - Averaging dark current ramp. Frames [20 21 22 23], to become group 4\n"
     ]
    },
    {
     "name": "stderr",
     "output_type": "stream",
     "text": [
      "2022-04-21 23:26:58,136 - stpipe - INFO - Averaging dark current ramp. Frames [20 21 22 23], to become group 4\n"
     ]
    },
    {
     "name": "stdout",
     "output_type": "stream",
     "text": [
      "2022-04-21 23:26:58,136 - stpipe - INFO - Averaging dark current ramp. Frames [20 21 22 23], to become group 4\n",
      "2022-04-21 23:27:43,910 - mirage.dark.dark_prep - INFO - Averaging dark current ramp. Frames [25 26 27 28], to become group 5\n"
     ]
    },
    {
     "name": "stderr",
     "output_type": "stream",
     "text": [
      "2022-04-21 23:27:43,910 - stpipe - INFO - Averaging dark current ramp. Frames [25 26 27 28], to become group 5\n"
     ]
    },
    {
     "name": "stdout",
     "output_type": "stream",
     "text": [
      "2022-04-21 23:27:43,910 - stpipe - INFO - Averaging dark current ramp. Frames [25 26 27 28], to become group 5\n",
      "2022-04-21 23:28:29,497 - mirage.dark.dark_prep - INFO - Averaging dark current ramp. Frames [30 31 32 33], to become group 6\n"
     ]
    },
    {
     "name": "stderr",
     "output_type": "stream",
     "text": [
      "2022-04-21 23:28:29,497 - stpipe - INFO - Averaging dark current ramp. Frames [30 31 32 33], to become group 6\n"
     ]
    },
    {
     "name": "stdout",
     "output_type": "stream",
     "text": [
      "2022-04-21 23:28:29,497 - stpipe - INFO - Averaging dark current ramp. Frames [30 31 32 33], to become group 6\n",
      "2022-04-21 23:29:24,902 - mirage.dark.dark_prep - INFO - Averaging dark current ramp. Frames [35 36 37 38], to become group 7\n"
     ]
    },
    {
     "name": "stderr",
     "output_type": "stream",
     "text": [
      "2022-04-21 23:29:24,902 - stpipe - INFO - Averaging dark current ramp. Frames [35 36 37 38], to become group 7\n"
     ]
    },
    {
     "name": "stdout",
     "output_type": "stream",
     "text": [
      "2022-04-21 23:29:24,902 - stpipe - INFO - Averaging dark current ramp. Frames [35 36 37 38], to become group 7\n",
      "2022-04-21 23:30:10,734 - mirage.dark.dark_prep - INFO - Averaging dark current ramp. Frames [40 41 42 43], to become group 8\n"
     ]
    },
    {
     "name": "stderr",
     "output_type": "stream",
     "text": [
      "2022-04-21 23:30:10,734 - stpipe - INFO - Averaging dark current ramp. Frames [40 41 42 43], to become group 8\n"
     ]
    },
    {
     "name": "stdout",
     "output_type": "stream",
     "text": [
      "2022-04-21 23:30:10,734 - stpipe - INFO - Averaging dark current ramp. Frames [40 41 42 43], to become group 8\n",
      "2022-04-21 23:30:42,542 - mirage.dark.dark_prep - INFO - Averaging dark current ramp. Frames [45 46 47 48], to become group 9\n"
     ]
    },
    {
     "name": "stderr",
     "output_type": "stream",
     "text": [
      "2022-04-21 23:30:42,542 - stpipe - INFO - Averaging dark current ramp. Frames [45 46 47 48], to become group 9\n"
     ]
    },
    {
     "name": "stdout",
     "output_type": "stream",
     "text": [
      "2022-04-21 23:30:42,542 - stpipe - INFO - Averaging dark current ramp. Frames [45 46 47 48], to become group 9\n",
      "2022-04-21 23:31:31,437 - mirage.dark.dark_prep - INFO - DARK has been reordered to (1, 10, 2048, 2048) to match the input readpattern of SHALLOW4\n"
     ]
    },
    {
     "name": "stderr",
     "output_type": "stream",
     "text": [
      "2022-04-21 23:31:31,437 - stpipe - INFO - DARK has been reordered to (1, 10, 2048, 2048) to match the input readpattern of SHALLOW4\n"
     ]
    },
    {
     "name": "stdout",
     "output_type": "stream",
     "text": [
      "2022-04-21 23:31:31,437 - stpipe - INFO - DARK has been reordered to (1, 10, 2048, 2048) to match the input readpattern of SHALLOW4\n",
      "2022-04-21 23:31:31,445 - mirage.dark.dark_prep - INFO - Setting integration 0 to use file Linearized_Dark_and_SBRefpix_NRCNRCALONG-DARK-53551738001_1_485_SE_2015-12-21T18h08m20_uncal.fits\n"
     ]
    },
    {
     "name": "stderr",
     "output_type": "stream",
     "text": [
      "2022-04-21 23:31:31,445 - stpipe - INFO - Setting integration 0 to use file Linearized_Dark_and_SBRefpix_NRCNRCALONG-DARK-53551738001_1_485_SE_2015-12-21T18h08m20_uncal.fits\n"
     ]
    },
    {
     "name": "stdout",
     "output_type": "stream",
     "text": [
      "2022-04-21 23:31:31,445 - stpipe - INFO - Setting integration 0 to use file Linearized_Dark_and_SBRefpix_NRCNRCALONG-DARK-53551738001_1_485_SE_2015-12-21T18h08m20_uncal.fits\n",
      "2022-04-21 23:31:31,450 - mirage.dark.dark_prep - INFO - \n"
     ]
    },
    {
     "name": "stderr",
     "output_type": "stream",
     "text": [
      "2022-04-21 23:31:31,450 - stpipe - INFO - \n"
     ]
    },
    {
     "name": "stdout",
     "output_type": "stream",
     "text": [
      "2022-04-21 23:31:31,450 - stpipe - INFO - \n",
      "2022-04-21 23:31:38,791 - py.warnings - WARNING - /Users/dcoe/miniconda3/envs/python3.10/lib/python3.10/site-packages/astropy/io/fits/card.py:1009: VerifyWarning: Card is too long, comment will be truncated.\n",
      "  warnings.warn('Card is too long, comment will be truncated.',\n",
      "\n"
     ]
    },
    {
     "name": "stderr",
     "output_type": "stream",
     "text": [
      "2022-04-21 23:31:38,791 - stpipe - WARNING - /Users/dcoe/miniconda3/envs/python3.10/lib/python3.10/site-packages/astropy/io/fits/card.py:1009: VerifyWarning: Card is too long, comment will be truncated.\n",
      "  warnings.warn('Card is too long, comment will be truncated.',\n",
      "\n"
     ]
    },
    {
     "name": "stdout",
     "output_type": "stream",
     "text": [
      "2022-04-21 23:31:38,791 - stpipe - WARNING - /Users/dcoe/miniconda3/envs/python3.10/lib/python3.10/site-packages/astropy/io/fits/card.py:1009: VerifyWarning: Card is too long, comment will be truncated.\n",
      "  warnings.warn('Card is too long, comment will be truncated.',\n",
      "\n",
      "2022-04-21 23:31:40,132 - mirage.dark.dark_prep - INFO - Linearized dark frame plus superbias and referencepixel signals, as well as zeroframe, saved to /Users/dcoe/NIRCam/MIRAGE/2022April/images/F277W/jw01433010001_01101_00009_nrca5_uncal_linear_dark_prep_object.fits. This can be used as input to the observation generator.\n"
     ]
    },
    {
     "name": "stderr",
     "output_type": "stream",
     "text": [
      "2022-04-21 23:31:40,132 - stpipe - INFO - Linearized dark frame plus superbias and referencepixel signals, as well as zeroframe, saved to /Users/dcoe/NIRCam/MIRAGE/2022April/images/F277W/jw01433010001_01101_00009_nrca5_uncal_linear_dark_prep_object.fits. This can be used as input to the observation generator.\n"
     ]
    },
    {
     "name": "stdout",
     "output_type": "stream",
     "text": [
      "2022-04-21 23:31:40,132 - stpipe - INFO - Linearized dark frame plus superbias and referencepixel signals, as well as zeroframe, saved to /Users/dcoe/NIRCam/MIRAGE/2022April/images/F277W/jw01433010001_01101_00009_nrca5_uncal_linear_dark_prep_object.fits. This can be used as input to the observation generator.\n",
      "2022-04-21 23:31:40,134 - mirage.dark.dark_prep - INFO - \n"
     ]
    },
    {
     "name": "stderr",
     "output_type": "stream",
     "text": [
      "2022-04-21 23:31:40,134 - stpipe - INFO - \n"
     ]
    },
    {
     "name": "stdout",
     "output_type": "stream",
     "text": [
      "2022-04-21 23:31:40,134 - stpipe - INFO - \n",
      "2022-04-21 23:31:40,135 - mirage.dark.dark_prep - INFO - \n"
     ]
    },
    {
     "name": "stderr",
     "output_type": "stream",
     "text": [
      "2022-04-21 23:31:40,135 - stpipe - INFO - \n"
     ]
    },
    {
     "name": "stdout",
     "output_type": "stream",
     "text": [
      "2022-04-21 23:31:40,135 - stpipe - INFO - \n",
      "2022-04-21 23:31:40,137 - mirage.dark.dark_prep - INFO - Segment 1 out of 1 complete.\n"
     ]
    },
    {
     "name": "stderr",
     "output_type": "stream",
     "text": [
      "2022-04-21 23:31:40,137 - stpipe - INFO - Segment 1 out of 1 complete.\n"
     ]
    },
    {
     "name": "stdout",
     "output_type": "stream",
     "text": [
      "2022-04-21 23:31:40,137 - stpipe - INFO - Segment 1 out of 1 complete.\n",
      "2022-04-21 23:31:40,172 - mirage.ramp_generator.obs_generator - INFO - \n"
     ]
    },
    {
     "name": "stderr",
     "output_type": "stream",
     "text": [
      "2022-04-21 23:31:40,172 - stpipe - INFO - \n"
     ]
    },
    {
     "name": "stdout",
     "output_type": "stream",
     "text": [
      "2022-04-21 23:31:40,172 - stpipe - INFO - \n",
      "2022-04-21 23:31:40,174 - mirage.ramp_generator.obs_generator - INFO - \n"
     ]
    },
    {
     "name": "stderr",
     "output_type": "stream",
     "text": [
      "2022-04-21 23:31:40,174 - stpipe - INFO - \n"
     ]
    },
    {
     "name": "stdout",
     "output_type": "stream",
     "text": [
      "2022-04-21 23:31:40,174 - stpipe - INFO - \n",
      "2022-04-21 23:31:40,175 - mirage.ramp_generator.obs_generator - INFO - Running observation generator....\n"
     ]
    },
    {
     "name": "stderr",
     "output_type": "stream",
     "text": [
      "2022-04-21 23:31:40,175 - stpipe - INFO - Running observation generator....\n"
     ]
    },
    {
     "name": "stdout",
     "output_type": "stream",
     "text": [
      "2022-04-21 23:31:40,175 - stpipe - INFO - Running observation generator....\n",
      "2022-04-21 23:31:40,178 - mirage.ramp_generator.obs_generator - INFO - \n"
     ]
    },
    {
     "name": "stderr",
     "output_type": "stream",
     "text": [
      "2022-04-21 23:31:40,178 - stpipe - INFO - \n"
     ]
    },
    {
     "name": "stdout",
     "output_type": "stream",
     "text": [
      "2022-04-21 23:31:40,178 - stpipe - INFO - \n",
      "2022-04-21 23:31:40,181 - mirage.ramp_generator.obs_generator - INFO - Reading parameter file: ./yaml/F277W/jw01433010001_01101_00009_nrca5.yaml\n"
     ]
    },
    {
     "name": "stderr",
     "output_type": "stream",
     "text": [
      "2022-04-21 23:31:40,181 - stpipe - INFO - Reading parameter file: ./yaml/F277W/jw01433010001_01101_00009_nrca5.yaml\n"
     ]
    },
    {
     "name": "stdout",
     "output_type": "stream",
     "text": [
      "2022-04-21 23:31:40,181 - stpipe - INFO - Reading parameter file: ./yaml/F277W/jw01433010001_01101_00009_nrca5.yaml\n",
      "2022-04-21 23:31:40,184 - mirage.ramp_generator.obs_generator - INFO - \n"
     ]
    },
    {
     "name": "stderr",
     "output_type": "stream",
     "text": [
      "2022-04-21 23:31:40,184 - stpipe - INFO - \n"
     ]
    },
    {
     "name": "stdout",
     "output_type": "stream",
     "text": [
      "2022-04-21 23:31:40,184 - stpipe - INFO - \n",
      "2022-04-21 23:31:40,186 - mirage.ramp_generator.obs_generator - INFO - Original log file name: ./mirage_latest.log\n"
     ]
    },
    {
     "name": "stderr",
     "output_type": "stream",
     "text": [
      "2022-04-21 23:31:40,186 - stpipe - INFO - Original log file name: ./mirage_latest.log\n"
     ]
    },
    {
     "name": "stdout",
     "output_type": "stream",
     "text": [
      "2022-04-21 23:31:40,186 - stpipe - INFO - Original log file name: ./mirage_latest.log\n",
      "2022-04-21 23:31:40,192 - mirage.utils.utils.full_paths - INFO - From CRDS, found /Users/dcoe/crds_cache/references/jwst/nircam/jwst_nircam_mask_0052.fits as the badpixmask reference file.\n"
     ]
    },
    {
     "name": "stderr",
     "output_type": "stream",
     "text": [
      "2022-04-21 23:31:40,192 - stpipe - INFO - From CRDS, found /Users/dcoe/crds_cache/references/jwst/nircam/jwst_nircam_mask_0052.fits as the badpixmask reference file.\n"
     ]
    },
    {
     "name": "stdout",
     "output_type": "stream",
     "text": [
      "2022-04-21 23:31:40,192 - stpipe - INFO - From CRDS, found /Users/dcoe/crds_cache/references/jwst/nircam/jwst_nircam_mask_0052.fits as the badpixmask reference file.\n",
      "2022-04-21 23:31:40,195 - mirage.utils.utils.full_paths - INFO - From CRDS, found /Users/dcoe/crds_cache/references/jwst/nircam/jwst_nircam_superbias_0022.fits as the superbias reference file.\n"
     ]
    },
    {
     "name": "stderr",
     "output_type": "stream",
     "text": [
      "2022-04-21 23:31:40,195 - stpipe - INFO - From CRDS, found /Users/dcoe/crds_cache/references/jwst/nircam/jwst_nircam_superbias_0022.fits as the superbias reference file.\n"
     ]
    },
    {
     "name": "stdout",
     "output_type": "stream",
     "text": [
      "2022-04-21 23:31:40,195 - stpipe - INFO - From CRDS, found /Users/dcoe/crds_cache/references/jwst/nircam/jwst_nircam_superbias_0022.fits as the superbias reference file.\n",
      "2022-04-21 23:31:40,199 - mirage.utils.utils.full_paths - INFO - From CRDS, found /Users/dcoe/crds_cache/references/jwst/nircam/jwst_nircam_linearity_0052.fits as the linearity reference file.\n"
     ]
    },
    {
     "name": "stderr",
     "output_type": "stream",
     "text": [
      "2022-04-21 23:31:40,199 - stpipe - INFO - From CRDS, found /Users/dcoe/crds_cache/references/jwst/nircam/jwst_nircam_linearity_0052.fits as the linearity reference file.\n"
     ]
    },
    {
     "name": "stdout",
     "output_type": "stream",
     "text": [
      "2022-04-21 23:31:40,199 - stpipe - INFO - From CRDS, found /Users/dcoe/crds_cache/references/jwst/nircam/jwst_nircam_linearity_0052.fits as the linearity reference file.\n",
      "2022-04-21 23:31:40,201 - mirage.utils.utils.full_paths - INFO - From CRDS, found /Users/dcoe/crds_cache/references/jwst/nircam/jwst_nircam_saturation_0091.fits as the saturation reference file.\n"
     ]
    },
    {
     "name": "stderr",
     "output_type": "stream",
     "text": [
      "2022-04-21 23:31:40,201 - stpipe - INFO - From CRDS, found /Users/dcoe/crds_cache/references/jwst/nircam/jwst_nircam_saturation_0091.fits as the saturation reference file.\n"
     ]
    },
    {
     "name": "stdout",
     "output_type": "stream",
     "text": [
      "2022-04-21 23:31:40,201 - stpipe - INFO - From CRDS, found /Users/dcoe/crds_cache/references/jwst/nircam/jwst_nircam_saturation_0091.fits as the saturation reference file.\n",
      "2022-04-21 23:31:40,204 - mirage.utils.utils.full_paths - INFO - From CRDS, found /Users/dcoe/crds_cache/references/jwst/nircam/jwst_nircam_gain_0056.fits as the gain reference file.\n"
     ]
    },
    {
     "name": "stderr",
     "output_type": "stream",
     "text": [
      "2022-04-21 23:31:40,204 - stpipe - INFO - From CRDS, found /Users/dcoe/crds_cache/references/jwst/nircam/jwst_nircam_gain_0056.fits as the gain reference file.\n"
     ]
    },
    {
     "name": "stdout",
     "output_type": "stream",
     "text": [
      "2022-04-21 23:31:40,204 - stpipe - INFO - From CRDS, found /Users/dcoe/crds_cache/references/jwst/nircam/jwst_nircam_gain_0056.fits as the gain reference file.\n",
      "2022-04-21 23:31:40,207 - mirage.utils.utils.full_paths - INFO - From CRDS, found /Users/dcoe/crds_cache/references/jwst/nircam/jwst_nircam_flat_0266.fits as the pixelflat reference file.\n"
     ]
    },
    {
     "name": "stderr",
     "output_type": "stream",
     "text": [
      "2022-04-21 23:31:40,207 - stpipe - INFO - From CRDS, found /Users/dcoe/crds_cache/references/jwst/nircam/jwst_nircam_flat_0266.fits as the pixelflat reference file.\n"
     ]
    },
    {
     "name": "stdout",
     "output_type": "stream",
     "text": [
      "2022-04-21 23:31:40,207 - stpipe - INFO - From CRDS, found /Users/dcoe/crds_cache/references/jwst/nircam/jwst_nircam_flat_0266.fits as the pixelflat reference file.\n",
      "2022-04-21 23:31:40,210 - mirage.utils.utils.full_paths - INFO - From CRDS, found /Users/dcoe/crds_cache/references/jwst/nircam/jwst_nircam_ipc_0028.fits as the ipc reference file.\n"
     ]
    },
    {
     "name": "stderr",
     "output_type": "stream",
     "text": [
      "2022-04-21 23:31:40,210 - stpipe - INFO - From CRDS, found /Users/dcoe/crds_cache/references/jwst/nircam/jwst_nircam_ipc_0028.fits as the ipc reference file.\n"
     ]
    },
    {
     "name": "stdout",
     "output_type": "stream",
     "text": [
      "2022-04-21 23:31:40,210 - stpipe - INFO - From CRDS, found /Users/dcoe/crds_cache/references/jwst/nircam/jwst_nircam_ipc_0028.fits as the ipc reference file.\n",
      "2022-04-21 23:31:40,216 - mirage.utils.utils.full_paths - INFO - Found an existing inverted kernel for this IPC file: /Users/dcoe/crds_cache/references/jwst/nircam/Kernel_to_add_IPC_effects_from_jwst_nircam_ipc_0028.fits\n"
     ]
    },
    {
     "name": "stderr",
     "output_type": "stream",
     "text": [
      "2022-04-21 23:31:40,216 - stpipe - INFO - Found an existing inverted kernel for this IPC file: /Users/dcoe/crds_cache/references/jwst/nircam/Kernel_to_add_IPC_effects_from_jwst_nircam_ipc_0028.fits\n"
     ]
    },
    {
     "name": "stdout",
     "output_type": "stream",
     "text": [
      "2022-04-21 23:31:40,216 - stpipe - INFO - Found an existing inverted kernel for this IPC file: /Users/dcoe/crds_cache/references/jwst/nircam/Kernel_to_add_IPC_effects_from_jwst_nircam_ipc_0028.fits\n",
      "2022-04-21 23:31:40,223 - mirage.utils.utils.full_paths - INFO - From CRDS, found /Users/dcoe/crds_cache/references/jwst/nircam/jwst_nircam_distortion_0133.asdf as the astrometric reference file.\n"
     ]
    },
    {
     "name": "stderr",
     "output_type": "stream",
     "text": [
      "2022-04-21 23:31:40,223 - stpipe - INFO - From CRDS, found /Users/dcoe/crds_cache/references/jwst/nircam/jwst_nircam_distortion_0133.asdf as the astrometric reference file.\n"
     ]
    },
    {
     "name": "stdout",
     "output_type": "stream",
     "text": [
      "2022-04-21 23:31:40,223 - stpipe - INFO - From CRDS, found /Users/dcoe/crds_cache/references/jwst/nircam/jwst_nircam_distortion_0133.asdf as the astrometric reference file.\n",
      "2022-04-21 23:31:40,227 - mirage.utils.utils.full_paths - INFO - From CRDS, found /Users/dcoe/crds_cache/references/jwst/nircam/jwst_nircam_area_0015.fits as the pixelAreaMap reference file.\n"
     ]
    },
    {
     "name": "stderr",
     "output_type": "stream",
     "text": [
      "2022-04-21 23:31:40,227 - stpipe - INFO - From CRDS, found /Users/dcoe/crds_cache/references/jwst/nircam/jwst_nircam_area_0015.fits as the pixelAreaMap reference file.\n"
     ]
    },
    {
     "name": "stdout",
     "output_type": "stream",
     "text": [
      "2022-04-21 23:31:40,227 - stpipe - INFO - From CRDS, found /Users/dcoe/crds_cache/references/jwst/nircam/jwst_nircam_area_0015.fits as the pixelAreaMap reference file.\n",
      "2022-04-21 23:31:40,230 - mirage.reference_files.utils.get_transmission_file - INFO - POM Transmission filename: None\n"
     ]
    },
    {
     "name": "stderr",
     "output_type": "stream",
     "text": [
      "2022-04-21 23:31:40,230 - stpipe - INFO - POM Transmission filename: None\n"
     ]
    },
    {
     "name": "stdout",
     "output_type": "stream",
     "text": [
      "2022-04-21 23:31:40,230 - stpipe - INFO - POM Transmission filename: None\n",
      "2022-04-21 23:31:40,233 - mirage.utils.utils.full_paths - INFO - From grism library, found None as the POM transmission file.\n"
     ]
    },
    {
     "name": "stderr",
     "output_type": "stream",
     "text": [
      "2022-04-21 23:31:40,233 - stpipe - INFO - From grism library, found None as the POM transmission file.\n"
     ]
    },
    {
     "name": "stdout",
     "output_type": "stream",
     "text": [
      "2022-04-21 23:31:40,233 - stpipe - INFO - From grism library, found None as the POM transmission file.\n",
      "2022-04-21 23:31:40,237 - mirage.utils.utils.full_paths - INFO - From CRDS, found /Users/dcoe/crds_cache/references/jwst/nircam/jwst_nircam_photom_0092.fits as the photom reference file.\n"
     ]
    },
    {
     "name": "stderr",
     "output_type": "stream",
     "text": [
      "2022-04-21 23:31:40,237 - stpipe - INFO - From CRDS, found /Users/dcoe/crds_cache/references/jwst/nircam/jwst_nircam_photom_0092.fits as the photom reference file.\n"
     ]
    },
    {
     "name": "stdout",
     "output_type": "stream",
     "text": [
      "2022-04-21 23:31:40,237 - stpipe - INFO - From CRDS, found /Users/dcoe/crds_cache/references/jwst/nircam/jwst_nircam_photom_0092.fits as the photom reference file.\n",
      "2022-04-21 23:31:40,324 - mirage.ramp_generator.obs_generator - INFO - Reading in dark file: /Users/dcoe/NIRCam/MIRAGE/2022April/images/F277W/jw01433010001_01101_00009_nrca5_uncal_linear_dark_prep_object.fits\n"
     ]
    },
    {
     "name": "stderr",
     "output_type": "stream",
     "text": [
      "2022-04-21 23:31:40,324 - stpipe - INFO - Reading in dark file: /Users/dcoe/NIRCam/MIRAGE/2022April/images/F277W/jw01433010001_01101_00009_nrca5_uncal_linear_dark_prep_object.fits\n"
     ]
    },
    {
     "name": "stdout",
     "output_type": "stream",
     "text": [
      "2022-04-21 23:31:40,324 - stpipe - INFO - Reading in dark file: /Users/dcoe/NIRCam/MIRAGE/2022April/images/F277W/jw01433010001_01101_00009_nrca5_uncal_linear_dark_prep_object.fits\n",
      "2022-04-21 23:31:40,383 - mirage.ramp_generator.obs_generator - INFO - Requested readout pattern SHALLOW4 is valid. Using nframe = 4 and nskip = 1\n"
     ]
    },
    {
     "name": "stderr",
     "output_type": "stream",
     "text": [
      "2022-04-21 23:31:40,383 - stpipe - INFO - Requested readout pattern SHALLOW4 is valid. Using nframe = 4 and nskip = 1\n"
     ]
    },
    {
     "name": "stdout",
     "output_type": "stream",
     "text": [
      "2022-04-21 23:31:40,383 - stpipe - INFO - Requested readout pattern SHALLOW4 is valid. Using nframe = 4 and nskip = 1\n",
      "2022-04-21 23:31:44,469 - mirage.ramp_generator.obs_generator - INFO - Frametime is 10.736770000000002\n"
     ]
    },
    {
     "name": "stderr",
     "output_type": "stream",
     "text": [
      "2022-04-21 23:31:44,469 - stpipe - INFO - Frametime is 10.736770000000002\n"
     ]
    },
    {
     "name": "stdout",
     "output_type": "stream",
     "text": [
      "2022-04-21 23:31:44,469 - stpipe - INFO - Frametime is 10.736770000000002\n",
      "2022-04-21 23:31:44,472 - mirage.ramp_generator.obs_generator - INFO - Base cosmic ray probability per pixel per second: 5.762e-06\n"
     ]
    },
    {
     "name": "stderr",
     "output_type": "stream",
     "text": [
      "2022-04-21 23:31:44,472 - stpipe - INFO - Base cosmic ray probability per pixel per second: 5.762e-06\n"
     ]
    },
    {
     "name": "stdout",
     "output_type": "stream",
     "text": [
      "2022-04-21 23:31:44,472 - stpipe - INFO - Base cosmic ray probability per pixel per second: 5.762e-06\n",
      "2022-04-21 23:31:44,620 - mirage.ramp_generator.obs_generator - INFO - The linearity coefficients of 9990 pixels are NaNs. Setting these coefficients such that no linearity correction is made.\n"
     ]
    },
    {
     "name": "stderr",
     "output_type": "stream",
     "text": [
      "2022-04-21 23:31:44,620 - stpipe - INFO - The linearity coefficients of 9990 pixels are NaNs. Setting these coefficients such that no linearity correction is made.\n"
     ]
    },
    {
     "name": "stdout",
     "output_type": "stream",
     "text": [
      "2022-04-21 23:31:44,620 - stpipe - INFO - The linearity coefficients of 9990 pixels are NaNs. Setting these coefficients such that no linearity correction is made.\n",
      "2022-04-21 23:31:45,184 - mirage.ramp_generator.obs_generator - INFO - Integration 0:\n"
     ]
    },
    {
     "name": "stderr",
     "output_type": "stream",
     "text": [
      "2022-04-21 23:31:45,184 - stpipe - INFO - Integration 0:\n"
     ]
    },
    {
     "name": "stdout",
     "output_type": "stream",
     "text": [
      "2022-04-21 23:31:45,184 - stpipe - INFO - Integration 0:\n",
      "2022-04-21 23:31:49,770 - mirage.ramp_generator.obs_generator - INFO -     Averaging frame 0 into group 0\n"
     ]
    },
    {
     "name": "stderr",
     "output_type": "stream",
     "text": [
      "2022-04-21 23:31:49,770 - stpipe - INFO -     Averaging frame 0 into group 0\n"
     ]
    },
    {
     "name": "stdout",
     "output_type": "stream",
     "text": [
      "2022-04-21 23:31:49,770 - stpipe - INFO -     Averaging frame 0 into group 0\n",
      "2022-04-21 23:31:53,763 - mirage.ramp_generator.obs_generator - INFO -     Averaging frame 1 into group 0\n"
     ]
    },
    {
     "name": "stderr",
     "output_type": "stream",
     "text": [
      "2022-04-21 23:31:53,763 - stpipe - INFO -     Averaging frame 1 into group 0\n"
     ]
    },
    {
     "name": "stdout",
     "output_type": "stream",
     "text": [
      "2022-04-21 23:31:53,763 - stpipe - INFO -     Averaging frame 1 into group 0\n",
      "2022-04-21 23:31:55,911 - mirage.ramp_generator.obs_generator - INFO -     Averaging frame 2 into group 0\n"
     ]
    },
    {
     "name": "stderr",
     "output_type": "stream",
     "text": [
      "2022-04-21 23:31:55,911 - stpipe - INFO -     Averaging frame 2 into group 0\n"
     ]
    },
    {
     "name": "stdout",
     "output_type": "stream",
     "text": [
      "2022-04-21 23:31:55,911 - stpipe - INFO -     Averaging frame 2 into group 0\n",
      "2022-04-21 23:31:56,969 - mirage.ramp_generator.obs_generator - INFO -     Averaging frame 3 into group 0\n"
     ]
    },
    {
     "name": "stderr",
     "output_type": "stream",
     "text": [
      "2022-04-21 23:31:56,969 - stpipe - INFO -     Averaging frame 3 into group 0\n"
     ]
    },
    {
     "name": "stdout",
     "output_type": "stream",
     "text": [
      "2022-04-21 23:31:56,969 - stpipe - INFO -     Averaging frame 3 into group 0\n",
      "2022-04-21 23:31:57,979 - mirage.ramp_generator.obs_generator - INFO -     Skipping frame 4\n"
     ]
    },
    {
     "name": "stderr",
     "output_type": "stream",
     "text": [
      "2022-04-21 23:31:57,979 - stpipe - INFO -     Skipping frame 4\n"
     ]
    },
    {
     "name": "stdout",
     "output_type": "stream",
     "text": [
      "2022-04-21 23:31:57,979 - stpipe - INFO -     Skipping frame 4\n",
      "2022-04-21 23:31:58,668 - mirage.ramp_generator.obs_generator - INFO -     Averaging frame 5 into group 1\n"
     ]
    },
    {
     "name": "stderr",
     "output_type": "stream",
     "text": [
      "2022-04-21 23:31:58,668 - stpipe - INFO -     Averaging frame 5 into group 1\n"
     ]
    },
    {
     "name": "stdout",
     "output_type": "stream",
     "text": [
      "2022-04-21 23:31:58,668 - stpipe - INFO -     Averaging frame 5 into group 1\n",
      "2022-04-21 23:31:59,402 - mirage.ramp_generator.obs_generator - INFO -     Averaging frame 6 into group 1\n"
     ]
    },
    {
     "name": "stderr",
     "output_type": "stream",
     "text": [
      "2022-04-21 23:31:59,402 - stpipe - INFO -     Averaging frame 6 into group 1\n"
     ]
    },
    {
     "name": "stdout",
     "output_type": "stream",
     "text": [
      "2022-04-21 23:31:59,402 - stpipe - INFO -     Averaging frame 6 into group 1\n",
      "2022-04-21 23:31:59,951 - mirage.ramp_generator.obs_generator - INFO -     Averaging frame 7 into group 1\n"
     ]
    },
    {
     "name": "stderr",
     "output_type": "stream",
     "text": [
      "2022-04-21 23:31:59,951 - stpipe - INFO -     Averaging frame 7 into group 1\n"
     ]
    },
    {
     "name": "stdout",
     "output_type": "stream",
     "text": [
      "2022-04-21 23:31:59,951 - stpipe - INFO -     Averaging frame 7 into group 1\n",
      "2022-04-21 23:32:00,593 - mirage.ramp_generator.obs_generator - INFO -     Averaging frame 8 into group 1\n"
     ]
    },
    {
     "name": "stderr",
     "output_type": "stream",
     "text": [
      "2022-04-21 23:32:00,593 - stpipe - INFO -     Averaging frame 8 into group 1\n"
     ]
    },
    {
     "name": "stdout",
     "output_type": "stream",
     "text": [
      "2022-04-21 23:32:00,593 - stpipe - INFO -     Averaging frame 8 into group 1\n",
      "2022-04-21 23:32:01,247 - mirage.ramp_generator.obs_generator - INFO -     Skipping frame 9\n"
     ]
    },
    {
     "name": "stderr",
     "output_type": "stream",
     "text": [
      "2022-04-21 23:32:01,247 - stpipe - INFO -     Skipping frame 9\n"
     ]
    },
    {
     "name": "stdout",
     "output_type": "stream",
     "text": [
      "2022-04-21 23:32:01,247 - stpipe - INFO -     Skipping frame 9\n",
      "2022-04-21 23:32:01,779 - mirage.ramp_generator.obs_generator - INFO -     Averaging frame 10 into group 2\n"
     ]
    },
    {
     "name": "stderr",
     "output_type": "stream",
     "text": [
      "2022-04-21 23:32:01,779 - stpipe - INFO -     Averaging frame 10 into group 2\n"
     ]
    },
    {
     "name": "stdout",
     "output_type": "stream",
     "text": [
      "2022-04-21 23:32:01,779 - stpipe - INFO -     Averaging frame 10 into group 2\n",
      "2022-04-21 23:32:02,302 - mirage.ramp_generator.obs_generator - INFO -     Averaging frame 11 into group 2\n"
     ]
    },
    {
     "name": "stderr",
     "output_type": "stream",
     "text": [
      "2022-04-21 23:32:02,302 - stpipe - INFO -     Averaging frame 11 into group 2\n"
     ]
    },
    {
     "name": "stdout",
     "output_type": "stream",
     "text": [
      "2022-04-21 23:32:02,302 - stpipe - INFO -     Averaging frame 11 into group 2\n",
      "2022-04-21 23:32:02,817 - mirage.ramp_generator.obs_generator - INFO -     Averaging frame 12 into group 2\n"
     ]
    },
    {
     "name": "stderr",
     "output_type": "stream",
     "text": [
      "2022-04-21 23:32:02,817 - stpipe - INFO -     Averaging frame 12 into group 2\n"
     ]
    },
    {
     "name": "stdout",
     "output_type": "stream",
     "text": [
      "2022-04-21 23:32:02,817 - stpipe - INFO -     Averaging frame 12 into group 2\n",
      "2022-04-21 23:32:03,291 - mirage.ramp_generator.obs_generator - INFO -     Averaging frame 13 into group 2\n"
     ]
    },
    {
     "name": "stderr",
     "output_type": "stream",
     "text": [
      "2022-04-21 23:32:03,291 - stpipe - INFO -     Averaging frame 13 into group 2\n"
     ]
    },
    {
     "name": "stdout",
     "output_type": "stream",
     "text": [
      "2022-04-21 23:32:03,291 - stpipe - INFO -     Averaging frame 13 into group 2\n",
      "2022-04-21 23:32:03,753 - mirage.ramp_generator.obs_generator - INFO -     Skipping frame 14\n"
     ]
    },
    {
     "name": "stderr",
     "output_type": "stream",
     "text": [
      "2022-04-21 23:32:03,753 - stpipe - INFO -     Skipping frame 14\n"
     ]
    },
    {
     "name": "stdout",
     "output_type": "stream",
     "text": [
      "2022-04-21 23:32:03,753 - stpipe - INFO -     Skipping frame 14\n",
      "2022-04-21 23:32:04,204 - mirage.ramp_generator.obs_generator - INFO -     Averaging frame 15 into group 3\n"
     ]
    },
    {
     "name": "stderr",
     "output_type": "stream",
     "text": [
      "2022-04-21 23:32:04,204 - stpipe - INFO -     Averaging frame 15 into group 3\n"
     ]
    },
    {
     "name": "stdout",
     "output_type": "stream",
     "text": [
      "2022-04-21 23:32:04,204 - stpipe - INFO -     Averaging frame 15 into group 3\n",
      "2022-04-21 23:32:04,659 - mirage.ramp_generator.obs_generator - INFO -     Averaging frame 16 into group 3\n"
     ]
    },
    {
     "name": "stderr",
     "output_type": "stream",
     "text": [
      "2022-04-21 23:32:04,659 - stpipe - INFO -     Averaging frame 16 into group 3\n"
     ]
    },
    {
     "name": "stdout",
     "output_type": "stream",
     "text": [
      "2022-04-21 23:32:04,659 - stpipe - INFO -     Averaging frame 16 into group 3\n",
      "2022-04-21 23:32:05,102 - mirage.ramp_generator.obs_generator - INFO -     Averaging frame 17 into group 3\n"
     ]
    },
    {
     "name": "stderr",
     "output_type": "stream",
     "text": [
      "2022-04-21 23:32:05,102 - stpipe - INFO -     Averaging frame 17 into group 3\n"
     ]
    },
    {
     "name": "stdout",
     "output_type": "stream",
     "text": [
      "2022-04-21 23:32:05,102 - stpipe - INFO -     Averaging frame 17 into group 3\n",
      "2022-04-21 23:32:05,584 - mirage.ramp_generator.obs_generator - INFO -     Averaging frame 18 into group 3\n"
     ]
    },
    {
     "name": "stderr",
     "output_type": "stream",
     "text": [
      "2022-04-21 23:32:05,584 - stpipe - INFO -     Averaging frame 18 into group 3\n"
     ]
    },
    {
     "name": "stdout",
     "output_type": "stream",
     "text": [
      "2022-04-21 23:32:05,584 - stpipe - INFO -     Averaging frame 18 into group 3\n",
      "2022-04-21 23:32:06,050 - mirage.ramp_generator.obs_generator - INFO -     Skipping frame 19\n"
     ]
    },
    {
     "name": "stderr",
     "output_type": "stream",
     "text": [
      "2022-04-21 23:32:06,050 - stpipe - INFO -     Skipping frame 19\n"
     ]
    },
    {
     "name": "stdout",
     "output_type": "stream",
     "text": [
      "2022-04-21 23:32:06,050 - stpipe - INFO -     Skipping frame 19\n",
      "2022-04-21 23:32:06,527 - mirage.ramp_generator.obs_generator - INFO -     Averaging frame 20 into group 4\n"
     ]
    },
    {
     "name": "stderr",
     "output_type": "stream",
     "text": [
      "2022-04-21 23:32:06,527 - stpipe - INFO -     Averaging frame 20 into group 4\n"
     ]
    },
    {
     "name": "stdout",
     "output_type": "stream",
     "text": [
      "2022-04-21 23:32:06,527 - stpipe - INFO -     Averaging frame 20 into group 4\n",
      "2022-04-21 23:32:07,005 - mirage.ramp_generator.obs_generator - INFO -     Averaging frame 21 into group 4\n"
     ]
    },
    {
     "name": "stderr",
     "output_type": "stream",
     "text": [
      "2022-04-21 23:32:07,005 - stpipe - INFO -     Averaging frame 21 into group 4\n"
     ]
    },
    {
     "name": "stdout",
     "output_type": "stream",
     "text": [
      "2022-04-21 23:32:07,005 - stpipe - INFO -     Averaging frame 21 into group 4\n",
      "2022-04-21 23:32:07,506 - mirage.ramp_generator.obs_generator - INFO -     Averaging frame 22 into group 4\n"
     ]
    },
    {
     "name": "stderr",
     "output_type": "stream",
     "text": [
      "2022-04-21 23:32:07,506 - stpipe - INFO -     Averaging frame 22 into group 4\n"
     ]
    },
    {
     "name": "stdout",
     "output_type": "stream",
     "text": [
      "2022-04-21 23:32:07,506 - stpipe - INFO -     Averaging frame 22 into group 4\n",
      "2022-04-21 23:32:07,964 - mirage.ramp_generator.obs_generator - INFO -     Averaging frame 23 into group 4\n"
     ]
    },
    {
     "name": "stderr",
     "output_type": "stream",
     "text": [
      "2022-04-21 23:32:07,964 - stpipe - INFO -     Averaging frame 23 into group 4\n"
     ]
    },
    {
     "name": "stdout",
     "output_type": "stream",
     "text": [
      "2022-04-21 23:32:07,964 - stpipe - INFO -     Averaging frame 23 into group 4\n",
      "2022-04-21 23:32:08,459 - mirage.ramp_generator.obs_generator - INFO -     Skipping frame 24\n"
     ]
    },
    {
     "name": "stderr",
     "output_type": "stream",
     "text": [
      "2022-04-21 23:32:08,459 - stpipe - INFO -     Skipping frame 24\n"
     ]
    },
    {
     "name": "stdout",
     "output_type": "stream",
     "text": [
      "2022-04-21 23:32:08,459 - stpipe - INFO -     Skipping frame 24\n",
      "2022-04-21 23:32:08,924 - mirage.ramp_generator.obs_generator - INFO -     Averaging frame 25 into group 5\n"
     ]
    },
    {
     "name": "stderr",
     "output_type": "stream",
     "text": [
      "2022-04-21 23:32:08,924 - stpipe - INFO -     Averaging frame 25 into group 5\n"
     ]
    },
    {
     "name": "stdout",
     "output_type": "stream",
     "text": [
      "2022-04-21 23:32:08,924 - stpipe - INFO -     Averaging frame 25 into group 5\n",
      "2022-04-21 23:32:09,419 - mirage.ramp_generator.obs_generator - INFO -     Averaging frame 26 into group 5\n"
     ]
    },
    {
     "name": "stderr",
     "output_type": "stream",
     "text": [
      "2022-04-21 23:32:09,419 - stpipe - INFO -     Averaging frame 26 into group 5\n"
     ]
    },
    {
     "name": "stdout",
     "output_type": "stream",
     "text": [
      "2022-04-21 23:32:09,419 - stpipe - INFO -     Averaging frame 26 into group 5\n",
      "2022-04-21 23:32:09,920 - mirage.ramp_generator.obs_generator - INFO -     Averaging frame 27 into group 5\n"
     ]
    },
    {
     "name": "stderr",
     "output_type": "stream",
     "text": [
      "2022-04-21 23:32:09,920 - stpipe - INFO -     Averaging frame 27 into group 5\n"
     ]
    },
    {
     "name": "stdout",
     "output_type": "stream",
     "text": [
      "2022-04-21 23:32:09,920 - stpipe - INFO -     Averaging frame 27 into group 5\n",
      "2022-04-21 23:32:10,442 - mirage.ramp_generator.obs_generator - INFO -     Averaging frame 28 into group 5\n"
     ]
    },
    {
     "name": "stderr",
     "output_type": "stream",
     "text": [
      "2022-04-21 23:32:10,442 - stpipe - INFO -     Averaging frame 28 into group 5\n"
     ]
    },
    {
     "name": "stdout",
     "output_type": "stream",
     "text": [
      "2022-04-21 23:32:10,442 - stpipe - INFO -     Averaging frame 28 into group 5\n",
      "2022-04-21 23:32:10,937 - mirage.ramp_generator.obs_generator - INFO -     Skipping frame 29\n"
     ]
    },
    {
     "name": "stderr",
     "output_type": "stream",
     "text": [
      "2022-04-21 23:32:10,937 - stpipe - INFO -     Skipping frame 29\n"
     ]
    },
    {
     "name": "stdout",
     "output_type": "stream",
     "text": [
      "2022-04-21 23:32:10,937 - stpipe - INFO -     Skipping frame 29\n",
      "2022-04-21 23:32:11,427 - mirage.ramp_generator.obs_generator - INFO -     Averaging frame 30 into group 6\n"
     ]
    },
    {
     "name": "stderr",
     "output_type": "stream",
     "text": [
      "2022-04-21 23:32:11,427 - stpipe - INFO -     Averaging frame 30 into group 6\n"
     ]
    },
    {
     "name": "stdout",
     "output_type": "stream",
     "text": [
      "2022-04-21 23:32:11,427 - stpipe - INFO -     Averaging frame 30 into group 6\n",
      "2022-04-21 23:32:11,888 - mirage.ramp_generator.obs_generator - INFO -     Averaging frame 31 into group 6\n"
     ]
    },
    {
     "name": "stderr",
     "output_type": "stream",
     "text": [
      "2022-04-21 23:32:11,888 - stpipe - INFO -     Averaging frame 31 into group 6\n"
     ]
    },
    {
     "name": "stdout",
     "output_type": "stream",
     "text": [
      "2022-04-21 23:32:11,888 - stpipe - INFO -     Averaging frame 31 into group 6\n",
      "2022-04-21 23:32:12,353 - mirage.ramp_generator.obs_generator - INFO -     Averaging frame 32 into group 6\n"
     ]
    },
    {
     "name": "stderr",
     "output_type": "stream",
     "text": [
      "2022-04-21 23:32:12,353 - stpipe - INFO -     Averaging frame 32 into group 6\n"
     ]
    },
    {
     "name": "stdout",
     "output_type": "stream",
     "text": [
      "2022-04-21 23:32:12,353 - stpipe - INFO -     Averaging frame 32 into group 6\n",
      "2022-04-21 23:32:12,838 - mirage.ramp_generator.obs_generator - INFO -     Averaging frame 33 into group 6\n"
     ]
    },
    {
     "name": "stderr",
     "output_type": "stream",
     "text": [
      "2022-04-21 23:32:12,838 - stpipe - INFO -     Averaging frame 33 into group 6\n"
     ]
    },
    {
     "name": "stdout",
     "output_type": "stream",
     "text": [
      "2022-04-21 23:32:12,838 - stpipe - INFO -     Averaging frame 33 into group 6\n",
      "2022-04-21 23:32:13,353 - mirage.ramp_generator.obs_generator - INFO -     Skipping frame 34\n"
     ]
    },
    {
     "name": "stderr",
     "output_type": "stream",
     "text": [
      "2022-04-21 23:32:13,353 - stpipe - INFO -     Skipping frame 34\n"
     ]
    },
    {
     "name": "stdout",
     "output_type": "stream",
     "text": [
      "2022-04-21 23:32:13,353 - stpipe - INFO -     Skipping frame 34\n",
      "2022-04-21 23:32:13,865 - mirage.ramp_generator.obs_generator - INFO -     Averaging frame 35 into group 7\n"
     ]
    },
    {
     "name": "stderr",
     "output_type": "stream",
     "text": [
      "2022-04-21 23:32:13,865 - stpipe - INFO -     Averaging frame 35 into group 7\n"
     ]
    },
    {
     "name": "stdout",
     "output_type": "stream",
     "text": [
      "2022-04-21 23:32:13,865 - stpipe - INFO -     Averaging frame 35 into group 7\n",
      "2022-04-21 23:32:14,368 - mirage.ramp_generator.obs_generator - INFO -     Averaging frame 36 into group 7\n"
     ]
    },
    {
     "name": "stderr",
     "output_type": "stream",
     "text": [
      "2022-04-21 23:32:14,368 - stpipe - INFO -     Averaging frame 36 into group 7\n"
     ]
    },
    {
     "name": "stdout",
     "output_type": "stream",
     "text": [
      "2022-04-21 23:32:14,368 - stpipe - INFO -     Averaging frame 36 into group 7\n",
      "2022-04-21 23:32:14,887 - mirage.ramp_generator.obs_generator - INFO -     Averaging frame 37 into group 7\n"
     ]
    },
    {
     "name": "stderr",
     "output_type": "stream",
     "text": [
      "2022-04-21 23:32:14,887 - stpipe - INFO -     Averaging frame 37 into group 7\n"
     ]
    },
    {
     "name": "stdout",
     "output_type": "stream",
     "text": [
      "2022-04-21 23:32:14,887 - stpipe - INFO -     Averaging frame 37 into group 7\n",
      "2022-04-21 23:32:15,381 - mirage.ramp_generator.obs_generator - INFO -     Averaging frame 38 into group 7\n"
     ]
    },
    {
     "name": "stderr",
     "output_type": "stream",
     "text": [
      "2022-04-21 23:32:15,381 - stpipe - INFO -     Averaging frame 38 into group 7\n"
     ]
    },
    {
     "name": "stdout",
     "output_type": "stream",
     "text": [
      "2022-04-21 23:32:15,381 - stpipe - INFO -     Averaging frame 38 into group 7\n",
      "2022-04-21 23:32:15,909 - mirage.ramp_generator.obs_generator - INFO -     Skipping frame 39\n"
     ]
    },
    {
     "name": "stderr",
     "output_type": "stream",
     "text": [
      "2022-04-21 23:32:15,909 - stpipe - INFO -     Skipping frame 39\n"
     ]
    },
    {
     "name": "stdout",
     "output_type": "stream",
     "text": [
      "2022-04-21 23:32:15,909 - stpipe - INFO -     Skipping frame 39\n",
      "2022-04-21 23:32:16,410 - mirage.ramp_generator.obs_generator - INFO -     Averaging frame 40 into group 8\n"
     ]
    },
    {
     "name": "stderr",
     "output_type": "stream",
     "text": [
      "2022-04-21 23:32:16,410 - stpipe - INFO -     Averaging frame 40 into group 8\n"
     ]
    },
    {
     "name": "stdout",
     "output_type": "stream",
     "text": [
      "2022-04-21 23:32:16,410 - stpipe - INFO -     Averaging frame 40 into group 8\n",
      "2022-04-21 23:32:16,943 - mirage.ramp_generator.obs_generator - INFO -     Averaging frame 41 into group 8\n"
     ]
    },
    {
     "name": "stderr",
     "output_type": "stream",
     "text": [
      "2022-04-21 23:32:16,943 - stpipe - INFO -     Averaging frame 41 into group 8\n"
     ]
    },
    {
     "name": "stdout",
     "output_type": "stream",
     "text": [
      "2022-04-21 23:32:16,943 - stpipe - INFO -     Averaging frame 41 into group 8\n",
      "2022-04-21 23:32:17,442 - mirage.ramp_generator.obs_generator - INFO -     Averaging frame 42 into group 8\n"
     ]
    },
    {
     "name": "stderr",
     "output_type": "stream",
     "text": [
      "2022-04-21 23:32:17,442 - stpipe - INFO -     Averaging frame 42 into group 8\n"
     ]
    },
    {
     "name": "stdout",
     "output_type": "stream",
     "text": [
      "2022-04-21 23:32:17,442 - stpipe - INFO -     Averaging frame 42 into group 8\n",
      "2022-04-21 23:32:17,913 - mirage.ramp_generator.obs_generator - INFO -     Averaging frame 43 into group 8\n"
     ]
    },
    {
     "name": "stderr",
     "output_type": "stream",
     "text": [
      "2022-04-21 23:32:17,913 - stpipe - INFO -     Averaging frame 43 into group 8\n"
     ]
    },
    {
     "name": "stdout",
     "output_type": "stream",
     "text": [
      "2022-04-21 23:32:17,913 - stpipe - INFO -     Averaging frame 43 into group 8\n",
      "2022-04-21 23:32:18,403 - mirage.ramp_generator.obs_generator - INFO -     Skipping frame 44\n"
     ]
    },
    {
     "name": "stderr",
     "output_type": "stream",
     "text": [
      "2022-04-21 23:32:18,403 - stpipe - INFO -     Skipping frame 44\n"
     ]
    },
    {
     "name": "stdout",
     "output_type": "stream",
     "text": [
      "2022-04-21 23:32:18,403 - stpipe - INFO -     Skipping frame 44\n",
      "2022-04-21 23:32:18,876 - mirage.ramp_generator.obs_generator - INFO -     Averaging frame 45 into group 9\n"
     ]
    },
    {
     "name": "stderr",
     "output_type": "stream",
     "text": [
      "2022-04-21 23:32:18,876 - stpipe - INFO -     Averaging frame 45 into group 9\n"
     ]
    },
    {
     "name": "stdout",
     "output_type": "stream",
     "text": [
      "2022-04-21 23:32:18,876 - stpipe - INFO -     Averaging frame 45 into group 9\n",
      "2022-04-21 23:32:19,345 - mirage.ramp_generator.obs_generator - INFO -     Averaging frame 46 into group 9\n"
     ]
    },
    {
     "name": "stderr",
     "output_type": "stream",
     "text": [
      "2022-04-21 23:32:19,345 - stpipe - INFO -     Averaging frame 46 into group 9\n"
     ]
    },
    {
     "name": "stdout",
     "output_type": "stream",
     "text": [
      "2022-04-21 23:32:19,345 - stpipe - INFO -     Averaging frame 46 into group 9\n",
      "2022-04-21 23:32:19,836 - mirage.ramp_generator.obs_generator - INFO -     Averaging frame 47 into group 9\n"
     ]
    },
    {
     "name": "stderr",
     "output_type": "stream",
     "text": [
      "2022-04-21 23:32:19,836 - stpipe - INFO -     Averaging frame 47 into group 9\n"
     ]
    },
    {
     "name": "stdout",
     "output_type": "stream",
     "text": [
      "2022-04-21 23:32:19,836 - stpipe - INFO -     Averaging frame 47 into group 9\n",
      "2022-04-21 23:32:20,296 - mirage.ramp_generator.obs_generator - INFO -     Averaging frame 48 into group 9\n"
     ]
    },
    {
     "name": "stderr",
     "output_type": "stream",
     "text": [
      "2022-04-21 23:32:20,296 - stpipe - INFO -     Averaging frame 48 into group 9\n"
     ]
    },
    {
     "name": "stdout",
     "output_type": "stream",
     "text": [
      "2022-04-21 23:32:20,296 - stpipe - INFO -     Averaging frame 48 into group 9\n",
      "2022-04-21 23:32:24,852 - mirage.ramp_generator.obs_generator - INFO - Adding crosstalk\n"
     ]
    },
    {
     "name": "stderr",
     "output_type": "stream",
     "text": [
      "2022-04-21 23:32:24,852 - stpipe - INFO - Adding crosstalk\n"
     ]
    },
    {
     "name": "stdout",
     "output_type": "stream",
     "text": [
      "2022-04-21 23:32:24,852 - stpipe - INFO - Adding crosstalk\n",
      "2022-04-21 23:32:26,657 - mirage.ramp_generator.obs_generator - INFO - Unlinearizing exposure.\n"
     ]
    },
    {
     "name": "stderr",
     "output_type": "stream",
     "text": [
      "2022-04-21 23:32:26,657 - stpipe - INFO - Unlinearizing exposure.\n"
     ]
    },
    {
     "name": "stdout",
     "output_type": "stream",
     "text": [
      "2022-04-21 23:32:26,657 - stpipe - INFO - Unlinearizing exposure.\n",
      "2022-04-21 23:32:36,792 - py.warnings - WARNING - /Users/dcoe/miniconda3/envs/python3.10/lib/python3.10/site-packages/mirage/ramp_generator/unlinearize.py:65: RuntimeWarning: divide by zero encountered in true_divide\n",
      "  x[i1] = (image[i1]+image[i1]/val[i1]) / 2.\n",
      "\n"
     ]
    },
    {
     "name": "stderr",
     "output_type": "stream",
     "text": [
      "2022-04-21 23:32:36,792 - stpipe - WARNING - /Users/dcoe/miniconda3/envs/python3.10/lib/python3.10/site-packages/mirage/ramp_generator/unlinearize.py:65: RuntimeWarning: divide by zero encountered in true_divide\n",
      "  x[i1] = (image[i1]+image[i1]/val[i1]) / 2.\n",
      "\n"
     ]
    },
    {
     "name": "stdout",
     "output_type": "stream",
     "text": [
      "2022-04-21 23:32:36,792 - stpipe - WARNING - /Users/dcoe/miniconda3/envs/python3.10/lib/python3.10/site-packages/mirage/ramp_generator/unlinearize.py:65: RuntimeWarning: divide by zero encountered in true_divide\n",
      "  x[i1] = (image[i1]+image[i1]/val[i1]) / 2.\n",
      "\n",
      "2022-04-21 23:32:45,278 - py.warnings - WARNING - /Users/dcoe/miniconda3/envs/python3.10/lib/python3.10/site-packages/mirage/ramp_generator/unlinearize.py:70: RuntimeWarning: divide by zero encountered in true_divide\n",
      "  dev[i1] = np.abs(image[i1] / val[i1]-1.)\n",
      "\n"
     ]
    },
    {
     "name": "stderr",
     "output_type": "stream",
     "text": [
      "2022-04-21 23:32:45,278 - stpipe - WARNING - /Users/dcoe/miniconda3/envs/python3.10/lib/python3.10/site-packages/mirage/ramp_generator/unlinearize.py:70: RuntimeWarning: divide by zero encountered in true_divide\n",
      "  dev[i1] = np.abs(image[i1] / val[i1]-1.)\n",
      "\n"
     ]
    },
    {
     "name": "stdout",
     "output_type": "stream",
     "text": [
      "2022-04-21 23:32:45,278 - stpipe - WARNING - /Users/dcoe/miniconda3/envs/python3.10/lib/python3.10/site-packages/mirage/ramp_generator/unlinearize.py:70: RuntimeWarning: divide by zero encountered in true_divide\n",
      "  dev[i1] = np.abs(image[i1] / val[i1]-1.)\n",
      "\n",
      "2022-04-21 23:35:22,357 - mirage.ramp_generator.obs_generator - INFO - Adding superbias and reference pixel signals.\n"
     ]
    },
    {
     "name": "stderr",
     "output_type": "stream",
     "text": [
      "2022-04-21 23:35:22,357 - stpipe - INFO - Adding superbias and reference pixel signals.\n"
     ]
    },
    {
     "name": "stdout",
     "output_type": "stream",
     "text": [
      "2022-04-21 23:35:22,357 - stpipe - INFO - Adding superbias and reference pixel signals.\n",
      "2022-04-21 23:35:23,558 - mirage.ramp_generator.obs_generator - INFO - \n"
     ]
    },
    {
     "name": "stderr",
     "output_type": "stream",
     "text": [
      "2022-04-21 23:35:23,558 - stpipe - INFO - \n"
     ]
    },
    {
     "name": "stdout",
     "output_type": "stream",
     "text": [
      "2022-04-21 23:35:23,558 - stpipe - INFO - \n",
      "2022-04-21 23:35:23,560 - mirage.ramp_generator.obs_generator - INFO - \n"
     ]
    },
    {
     "name": "stderr",
     "output_type": "stream",
     "text": [
      "2022-04-21 23:35:23,560 - stpipe - INFO - \n"
     ]
    },
    {
     "name": "stdout",
     "output_type": "stream",
     "text": [
      "2022-04-21 23:35:23,560 - stpipe - INFO - \n",
      "2022-04-21 23:35:23,561 - mirage.ramp_generator.obs_generator - INFO - Populating xref_sci in output file:\n"
     ]
    },
    {
     "name": "stderr",
     "output_type": "stream",
     "text": [
      "2022-04-21 23:35:23,561 - stpipe - INFO - Populating xref_sci in output file:\n"
     ]
    },
    {
     "name": "stdout",
     "output_type": "stream",
     "text": [
      "2022-04-21 23:35:23,561 - stpipe - INFO - Populating xref_sci in output file:\n",
      "2022-04-21 23:35:23,563 - mirage.ramp_generator.obs_generator - INFO - 1024.5\n"
     ]
    },
    {
     "name": "stderr",
     "output_type": "stream",
     "text": [
      "2022-04-21 23:35:23,563 - stpipe - INFO - 1024.5\n"
     ]
    },
    {
     "name": "stdout",
     "output_type": "stream",
     "text": [
      "2022-04-21 23:35:23,563 - stpipe - INFO - 1024.5\n"
     ]
    },
    {
     "name": "stderr",
     "output_type": "stream",
     "text": [
      "WCS info for /Users/dcoe/NIRCam/MIRAGE/2022April/images/F277W/jw01433010001_01101_00009_nrca5_uncal.fits complete.\n"
     ]
    },
    {
     "name": "stdout",
     "output_type": "stream",
     "text": [
      "2022-04-21 23:35:24,274 - mirage.utils.set_telescope_pointing_separated - INFO - WCS info for /Users/dcoe/NIRCam/MIRAGE/2022April/images/F277W/jw01433010001_01101_00009_nrca5_uncal.fits complete.\n"
     ]
    },
    {
     "name": "stderr",
     "output_type": "stream",
     "text": [
      "2022-04-21 23:35:24,274 - stpipe - INFO - WCS info for /Users/dcoe/NIRCam/MIRAGE/2022April/images/F277W/jw01433010001_01101_00009_nrca5_uncal.fits complete.\n"
     ]
    },
    {
     "name": "stdout",
     "output_type": "stream",
     "text": [
      "2022-04-21 23:35:24,274 - stpipe - INFO - WCS info for /Users/dcoe/NIRCam/MIRAGE/2022April/images/F277W/jw01433010001_01101_00009_nrca5_uncal.fits complete.\n",
      "2022-04-21 23:35:24,277 - mirage.ramp_generator.obs_generator - INFO - Final raw exposure saved to: \n"
     ]
    },
    {
     "name": "stderr",
     "output_type": "stream",
     "text": [
      "2022-04-21 23:35:24,277 - stpipe - INFO - Final raw exposure saved to: \n"
     ]
    },
    {
     "name": "stdout",
     "output_type": "stream",
     "text": [
      "2022-04-21 23:35:24,277 - stpipe - INFO - Final raw exposure saved to: \n",
      "2022-04-21 23:35:24,279 - mirage.ramp_generator.obs_generator - INFO - /Users/dcoe/NIRCam/MIRAGE/2022April/images/F277W/jw01433010001_01101_00009_nrca5_uncal.fits\n"
     ]
    },
    {
     "name": "stderr",
     "output_type": "stream",
     "text": [
      "2022-04-21 23:35:24,279 - stpipe - INFO - /Users/dcoe/NIRCam/MIRAGE/2022April/images/F277W/jw01433010001_01101_00009_nrca5_uncal.fits\n"
     ]
    },
    {
     "name": "stdout",
     "output_type": "stream",
     "text": [
      "2022-04-21 23:35:24,279 - stpipe - INFO - /Users/dcoe/NIRCam/MIRAGE/2022April/images/F277W/jw01433010001_01101_00009_nrca5_uncal.fits\n",
      "2022-04-21 23:35:24,280 - mirage.ramp_generator.obs_generator - INFO - \n"
     ]
    },
    {
     "name": "stderr",
     "output_type": "stream",
     "text": [
      "2022-04-21 23:35:24,280 - stpipe - INFO - \n"
     ]
    },
    {
     "name": "stdout",
     "output_type": "stream",
     "text": [
      "2022-04-21 23:35:24,280 - stpipe - INFO - \n",
      "2022-04-21 23:35:24,282 - mirage.ramp_generator.obs_generator - INFO - \n"
     ]
    },
    {
     "name": "stderr",
     "output_type": "stream",
     "text": [
      "2022-04-21 23:35:24,282 - stpipe - INFO - \n"
     ]
    },
    {
     "name": "stdout",
     "output_type": "stream",
     "text": [
      "2022-04-21 23:35:24,282 - stpipe - INFO - \n",
      "2022-04-21 23:35:24,283 - mirage.ramp_generator.obs_generator - INFO - Segment 1 out of 1 complete.\n"
     ]
    },
    {
     "name": "stderr",
     "output_type": "stream",
     "text": [
      "2022-04-21 23:35:24,283 - stpipe - INFO - Segment 1 out of 1 complete.\n"
     ]
    },
    {
     "name": "stdout",
     "output_type": "stream",
     "text": [
      "2022-04-21 23:35:24,283 - stpipe - INFO - Segment 1 out of 1 complete.\n",
      "2022-04-21 23:35:24,285 - mirage.ramp_generator.obs_generator - INFO - Observation generation complete.\n"
     ]
    },
    {
     "name": "stderr",
     "output_type": "stream",
     "text": [
      "2022-04-21 23:35:24,285 - stpipe - INFO - Observation generation complete.\n"
     ]
    },
    {
     "name": "stdout",
     "output_type": "stream",
     "text": [
      "2022-04-21 23:35:24,285 - stpipe - INFO - Observation generation complete.\n",
      "2022-04-21 23:35:24,343 - mirage.imaging_simulator - INFO - \n"
     ]
    },
    {
     "name": "stderr",
     "output_type": "stream",
     "text": [
      "2022-04-21 23:35:24,343 - stpipe - INFO - \n"
     ]
    },
    {
     "name": "stdout",
     "output_type": "stream",
     "text": [
      "2022-04-21 23:35:24,343 - stpipe - INFO - \n",
      "2022-04-21 23:35:24,345 - mirage.imaging_simulator - INFO - Imaging simulator complete\n"
     ]
    },
    {
     "name": "stderr",
     "output_type": "stream",
     "text": [
      "2022-04-21 23:35:24,345 - stpipe - INFO - Imaging simulator complete\n"
     ]
    },
    {
     "name": "stdout",
     "output_type": "stream",
     "text": [
      "2022-04-21 23:35:24,345 - stpipe - INFO - Imaging simulator complete\n",
      "./yaml/F277W/jw01433010001_01101_00010_nrca5.yaml\n",
      "2022-04-21 23:35:24,416 - mirage.imaging_simulator - INFO - \n"
     ]
    },
    {
     "name": "stderr",
     "output_type": "stream",
     "text": [
      "2022-04-21 23:35:24,416 - stpipe - INFO - \n"
     ]
    },
    {
     "name": "stdout",
     "output_type": "stream",
     "text": [
      "2022-04-21 23:35:24,416 - stpipe - INFO - \n",
      "2022-04-21 23:35:24,418 - mirage.imaging_simulator - INFO - \n"
     ]
    },
    {
     "name": "stderr",
     "output_type": "stream",
     "text": [
      "2022-04-21 23:35:24,418 - stpipe - INFO - \n"
     ]
    },
    {
     "name": "stdout",
     "output_type": "stream",
     "text": [
      "2022-04-21 23:35:24,418 - stpipe - INFO - \n",
      "2022-04-21 23:35:24,420 - mirage.imaging_simulator - INFO - Running imaging_simulator....\n"
     ]
    },
    {
     "name": "stderr",
     "output_type": "stream",
     "text": [
      "2022-04-21 23:35:24,420 - stpipe - INFO - Running imaging_simulator....\n"
     ]
    },
    {
     "name": "stdout",
     "output_type": "stream",
     "text": [
      "2022-04-21 23:35:24,420 - stpipe - INFO - Running imaging_simulator....\n",
      "2022-04-21 23:35:24,422 - mirage.imaging_simulator - INFO - \n"
     ]
    },
    {
     "name": "stderr",
     "output_type": "stream",
     "text": [
      "2022-04-21 23:35:24,422 - stpipe - INFO - \n"
     ]
    },
    {
     "name": "stdout",
     "output_type": "stream",
     "text": [
      "2022-04-21 23:35:24,422 - stpipe - INFO - \n",
      "2022-04-21 23:35:24,424 - mirage.imaging_simulator - INFO - using parameter file: ./yaml/F277W/jw01433010001_01101_00010_nrca5.yaml\n"
     ]
    },
    {
     "name": "stderr",
     "output_type": "stream",
     "text": [
      "2022-04-21 23:35:24,424 - stpipe - INFO - using parameter file: ./yaml/F277W/jw01433010001_01101_00010_nrca5.yaml\n"
     ]
    },
    {
     "name": "stdout",
     "output_type": "stream",
     "text": [
      "2022-04-21 23:35:24,424 - stpipe - INFO - using parameter file: ./yaml/F277W/jw01433010001_01101_00010_nrca5.yaml\n",
      "2022-04-21 23:35:24,454 - mirage.seed_image.catalog_seed_image - INFO - \n"
     ]
    },
    {
     "name": "stderr",
     "output_type": "stream",
     "text": [
      "2022-04-21 23:35:24,454 - stpipe - INFO - \n"
     ]
    },
    {
     "name": "stdout",
     "output_type": "stream",
     "text": [
      "2022-04-21 23:35:24,454 - stpipe - INFO - \n",
      "2022-04-21 23:35:24,456 - mirage.seed_image.catalog_seed_image - INFO - \n"
     ]
    },
    {
     "name": "stderr",
     "output_type": "stream",
     "text": [
      "2022-04-21 23:35:24,456 - stpipe - INFO - \n"
     ]
    },
    {
     "name": "stdout",
     "output_type": "stream",
     "text": [
      "2022-04-21 23:35:24,456 - stpipe - INFO - \n",
      "2022-04-21 23:35:24,458 - mirage.seed_image.catalog_seed_image - INFO - Running catalog_seed_image..\n"
     ]
    },
    {
     "name": "stderr",
     "output_type": "stream",
     "text": [
      "2022-04-21 23:35:24,458 - stpipe - INFO - Running catalog_seed_image..\n"
     ]
    },
    {
     "name": "stdout",
     "output_type": "stream",
     "text": [
      "2022-04-21 23:35:24,458 - stpipe - INFO - Running catalog_seed_image..\n",
      "2022-04-21 23:35:24,459 - mirage.seed_image.catalog_seed_image - INFO - \n"
     ]
    },
    {
     "name": "stderr",
     "output_type": "stream",
     "text": [
      "2022-04-21 23:35:24,459 - stpipe - INFO - \n"
     ]
    },
    {
     "name": "stdout",
     "output_type": "stream",
     "text": [
      "2022-04-21 23:35:24,459 - stpipe - INFO - \n",
      "2022-04-21 23:35:24,461 - mirage.seed_image.catalog_seed_image - INFO - Reading parameter file: ./yaml/F277W/jw01433010001_01101_00010_nrca5.yaml\n"
     ]
    },
    {
     "name": "stderr",
     "output_type": "stream",
     "text": [
      "2022-04-21 23:35:24,461 - stpipe - INFO - Reading parameter file: ./yaml/F277W/jw01433010001_01101_00010_nrca5.yaml\n"
     ]
    },
    {
     "name": "stdout",
     "output_type": "stream",
     "text": [
      "2022-04-21 23:35:24,461 - stpipe - INFO - Reading parameter file: ./yaml/F277W/jw01433010001_01101_00010_nrca5.yaml\n",
      "2022-04-21 23:35:24,462 - mirage.seed_image.catalog_seed_image - INFO - \n"
     ]
    },
    {
     "name": "stderr",
     "output_type": "stream",
     "text": [
      "2022-04-21 23:35:24,462 - stpipe - INFO - \n"
     ]
    },
    {
     "name": "stdout",
     "output_type": "stream",
     "text": [
      "2022-04-21 23:35:24,462 - stpipe - INFO - \n",
      "2022-04-21 23:35:24,463 - mirage.seed_image.catalog_seed_image - INFO - Original log file name: ./mirage_latest.log\n"
     ]
    },
    {
     "name": "stderr",
     "output_type": "stream",
     "text": [
      "2022-04-21 23:35:24,463 - stpipe - INFO - Original log file name: ./mirage_latest.log\n"
     ]
    },
    {
     "name": "stdout",
     "output_type": "stream",
     "text": [
      "2022-04-21 23:35:24,463 - stpipe - INFO - Original log file name: ./mirage_latest.log\n",
      "2022-04-21 23:35:24,488 - mirage.utils.utils.full_paths - INFO - From CRDS, found /Users/dcoe/crds_cache/references/jwst/nircam/jwst_nircam_mask_0052.fits as the badpixmask reference file.\n"
     ]
    },
    {
     "name": "stderr",
     "output_type": "stream",
     "text": [
      "2022-04-21 23:35:24,488 - stpipe - INFO - From CRDS, found /Users/dcoe/crds_cache/references/jwst/nircam/jwst_nircam_mask_0052.fits as the badpixmask reference file.\n"
     ]
    },
    {
     "name": "stdout",
     "output_type": "stream",
     "text": [
      "2022-04-21 23:35:24,488 - stpipe - INFO - From CRDS, found /Users/dcoe/crds_cache/references/jwst/nircam/jwst_nircam_mask_0052.fits as the badpixmask reference file.\n",
      "2022-04-21 23:35:24,491 - mirage.utils.utils.full_paths - INFO - From CRDS, found /Users/dcoe/crds_cache/references/jwst/nircam/jwst_nircam_superbias_0022.fits as the superbias reference file.\n"
     ]
    },
    {
     "name": "stderr",
     "output_type": "stream",
     "text": [
      "2022-04-21 23:35:24,491 - stpipe - INFO - From CRDS, found /Users/dcoe/crds_cache/references/jwst/nircam/jwst_nircam_superbias_0022.fits as the superbias reference file.\n"
     ]
    },
    {
     "name": "stdout",
     "output_type": "stream",
     "text": [
      "2022-04-21 23:35:24,491 - stpipe - INFO - From CRDS, found /Users/dcoe/crds_cache/references/jwst/nircam/jwst_nircam_superbias_0022.fits as the superbias reference file.\n",
      "2022-04-21 23:35:24,493 - mirage.utils.utils.full_paths - INFO - From CRDS, found /Users/dcoe/crds_cache/references/jwst/nircam/jwst_nircam_linearity_0052.fits as the linearity reference file.\n"
     ]
    },
    {
     "name": "stderr",
     "output_type": "stream",
     "text": [
      "2022-04-21 23:35:24,493 - stpipe - INFO - From CRDS, found /Users/dcoe/crds_cache/references/jwst/nircam/jwst_nircam_linearity_0052.fits as the linearity reference file.\n"
     ]
    },
    {
     "name": "stdout",
     "output_type": "stream",
     "text": [
      "2022-04-21 23:35:24,493 - stpipe - INFO - From CRDS, found /Users/dcoe/crds_cache/references/jwst/nircam/jwst_nircam_linearity_0052.fits as the linearity reference file.\n",
      "2022-04-21 23:35:24,496 - mirage.utils.utils.full_paths - INFO - From CRDS, found /Users/dcoe/crds_cache/references/jwst/nircam/jwst_nircam_saturation_0091.fits as the saturation reference file.\n"
     ]
    },
    {
     "name": "stderr",
     "output_type": "stream",
     "text": [
      "2022-04-21 23:35:24,496 - stpipe - INFO - From CRDS, found /Users/dcoe/crds_cache/references/jwst/nircam/jwst_nircam_saturation_0091.fits as the saturation reference file.\n"
     ]
    },
    {
     "name": "stdout",
     "output_type": "stream",
     "text": [
      "2022-04-21 23:35:24,496 - stpipe - INFO - From CRDS, found /Users/dcoe/crds_cache/references/jwst/nircam/jwst_nircam_saturation_0091.fits as the saturation reference file.\n",
      "2022-04-21 23:35:24,498 - mirage.utils.utils.full_paths - INFO - From CRDS, found /Users/dcoe/crds_cache/references/jwst/nircam/jwst_nircam_gain_0056.fits as the gain reference file.\n"
     ]
    },
    {
     "name": "stderr",
     "output_type": "stream",
     "text": [
      "2022-04-21 23:35:24,498 - stpipe - INFO - From CRDS, found /Users/dcoe/crds_cache/references/jwst/nircam/jwst_nircam_gain_0056.fits as the gain reference file.\n"
     ]
    },
    {
     "name": "stdout",
     "output_type": "stream",
     "text": [
      "2022-04-21 23:35:24,498 - stpipe - INFO - From CRDS, found /Users/dcoe/crds_cache/references/jwst/nircam/jwst_nircam_gain_0056.fits as the gain reference file.\n",
      "2022-04-21 23:35:24,501 - mirage.utils.utils.full_paths - INFO - From CRDS, found /Users/dcoe/crds_cache/references/jwst/nircam/jwst_nircam_flat_0266.fits as the pixelflat reference file.\n"
     ]
    },
    {
     "name": "stderr",
     "output_type": "stream",
     "text": [
      "2022-04-21 23:35:24,501 - stpipe - INFO - From CRDS, found /Users/dcoe/crds_cache/references/jwst/nircam/jwst_nircam_flat_0266.fits as the pixelflat reference file.\n"
     ]
    },
    {
     "name": "stdout",
     "output_type": "stream",
     "text": [
      "2022-04-21 23:35:24,501 - stpipe - INFO - From CRDS, found /Users/dcoe/crds_cache/references/jwst/nircam/jwst_nircam_flat_0266.fits as the pixelflat reference file.\n",
      "2022-04-21 23:35:24,503 - mirage.utils.utils.full_paths - INFO - From CRDS, found /Users/dcoe/crds_cache/references/jwst/nircam/jwst_nircam_ipc_0028.fits as the ipc reference file.\n"
     ]
    },
    {
     "name": "stderr",
     "output_type": "stream",
     "text": [
      "2022-04-21 23:35:24,503 - stpipe - INFO - From CRDS, found /Users/dcoe/crds_cache/references/jwst/nircam/jwst_nircam_ipc_0028.fits as the ipc reference file.\n"
     ]
    },
    {
     "name": "stdout",
     "output_type": "stream",
     "text": [
      "2022-04-21 23:35:24,503 - stpipe - INFO - From CRDS, found /Users/dcoe/crds_cache/references/jwst/nircam/jwst_nircam_ipc_0028.fits as the ipc reference file.\n",
      "2022-04-21 23:35:24,505 - mirage.utils.utils.full_paths - INFO - Found an existing inverted kernel for this IPC file: /Users/dcoe/crds_cache/references/jwst/nircam/Kernel_to_add_IPC_effects_from_jwst_nircam_ipc_0028.fits\n"
     ]
    },
    {
     "name": "stderr",
     "output_type": "stream",
     "text": [
      "2022-04-21 23:35:24,505 - stpipe - INFO - Found an existing inverted kernel for this IPC file: /Users/dcoe/crds_cache/references/jwst/nircam/Kernel_to_add_IPC_effects_from_jwst_nircam_ipc_0028.fits\n"
     ]
    },
    {
     "name": "stdout",
     "output_type": "stream",
     "text": [
      "2022-04-21 23:35:24,505 - stpipe - INFO - Found an existing inverted kernel for this IPC file: /Users/dcoe/crds_cache/references/jwst/nircam/Kernel_to_add_IPC_effects_from_jwst_nircam_ipc_0028.fits\n",
      "2022-04-21 23:35:24,507 - mirage.utils.utils.full_paths - INFO - From CRDS, found /Users/dcoe/crds_cache/references/jwst/nircam/jwst_nircam_distortion_0133.asdf as the astrometric reference file.\n"
     ]
    },
    {
     "name": "stderr",
     "output_type": "stream",
     "text": [
      "2022-04-21 23:35:24,507 - stpipe - INFO - From CRDS, found /Users/dcoe/crds_cache/references/jwst/nircam/jwst_nircam_distortion_0133.asdf as the astrometric reference file.\n"
     ]
    },
    {
     "name": "stdout",
     "output_type": "stream",
     "text": [
      "2022-04-21 23:35:24,507 - stpipe - INFO - From CRDS, found /Users/dcoe/crds_cache/references/jwst/nircam/jwst_nircam_distortion_0133.asdf as the astrometric reference file.\n",
      "2022-04-21 23:35:24,510 - mirage.utils.utils.full_paths - INFO - From CRDS, found /Users/dcoe/crds_cache/references/jwst/nircam/jwst_nircam_area_0015.fits as the pixelAreaMap reference file.\n"
     ]
    },
    {
     "name": "stderr",
     "output_type": "stream",
     "text": [
      "2022-04-21 23:35:24,510 - stpipe - INFO - From CRDS, found /Users/dcoe/crds_cache/references/jwst/nircam/jwst_nircam_area_0015.fits as the pixelAreaMap reference file.\n"
     ]
    },
    {
     "name": "stdout",
     "output_type": "stream",
     "text": [
      "2022-04-21 23:35:24,510 - stpipe - INFO - From CRDS, found /Users/dcoe/crds_cache/references/jwst/nircam/jwst_nircam_area_0015.fits as the pixelAreaMap reference file.\n",
      "2022-04-21 23:35:24,511 - mirage.reference_files.utils.get_transmission_file - INFO - POM Transmission filename: None\n"
     ]
    },
    {
     "name": "stderr",
     "output_type": "stream",
     "text": [
      "2022-04-21 23:35:24,511 - stpipe - INFO - POM Transmission filename: None\n"
     ]
    },
    {
     "name": "stdout",
     "output_type": "stream",
     "text": [
      "2022-04-21 23:35:24,511 - stpipe - INFO - POM Transmission filename: None\n",
      "2022-04-21 23:35:24,512 - mirage.utils.utils.full_paths - INFO - From grism library, found None as the POM transmission file.\n"
     ]
    },
    {
     "name": "stderr",
     "output_type": "stream",
     "text": [
      "2022-04-21 23:35:24,512 - stpipe - INFO - From grism library, found None as the POM transmission file.\n"
     ]
    },
    {
     "name": "stdout",
     "output_type": "stream",
     "text": [
      "2022-04-21 23:35:24,512 - stpipe - INFO - From grism library, found None as the POM transmission file.\n",
      "2022-04-21 23:35:24,514 - mirage.utils.utils.full_paths - INFO - From CRDS, found /Users/dcoe/crds_cache/references/jwst/nircam/jwst_nircam_photom_0092.fits as the photom reference file.\n"
     ]
    },
    {
     "name": "stderr",
     "output_type": "stream",
     "text": [
      "2022-04-21 23:35:24,514 - stpipe - INFO - From CRDS, found /Users/dcoe/crds_cache/references/jwst/nircam/jwst_nircam_photom_0092.fits as the photom reference file.\n"
     ]
    },
    {
     "name": "stdout",
     "output_type": "stream",
     "text": [
      "2022-04-21 23:35:24,514 - stpipe - INFO - From CRDS, found /Users/dcoe/crds_cache/references/jwst/nircam/jwst_nircam_photom_0092.fits as the photom reference file.\n",
      "2022-04-21 23:35:24,578 - mirage.seed_image.catalog_seed_image - INFO - Requested readout pattern SHALLOW4 is valid. Using the nframe = 4 and nskip = 1\n"
     ]
    },
    {
     "name": "stderr",
     "output_type": "stream",
     "text": [
      "2022-04-21 23:35:24,578 - stpipe - INFO - Requested readout pattern SHALLOW4 is valid. Using the nframe = 4 and nskip = 1\n"
     ]
    },
    {
     "name": "stdout",
     "output_type": "stream",
     "text": [
      "2022-04-21 23:35:24,578 - stpipe - INFO - Requested readout pattern SHALLOW4 is valid. Using the nframe = 4 and nskip = 1\n",
      "2022-04-21 23:35:24,580 - mirage.seed_image.catalog_seed_image - INFO - No point source catalog provided in yaml file.\n"
     ]
    },
    {
     "name": "stderr",
     "output_type": "stream",
     "text": [
      "2022-04-21 23:35:24,580 - stpipe - INFO - No point source catalog provided in yaml file.\n"
     ]
    },
    {
     "name": "stdout",
     "output_type": "stream",
     "text": [
      "2022-04-21 23:35:24,580 - stpipe - INFO - No point source catalog provided in yaml file.\n",
      "2022-04-21 23:35:24,995 - mirage.seed_image.catalog_seed_image - INFO - SIAF: Requested NRCA5_FULL   got NRCA5_FULL\n"
     ]
    },
    {
     "name": "stderr",
     "output_type": "stream",
     "text": [
      "2022-04-21 23:35:24,995 - stpipe - INFO - SIAF: Requested NRCA5_FULL   got NRCA5_FULL\n"
     ]
    },
    {
     "name": "stdout",
     "output_type": "stream",
     "text": [
      "2022-04-21 23:35:24,995 - stpipe - INFO - SIAF: Requested NRCA5_FULL   got NRCA5_FULL\n",
      "2022-04-21 23:35:24,996 - mirage.seed_image.catalog_seed_image - INFO - Calculating background rate using jwst_background based on medium level\n"
     ]
    },
    {
     "name": "stderr",
     "output_type": "stream",
     "text": [
      "2022-04-21 23:35:24,996 - stpipe - INFO - Calculating background rate using jwst_background based on medium level\n"
     ]
    },
    {
     "name": "stdout",
     "output_type": "stream",
     "text": [
      "2022-04-21 23:35:24,996 - stpipe - INFO - Calculating background rate using jwst_background based on medium level\n",
      "2022-04-21 23:35:24,998 - mirage.seed_image.catalog_seed_image - INFO - Using /Users/dcoe/miniconda3/envs/python3.10/lib/python3.10/site-packages/mirage/config/F277W_CLEAR_nircam_plus_ote_throughput_moda_sorted.txt filter throughput file for background calculation.\n"
     ]
    },
    {
     "name": "stderr",
     "output_type": "stream",
     "text": [
      "2022-04-21 23:35:24,998 - stpipe - INFO - Using /Users/dcoe/miniconda3/envs/python3.10/lib/python3.10/site-packages/mirage/config/F277W_CLEAR_nircam_plus_ote_throughput_moda_sorted.txt filter throughput file for background calculation.\n"
     ]
    },
    {
     "name": "stdout",
     "output_type": "stream",
     "text": [
      "2022-04-21 23:35:24,998 - stpipe - INFO - Using /Users/dcoe/miniconda3/envs/python3.10/lib/python3.10/site-packages/mirage/config/F277W_CLEAR_nircam_plus_ote_throughput_moda_sorted.txt filter throughput file for background calculation.\n",
      "2022-04-21 23:35:25,757 - mirage.seed_image.catalog_seed_image - INFO - Background rate determined using medium level: 0.2699153975533858\n"
     ]
    },
    {
     "name": "stderr",
     "output_type": "stream",
     "text": [
      "2022-04-21 23:35:25,757 - stpipe - INFO - Background rate determined using medium level: 0.2699153975533858\n"
     ]
    },
    {
     "name": "stdout",
     "output_type": "stream",
     "text": [
      "2022-04-21 23:35:25,757 - stpipe - INFO - Background rate determined using medium level: 0.2699153975533858\n",
      "2022-04-21 23:35:25,892 - mirage.seed_image.catalog_seed_image - INFO - No transmission file given. Assuming full transmission for all pixels, not including flat field effects. (no e.g. occulters blocking any pixels).\n"
     ]
    },
    {
     "name": "stderr",
     "output_type": "stream",
     "text": [
      "2022-04-21 23:35:25,892 - stpipe - INFO - No transmission file given. Assuming full transmission for all pixels, not including flat field effects. (no e.g. occulters blocking any pixels).\n"
     ]
    },
    {
     "name": "stdout",
     "output_type": "stream",
     "text": [
      "2022-04-21 23:35:25,892 - stpipe - INFO - No transmission file given. Assuming full transmission for all pixels, not including flat field effects. (no e.g. occulters blocking any pixels).\n",
      "2022-04-21 23:35:25,898 - mirage.seed_image.catalog_seed_image - INFO - XXXXXXXXXXXXXXXXXXXXXXXXXXXXXXXXXXXXXXXXXXXXXXXXXXXX\n"
     ]
    },
    {
     "name": "stderr",
     "output_type": "stream",
     "text": [
      "2022-04-21 23:35:25,898 - stpipe - INFO - XXXXXXXXXXXXXXXXXXXXXXXXXXXXXXXXXXXXXXXXXXXXXXXXXXXX\n"
     ]
    },
    {
     "name": "stdout",
     "output_type": "stream",
     "text": [
      "2022-04-21 23:35:25,898 - stpipe - INFO - XXXXXXXXXXXXXXXXXXXXXXXXXXXXXXXXXXXXXXXXXXXXXXXXXXXX\n",
      "2022-04-21 23:35:25,899 - mirage.seed_image.catalog_seed_image - INFO - Seed image output dimensions (x, y) are: (2048, 2048)\n"
     ]
    },
    {
     "name": "stderr",
     "output_type": "stream",
     "text": [
      "2022-04-21 23:35:25,899 - stpipe - INFO - Seed image output dimensions (x, y) are: (2048, 2048)\n"
     ]
    },
    {
     "name": "stdout",
     "output_type": "stream",
     "text": [
      "2022-04-21 23:35:25,899 - stpipe - INFO - Seed image output dimensions (x, y) are: (2048, 2048)\n",
      "2022-04-21 23:35:25,901 - mirage.seed_image.catalog_seed_image - INFO - XXXXXXXXXXXXXXXXXXXXXXXXXXXXXXXXXXXXXXXXXXXXXXXXXXXX\n"
     ]
    },
    {
     "name": "stderr",
     "output_type": "stream",
     "text": [
      "2022-04-21 23:35:25,901 - stpipe - INFO - XXXXXXXXXXXXXXXXXXXXXXXXXXXXXXXXXXXXXXXXXXXXXXXXXXXX\n"
     ]
    },
    {
     "name": "stdout",
     "output_type": "stream",
     "text": [
      "2022-04-21 23:35:25,901 - stpipe - INFO - XXXXXXXXXXXXXXXXXXXXXXXXXXXXXXXXXXXXXXXXXXXXXXXXXXXX\n",
      "2022-04-21 23:35:25,902 - mirage.seed_image.catalog_seed_image - INFO - Frametime is 10.736770000000002\n"
     ]
    },
    {
     "name": "stderr",
     "output_type": "stream",
     "text": [
      "2022-04-21 23:35:25,902 - stpipe - INFO - Frametime is 10.736770000000002\n"
     ]
    },
    {
     "name": "stdout",
     "output_type": "stream",
     "text": [
      "2022-04-21 23:35:25,902 - stpipe - INFO - Frametime is 10.736770000000002\n",
      "2022-04-21 23:35:26,364 - mirage.psf.psf_selection.get_gridded_psf_library - INFO - PSFs will be generated using: /ifs/jwst/wit/mirage_data/nircam/gridded_psf_library/nircam_nrca5_f277w_clear_fovp43_samp5_npsf16_predicted_realization0.fits\n"
     ]
    },
    {
     "name": "stderr",
     "output_type": "stream",
     "text": [
      "2022-04-21 23:35:26,364 - stpipe - INFO - PSFs will be generated using: /ifs/jwst/wit/mirage_data/nircam/gridded_psf_library/nircam_nrca5_f277w_clear_fovp43_samp5_npsf16_predicted_realization0.fits\n"
     ]
    },
    {
     "name": "stdout",
     "output_type": "stream",
     "text": [
      "2022-04-21 23:35:26,364 - stpipe - INFO - PSFs will be generated using: /ifs/jwst/wit/mirage_data/nircam/gridded_psf_library/nircam_nrca5_f277w_clear_fovp43_samp5_npsf16_predicted_realization0.fits\n",
      "2022-04-21 23:35:28,131 - mirage.psf.psf_selection.get_psf_wings - INFO - PSF wings will be from: nircam_nrca5_f277w_clear_fovp401_samp1_predicted_realization0.fits\n"
     ]
    },
    {
     "name": "stderr",
     "output_type": "stream",
     "text": [
      "2022-04-21 23:35:28,131 - stpipe - INFO - PSF wings will be from: nircam_nrca5_f277w_clear_fovp401_samp1_predicted_realization0.fits\n"
     ]
    },
    {
     "name": "stdout",
     "output_type": "stream",
     "text": [
      "2022-04-21 23:35:28,131 - stpipe - INFO - PSF wings will be from: nircam_nrca5_f277w_clear_fovp401_samp1_predicted_realization0.fits\n",
      "2022-04-21 23:35:28,215 - mirage.seed_image.catalog_seed_image - INFO - Creating signal rate image of sidereal synthetic inputs.\n"
     ]
    },
    {
     "name": "stderr",
     "output_type": "stream",
     "text": [
      "2022-04-21 23:35:28,215 - stpipe - INFO - Creating signal rate image of sidereal synthetic inputs.\n"
     ]
    },
    {
     "name": "stdout",
     "output_type": "stream",
     "text": [
      "2022-04-21 23:35:28,215 - stpipe - INFO - Creating signal rate image of sidereal synthetic inputs.\n",
      "2022-04-21 23:35:28,236 - mirage.seed_image.catalog_seed_image - INFO - Galaxy list input positions assumed to be in units of RA and Dec.\n"
     ]
    },
    {
     "name": "stderr",
     "output_type": "stream",
     "text": [
      "2022-04-21 23:35:28,236 - stpipe - INFO - Galaxy list input positions assumed to be in units of RA and Dec.\n"
     ]
    },
    {
     "name": "stdout",
     "output_type": "stream",
     "text": [
      "2022-04-21 23:35:28,236 - stpipe - INFO - Galaxy list input positions assumed to be in units of RA and Dec.\n",
      "2022-04-21 23:35:28,238 - mirage.seed_image.catalog_seed_image - INFO - Galaxy list input radii assumed to be in units of arcsec.\n"
     ]
    },
    {
     "name": "stderr",
     "output_type": "stream",
     "text": [
      "2022-04-21 23:35:28,238 - stpipe - INFO - Galaxy list input radii assumed to be in units of arcsec.\n"
     ]
    },
    {
     "name": "stdout",
     "output_type": "stream",
     "text": [
      "2022-04-21 23:35:28,238 - stpipe - INFO - Galaxy list input radii assumed to be in units of arcsec.\n",
      "2022-04-21 23:35:28,254 - mirage.seed_image.catalog_seed_image - WARNING - WARNING: Catalog MACS0647_MIRAGE_galaxy_catalog_F277W.cat does not have a magnitude column called nircam_f277w_magnitude, but does have a generic 'magnitude' column. Continuing simulation using that.\n"
     ]
    },
    {
     "name": "stderr",
     "output_type": "stream",
     "text": [
      "2022-04-21 23:35:28,254 - stpipe - WARNING - WARNING: Catalog MACS0647_MIRAGE_galaxy_catalog_F277W.cat does not have a magnitude column called nircam_f277w_magnitude, but does have a generic 'magnitude' column. Continuing simulation using that.\n"
     ]
    },
    {
     "name": "stdout",
     "output_type": "stream",
     "text": [
      "2022-04-21 23:35:28,254 - stpipe - WARNING - WARNING: Catalog MACS0647_MIRAGE_galaxy_catalog_F277W.cat does not have a magnitude column called nircam_f277w_magnitude, but does have a generic 'magnitude' column. Continuing simulation using that.\n",
      "2022-04-21 23:35:34,890 - mirage.seed_image.catalog_seed_image - INFO - Number of galaxies found within or close to the requested aperture: 980\n"
     ]
    },
    {
     "name": "stderr",
     "output_type": "stream",
     "text": [
      "2022-04-21 23:35:34,890 - stpipe - INFO - Number of galaxies found within or close to the requested aperture: 980\n"
     ]
    },
    {
     "name": "stdout",
     "output_type": "stream",
     "text": [
      "2022-04-21 23:35:34,890 - stpipe - INFO - Number of galaxies found within or close to the requested aperture: 980\n",
      "2022-04-21 23:35:35,487 - mirage.seed_image.catalog_seed_image - INFO - Working on galaxy #20. Estimated time remaining to add all galaxies to the stamp image: 9.8 minutes. Projected finish time: 2022-04-21 23:45:23.487154\n"
     ]
    },
    {
     "name": "stderr",
     "output_type": "stream",
     "text": [
      "2022-04-21 23:35:35,487 - stpipe - INFO - Working on galaxy #20. Estimated time remaining to add all galaxies to the stamp image: 9.8 minutes. Projected finish time: 2022-04-21 23:45:23.487154\n"
     ]
    },
    {
     "name": "stdout",
     "output_type": "stream",
     "text": [
      "2022-04-21 23:35:35,487 - stpipe - INFO - Working on galaxy #20. Estimated time remaining to add all galaxies to the stamp image: 9.8 minutes. Projected finish time: 2022-04-21 23:45:23.487154\n",
      "2022-04-21 23:35:36,645 - mirage.seed_image.catalog_seed_image - INFO - Working on galaxy #100. Estimated time remaining to add all galaxies to the stamp image: 1.74 minutes. Projected finish time: 2022-04-21 23:37:21.045329\n"
     ]
    },
    {
     "name": "stderr",
     "output_type": "stream",
     "text": [
      "2022-04-21 23:35:36,645 - stpipe - INFO - Working on galaxy #100. Estimated time remaining to add all galaxies to the stamp image: 1.74 minutes. Projected finish time: 2022-04-21 23:37:21.045329\n"
     ]
    },
    {
     "name": "stdout",
     "output_type": "stream",
     "text": [
      "2022-04-21 23:35:36,645 - stpipe - INFO - Working on galaxy #100. Estimated time remaining to add all galaxies to the stamp image: 1.74 minutes. Projected finish time: 2022-04-21 23:37:21.045329\n",
      "2022-04-21 23:35:37,591 - mirage.seed_image.catalog_seed_image - INFO - Working on galaxy #200. Estimated time remaining to add all galaxies to the stamp image: 0.74 minutes. Projected finish time: 2022-04-21 23:36:21.991276\n"
     ]
    },
    {
     "name": "stderr",
     "output_type": "stream",
     "text": [
      "2022-04-21 23:35:37,591 - stpipe - INFO - Working on galaxy #200. Estimated time remaining to add all galaxies to the stamp image: 0.74 minutes. Projected finish time: 2022-04-21 23:36:21.991276\n"
     ]
    },
    {
     "name": "stdout",
     "output_type": "stream",
     "text": [
      "2022-04-21 23:35:37,591 - stpipe - INFO - Working on galaxy #200. Estimated time remaining to add all galaxies to the stamp image: 0.74 minutes. Projected finish time: 2022-04-21 23:36:21.991276\n",
      "2022-04-21 23:35:38,539 - mirage.seed_image.catalog_seed_image - INFO - Working on galaxy #300. Estimated time remaining to add all galaxies to the stamp image: 0.41 minutes. Projected finish time: 2022-04-21 23:36:03.139647\n"
     ]
    },
    {
     "name": "stderr",
     "output_type": "stream",
     "text": [
      "2022-04-21 23:35:38,539 - stpipe - INFO - Working on galaxy #300. Estimated time remaining to add all galaxies to the stamp image: 0.41 minutes. Projected finish time: 2022-04-21 23:36:03.139647\n"
     ]
    },
    {
     "name": "stdout",
     "output_type": "stream",
     "text": [
      "2022-04-21 23:35:38,539 - stpipe - INFO - Working on galaxy #300. Estimated time remaining to add all galaxies to the stamp image: 0.41 minutes. Projected finish time: 2022-04-21 23:36:03.139647\n",
      "2022-04-21 23:35:39,393 - mirage.seed_image.catalog_seed_image - INFO - Working on galaxy #400. Estimated time remaining to add all galaxies to the stamp image: 0.25 minutes. Projected finish time: 2022-04-21 23:35:54.393388\n"
     ]
    },
    {
     "name": "stderr",
     "output_type": "stream",
     "text": [
      "2022-04-21 23:35:39,393 - stpipe - INFO - Working on galaxy #400. Estimated time remaining to add all galaxies to the stamp image: 0.25 minutes. Projected finish time: 2022-04-21 23:35:54.393388\n"
     ]
    },
    {
     "name": "stdout",
     "output_type": "stream",
     "text": [
      "2022-04-21 23:35:39,393 - stpipe - INFO - Working on galaxy #400. Estimated time remaining to add all galaxies to the stamp image: 0.25 minutes. Projected finish time: 2022-04-21 23:35:54.393388\n",
      "2022-04-21 23:35:40,281 - mirage.seed_image.catalog_seed_image - INFO - Working on galaxy #500. Estimated time remaining to add all galaxies to the stamp image: 0.16 minutes. Projected finish time: 2022-04-21 23:35:49.881657\n"
     ]
    },
    {
     "name": "stderr",
     "output_type": "stream",
     "text": [
      "2022-04-21 23:35:40,281 - stpipe - INFO - Working on galaxy #500. Estimated time remaining to add all galaxies to the stamp image: 0.16 minutes. Projected finish time: 2022-04-21 23:35:49.881657\n"
     ]
    },
    {
     "name": "stdout",
     "output_type": "stream",
     "text": [
      "2022-04-21 23:35:40,281 - stpipe - INFO - Working on galaxy #500. Estimated time remaining to add all galaxies to the stamp image: 0.16 minutes. Projected finish time: 2022-04-21 23:35:49.881657\n",
      "2022-04-21 23:35:41,079 - mirage.seed_image.catalog_seed_image - INFO - Working on galaxy #600. Estimated time remaining to add all galaxies to the stamp image: 0.11 minutes. Projected finish time: 2022-04-21 23:35:47.678989\n"
     ]
    },
    {
     "name": "stderr",
     "output_type": "stream",
     "text": [
      "2022-04-21 23:35:41,079 - stpipe - INFO - Working on galaxy #600. Estimated time remaining to add all galaxies to the stamp image: 0.11 minutes. Projected finish time: 2022-04-21 23:35:47.678989\n"
     ]
    },
    {
     "name": "stdout",
     "output_type": "stream",
     "text": [
      "2022-04-21 23:35:41,079 - stpipe - INFO - Working on galaxy #600. Estimated time remaining to add all galaxies to the stamp image: 0.11 minutes. Projected finish time: 2022-04-21 23:35:47.678989\n",
      "2022-04-21 23:35:41,959 - mirage.seed_image.catalog_seed_image - INFO - Working on galaxy #700. Estimated time remaining to add all galaxies to the stamp image: 0.07 minutes. Projected finish time: 2022-04-21 23:35:46.159374\n"
     ]
    },
    {
     "name": "stderr",
     "output_type": "stream",
     "text": [
      "2022-04-21 23:35:41,959 - stpipe - INFO - Working on galaxy #700. Estimated time remaining to add all galaxies to the stamp image: 0.07 minutes. Projected finish time: 2022-04-21 23:35:46.159374\n"
     ]
    },
    {
     "name": "stdout",
     "output_type": "stream",
     "text": [
      "2022-04-21 23:35:41,959 - stpipe - INFO - Working on galaxy #700. Estimated time remaining to add all galaxies to the stamp image: 0.07 minutes. Projected finish time: 2022-04-21 23:35:46.159374\n",
      "2022-04-21 23:35:42,780 - mirage.seed_image.catalog_seed_image - INFO - Working on galaxy #800. Estimated time remaining to add all galaxies to the stamp image: 0.04 minutes. Projected finish time: 2022-04-21 23:35:45.180333\n"
     ]
    },
    {
     "name": "stderr",
     "output_type": "stream",
     "text": [
      "2022-04-21 23:35:42,780 - stpipe - INFO - Working on galaxy #800. Estimated time remaining to add all galaxies to the stamp image: 0.04 minutes. Projected finish time: 2022-04-21 23:35:45.180333\n"
     ]
    },
    {
     "name": "stdout",
     "output_type": "stream",
     "text": [
      "2022-04-21 23:35:42,780 - stpipe - INFO - Working on galaxy #800. Estimated time remaining to add all galaxies to the stamp image: 0.04 minutes. Projected finish time: 2022-04-21 23:35:45.180333\n",
      "2022-04-21 23:35:43,604 - mirage.seed_image.catalog_seed_image - INFO - Working on galaxy #900. Estimated time remaining to add all galaxies to the stamp image: 0.01 minutes. Projected finish time: 2022-04-21 23:35:44.204444\n"
     ]
    },
    {
     "name": "stderr",
     "output_type": "stream",
     "text": [
      "2022-04-21 23:35:43,604 - stpipe - INFO - Working on galaxy #900. Estimated time remaining to add all galaxies to the stamp image: 0.01 minutes. Projected finish time: 2022-04-21 23:35:44.204444\n"
     ]
    },
    {
     "name": "stdout",
     "output_type": "stream",
     "text": [
      "2022-04-21 23:35:43,604 - stpipe - INFO - Working on galaxy #900. Estimated time remaining to add all galaxies to the stamp image: 0.01 minutes. Projected finish time: 2022-04-21 23:35:44.204444\n",
      "2022-04-21 23:35:44,469 - mirage.seed_image.catalog_seed_image - INFO - Seed image is 2D.\n"
     ]
    },
    {
     "name": "stderr",
     "output_type": "stream",
     "text": [
      "2022-04-21 23:35:44,469 - stpipe - INFO - Seed image is 2D.\n"
     ]
    },
    {
     "name": "stdout",
     "output_type": "stream",
     "text": [
      "2022-04-21 23:35:44,469 - stpipe - INFO - Seed image is 2D.\n",
      "2022-04-21 23:35:44,861 - mirage.seed_image.catalog_seed_image - INFO - Simulated galaxy image and segmap saved as /Users/dcoe/NIRCam/MIRAGE/2022April/images/F277W/jw01433010001_01101_00010_nrca5_uncal_F277W_CLEAR_galaxy_seed_image.fits\n"
     ]
    },
    {
     "name": "stderr",
     "output_type": "stream",
     "text": [
      "2022-04-21 23:35:44,861 - stpipe - INFO - Simulated galaxy image and segmap saved as /Users/dcoe/NIRCam/MIRAGE/2022April/images/F277W/jw01433010001_01101_00010_nrca5_uncal_F277W_CLEAR_galaxy_seed_image.fits\n"
     ]
    },
    {
     "name": "stdout",
     "output_type": "stream",
     "text": [
      "2022-04-21 23:35:44,861 - stpipe - INFO - Simulated galaxy image and segmap saved as /Users/dcoe/NIRCam/MIRAGE/2022April/images/F277W/jw01433010001_01101_00010_nrca5_uncal_F277W_CLEAR_galaxy_seed_image.fits\n",
      "2022-04-21 23:35:45,022 - mirage.seed_image.catalog_seed_image - INFO - Multiplying seed by POM transmission image.\n"
     ]
    },
    {
     "name": "stderr",
     "output_type": "stream",
     "text": [
      "2022-04-21 23:35:45,022 - stpipe - INFO - Multiplying seed by POM transmission image.\n"
     ]
    },
    {
     "name": "stdout",
     "output_type": "stream",
     "text": [
      "2022-04-21 23:35:45,022 - stpipe - INFO - Multiplying seed by POM transmission image.\n",
      "2022-04-21 23:35:45,029 - mirage.seed_image.catalog_seed_image - INFO - Seed image is 2D.\n"
     ]
    },
    {
     "name": "stderr",
     "output_type": "stream",
     "text": [
      "2022-04-21 23:35:45,029 - stpipe - INFO - Seed image is 2D.\n"
     ]
    },
    {
     "name": "stdout",
     "output_type": "stream",
     "text": [
      "2022-04-21 23:35:45,029 - stpipe - INFO - Seed image is 2D.\n",
      "2022-04-21 23:35:45,372 - mirage.seed_image.catalog_seed_image - INFO - Final seed image and segmentation map saved as /Users/dcoe/NIRCam/MIRAGE/2022April/images/F277W/jw01433010001_01101_00010_nrca5_uncal_F277W_CLEAR_final_seed_image.fits\n"
     ]
    },
    {
     "name": "stderr",
     "output_type": "stream",
     "text": [
      "2022-04-21 23:35:45,372 - stpipe - INFO - Final seed image and segmentation map saved as /Users/dcoe/NIRCam/MIRAGE/2022April/images/F277W/jw01433010001_01101_00010_nrca5_uncal_F277W_CLEAR_final_seed_image.fits\n"
     ]
    },
    {
     "name": "stdout",
     "output_type": "stream",
     "text": [
      "2022-04-21 23:35:45,372 - stpipe - INFO - Final seed image and segmentation map saved as /Users/dcoe/NIRCam/MIRAGE/2022April/images/F277W/jw01433010001_01101_00010_nrca5_uncal_F277W_CLEAR_final_seed_image.fits\n",
      "2022-04-21 23:35:45,374 - mirage.seed_image.catalog_seed_image - INFO - Seed image, segmentation map, and metadata available as:\n"
     ]
    },
    {
     "name": "stderr",
     "output_type": "stream",
     "text": [
      "2022-04-21 23:35:45,374 - stpipe - INFO - Seed image, segmentation map, and metadata available as:\n"
     ]
    },
    {
     "name": "stdout",
     "output_type": "stream",
     "text": [
      "2022-04-21 23:35:45,374 - stpipe - INFO - Seed image, segmentation map, and metadata available as:\n",
      "2022-04-21 23:35:45,375 - mirage.seed_image.catalog_seed_image - INFO - self.seedimage, self.seed_segmap, self.seedinfo.\n"
     ]
    },
    {
     "name": "stderr",
     "output_type": "stream",
     "text": [
      "2022-04-21 23:35:45,375 - stpipe - INFO - self.seedimage, self.seed_segmap, self.seedinfo.\n"
     ]
    },
    {
     "name": "stdout",
     "output_type": "stream",
     "text": [
      "2022-04-21 23:35:45,375 - stpipe - INFO - self.seedimage, self.seed_segmap, self.seedinfo.\n",
      "2022-04-21 23:35:45,377 - mirage.seed_image.catalog_seed_image - INFO - \n"
     ]
    },
    {
     "name": "stderr",
     "output_type": "stream",
     "text": [
      "2022-04-21 23:35:45,377 - stpipe - INFO - \n"
     ]
    },
    {
     "name": "stdout",
     "output_type": "stream",
     "text": [
      "2022-04-21 23:35:45,377 - stpipe - INFO - \n",
      "2022-04-21 23:35:45,379 - mirage.seed_image.catalog_seed_image - INFO - \n"
     ]
    },
    {
     "name": "stderr",
     "output_type": "stream",
     "text": [
      "2022-04-21 23:35:45,379 - stpipe - INFO - \n"
     ]
    },
    {
     "name": "stdout",
     "output_type": "stream",
     "text": [
      "2022-04-21 23:35:45,379 - stpipe - INFO - \n",
      "2022-04-21 23:35:45,383 - mirage.imaging_simulator - INFO - Perform dark preparation:\n"
     ]
    },
    {
     "name": "stderr",
     "output_type": "stream",
     "text": [
      "2022-04-21 23:35:45,383 - stpipe - INFO - Perform dark preparation:\n"
     ]
    },
    {
     "name": "stdout",
     "output_type": "stream",
     "text": [
      "2022-04-21 23:35:45,383 - stpipe - INFO - Perform dark preparation:\n",
      "2022-04-21 23:35:45,415 - mirage.dark.dark_prep - INFO - \n"
     ]
    },
    {
     "name": "stderr",
     "output_type": "stream",
     "text": [
      "2022-04-21 23:35:45,415 - stpipe - INFO - \n"
     ]
    },
    {
     "name": "stdout",
     "output_type": "stream",
     "text": [
      "2022-04-21 23:35:45,415 - stpipe - INFO - \n",
      "2022-04-21 23:35:45,417 - mirage.dark.dark_prep - INFO - \n"
     ]
    },
    {
     "name": "stderr",
     "output_type": "stream",
     "text": [
      "2022-04-21 23:35:45,417 - stpipe - INFO - \n"
     ]
    },
    {
     "name": "stdout",
     "output_type": "stream",
     "text": [
      "2022-04-21 23:35:45,417 - stpipe - INFO - \n",
      "2022-04-21 23:35:45,418 - mirage.dark.dark_prep - INFO - Running dark_prep..\n"
     ]
    },
    {
     "name": "stderr",
     "output_type": "stream",
     "text": [
      "2022-04-21 23:35:45,418 - stpipe - INFO - Running dark_prep..\n"
     ]
    },
    {
     "name": "stdout",
     "output_type": "stream",
     "text": [
      "2022-04-21 23:35:45,418 - stpipe - INFO - Running dark_prep..\n",
      "2022-04-21 23:35:45,420 - mirage.dark.dark_prep - INFO - \n"
     ]
    },
    {
     "name": "stderr",
     "output_type": "stream",
     "text": [
      "2022-04-21 23:35:45,420 - stpipe - INFO - \n"
     ]
    },
    {
     "name": "stdout",
     "output_type": "stream",
     "text": [
      "2022-04-21 23:35:45,420 - stpipe - INFO - \n",
      "2022-04-21 23:35:45,422 - mirage.dark.dark_prep - INFO - Reading parameter file: ./yaml/F277W/jw01433010001_01101_00010_nrca5.yaml\n"
     ]
    },
    {
     "name": "stderr",
     "output_type": "stream",
     "text": [
      "2022-04-21 23:35:45,422 - stpipe - INFO - Reading parameter file: ./yaml/F277W/jw01433010001_01101_00010_nrca5.yaml\n"
     ]
    },
    {
     "name": "stdout",
     "output_type": "stream",
     "text": [
      "2022-04-21 23:35:45,422 - stpipe - INFO - Reading parameter file: ./yaml/F277W/jw01433010001_01101_00010_nrca5.yaml\n",
      "2022-04-21 23:35:45,424 - mirage.dark.dark_prep - INFO - \n"
     ]
    },
    {
     "name": "stderr",
     "output_type": "stream",
     "text": [
      "2022-04-21 23:35:45,424 - stpipe - INFO - \n"
     ]
    },
    {
     "name": "stdout",
     "output_type": "stream",
     "text": [
      "2022-04-21 23:35:45,424 - stpipe - INFO - \n",
      "2022-04-21 23:35:45,426 - mirage.dark.dark_prep - INFO - Original log file name: ./mirage_latest.log\n"
     ]
    },
    {
     "name": "stderr",
     "output_type": "stream",
     "text": [
      "2022-04-21 23:35:45,426 - stpipe - INFO - Original log file name: ./mirage_latest.log\n"
     ]
    },
    {
     "name": "stdout",
     "output_type": "stream",
     "text": [
      "2022-04-21 23:35:45,426 - stpipe - INFO - Original log file name: ./mirage_latest.log\n",
      "2022-04-21 23:35:45,429 - mirage.utils.utils.full_paths - INFO - From CRDS, found /Users/dcoe/crds_cache/references/jwst/nircam/jwst_nircam_mask_0052.fits as the badpixmask reference file.\n"
     ]
    },
    {
     "name": "stderr",
     "output_type": "stream",
     "text": [
      "2022-04-21 23:35:45,429 - stpipe - INFO - From CRDS, found /Users/dcoe/crds_cache/references/jwst/nircam/jwst_nircam_mask_0052.fits as the badpixmask reference file.\n"
     ]
    },
    {
     "name": "stdout",
     "output_type": "stream",
     "text": [
      "2022-04-21 23:35:45,429 - stpipe - INFO - From CRDS, found /Users/dcoe/crds_cache/references/jwst/nircam/jwst_nircam_mask_0052.fits as the badpixmask reference file.\n",
      "2022-04-21 23:35:45,431 - mirage.utils.utils.full_paths - INFO - From CRDS, found /Users/dcoe/crds_cache/references/jwst/nircam/jwst_nircam_superbias_0022.fits as the superbias reference file.\n"
     ]
    },
    {
     "name": "stderr",
     "output_type": "stream",
     "text": [
      "2022-04-21 23:35:45,431 - stpipe - INFO - From CRDS, found /Users/dcoe/crds_cache/references/jwst/nircam/jwst_nircam_superbias_0022.fits as the superbias reference file.\n"
     ]
    },
    {
     "name": "stdout",
     "output_type": "stream",
     "text": [
      "2022-04-21 23:35:45,431 - stpipe - INFO - From CRDS, found /Users/dcoe/crds_cache/references/jwst/nircam/jwst_nircam_superbias_0022.fits as the superbias reference file.\n",
      "2022-04-21 23:35:45,434 - mirage.utils.utils.full_paths - INFO - From CRDS, found /Users/dcoe/crds_cache/references/jwst/nircam/jwst_nircam_linearity_0052.fits as the linearity reference file.\n"
     ]
    },
    {
     "name": "stderr",
     "output_type": "stream",
     "text": [
      "2022-04-21 23:35:45,434 - stpipe - INFO - From CRDS, found /Users/dcoe/crds_cache/references/jwst/nircam/jwst_nircam_linearity_0052.fits as the linearity reference file.\n"
     ]
    },
    {
     "name": "stdout",
     "output_type": "stream",
     "text": [
      "2022-04-21 23:35:45,434 - stpipe - INFO - From CRDS, found /Users/dcoe/crds_cache/references/jwst/nircam/jwst_nircam_linearity_0052.fits as the linearity reference file.\n",
      "2022-04-21 23:35:45,436 - mirage.utils.utils.full_paths - INFO - From CRDS, found /Users/dcoe/crds_cache/references/jwst/nircam/jwst_nircam_saturation_0091.fits as the saturation reference file.\n"
     ]
    },
    {
     "name": "stderr",
     "output_type": "stream",
     "text": [
      "2022-04-21 23:35:45,436 - stpipe - INFO - From CRDS, found /Users/dcoe/crds_cache/references/jwst/nircam/jwst_nircam_saturation_0091.fits as the saturation reference file.\n"
     ]
    },
    {
     "name": "stdout",
     "output_type": "stream",
     "text": [
      "2022-04-21 23:35:45,436 - stpipe - INFO - From CRDS, found /Users/dcoe/crds_cache/references/jwst/nircam/jwst_nircam_saturation_0091.fits as the saturation reference file.\n",
      "2022-04-21 23:35:45,439 - mirage.utils.utils.full_paths - INFO - From CRDS, found /Users/dcoe/crds_cache/references/jwst/nircam/jwst_nircam_gain_0056.fits as the gain reference file.\n"
     ]
    },
    {
     "name": "stderr",
     "output_type": "stream",
     "text": [
      "2022-04-21 23:35:45,439 - stpipe - INFO - From CRDS, found /Users/dcoe/crds_cache/references/jwst/nircam/jwst_nircam_gain_0056.fits as the gain reference file.\n"
     ]
    },
    {
     "name": "stdout",
     "output_type": "stream",
     "text": [
      "2022-04-21 23:35:45,439 - stpipe - INFO - From CRDS, found /Users/dcoe/crds_cache/references/jwst/nircam/jwst_nircam_gain_0056.fits as the gain reference file.\n",
      "2022-04-21 23:35:45,442 - mirage.utils.utils.full_paths - INFO - From CRDS, found /Users/dcoe/crds_cache/references/jwst/nircam/jwst_nircam_flat_0266.fits as the pixelflat reference file.\n"
     ]
    },
    {
     "name": "stderr",
     "output_type": "stream",
     "text": [
      "2022-04-21 23:35:45,442 - stpipe - INFO - From CRDS, found /Users/dcoe/crds_cache/references/jwst/nircam/jwst_nircam_flat_0266.fits as the pixelflat reference file.\n"
     ]
    },
    {
     "name": "stdout",
     "output_type": "stream",
     "text": [
      "2022-04-21 23:35:45,442 - stpipe - INFO - From CRDS, found /Users/dcoe/crds_cache/references/jwst/nircam/jwst_nircam_flat_0266.fits as the pixelflat reference file.\n",
      "2022-04-21 23:35:45,445 - mirage.utils.utils.full_paths - INFO - From CRDS, found /Users/dcoe/crds_cache/references/jwst/nircam/jwst_nircam_ipc_0028.fits as the ipc reference file.\n"
     ]
    },
    {
     "name": "stderr",
     "output_type": "stream",
     "text": [
      "2022-04-21 23:35:45,445 - stpipe - INFO - From CRDS, found /Users/dcoe/crds_cache/references/jwst/nircam/jwst_nircam_ipc_0028.fits as the ipc reference file.\n"
     ]
    },
    {
     "name": "stdout",
     "output_type": "stream",
     "text": [
      "2022-04-21 23:35:45,445 - stpipe - INFO - From CRDS, found /Users/dcoe/crds_cache/references/jwst/nircam/jwst_nircam_ipc_0028.fits as the ipc reference file.\n",
      "2022-04-21 23:35:45,446 - mirage.utils.utils.full_paths - INFO - Found an existing inverted kernel for this IPC file: /Users/dcoe/crds_cache/references/jwst/nircam/Kernel_to_add_IPC_effects_from_jwst_nircam_ipc_0028.fits\n"
     ]
    },
    {
     "name": "stderr",
     "output_type": "stream",
     "text": [
      "2022-04-21 23:35:45,446 - stpipe - INFO - Found an existing inverted kernel for this IPC file: /Users/dcoe/crds_cache/references/jwst/nircam/Kernel_to_add_IPC_effects_from_jwst_nircam_ipc_0028.fits\n"
     ]
    },
    {
     "name": "stdout",
     "output_type": "stream",
     "text": [
      "2022-04-21 23:35:45,446 - stpipe - INFO - Found an existing inverted kernel for this IPC file: /Users/dcoe/crds_cache/references/jwst/nircam/Kernel_to_add_IPC_effects_from_jwst_nircam_ipc_0028.fits\n",
      "2022-04-21 23:35:45,449 - mirage.utils.utils.full_paths - INFO - From CRDS, found /Users/dcoe/crds_cache/references/jwst/nircam/jwst_nircam_distortion_0133.asdf as the astrometric reference file.\n"
     ]
    },
    {
     "name": "stderr",
     "output_type": "stream",
     "text": [
      "2022-04-21 23:35:45,449 - stpipe - INFO - From CRDS, found /Users/dcoe/crds_cache/references/jwst/nircam/jwst_nircam_distortion_0133.asdf as the astrometric reference file.\n"
     ]
    },
    {
     "name": "stdout",
     "output_type": "stream",
     "text": [
      "2022-04-21 23:35:45,449 - stpipe - INFO - From CRDS, found /Users/dcoe/crds_cache/references/jwst/nircam/jwst_nircam_distortion_0133.asdf as the astrometric reference file.\n",
      "2022-04-21 23:35:45,452 - mirage.utils.utils.full_paths - INFO - From CRDS, found /Users/dcoe/crds_cache/references/jwst/nircam/jwst_nircam_area_0015.fits as the pixelAreaMap reference file.\n"
     ]
    },
    {
     "name": "stderr",
     "output_type": "stream",
     "text": [
      "2022-04-21 23:35:45,452 - stpipe - INFO - From CRDS, found /Users/dcoe/crds_cache/references/jwst/nircam/jwst_nircam_area_0015.fits as the pixelAreaMap reference file.\n"
     ]
    },
    {
     "name": "stdout",
     "output_type": "stream",
     "text": [
      "2022-04-21 23:35:45,452 - stpipe - INFO - From CRDS, found /Users/dcoe/crds_cache/references/jwst/nircam/jwst_nircam_area_0015.fits as the pixelAreaMap reference file.\n",
      "2022-04-21 23:35:45,454 - mirage.reference_files.utils.get_transmission_file - INFO - POM Transmission filename: None\n"
     ]
    },
    {
     "name": "stderr",
     "output_type": "stream",
     "text": [
      "2022-04-21 23:35:45,454 - stpipe - INFO - POM Transmission filename: None\n"
     ]
    },
    {
     "name": "stdout",
     "output_type": "stream",
     "text": [
      "2022-04-21 23:35:45,454 - stpipe - INFO - POM Transmission filename: None\n",
      "2022-04-21 23:35:45,456 - mirage.utils.utils.full_paths - INFO - From grism library, found None as the POM transmission file.\n"
     ]
    },
    {
     "name": "stderr",
     "output_type": "stream",
     "text": [
      "2022-04-21 23:35:45,456 - stpipe - INFO - From grism library, found None as the POM transmission file.\n"
     ]
    },
    {
     "name": "stdout",
     "output_type": "stream",
     "text": [
      "2022-04-21 23:35:45,456 - stpipe - INFO - From grism library, found None as the POM transmission file.\n",
      "2022-04-21 23:35:45,458 - mirage.utils.utils.full_paths - INFO - From CRDS, found /Users/dcoe/crds_cache/references/jwst/nircam/jwst_nircam_photom_0092.fits as the photom reference file.\n"
     ]
    },
    {
     "name": "stderr",
     "output_type": "stream",
     "text": [
      "2022-04-21 23:35:45,458 - stpipe - INFO - From CRDS, found /Users/dcoe/crds_cache/references/jwst/nircam/jwst_nircam_photom_0092.fits as the photom reference file.\n"
     ]
    },
    {
     "name": "stdout",
     "output_type": "stream",
     "text": [
      "2022-04-21 23:35:45,458 - stpipe - INFO - From CRDS, found /Users/dcoe/crds_cache/references/jwst/nircam/jwst_nircam_photom_0092.fits as the photom reference file.\n",
      "2022-04-21 23:35:45,539 - mirage.dark.dark_prep - INFO - Requested readout pattern SHALLOW4 is valid. Using the nframe = 4 and nskip = 1\n"
     ]
    },
    {
     "name": "stderr",
     "output_type": "stream",
     "text": [
      "2022-04-21 23:35:45,539 - stpipe - INFO - Requested readout pattern SHALLOW4 is valid. Using the nframe = 4 and nskip = 1\n"
     ]
    },
    {
     "name": "stdout",
     "output_type": "stream",
     "text": [
      "2022-04-21 23:35:45,539 - stpipe - INFO - Requested readout pattern SHALLOW4 is valid. Using the nframe = 4 and nskip = 1\n",
      "2022-04-21 23:35:46,009 - mirage.dark.dark_prep - INFO - File splitting enabled. Starting integration numbers for all file segments: [0 1]\n"
     ]
    },
    {
     "name": "stderr",
     "output_type": "stream",
     "text": [
      "2022-04-21 23:35:46,009 - stpipe - INFO - File splitting enabled. Starting integration numbers for all file segments: [0 1]\n"
     ]
    },
    {
     "name": "stdout",
     "output_type": "stream",
     "text": [
      "2022-04-21 23:35:46,009 - stpipe - INFO - File splitting enabled. Starting integration numbers for all file segments: [0 1]\n",
      "2022-04-21 23:35:46,011 - mirage.dark.dark_prep - INFO - Segment number: 0\n"
     ]
    },
    {
     "name": "stderr",
     "output_type": "stream",
     "text": [
      "2022-04-21 23:35:46,011 - stpipe - INFO - Segment number: 0\n"
     ]
    },
    {
     "name": "stdout",
     "output_type": "stream",
     "text": [
      "2022-04-21 23:35:46,011 - stpipe - INFO - Segment number: 0\n",
      "2022-04-21 23:35:46,013 - mirage.dark.dark_prep - INFO - Number of integrations: 1\n"
     ]
    },
    {
     "name": "stderr",
     "output_type": "stream",
     "text": [
      "2022-04-21 23:35:46,013 - stpipe - INFO - Number of integrations: 1\n"
     ]
    },
    {
     "name": "stdout",
     "output_type": "stream",
     "text": [
      "2022-04-21 23:35:46,013 - stpipe - INFO - Number of integrations: 1\n",
      "2022-04-21 23:35:46,014 - mirage.dark.dark_prep - INFO - Dark files to use:\n"
     ]
    },
    {
     "name": "stderr",
     "output_type": "stream",
     "text": [
      "2022-04-21 23:35:46,014 - stpipe - INFO - Dark files to use:\n"
     ]
    },
    {
     "name": "stdout",
     "output_type": "stream",
     "text": [
      "2022-04-21 23:35:46,014 - stpipe - INFO - Dark files to use:\n",
      "2022-04-21 23:35:46,016 - mirage.dark.dark_prep - INFO - /ifs/jwst/wit/mirage_data/nircam/darks/linearized/A5/Linearized_Dark_and_SBRefpix_NRCNRCALONG-DARK-53561155591_1_485_SE_2015-12-22T14h23m28_uncal.fits\n"
     ]
    },
    {
     "name": "stderr",
     "output_type": "stream",
     "text": [
      "2022-04-21 23:35:46,016 - stpipe - INFO - /ifs/jwst/wit/mirage_data/nircam/darks/linearized/A5/Linearized_Dark_and_SBRefpix_NRCNRCALONG-DARK-53561155591_1_485_SE_2015-12-22T14h23m28_uncal.fits\n"
     ]
    },
    {
     "name": "stdout",
     "output_type": "stream",
     "text": [
      "2022-04-21 23:35:46,016 - stpipe - INFO - /ifs/jwst/wit/mirage_data/nircam/darks/linearized/A5/Linearized_Dark_and_SBRefpix_NRCNRCALONG-DARK-53561155591_1_485_SE_2015-12-22T14h23m28_uncal.fits\n",
      "2022-04-21 23:35:46,018 - mirage.dark.dark_prep - INFO - Working on dark file: /ifs/jwst/wit/mirage_data/nircam/darks/linearized/A5/Linearized_Dark_and_SBRefpix_NRCNRCALONG-DARK-53561155591_1_485_SE_2015-12-22T14h23m28_uncal.fits\n"
     ]
    },
    {
     "name": "stderr",
     "output_type": "stream",
     "text": [
      "2022-04-21 23:35:46,018 - stpipe - INFO - Working on dark file: /ifs/jwst/wit/mirage_data/nircam/darks/linearized/A5/Linearized_Dark_and_SBRefpix_NRCNRCALONG-DARK-53561155591_1_485_SE_2015-12-22T14h23m28_uncal.fits\n"
     ]
    },
    {
     "name": "stdout",
     "output_type": "stream",
     "text": [
      "2022-04-21 23:35:46,018 - stpipe - INFO - Working on dark file: /ifs/jwst/wit/mirage_data/nircam/darks/linearized/A5/Linearized_Dark_and_SBRefpix_NRCNRCALONG-DARK-53561155591_1_485_SE_2015-12-22T14h23m28_uncal.fits\n",
      "2022-04-21 23:35:46,020 - mirage.dark.dark_prep - INFO - Reading in linearized dark current ramp from /ifs/jwst/wit/mirage_data/nircam/darks/linearized/A5/Linearized_Dark_and_SBRefpix_NRCNRCALONG-DARK-53561155591_1_485_SE_2015-12-22T14h23m28_uncal.fits\n"
     ]
    },
    {
     "name": "stderr",
     "output_type": "stream",
     "text": [
      "2022-04-21 23:35:46,020 - stpipe - INFO - Reading in linearized dark current ramp from /ifs/jwst/wit/mirage_data/nircam/darks/linearized/A5/Linearized_Dark_and_SBRefpix_NRCNRCALONG-DARK-53561155591_1_485_SE_2015-12-22T14h23m28_uncal.fits\n"
     ]
    },
    {
     "name": "stdout",
     "output_type": "stream",
     "text": [
      "2022-04-21 23:35:46,020 - stpipe - INFO - Reading in linearized dark current ramp from /ifs/jwst/wit/mirage_data/nircam/darks/linearized/A5/Linearized_Dark_and_SBRefpix_NRCNRCALONG-DARK-53561155591_1_485_SE_2015-12-22T14h23m28_uncal.fits\n",
      "2022-04-21 23:35:46,511 - mirage.dark.dark_prep - INFO - Averaging dark current ramp. Frames [0 1 2 3], to become group 0\n"
     ]
    },
    {
     "name": "stderr",
     "output_type": "stream",
     "text": [
      "2022-04-21 23:35:46,511 - stpipe - INFO - Averaging dark current ramp. Frames [0 1 2 3], to become group 0\n"
     ]
    },
    {
     "name": "stdout",
     "output_type": "stream",
     "text": [
      "2022-04-21 23:35:46,511 - stpipe - INFO - Averaging dark current ramp. Frames [0 1 2 3], to become group 0\n",
      "2022-04-21 23:36:21,757 - mirage.dark.dark_prep - INFO - Averaging dark current ramp. Frames [5 6 7 8], to become group 1\n"
     ]
    },
    {
     "name": "stderr",
     "output_type": "stream",
     "text": [
      "2022-04-21 23:36:21,757 - stpipe - INFO - Averaging dark current ramp. Frames [5 6 7 8], to become group 1\n"
     ]
    },
    {
     "name": "stdout",
     "output_type": "stream",
     "text": [
      "2022-04-21 23:36:21,757 - stpipe - INFO - Averaging dark current ramp. Frames [5 6 7 8], to become group 1\n",
      "2022-04-21 23:37:02,007 - mirage.dark.dark_prep - INFO - Averaging dark current ramp. Frames [10 11 12 13], to become group 2\n"
     ]
    },
    {
     "name": "stderr",
     "output_type": "stream",
     "text": [
      "2022-04-21 23:37:02,007 - stpipe - INFO - Averaging dark current ramp. Frames [10 11 12 13], to become group 2\n"
     ]
    },
    {
     "name": "stdout",
     "output_type": "stream",
     "text": [
      "2022-04-21 23:37:02,007 - stpipe - INFO - Averaging dark current ramp. Frames [10 11 12 13], to become group 2\n",
      "2022-04-21 23:37:51,176 - mirage.dark.dark_prep - INFO - Averaging dark current ramp. Frames [15 16 17 18], to become group 3\n"
     ]
    },
    {
     "name": "stderr",
     "output_type": "stream",
     "text": [
      "2022-04-21 23:37:51,176 - stpipe - INFO - Averaging dark current ramp. Frames [15 16 17 18], to become group 3\n"
     ]
    },
    {
     "name": "stdout",
     "output_type": "stream",
     "text": [
      "2022-04-21 23:37:51,176 - stpipe - INFO - Averaging dark current ramp. Frames [15 16 17 18], to become group 3\n",
      "2022-04-21 23:38:42,448 - mirage.dark.dark_prep - INFO - Averaging dark current ramp. Frames [20 21 22 23], to become group 4\n"
     ]
    },
    {
     "name": "stderr",
     "output_type": "stream",
     "text": [
      "2022-04-21 23:38:42,448 - stpipe - INFO - Averaging dark current ramp. Frames [20 21 22 23], to become group 4\n"
     ]
    },
    {
     "name": "stdout",
     "output_type": "stream",
     "text": [
      "2022-04-21 23:38:42,448 - stpipe - INFO - Averaging dark current ramp. Frames [20 21 22 23], to become group 4\n",
      "2022-04-21 23:39:39,446 - mirage.dark.dark_prep - INFO - Averaging dark current ramp. Frames [25 26 27 28], to become group 5\n"
     ]
    },
    {
     "name": "stderr",
     "output_type": "stream",
     "text": [
      "2022-04-21 23:39:39,446 - stpipe - INFO - Averaging dark current ramp. Frames [25 26 27 28], to become group 5\n"
     ]
    },
    {
     "name": "stdout",
     "output_type": "stream",
     "text": [
      "2022-04-21 23:39:39,446 - stpipe - INFO - Averaging dark current ramp. Frames [25 26 27 28], to become group 5\n",
      "2022-04-21 23:41:08,435 - mirage.dark.dark_prep - INFO - Averaging dark current ramp. Frames [30 31 32 33], to become group 6\n"
     ]
    },
    {
     "name": "stderr",
     "output_type": "stream",
     "text": [
      "2022-04-21 23:41:08,435 - stpipe - INFO - Averaging dark current ramp. Frames [30 31 32 33], to become group 6\n"
     ]
    },
    {
     "name": "stdout",
     "output_type": "stream",
     "text": [
      "2022-04-21 23:41:08,435 - stpipe - INFO - Averaging dark current ramp. Frames [30 31 32 33], to become group 6\n",
      "2022-04-21 23:42:35,275 - mirage.dark.dark_prep - INFO - Averaging dark current ramp. Frames [35 36 37 38], to become group 7\n"
     ]
    },
    {
     "name": "stderr",
     "output_type": "stream",
     "text": [
      "2022-04-21 23:42:35,275 - stpipe - INFO - Averaging dark current ramp. Frames [35 36 37 38], to become group 7\n"
     ]
    },
    {
     "name": "stdout",
     "output_type": "stream",
     "text": [
      "2022-04-21 23:42:35,275 - stpipe - INFO - Averaging dark current ramp. Frames [35 36 37 38], to become group 7\n",
      "2022-04-21 23:44:01,027 - mirage.dark.dark_prep - INFO - Averaging dark current ramp. Frames [40 41 42 43], to become group 8\n"
     ]
    },
    {
     "name": "stderr",
     "output_type": "stream",
     "text": [
      "2022-04-21 23:44:01,027 - stpipe - INFO - Averaging dark current ramp. Frames [40 41 42 43], to become group 8\n"
     ]
    },
    {
     "name": "stdout",
     "output_type": "stream",
     "text": [
      "2022-04-21 23:44:01,027 - stpipe - INFO - Averaging dark current ramp. Frames [40 41 42 43], to become group 8\n",
      "2022-04-21 23:45:33,980 - mirage.dark.dark_prep - INFO - Averaging dark current ramp. Frames [45 46 47 48], to become group 9\n"
     ]
    },
    {
     "name": "stderr",
     "output_type": "stream",
     "text": [
      "2022-04-21 23:45:33,980 - stpipe - INFO - Averaging dark current ramp. Frames [45 46 47 48], to become group 9\n"
     ]
    },
    {
     "name": "stdout",
     "output_type": "stream",
     "text": [
      "2022-04-21 23:45:33,980 - stpipe - INFO - Averaging dark current ramp. Frames [45 46 47 48], to become group 9\n",
      "2022-04-21 23:46:54,693 - mirage.dark.dark_prep - INFO - DARK has been reordered to (1, 10, 2048, 2048) to match the input readpattern of SHALLOW4\n"
     ]
    },
    {
     "name": "stderr",
     "output_type": "stream",
     "text": [
      "2022-04-21 23:46:54,693 - stpipe - INFO - DARK has been reordered to (1, 10, 2048, 2048) to match the input readpattern of SHALLOW4\n"
     ]
    },
    {
     "name": "stdout",
     "output_type": "stream",
     "text": [
      "2022-04-21 23:46:54,693 - stpipe - INFO - DARK has been reordered to (1, 10, 2048, 2048) to match the input readpattern of SHALLOW4\n",
      "2022-04-21 23:46:54,698 - mirage.dark.dark_prep - INFO - Setting integration 0 to use file Linearized_Dark_and_SBRefpix_NRCNRCALONG-DARK-53561155591_1_485_SE_2015-12-22T14h23m28_uncal.fits\n"
     ]
    },
    {
     "name": "stderr",
     "output_type": "stream",
     "text": [
      "2022-04-21 23:46:54,698 - stpipe - INFO - Setting integration 0 to use file Linearized_Dark_and_SBRefpix_NRCNRCALONG-DARK-53561155591_1_485_SE_2015-12-22T14h23m28_uncal.fits\n"
     ]
    },
    {
     "name": "stdout",
     "output_type": "stream",
     "text": [
      "2022-04-21 23:46:54,698 - stpipe - INFO - Setting integration 0 to use file Linearized_Dark_and_SBRefpix_NRCNRCALONG-DARK-53561155591_1_485_SE_2015-12-22T14h23m28_uncal.fits\n",
      "2022-04-21 23:46:54,700 - mirage.dark.dark_prep - INFO - \n"
     ]
    },
    {
     "name": "stderr",
     "output_type": "stream",
     "text": [
      "2022-04-21 23:46:54,700 - stpipe - INFO - \n"
     ]
    },
    {
     "name": "stdout",
     "output_type": "stream",
     "text": [
      "2022-04-21 23:46:54,700 - stpipe - INFO - \n",
      "2022-04-21 23:47:05,180 - py.warnings - WARNING - /Users/dcoe/miniconda3/envs/python3.10/lib/python3.10/site-packages/astropy/io/fits/card.py:1009: VerifyWarning: Card is too long, comment will be truncated.\n",
      "  warnings.warn('Card is too long, comment will be truncated.',\n",
      "\n"
     ]
    },
    {
     "name": "stderr",
     "output_type": "stream",
     "text": [
      "2022-04-21 23:47:05,180 - stpipe - WARNING - /Users/dcoe/miniconda3/envs/python3.10/lib/python3.10/site-packages/astropy/io/fits/card.py:1009: VerifyWarning: Card is too long, comment will be truncated.\n",
      "  warnings.warn('Card is too long, comment will be truncated.',\n",
      "\n"
     ]
    },
    {
     "name": "stdout",
     "output_type": "stream",
     "text": [
      "2022-04-21 23:47:05,180 - stpipe - WARNING - /Users/dcoe/miniconda3/envs/python3.10/lib/python3.10/site-packages/astropy/io/fits/card.py:1009: VerifyWarning: Card is too long, comment will be truncated.\n",
      "  warnings.warn('Card is too long, comment will be truncated.',\n",
      "\n",
      "2022-04-21 23:47:06,365 - mirage.dark.dark_prep - INFO - Linearized dark frame plus superbias and referencepixel signals, as well as zeroframe, saved to /Users/dcoe/NIRCam/MIRAGE/2022April/images/F277W/jw01433010001_01101_00010_nrca5_uncal_linear_dark_prep_object.fits. This can be used as input to the observation generator.\n"
     ]
    },
    {
     "name": "stderr",
     "output_type": "stream",
     "text": [
      "2022-04-21 23:47:06,365 - stpipe - INFO - Linearized dark frame plus superbias and referencepixel signals, as well as zeroframe, saved to /Users/dcoe/NIRCam/MIRAGE/2022April/images/F277W/jw01433010001_01101_00010_nrca5_uncal_linear_dark_prep_object.fits. This can be used as input to the observation generator.\n"
     ]
    },
    {
     "name": "stdout",
     "output_type": "stream",
     "text": [
      "2022-04-21 23:47:06,365 - stpipe - INFO - Linearized dark frame plus superbias and referencepixel signals, as well as zeroframe, saved to /Users/dcoe/NIRCam/MIRAGE/2022April/images/F277W/jw01433010001_01101_00010_nrca5_uncal_linear_dark_prep_object.fits. This can be used as input to the observation generator.\n",
      "2022-04-21 23:47:06,367 - mirage.dark.dark_prep - INFO - \n"
     ]
    },
    {
     "name": "stderr",
     "output_type": "stream",
     "text": [
      "2022-04-21 23:47:06,367 - stpipe - INFO - \n"
     ]
    },
    {
     "name": "stdout",
     "output_type": "stream",
     "text": [
      "2022-04-21 23:47:06,367 - stpipe - INFO - \n",
      "2022-04-21 23:47:06,369 - mirage.dark.dark_prep - INFO - \n"
     ]
    },
    {
     "name": "stderr",
     "output_type": "stream",
     "text": [
      "2022-04-21 23:47:06,369 - stpipe - INFO - \n"
     ]
    },
    {
     "name": "stdout",
     "output_type": "stream",
     "text": [
      "2022-04-21 23:47:06,369 - stpipe - INFO - \n",
      "2022-04-21 23:47:06,371 - mirage.dark.dark_prep - INFO - Segment 1 out of 1 complete.\n"
     ]
    },
    {
     "name": "stderr",
     "output_type": "stream",
     "text": [
      "2022-04-21 23:47:06,371 - stpipe - INFO - Segment 1 out of 1 complete.\n"
     ]
    },
    {
     "name": "stdout",
     "output_type": "stream",
     "text": [
      "2022-04-21 23:47:06,371 - stpipe - INFO - Segment 1 out of 1 complete.\n",
      "2022-04-21 23:47:06,405 - mirage.ramp_generator.obs_generator - INFO - \n"
     ]
    },
    {
     "name": "stderr",
     "output_type": "stream",
     "text": [
      "2022-04-21 23:47:06,405 - stpipe - INFO - \n"
     ]
    },
    {
     "name": "stdout",
     "output_type": "stream",
     "text": [
      "2022-04-21 23:47:06,405 - stpipe - INFO - \n",
      "2022-04-21 23:47:06,407 - mirage.ramp_generator.obs_generator - INFO - \n"
     ]
    },
    {
     "name": "stderr",
     "output_type": "stream",
     "text": [
      "2022-04-21 23:47:06,407 - stpipe - INFO - \n"
     ]
    },
    {
     "name": "stdout",
     "output_type": "stream",
     "text": [
      "2022-04-21 23:47:06,407 - stpipe - INFO - \n",
      "2022-04-21 23:47:06,409 - mirage.ramp_generator.obs_generator - INFO - Running observation generator....\n"
     ]
    },
    {
     "name": "stderr",
     "output_type": "stream",
     "text": [
      "2022-04-21 23:47:06,409 - stpipe - INFO - Running observation generator....\n"
     ]
    },
    {
     "name": "stdout",
     "output_type": "stream",
     "text": [
      "2022-04-21 23:47:06,409 - stpipe - INFO - Running observation generator....\n",
      "2022-04-21 23:47:06,411 - mirage.ramp_generator.obs_generator - INFO - \n"
     ]
    },
    {
     "name": "stderr",
     "output_type": "stream",
     "text": [
      "2022-04-21 23:47:06,411 - stpipe - INFO - \n"
     ]
    },
    {
     "name": "stdout",
     "output_type": "stream",
     "text": [
      "2022-04-21 23:47:06,411 - stpipe - INFO - \n",
      "2022-04-21 23:47:06,414 - mirage.ramp_generator.obs_generator - INFO - Reading parameter file: ./yaml/F277W/jw01433010001_01101_00010_nrca5.yaml\n"
     ]
    },
    {
     "name": "stderr",
     "output_type": "stream",
     "text": [
      "2022-04-21 23:47:06,414 - stpipe - INFO - Reading parameter file: ./yaml/F277W/jw01433010001_01101_00010_nrca5.yaml\n"
     ]
    },
    {
     "name": "stdout",
     "output_type": "stream",
     "text": [
      "2022-04-21 23:47:06,414 - stpipe - INFO - Reading parameter file: ./yaml/F277W/jw01433010001_01101_00010_nrca5.yaml\n",
      "2022-04-21 23:47:06,416 - mirage.ramp_generator.obs_generator - INFO - \n"
     ]
    },
    {
     "name": "stderr",
     "output_type": "stream",
     "text": [
      "2022-04-21 23:47:06,416 - stpipe - INFO - \n"
     ]
    },
    {
     "name": "stdout",
     "output_type": "stream",
     "text": [
      "2022-04-21 23:47:06,416 - stpipe - INFO - \n",
      "2022-04-21 23:47:06,418 - mirage.ramp_generator.obs_generator - INFO - Original log file name: ./mirage_latest.log\n"
     ]
    },
    {
     "name": "stderr",
     "output_type": "stream",
     "text": [
      "2022-04-21 23:47:06,418 - stpipe - INFO - Original log file name: ./mirage_latest.log\n"
     ]
    },
    {
     "name": "stdout",
     "output_type": "stream",
     "text": [
      "2022-04-21 23:47:06,418 - stpipe - INFO - Original log file name: ./mirage_latest.log\n",
      "2022-04-21 23:47:06,420 - mirage.utils.utils.full_paths - INFO - From CRDS, found /Users/dcoe/crds_cache/references/jwst/nircam/jwst_nircam_mask_0052.fits as the badpixmask reference file.\n"
     ]
    },
    {
     "name": "stderr",
     "output_type": "stream",
     "text": [
      "2022-04-21 23:47:06,420 - stpipe - INFO - From CRDS, found /Users/dcoe/crds_cache/references/jwst/nircam/jwst_nircam_mask_0052.fits as the badpixmask reference file.\n"
     ]
    },
    {
     "name": "stdout",
     "output_type": "stream",
     "text": [
      "2022-04-21 23:47:06,420 - stpipe - INFO - From CRDS, found /Users/dcoe/crds_cache/references/jwst/nircam/jwst_nircam_mask_0052.fits as the badpixmask reference file.\n",
      "2022-04-21 23:47:06,422 - mirage.utils.utils.full_paths - INFO - From CRDS, found /Users/dcoe/crds_cache/references/jwst/nircam/jwst_nircam_superbias_0022.fits as the superbias reference file.\n"
     ]
    },
    {
     "name": "stderr",
     "output_type": "stream",
     "text": [
      "2022-04-21 23:47:06,422 - stpipe - INFO - From CRDS, found /Users/dcoe/crds_cache/references/jwst/nircam/jwst_nircam_superbias_0022.fits as the superbias reference file.\n"
     ]
    },
    {
     "name": "stdout",
     "output_type": "stream",
     "text": [
      "2022-04-21 23:47:06,422 - stpipe - INFO - From CRDS, found /Users/dcoe/crds_cache/references/jwst/nircam/jwst_nircam_superbias_0022.fits as the superbias reference file.\n",
      "2022-04-21 23:47:06,424 - mirage.utils.utils.full_paths - INFO - From CRDS, found /Users/dcoe/crds_cache/references/jwst/nircam/jwst_nircam_linearity_0052.fits as the linearity reference file.\n"
     ]
    },
    {
     "name": "stderr",
     "output_type": "stream",
     "text": [
      "2022-04-21 23:47:06,424 - stpipe - INFO - From CRDS, found /Users/dcoe/crds_cache/references/jwst/nircam/jwst_nircam_linearity_0052.fits as the linearity reference file.\n"
     ]
    },
    {
     "name": "stdout",
     "output_type": "stream",
     "text": [
      "2022-04-21 23:47:06,424 - stpipe - INFO - From CRDS, found /Users/dcoe/crds_cache/references/jwst/nircam/jwst_nircam_linearity_0052.fits as the linearity reference file.\n",
      "2022-04-21 23:47:06,426 - mirage.utils.utils.full_paths - INFO - From CRDS, found /Users/dcoe/crds_cache/references/jwst/nircam/jwst_nircam_saturation_0091.fits as the saturation reference file.\n"
     ]
    },
    {
     "name": "stderr",
     "output_type": "stream",
     "text": [
      "2022-04-21 23:47:06,426 - stpipe - INFO - From CRDS, found /Users/dcoe/crds_cache/references/jwst/nircam/jwst_nircam_saturation_0091.fits as the saturation reference file.\n"
     ]
    },
    {
     "name": "stdout",
     "output_type": "stream",
     "text": [
      "2022-04-21 23:47:06,426 - stpipe - INFO - From CRDS, found /Users/dcoe/crds_cache/references/jwst/nircam/jwst_nircam_saturation_0091.fits as the saturation reference file.\n",
      "2022-04-21 23:47:06,428 - mirage.utils.utils.full_paths - INFO - From CRDS, found /Users/dcoe/crds_cache/references/jwst/nircam/jwst_nircam_gain_0056.fits as the gain reference file.\n"
     ]
    },
    {
     "name": "stderr",
     "output_type": "stream",
     "text": [
      "2022-04-21 23:47:06,428 - stpipe - INFO - From CRDS, found /Users/dcoe/crds_cache/references/jwst/nircam/jwst_nircam_gain_0056.fits as the gain reference file.\n"
     ]
    },
    {
     "name": "stdout",
     "output_type": "stream",
     "text": [
      "2022-04-21 23:47:06,428 - stpipe - INFO - From CRDS, found /Users/dcoe/crds_cache/references/jwst/nircam/jwst_nircam_gain_0056.fits as the gain reference file.\n",
      "2022-04-21 23:47:06,431 - mirage.utils.utils.full_paths - INFO - From CRDS, found /Users/dcoe/crds_cache/references/jwst/nircam/jwst_nircam_flat_0266.fits as the pixelflat reference file.\n"
     ]
    },
    {
     "name": "stderr",
     "output_type": "stream",
     "text": [
      "2022-04-21 23:47:06,431 - stpipe - INFO - From CRDS, found /Users/dcoe/crds_cache/references/jwst/nircam/jwst_nircam_flat_0266.fits as the pixelflat reference file.\n"
     ]
    },
    {
     "name": "stdout",
     "output_type": "stream",
     "text": [
      "2022-04-21 23:47:06,431 - stpipe - INFO - From CRDS, found /Users/dcoe/crds_cache/references/jwst/nircam/jwst_nircam_flat_0266.fits as the pixelflat reference file.\n",
      "2022-04-21 23:47:06,434 - mirage.utils.utils.full_paths - INFO - From CRDS, found /Users/dcoe/crds_cache/references/jwst/nircam/jwst_nircam_ipc_0028.fits as the ipc reference file.\n"
     ]
    },
    {
     "name": "stderr",
     "output_type": "stream",
     "text": [
      "2022-04-21 23:47:06,434 - stpipe - INFO - From CRDS, found /Users/dcoe/crds_cache/references/jwst/nircam/jwst_nircam_ipc_0028.fits as the ipc reference file.\n"
     ]
    },
    {
     "name": "stdout",
     "output_type": "stream",
     "text": [
      "2022-04-21 23:47:06,434 - stpipe - INFO - From CRDS, found /Users/dcoe/crds_cache/references/jwst/nircam/jwst_nircam_ipc_0028.fits as the ipc reference file.\n",
      "2022-04-21 23:47:06,435 - mirage.utils.utils.full_paths - INFO - Found an existing inverted kernel for this IPC file: /Users/dcoe/crds_cache/references/jwst/nircam/Kernel_to_add_IPC_effects_from_jwst_nircam_ipc_0028.fits\n"
     ]
    },
    {
     "name": "stderr",
     "output_type": "stream",
     "text": [
      "2022-04-21 23:47:06,435 - stpipe - INFO - Found an existing inverted kernel for this IPC file: /Users/dcoe/crds_cache/references/jwst/nircam/Kernel_to_add_IPC_effects_from_jwst_nircam_ipc_0028.fits\n"
     ]
    },
    {
     "name": "stdout",
     "output_type": "stream",
     "text": [
      "2022-04-21 23:47:06,435 - stpipe - INFO - Found an existing inverted kernel for this IPC file: /Users/dcoe/crds_cache/references/jwst/nircam/Kernel_to_add_IPC_effects_from_jwst_nircam_ipc_0028.fits\n",
      "2022-04-21 23:47:06,438 - mirage.utils.utils.full_paths - INFO - From CRDS, found /Users/dcoe/crds_cache/references/jwst/nircam/jwst_nircam_distortion_0133.asdf as the astrometric reference file.\n"
     ]
    },
    {
     "name": "stderr",
     "output_type": "stream",
     "text": [
      "2022-04-21 23:47:06,438 - stpipe - INFO - From CRDS, found /Users/dcoe/crds_cache/references/jwst/nircam/jwst_nircam_distortion_0133.asdf as the astrometric reference file.\n"
     ]
    },
    {
     "name": "stdout",
     "output_type": "stream",
     "text": [
      "2022-04-21 23:47:06,438 - stpipe - INFO - From CRDS, found /Users/dcoe/crds_cache/references/jwst/nircam/jwst_nircam_distortion_0133.asdf as the astrometric reference file.\n",
      "2022-04-21 23:47:06,440 - mirage.utils.utils.full_paths - INFO - From CRDS, found /Users/dcoe/crds_cache/references/jwst/nircam/jwst_nircam_area_0015.fits as the pixelAreaMap reference file.\n"
     ]
    },
    {
     "name": "stderr",
     "output_type": "stream",
     "text": [
      "2022-04-21 23:47:06,440 - stpipe - INFO - From CRDS, found /Users/dcoe/crds_cache/references/jwst/nircam/jwst_nircam_area_0015.fits as the pixelAreaMap reference file.\n"
     ]
    },
    {
     "name": "stdout",
     "output_type": "stream",
     "text": [
      "2022-04-21 23:47:06,440 - stpipe - INFO - From CRDS, found /Users/dcoe/crds_cache/references/jwst/nircam/jwst_nircam_area_0015.fits as the pixelAreaMap reference file.\n",
      "2022-04-21 23:47:06,442 - mirage.reference_files.utils.get_transmission_file - INFO - POM Transmission filename: None\n"
     ]
    },
    {
     "name": "stderr",
     "output_type": "stream",
     "text": [
      "2022-04-21 23:47:06,442 - stpipe - INFO - POM Transmission filename: None\n"
     ]
    },
    {
     "name": "stdout",
     "output_type": "stream",
     "text": [
      "2022-04-21 23:47:06,442 - stpipe - INFO - POM Transmission filename: None\n",
      "2022-04-21 23:47:06,444 - mirage.utils.utils.full_paths - INFO - From grism library, found None as the POM transmission file.\n"
     ]
    },
    {
     "name": "stderr",
     "output_type": "stream",
     "text": [
      "2022-04-21 23:47:06,444 - stpipe - INFO - From grism library, found None as the POM transmission file.\n"
     ]
    },
    {
     "name": "stdout",
     "output_type": "stream",
     "text": [
      "2022-04-21 23:47:06,444 - stpipe - INFO - From grism library, found None as the POM transmission file.\n",
      "2022-04-21 23:47:06,447 - mirage.utils.utils.full_paths - INFO - From CRDS, found /Users/dcoe/crds_cache/references/jwst/nircam/jwst_nircam_photom_0092.fits as the photom reference file.\n"
     ]
    },
    {
     "name": "stderr",
     "output_type": "stream",
     "text": [
      "2022-04-21 23:47:06,447 - stpipe - INFO - From CRDS, found /Users/dcoe/crds_cache/references/jwst/nircam/jwst_nircam_photom_0092.fits as the photom reference file.\n"
     ]
    },
    {
     "name": "stdout",
     "output_type": "stream",
     "text": [
      "2022-04-21 23:47:06,447 - stpipe - INFO - From CRDS, found /Users/dcoe/crds_cache/references/jwst/nircam/jwst_nircam_photom_0092.fits as the photom reference file.\n",
      "2022-04-21 23:47:06,715 - mirage.ramp_generator.obs_generator - INFO - Reading in dark file: /Users/dcoe/NIRCam/MIRAGE/2022April/images/F277W/jw01433010001_01101_00010_nrca5_uncal_linear_dark_prep_object.fits\n"
     ]
    },
    {
     "name": "stderr",
     "output_type": "stream",
     "text": [
      "2022-04-21 23:47:06,715 - stpipe - INFO - Reading in dark file: /Users/dcoe/NIRCam/MIRAGE/2022April/images/F277W/jw01433010001_01101_00010_nrca5_uncal_linear_dark_prep_object.fits\n"
     ]
    },
    {
     "name": "stdout",
     "output_type": "stream",
     "text": [
      "2022-04-21 23:47:06,715 - stpipe - INFO - Reading in dark file: /Users/dcoe/NIRCam/MIRAGE/2022April/images/F277W/jw01433010001_01101_00010_nrca5_uncal_linear_dark_prep_object.fits\n",
      "2022-04-21 23:47:06,763 - mirage.ramp_generator.obs_generator - INFO - Requested readout pattern SHALLOW4 is valid. Using nframe = 4 and nskip = 1\n"
     ]
    },
    {
     "name": "stderr",
     "output_type": "stream",
     "text": [
      "2022-04-21 23:47:06,763 - stpipe - INFO - Requested readout pattern SHALLOW4 is valid. Using nframe = 4 and nskip = 1\n"
     ]
    },
    {
     "name": "stdout",
     "output_type": "stream",
     "text": [
      "2022-04-21 23:47:06,763 - stpipe - INFO - Requested readout pattern SHALLOW4 is valid. Using nframe = 4 and nskip = 1\n",
      "2022-04-21 23:47:16,334 - mirage.ramp_generator.obs_generator - INFO - Frametime is 10.736770000000002\n"
     ]
    },
    {
     "name": "stderr",
     "output_type": "stream",
     "text": [
      "2022-04-21 23:47:16,334 - stpipe - INFO - Frametime is 10.736770000000002\n"
     ]
    },
    {
     "name": "stdout",
     "output_type": "stream",
     "text": [
      "2022-04-21 23:47:16,334 - stpipe - INFO - Frametime is 10.736770000000002\n",
      "2022-04-21 23:47:16,336 - mirage.ramp_generator.obs_generator - INFO - Base cosmic ray probability per pixel per second: 5.762e-06\n"
     ]
    },
    {
     "name": "stderr",
     "output_type": "stream",
     "text": [
      "2022-04-21 23:47:16,336 - stpipe - INFO - Base cosmic ray probability per pixel per second: 5.762e-06\n"
     ]
    },
    {
     "name": "stdout",
     "output_type": "stream",
     "text": [
      "2022-04-21 23:47:16,336 - stpipe - INFO - Base cosmic ray probability per pixel per second: 5.762e-06\n",
      "2022-04-21 23:47:16,520 - mirage.ramp_generator.obs_generator - INFO - The linearity coefficients of 9990 pixels are NaNs. Setting these coefficients such that no linearity correction is made.\n"
     ]
    },
    {
     "name": "stderr",
     "output_type": "stream",
     "text": [
      "2022-04-21 23:47:16,520 - stpipe - INFO - The linearity coefficients of 9990 pixels are NaNs. Setting these coefficients such that no linearity correction is made.\n"
     ]
    },
    {
     "name": "stdout",
     "output_type": "stream",
     "text": [
      "2022-04-21 23:47:16,520 - stpipe - INFO - The linearity coefficients of 9990 pixels are NaNs. Setting these coefficients such that no linearity correction is made.\n",
      "2022-04-21 23:47:17,098 - mirage.ramp_generator.obs_generator - INFO - Integration 0:\n"
     ]
    },
    {
     "name": "stderr",
     "output_type": "stream",
     "text": [
      "2022-04-21 23:47:17,098 - stpipe - INFO - Integration 0:\n"
     ]
    },
    {
     "name": "stdout",
     "output_type": "stream",
     "text": [
      "2022-04-21 23:47:17,098 - stpipe - INFO - Integration 0:\n",
      "2022-04-21 23:47:28,933 - mirage.ramp_generator.obs_generator - INFO -     Averaging frame 0 into group 0\n"
     ]
    },
    {
     "name": "stderr",
     "output_type": "stream",
     "text": [
      "2022-04-21 23:47:28,933 - stpipe - INFO -     Averaging frame 0 into group 0\n"
     ]
    },
    {
     "name": "stdout",
     "output_type": "stream",
     "text": [
      "2022-04-21 23:47:28,933 - stpipe - INFO -     Averaging frame 0 into group 0\n",
      "2022-04-21 23:47:48,323 - mirage.ramp_generator.obs_generator - INFO -     Averaging frame 1 into group 0\n"
     ]
    },
    {
     "name": "stderr",
     "output_type": "stream",
     "text": [
      "2022-04-21 23:47:48,323 - stpipe - INFO -     Averaging frame 1 into group 0\n"
     ]
    },
    {
     "name": "stdout",
     "output_type": "stream",
     "text": [
      "2022-04-21 23:47:48,323 - stpipe - INFO -     Averaging frame 1 into group 0\n",
      "2022-04-21 23:47:59,718 - mirage.ramp_generator.obs_generator - INFO -     Averaging frame 2 into group 0\n"
     ]
    },
    {
     "name": "stderr",
     "output_type": "stream",
     "text": [
      "2022-04-21 23:47:59,718 - stpipe - INFO -     Averaging frame 2 into group 0\n"
     ]
    },
    {
     "name": "stdout",
     "output_type": "stream",
     "text": [
      "2022-04-21 23:47:59,718 - stpipe - INFO -     Averaging frame 2 into group 0\n",
      "2022-04-21 23:48:05,835 - mirage.ramp_generator.obs_generator - INFO -     Averaging frame 3 into group 0\n"
     ]
    },
    {
     "name": "stderr",
     "output_type": "stream",
     "text": [
      "2022-04-21 23:48:05,835 - stpipe - INFO -     Averaging frame 3 into group 0\n"
     ]
    },
    {
     "name": "stdout",
     "output_type": "stream",
     "text": [
      "2022-04-21 23:48:05,835 - stpipe - INFO -     Averaging frame 3 into group 0\n",
      "2022-04-21 23:48:10,370 - mirage.ramp_generator.obs_generator - INFO -     Skipping frame 4\n"
     ]
    },
    {
     "name": "stderr",
     "output_type": "stream",
     "text": [
      "2022-04-21 23:48:10,370 - stpipe - INFO -     Skipping frame 4\n"
     ]
    },
    {
     "name": "stdout",
     "output_type": "stream",
     "text": [
      "2022-04-21 23:48:10,370 - stpipe - INFO -     Skipping frame 4\n",
      "2022-04-21 23:48:12,674 - mirage.ramp_generator.obs_generator - INFO -     Averaging frame 5 into group 1\n"
     ]
    },
    {
     "name": "stderr",
     "output_type": "stream",
     "text": [
      "2022-04-21 23:48:12,674 - stpipe - INFO -     Averaging frame 5 into group 1\n"
     ]
    },
    {
     "name": "stdout",
     "output_type": "stream",
     "text": [
      "2022-04-21 23:48:12,674 - stpipe - INFO -     Averaging frame 5 into group 1\n",
      "2022-04-21 23:48:22,643 - mirage.ramp_generator.obs_generator - INFO -     Averaging frame 6 into group 1\n"
     ]
    },
    {
     "name": "stderr",
     "output_type": "stream",
     "text": [
      "2022-04-21 23:48:22,643 - stpipe - INFO -     Averaging frame 6 into group 1\n"
     ]
    },
    {
     "name": "stdout",
     "output_type": "stream",
     "text": [
      "2022-04-21 23:48:22,643 - stpipe - INFO -     Averaging frame 6 into group 1\n",
      "2022-04-21 23:48:40,325 - mirage.ramp_generator.obs_generator - INFO -     Averaging frame 7 into group 1\n"
     ]
    },
    {
     "name": "stderr",
     "output_type": "stream",
     "text": [
      "2022-04-21 23:48:40,325 - stpipe - INFO -     Averaging frame 7 into group 1\n"
     ]
    },
    {
     "name": "stdout",
     "output_type": "stream",
     "text": [
      "2022-04-21 23:48:40,325 - stpipe - INFO -     Averaging frame 7 into group 1\n",
      "2022-04-21 23:49:00,067 - mirage.ramp_generator.obs_generator - INFO -     Averaging frame 8 into group 1\n"
     ]
    },
    {
     "name": "stderr",
     "output_type": "stream",
     "text": [
      "2022-04-21 23:49:00,067 - stpipe - INFO -     Averaging frame 8 into group 1\n"
     ]
    },
    {
     "name": "stdout",
     "output_type": "stream",
     "text": [
      "2022-04-21 23:49:00,067 - stpipe - INFO -     Averaging frame 8 into group 1\n",
      "2022-04-21 23:49:26,836 - mirage.ramp_generator.obs_generator - INFO -     Skipping frame 9\n"
     ]
    },
    {
     "name": "stderr",
     "output_type": "stream",
     "text": [
      "2022-04-21 23:49:26,836 - stpipe - INFO -     Skipping frame 9\n"
     ]
    },
    {
     "name": "stdout",
     "output_type": "stream",
     "text": [
      "2022-04-21 23:49:26,836 - stpipe - INFO -     Skipping frame 9\n",
      "2022-04-21 23:49:46,335 - mirage.ramp_generator.obs_generator - INFO -     Averaging frame 10 into group 2\n"
     ]
    },
    {
     "name": "stderr",
     "output_type": "stream",
     "text": [
      "2022-04-21 23:49:46,335 - stpipe - INFO -     Averaging frame 10 into group 2\n"
     ]
    },
    {
     "name": "stdout",
     "output_type": "stream",
     "text": [
      "2022-04-21 23:49:46,335 - stpipe - INFO -     Averaging frame 10 into group 2\n",
      "2022-04-21 23:50:03,226 - mirage.ramp_generator.obs_generator - INFO -     Averaging frame 11 into group 2\n"
     ]
    },
    {
     "name": "stderr",
     "output_type": "stream",
     "text": [
      "2022-04-21 23:50:03,226 - stpipe - INFO -     Averaging frame 11 into group 2\n"
     ]
    },
    {
     "name": "stdout",
     "output_type": "stream",
     "text": [
      "2022-04-21 23:50:03,226 - stpipe - INFO -     Averaging frame 11 into group 2\n",
      "2022-04-21 23:50:19,169 - mirage.ramp_generator.obs_generator - INFO -     Averaging frame 12 into group 2\n"
     ]
    },
    {
     "name": "stderr",
     "output_type": "stream",
     "text": [
      "2022-04-21 23:50:19,169 - stpipe - INFO -     Averaging frame 12 into group 2\n"
     ]
    },
    {
     "name": "stdout",
     "output_type": "stream",
     "text": [
      "2022-04-21 23:50:19,169 - stpipe - INFO -     Averaging frame 12 into group 2\n",
      "2022-04-21 23:50:37,580 - mirage.ramp_generator.obs_generator - INFO -     Averaging frame 13 into group 2\n"
     ]
    },
    {
     "name": "stderr",
     "output_type": "stream",
     "text": [
      "2022-04-21 23:50:37,580 - stpipe - INFO -     Averaging frame 13 into group 2\n"
     ]
    },
    {
     "name": "stdout",
     "output_type": "stream",
     "text": [
      "2022-04-21 23:50:37,580 - stpipe - INFO -     Averaging frame 13 into group 2\n",
      "2022-04-21 23:50:49,136 - mirage.ramp_generator.obs_generator - INFO -     Skipping frame 14\n"
     ]
    },
    {
     "name": "stderr",
     "output_type": "stream",
     "text": [
      "2022-04-21 23:50:49,136 - stpipe - INFO -     Skipping frame 14\n"
     ]
    },
    {
     "name": "stdout",
     "output_type": "stream",
     "text": [
      "2022-04-21 23:50:49,136 - stpipe - INFO -     Skipping frame 14\n",
      "2022-04-21 23:51:01,482 - mirage.ramp_generator.obs_generator - INFO -     Averaging frame 15 into group 3\n"
     ]
    },
    {
     "name": "stderr",
     "output_type": "stream",
     "text": [
      "2022-04-21 23:51:01,482 - stpipe - INFO -     Averaging frame 15 into group 3\n"
     ]
    },
    {
     "name": "stdout",
     "output_type": "stream",
     "text": [
      "2022-04-21 23:51:01,482 - stpipe - INFO -     Averaging frame 15 into group 3\n",
      "2022-04-21 23:51:16,885 - mirage.ramp_generator.obs_generator - INFO -     Averaging frame 16 into group 3\n"
     ]
    },
    {
     "name": "stderr",
     "output_type": "stream",
     "text": [
      "2022-04-21 23:51:16,885 - stpipe - INFO -     Averaging frame 16 into group 3\n"
     ]
    },
    {
     "name": "stdout",
     "output_type": "stream",
     "text": [
      "2022-04-21 23:51:16,885 - stpipe - INFO -     Averaging frame 16 into group 3\n",
      "2022-04-21 23:51:28,808 - mirage.ramp_generator.obs_generator - INFO -     Averaging frame 17 into group 3\n"
     ]
    },
    {
     "name": "stderr",
     "output_type": "stream",
     "text": [
      "2022-04-21 23:51:28,808 - stpipe - INFO -     Averaging frame 17 into group 3\n"
     ]
    },
    {
     "name": "stdout",
     "output_type": "stream",
     "text": [
      "2022-04-21 23:51:28,808 - stpipe - INFO -     Averaging frame 17 into group 3\n",
      "2022-04-21 23:51:38,422 - mirage.ramp_generator.obs_generator - INFO -     Averaging frame 18 into group 3\n"
     ]
    },
    {
     "name": "stderr",
     "output_type": "stream",
     "text": [
      "2022-04-21 23:51:38,422 - stpipe - INFO -     Averaging frame 18 into group 3\n"
     ]
    },
    {
     "name": "stdout",
     "output_type": "stream",
     "text": [
      "2022-04-21 23:51:38,422 - stpipe - INFO -     Averaging frame 18 into group 3\n",
      "2022-04-21 23:51:49,722 - mirage.ramp_generator.obs_generator - INFO -     Skipping frame 19\n"
     ]
    },
    {
     "name": "stderr",
     "output_type": "stream",
     "text": [
      "2022-04-21 23:51:49,722 - stpipe - INFO -     Skipping frame 19\n"
     ]
    },
    {
     "name": "stdout",
     "output_type": "stream",
     "text": [
      "2022-04-21 23:51:49,722 - stpipe - INFO -     Skipping frame 19\n",
      "2022-04-21 23:52:00,815 - mirage.ramp_generator.obs_generator - INFO -     Averaging frame 20 into group 4\n"
     ]
    },
    {
     "name": "stderr",
     "output_type": "stream",
     "text": [
      "2022-04-21 23:52:00,815 - stpipe - INFO -     Averaging frame 20 into group 4\n"
     ]
    },
    {
     "name": "stdout",
     "output_type": "stream",
     "text": [
      "2022-04-21 23:52:00,815 - stpipe - INFO -     Averaging frame 20 into group 4\n",
      "2022-04-21 23:52:08,855 - mirage.ramp_generator.obs_generator - INFO -     Averaging frame 21 into group 4\n"
     ]
    },
    {
     "name": "stderr",
     "output_type": "stream",
     "text": [
      "2022-04-21 23:52:08,855 - stpipe - INFO -     Averaging frame 21 into group 4\n"
     ]
    },
    {
     "name": "stdout",
     "output_type": "stream",
     "text": [
      "2022-04-21 23:52:08,855 - stpipe - INFO -     Averaging frame 21 into group 4\n",
      "2022-04-21 23:52:10,430 - mirage.ramp_generator.obs_generator - INFO -     Averaging frame 22 into group 4\n"
     ]
    },
    {
     "name": "stderr",
     "output_type": "stream",
     "text": [
      "2022-04-21 23:52:10,430 - stpipe - INFO -     Averaging frame 22 into group 4\n"
     ]
    },
    {
     "name": "stdout",
     "output_type": "stream",
     "text": [
      "2022-04-21 23:52:10,430 - stpipe - INFO -     Averaging frame 22 into group 4\n",
      "2022-04-21 23:52:17,691 - mirage.ramp_generator.obs_generator - INFO -     Averaging frame 23 into group 4\n"
     ]
    },
    {
     "name": "stderr",
     "output_type": "stream",
     "text": [
      "2022-04-21 23:52:17,691 - stpipe - INFO -     Averaging frame 23 into group 4\n"
     ]
    },
    {
     "name": "stdout",
     "output_type": "stream",
     "text": [
      "2022-04-21 23:52:17,691 - stpipe - INFO -     Averaging frame 23 into group 4\n",
      "2022-04-21 23:52:21,042 - mirage.ramp_generator.obs_generator - INFO -     Skipping frame 24\n"
     ]
    },
    {
     "name": "stderr",
     "output_type": "stream",
     "text": [
      "2022-04-21 23:52:21,042 - stpipe - INFO -     Skipping frame 24\n"
     ]
    },
    {
     "name": "stdout",
     "output_type": "stream",
     "text": [
      "2022-04-21 23:52:21,042 - stpipe - INFO -     Skipping frame 24\n",
      "2022-04-21 23:52:22,205 - mirage.ramp_generator.obs_generator - INFO -     Averaging frame 25 into group 5\n"
     ]
    },
    {
     "name": "stderr",
     "output_type": "stream",
     "text": [
      "2022-04-21 23:52:22,205 - stpipe - INFO -     Averaging frame 25 into group 5\n"
     ]
    },
    {
     "name": "stdout",
     "output_type": "stream",
     "text": [
      "2022-04-21 23:52:22,205 - stpipe - INFO -     Averaging frame 25 into group 5\n",
      "2022-04-21 23:52:24,092 - mirage.ramp_generator.obs_generator - INFO -     Averaging frame 26 into group 5\n"
     ]
    },
    {
     "name": "stderr",
     "output_type": "stream",
     "text": [
      "2022-04-21 23:52:24,092 - stpipe - INFO -     Averaging frame 26 into group 5\n"
     ]
    },
    {
     "name": "stdout",
     "output_type": "stream",
     "text": [
      "2022-04-21 23:52:24,092 - stpipe - INFO -     Averaging frame 26 into group 5\n",
      "2022-04-21 23:52:26,135 - mirage.ramp_generator.obs_generator - INFO -     Averaging frame 27 into group 5\n"
     ]
    },
    {
     "name": "stderr",
     "output_type": "stream",
     "text": [
      "2022-04-21 23:52:26,135 - stpipe - INFO -     Averaging frame 27 into group 5\n"
     ]
    },
    {
     "name": "stdout",
     "output_type": "stream",
     "text": [
      "2022-04-21 23:52:26,135 - stpipe - INFO -     Averaging frame 27 into group 5\n",
      "2022-04-21 23:52:27,016 - mirage.ramp_generator.obs_generator - INFO -     Averaging frame 28 into group 5\n"
     ]
    },
    {
     "name": "stderr",
     "output_type": "stream",
     "text": [
      "2022-04-21 23:52:27,016 - stpipe - INFO -     Averaging frame 28 into group 5\n"
     ]
    },
    {
     "name": "stdout",
     "output_type": "stream",
     "text": [
      "2022-04-21 23:52:27,016 - stpipe - INFO -     Averaging frame 28 into group 5\n",
      "2022-04-21 23:52:27,875 - mirage.ramp_generator.obs_generator - INFO -     Skipping frame 29\n"
     ]
    },
    {
     "name": "stderr",
     "output_type": "stream",
     "text": [
      "2022-04-21 23:52:27,875 - stpipe - INFO -     Skipping frame 29\n"
     ]
    },
    {
     "name": "stdout",
     "output_type": "stream",
     "text": [
      "2022-04-21 23:52:27,875 - stpipe - INFO -     Skipping frame 29\n",
      "2022-04-21 23:52:28,808 - mirage.ramp_generator.obs_generator - INFO -     Averaging frame 30 into group 6\n"
     ]
    },
    {
     "name": "stderr",
     "output_type": "stream",
     "text": [
      "2022-04-21 23:52:28,808 - stpipe - INFO -     Averaging frame 30 into group 6\n"
     ]
    },
    {
     "name": "stdout",
     "output_type": "stream",
     "text": [
      "2022-04-21 23:52:28,808 - stpipe - INFO -     Averaging frame 30 into group 6\n",
      "2022-04-21 23:52:29,616 - mirage.ramp_generator.obs_generator - INFO -     Averaging frame 31 into group 6\n"
     ]
    },
    {
     "name": "stderr",
     "output_type": "stream",
     "text": [
      "2022-04-21 23:52:29,616 - stpipe - INFO -     Averaging frame 31 into group 6\n"
     ]
    },
    {
     "name": "stdout",
     "output_type": "stream",
     "text": [
      "2022-04-21 23:52:29,616 - stpipe - INFO -     Averaging frame 31 into group 6\n",
      "2022-04-21 23:52:30,558 - mirage.ramp_generator.obs_generator - INFO -     Averaging frame 32 into group 6\n"
     ]
    },
    {
     "name": "stderr",
     "output_type": "stream",
     "text": [
      "2022-04-21 23:52:30,558 - stpipe - INFO -     Averaging frame 32 into group 6\n"
     ]
    },
    {
     "name": "stdout",
     "output_type": "stream",
     "text": [
      "2022-04-21 23:52:30,558 - stpipe - INFO -     Averaging frame 32 into group 6\n",
      "2022-04-21 23:52:31,377 - mirage.ramp_generator.obs_generator - INFO -     Averaging frame 33 into group 6\n"
     ]
    },
    {
     "name": "stderr",
     "output_type": "stream",
     "text": [
      "2022-04-21 23:52:31,377 - stpipe - INFO -     Averaging frame 33 into group 6\n"
     ]
    },
    {
     "name": "stdout",
     "output_type": "stream",
     "text": [
      "2022-04-21 23:52:31,377 - stpipe - INFO -     Averaging frame 33 into group 6\n",
      "2022-04-21 23:52:32,103 - mirage.ramp_generator.obs_generator - INFO -     Skipping frame 34\n"
     ]
    },
    {
     "name": "stderr",
     "output_type": "stream",
     "text": [
      "2022-04-21 23:52:32,103 - stpipe - INFO -     Skipping frame 34\n"
     ]
    },
    {
     "name": "stdout",
     "output_type": "stream",
     "text": [
      "2022-04-21 23:52:32,103 - stpipe - INFO -     Skipping frame 34\n",
      "2022-04-21 23:52:32,869 - mirage.ramp_generator.obs_generator - INFO -     Averaging frame 35 into group 7\n"
     ]
    },
    {
     "name": "stderr",
     "output_type": "stream",
     "text": [
      "2022-04-21 23:52:32,869 - stpipe - INFO -     Averaging frame 35 into group 7\n"
     ]
    },
    {
     "name": "stdout",
     "output_type": "stream",
     "text": [
      "2022-04-21 23:52:32,869 - stpipe - INFO -     Averaging frame 35 into group 7\n",
      "2022-04-21 23:52:33,751 - mirage.ramp_generator.obs_generator - INFO -     Averaging frame 36 into group 7\n"
     ]
    },
    {
     "name": "stderr",
     "output_type": "stream",
     "text": [
      "2022-04-21 23:52:33,751 - stpipe - INFO -     Averaging frame 36 into group 7\n"
     ]
    },
    {
     "name": "stdout",
     "output_type": "stream",
     "text": [
      "2022-04-21 23:52:33,751 - stpipe - INFO -     Averaging frame 36 into group 7\n",
      "2022-04-21 23:52:34,514 - mirage.ramp_generator.obs_generator - INFO -     Averaging frame 37 into group 7\n"
     ]
    },
    {
     "name": "stderr",
     "output_type": "stream",
     "text": [
      "2022-04-21 23:52:34,514 - stpipe - INFO -     Averaging frame 37 into group 7\n"
     ]
    },
    {
     "name": "stdout",
     "output_type": "stream",
     "text": [
      "2022-04-21 23:52:34,514 - stpipe - INFO -     Averaging frame 37 into group 7\n",
      "2022-04-21 23:52:35,249 - mirage.ramp_generator.obs_generator - INFO -     Averaging frame 38 into group 7\n"
     ]
    },
    {
     "name": "stderr",
     "output_type": "stream",
     "text": [
      "2022-04-21 23:52:35,249 - stpipe - INFO -     Averaging frame 38 into group 7\n"
     ]
    },
    {
     "name": "stdout",
     "output_type": "stream",
     "text": [
      "2022-04-21 23:52:35,249 - stpipe - INFO -     Averaging frame 38 into group 7\n",
      "2022-04-21 23:52:35,862 - mirage.ramp_generator.obs_generator - INFO -     Skipping frame 39\n"
     ]
    },
    {
     "name": "stderr",
     "output_type": "stream",
     "text": [
      "2022-04-21 23:52:35,862 - stpipe - INFO -     Skipping frame 39\n"
     ]
    },
    {
     "name": "stdout",
     "output_type": "stream",
     "text": [
      "2022-04-21 23:52:35,862 - stpipe - INFO -     Skipping frame 39\n",
      "2022-04-21 23:52:36,597 - mirage.ramp_generator.obs_generator - INFO -     Averaging frame 40 into group 8\n"
     ]
    },
    {
     "name": "stderr",
     "output_type": "stream",
     "text": [
      "2022-04-21 23:52:36,597 - stpipe - INFO -     Averaging frame 40 into group 8\n"
     ]
    },
    {
     "name": "stdout",
     "output_type": "stream",
     "text": [
      "2022-04-21 23:52:36,597 - stpipe - INFO -     Averaging frame 40 into group 8\n",
      "2022-04-21 23:52:37,215 - mirage.ramp_generator.obs_generator - INFO -     Averaging frame 41 into group 8\n"
     ]
    },
    {
     "name": "stderr",
     "output_type": "stream",
     "text": [
      "2022-04-21 23:52:37,215 - stpipe - INFO -     Averaging frame 41 into group 8\n"
     ]
    },
    {
     "name": "stdout",
     "output_type": "stream",
     "text": [
      "2022-04-21 23:52:37,215 - stpipe - INFO -     Averaging frame 41 into group 8\n",
      "2022-04-21 23:52:37,816 - mirage.ramp_generator.obs_generator - INFO -     Averaging frame 42 into group 8\n"
     ]
    },
    {
     "name": "stderr",
     "output_type": "stream",
     "text": [
      "2022-04-21 23:52:37,816 - stpipe - INFO -     Averaging frame 42 into group 8\n"
     ]
    },
    {
     "name": "stdout",
     "output_type": "stream",
     "text": [
      "2022-04-21 23:52:37,816 - stpipe - INFO -     Averaging frame 42 into group 8\n",
      "2022-04-21 23:52:38,490 - mirage.ramp_generator.obs_generator - INFO -     Averaging frame 43 into group 8\n"
     ]
    },
    {
     "name": "stderr",
     "output_type": "stream",
     "text": [
      "2022-04-21 23:52:38,490 - stpipe - INFO -     Averaging frame 43 into group 8\n"
     ]
    },
    {
     "name": "stdout",
     "output_type": "stream",
     "text": [
      "2022-04-21 23:52:38,490 - stpipe - INFO -     Averaging frame 43 into group 8\n",
      "2022-04-21 23:52:39,098 - mirage.ramp_generator.obs_generator - INFO -     Skipping frame 44\n"
     ]
    },
    {
     "name": "stderr",
     "output_type": "stream",
     "text": [
      "2022-04-21 23:52:39,098 - stpipe - INFO -     Skipping frame 44\n"
     ]
    },
    {
     "name": "stdout",
     "output_type": "stream",
     "text": [
      "2022-04-21 23:52:39,098 - stpipe - INFO -     Skipping frame 44\n",
      "2022-04-21 23:52:39,586 - mirage.ramp_generator.obs_generator - INFO -     Averaging frame 45 into group 9\n"
     ]
    },
    {
     "name": "stderr",
     "output_type": "stream",
     "text": [
      "2022-04-21 23:52:39,586 - stpipe - INFO -     Averaging frame 45 into group 9\n"
     ]
    },
    {
     "name": "stdout",
     "output_type": "stream",
     "text": [
      "2022-04-21 23:52:39,586 - stpipe - INFO -     Averaging frame 45 into group 9\n",
      "2022-04-21 23:52:40,282 - mirage.ramp_generator.obs_generator - INFO -     Averaging frame 46 into group 9\n"
     ]
    },
    {
     "name": "stderr",
     "output_type": "stream",
     "text": [
      "2022-04-21 23:52:40,282 - stpipe - INFO -     Averaging frame 46 into group 9\n"
     ]
    },
    {
     "name": "stdout",
     "output_type": "stream",
     "text": [
      "2022-04-21 23:52:40,282 - stpipe - INFO -     Averaging frame 46 into group 9\n",
      "2022-04-21 23:52:40,787 - mirage.ramp_generator.obs_generator - INFO -     Averaging frame 47 into group 9\n"
     ]
    },
    {
     "name": "stderr",
     "output_type": "stream",
     "text": [
      "2022-04-21 23:52:40,787 - stpipe - INFO -     Averaging frame 47 into group 9\n"
     ]
    },
    {
     "name": "stdout",
     "output_type": "stream",
     "text": [
      "2022-04-21 23:52:40,787 - stpipe - INFO -     Averaging frame 47 into group 9\n",
      "2022-04-21 23:52:41,323 - mirage.ramp_generator.obs_generator - INFO -     Averaging frame 48 into group 9\n"
     ]
    },
    {
     "name": "stderr",
     "output_type": "stream",
     "text": [
      "2022-04-21 23:52:41,323 - stpipe - INFO -     Averaging frame 48 into group 9\n"
     ]
    },
    {
     "name": "stdout",
     "output_type": "stream",
     "text": [
      "2022-04-21 23:52:41,323 - stpipe - INFO -     Averaging frame 48 into group 9\n",
      "2022-04-21 23:52:45,399 - mirage.ramp_generator.obs_generator - INFO - Adding crosstalk\n"
     ]
    },
    {
     "name": "stderr",
     "output_type": "stream",
     "text": [
      "2022-04-21 23:52:45,399 - stpipe - INFO - Adding crosstalk\n"
     ]
    },
    {
     "name": "stdout",
     "output_type": "stream",
     "text": [
      "2022-04-21 23:52:45,399 - stpipe - INFO - Adding crosstalk\n",
      "2022-04-21 23:52:47,426 - mirage.ramp_generator.obs_generator - INFO - Unlinearizing exposure.\n"
     ]
    },
    {
     "name": "stderr",
     "output_type": "stream",
     "text": [
      "2022-04-21 23:52:47,426 - stpipe - INFO - Unlinearizing exposure.\n"
     ]
    },
    {
     "name": "stdout",
     "output_type": "stream",
     "text": [
      "2022-04-21 23:52:47,426 - stpipe - INFO - Unlinearizing exposure.\n",
      "2022-04-21 23:52:58,035 - py.warnings - WARNING - /Users/dcoe/miniconda3/envs/python3.10/lib/python3.10/site-packages/mirage/ramp_generator/unlinearize.py:65: RuntimeWarning: divide by zero encountered in true_divide\n",
      "  x[i1] = (image[i1]+image[i1]/val[i1]) / 2.\n",
      "\n"
     ]
    },
    {
     "name": "stderr",
     "output_type": "stream",
     "text": [
      "2022-04-21 23:52:58,035 - stpipe - WARNING - /Users/dcoe/miniconda3/envs/python3.10/lib/python3.10/site-packages/mirage/ramp_generator/unlinearize.py:65: RuntimeWarning: divide by zero encountered in true_divide\n",
      "  x[i1] = (image[i1]+image[i1]/val[i1]) / 2.\n",
      "\n"
     ]
    },
    {
     "name": "stdout",
     "output_type": "stream",
     "text": [
      "2022-04-21 23:52:58,035 - stpipe - WARNING - /Users/dcoe/miniconda3/envs/python3.10/lib/python3.10/site-packages/mirage/ramp_generator/unlinearize.py:65: RuntimeWarning: divide by zero encountered in true_divide\n",
      "  x[i1] = (image[i1]+image[i1]/val[i1]) / 2.\n",
      "\n",
      "2022-04-21 23:53:04,785 - py.warnings - WARNING - /Users/dcoe/miniconda3/envs/python3.10/lib/python3.10/site-packages/mirage/ramp_generator/unlinearize.py:70: RuntimeWarning: divide by zero encountered in true_divide\n",
      "  dev[i1] = np.abs(image[i1] / val[i1]-1.)\n",
      "\n"
     ]
    },
    {
     "name": "stderr",
     "output_type": "stream",
     "text": [
      "2022-04-21 23:53:04,785 - stpipe - WARNING - /Users/dcoe/miniconda3/envs/python3.10/lib/python3.10/site-packages/mirage/ramp_generator/unlinearize.py:70: RuntimeWarning: divide by zero encountered in true_divide\n",
      "  dev[i1] = np.abs(image[i1] / val[i1]-1.)\n",
      "\n"
     ]
    },
    {
     "name": "stdout",
     "output_type": "stream",
     "text": [
      "2022-04-21 23:53:04,785 - stpipe - WARNING - /Users/dcoe/miniconda3/envs/python3.10/lib/python3.10/site-packages/mirage/ramp_generator/unlinearize.py:70: RuntimeWarning: divide by zero encountered in true_divide\n",
      "  dev[i1] = np.abs(image[i1] / val[i1]-1.)\n",
      "\n",
      "2022-04-21 23:55:24,982 - mirage.ramp_generator.obs_generator - INFO - Adding superbias and reference pixel signals.\n"
     ]
    },
    {
     "name": "stderr",
     "output_type": "stream",
     "text": [
      "2022-04-21 23:55:24,982 - stpipe - INFO - Adding superbias and reference pixel signals.\n"
     ]
    },
    {
     "name": "stdout",
     "output_type": "stream",
     "text": [
      "2022-04-21 23:55:24,982 - stpipe - INFO - Adding superbias and reference pixel signals.\n",
      "2022-04-21 23:55:26,007 - mirage.ramp_generator.obs_generator - INFO - \n"
     ]
    },
    {
     "name": "stderr",
     "output_type": "stream",
     "text": [
      "2022-04-21 23:55:26,007 - stpipe - INFO - \n"
     ]
    },
    {
     "name": "stdout",
     "output_type": "stream",
     "text": [
      "2022-04-21 23:55:26,007 - stpipe - INFO - \n",
      "2022-04-21 23:55:26,008 - mirage.ramp_generator.obs_generator - INFO - \n"
     ]
    },
    {
     "name": "stderr",
     "output_type": "stream",
     "text": [
      "2022-04-21 23:55:26,008 - stpipe - INFO - \n"
     ]
    },
    {
     "name": "stdout",
     "output_type": "stream",
     "text": [
      "2022-04-21 23:55:26,008 - stpipe - INFO - \n",
      "2022-04-21 23:55:26,010 - mirage.ramp_generator.obs_generator - INFO - Populating xref_sci in output file:\n"
     ]
    },
    {
     "name": "stderr",
     "output_type": "stream",
     "text": [
      "2022-04-21 23:55:26,010 - stpipe - INFO - Populating xref_sci in output file:\n"
     ]
    },
    {
     "name": "stdout",
     "output_type": "stream",
     "text": [
      "2022-04-21 23:55:26,010 - stpipe - INFO - Populating xref_sci in output file:\n",
      "2022-04-21 23:55:26,012 - mirage.ramp_generator.obs_generator - INFO - 1024.5\n"
     ]
    },
    {
     "name": "stderr",
     "output_type": "stream",
     "text": [
      "2022-04-21 23:55:26,012 - stpipe - INFO - 1024.5\n"
     ]
    },
    {
     "name": "stdout",
     "output_type": "stream",
     "text": [
      "2022-04-21 23:55:26,012 - stpipe - INFO - 1024.5\n"
     ]
    },
    {
     "name": "stderr",
     "output_type": "stream",
     "text": [
      "WCS info for /Users/dcoe/NIRCam/MIRAGE/2022April/images/F277W/jw01433010001_01101_00010_nrca5_uncal.fits complete.\n"
     ]
    },
    {
     "name": "stdout",
     "output_type": "stream",
     "text": [
      "2022-04-21 23:55:26,662 - mirage.utils.set_telescope_pointing_separated - INFO - WCS info for /Users/dcoe/NIRCam/MIRAGE/2022April/images/F277W/jw01433010001_01101_00010_nrca5_uncal.fits complete.\n"
     ]
    },
    {
     "name": "stderr",
     "output_type": "stream",
     "text": [
      "2022-04-21 23:55:26,662 - stpipe - INFO - WCS info for /Users/dcoe/NIRCam/MIRAGE/2022April/images/F277W/jw01433010001_01101_00010_nrca5_uncal.fits complete.\n"
     ]
    },
    {
     "name": "stdout",
     "output_type": "stream",
     "text": [
      "2022-04-21 23:55:26,662 - stpipe - INFO - WCS info for /Users/dcoe/NIRCam/MIRAGE/2022April/images/F277W/jw01433010001_01101_00010_nrca5_uncal.fits complete.\n",
      "2022-04-21 23:55:26,665 - mirage.ramp_generator.obs_generator - INFO - Final raw exposure saved to: \n"
     ]
    },
    {
     "name": "stderr",
     "output_type": "stream",
     "text": [
      "2022-04-21 23:55:26,665 - stpipe - INFO - Final raw exposure saved to: \n"
     ]
    },
    {
     "name": "stdout",
     "output_type": "stream",
     "text": [
      "2022-04-21 23:55:26,665 - stpipe - INFO - Final raw exposure saved to: \n",
      "2022-04-21 23:55:26,667 - mirage.ramp_generator.obs_generator - INFO - /Users/dcoe/NIRCam/MIRAGE/2022April/images/F277W/jw01433010001_01101_00010_nrca5_uncal.fits\n"
     ]
    },
    {
     "name": "stderr",
     "output_type": "stream",
     "text": [
      "2022-04-21 23:55:26,667 - stpipe - INFO - /Users/dcoe/NIRCam/MIRAGE/2022April/images/F277W/jw01433010001_01101_00010_nrca5_uncal.fits\n"
     ]
    },
    {
     "name": "stdout",
     "output_type": "stream",
     "text": [
      "2022-04-21 23:55:26,667 - stpipe - INFO - /Users/dcoe/NIRCam/MIRAGE/2022April/images/F277W/jw01433010001_01101_00010_nrca5_uncal.fits\n",
      "2022-04-21 23:55:26,671 - mirage.ramp_generator.obs_generator - INFO - \n"
     ]
    },
    {
     "name": "stderr",
     "output_type": "stream",
     "text": [
      "2022-04-21 23:55:26,671 - stpipe - INFO - \n"
     ]
    },
    {
     "name": "stdout",
     "output_type": "stream",
     "text": [
      "2022-04-21 23:55:26,671 - stpipe - INFO - \n",
      "2022-04-21 23:55:26,673 - mirage.ramp_generator.obs_generator - INFO - \n"
     ]
    },
    {
     "name": "stderr",
     "output_type": "stream",
     "text": [
      "2022-04-21 23:55:26,673 - stpipe - INFO - \n"
     ]
    },
    {
     "name": "stdout",
     "output_type": "stream",
     "text": [
      "2022-04-21 23:55:26,673 - stpipe - INFO - \n",
      "2022-04-21 23:55:26,676 - mirage.ramp_generator.obs_generator - INFO - Segment 1 out of 1 complete.\n"
     ]
    },
    {
     "name": "stderr",
     "output_type": "stream",
     "text": [
      "2022-04-21 23:55:26,676 - stpipe - INFO - Segment 1 out of 1 complete.\n"
     ]
    },
    {
     "name": "stdout",
     "output_type": "stream",
     "text": [
      "2022-04-21 23:55:26,676 - stpipe - INFO - Segment 1 out of 1 complete.\n",
      "2022-04-21 23:55:26,678 - mirage.ramp_generator.obs_generator - INFO - Observation generation complete.\n"
     ]
    },
    {
     "name": "stderr",
     "output_type": "stream",
     "text": [
      "2022-04-21 23:55:26,678 - stpipe - INFO - Observation generation complete.\n"
     ]
    },
    {
     "name": "stdout",
     "output_type": "stream",
     "text": [
      "2022-04-21 23:55:26,678 - stpipe - INFO - Observation generation complete.\n",
      "2022-04-21 23:55:26,734 - mirage.imaging_simulator - INFO - \n"
     ]
    },
    {
     "name": "stderr",
     "output_type": "stream",
     "text": [
      "2022-04-21 23:55:26,734 - stpipe - INFO - \n"
     ]
    },
    {
     "name": "stdout",
     "output_type": "stream",
     "text": [
      "2022-04-21 23:55:26,734 - stpipe - INFO - \n",
      "2022-04-21 23:55:26,736 - mirage.imaging_simulator - INFO - Imaging simulator complete\n"
     ]
    },
    {
     "name": "stderr",
     "output_type": "stream",
     "text": [
      "2022-04-21 23:55:26,736 - stpipe - INFO - Imaging simulator complete\n"
     ]
    },
    {
     "name": "stdout",
     "output_type": "stream",
     "text": [
      "2022-04-21 23:55:26,736 - stpipe - INFO - Imaging simulator complete\n",
      "./yaml/F277W/jw01433010001_01101_00011_nrca5.yaml\n",
      "2022-04-21 23:55:28,472 - mirage.imaging_simulator - INFO - \n"
     ]
    },
    {
     "name": "stderr",
     "output_type": "stream",
     "text": [
      "2022-04-21 23:55:28,472 - stpipe - INFO - \n"
     ]
    },
    {
     "name": "stdout",
     "output_type": "stream",
     "text": [
      "2022-04-21 23:55:28,472 - stpipe - INFO - \n",
      "2022-04-21 23:55:28,474 - mirage.imaging_simulator - INFO - \n"
     ]
    },
    {
     "name": "stderr",
     "output_type": "stream",
     "text": [
      "2022-04-21 23:55:28,474 - stpipe - INFO - \n"
     ]
    },
    {
     "name": "stdout",
     "output_type": "stream",
     "text": [
      "2022-04-21 23:55:28,474 - stpipe - INFO - \n",
      "2022-04-21 23:55:28,475 - mirage.imaging_simulator - INFO - Running imaging_simulator....\n"
     ]
    },
    {
     "name": "stderr",
     "output_type": "stream",
     "text": [
      "2022-04-21 23:55:28,475 - stpipe - INFO - Running imaging_simulator....\n"
     ]
    },
    {
     "name": "stdout",
     "output_type": "stream",
     "text": [
      "2022-04-21 23:55:28,475 - stpipe - INFO - Running imaging_simulator....\n",
      "2022-04-21 23:55:28,477 - mirage.imaging_simulator - INFO - \n"
     ]
    },
    {
     "name": "stderr",
     "output_type": "stream",
     "text": [
      "2022-04-21 23:55:28,477 - stpipe - INFO - \n"
     ]
    },
    {
     "name": "stdout",
     "output_type": "stream",
     "text": [
      "2022-04-21 23:55:28,477 - stpipe - INFO - \n",
      "2022-04-21 23:55:28,478 - mirage.imaging_simulator - INFO - using parameter file: ./yaml/F277W/jw01433010001_01101_00011_nrca5.yaml\n"
     ]
    },
    {
     "name": "stderr",
     "output_type": "stream",
     "text": [
      "2022-04-21 23:55:28,478 - stpipe - INFO - using parameter file: ./yaml/F277W/jw01433010001_01101_00011_nrca5.yaml\n"
     ]
    },
    {
     "name": "stdout",
     "output_type": "stream",
     "text": [
      "2022-04-21 23:55:28,478 - stpipe - INFO - using parameter file: ./yaml/F277W/jw01433010001_01101_00011_nrca5.yaml\n",
      "2022-04-21 23:55:28,505 - mirage.seed_image.catalog_seed_image - INFO - \n"
     ]
    },
    {
     "name": "stderr",
     "output_type": "stream",
     "text": [
      "2022-04-21 23:55:28,505 - stpipe - INFO - \n"
     ]
    },
    {
     "name": "stdout",
     "output_type": "stream",
     "text": [
      "2022-04-21 23:55:28,505 - stpipe - INFO - \n",
      "2022-04-21 23:55:28,506 - mirage.seed_image.catalog_seed_image - INFO - \n"
     ]
    },
    {
     "name": "stderr",
     "output_type": "stream",
     "text": [
      "2022-04-21 23:55:28,506 - stpipe - INFO - \n"
     ]
    },
    {
     "name": "stdout",
     "output_type": "stream",
     "text": [
      "2022-04-21 23:55:28,506 - stpipe - INFO - \n",
      "2022-04-21 23:55:28,508 - mirage.seed_image.catalog_seed_image - INFO - Running catalog_seed_image..\n"
     ]
    },
    {
     "name": "stderr",
     "output_type": "stream",
     "text": [
      "2022-04-21 23:55:28,508 - stpipe - INFO - Running catalog_seed_image..\n"
     ]
    },
    {
     "name": "stdout",
     "output_type": "stream",
     "text": [
      "2022-04-21 23:55:28,508 - stpipe - INFO - Running catalog_seed_image..\n",
      "2022-04-21 23:55:28,509 - mirage.seed_image.catalog_seed_image - INFO - \n"
     ]
    },
    {
     "name": "stderr",
     "output_type": "stream",
     "text": [
      "2022-04-21 23:55:28,509 - stpipe - INFO - \n"
     ]
    },
    {
     "name": "stdout",
     "output_type": "stream",
     "text": [
      "2022-04-21 23:55:28,509 - stpipe - INFO - \n",
      "2022-04-21 23:55:28,511 - mirage.seed_image.catalog_seed_image - INFO - Reading parameter file: ./yaml/F277W/jw01433010001_01101_00011_nrca5.yaml\n"
     ]
    },
    {
     "name": "stderr",
     "output_type": "stream",
     "text": [
      "2022-04-21 23:55:28,511 - stpipe - INFO - Reading parameter file: ./yaml/F277W/jw01433010001_01101_00011_nrca5.yaml\n"
     ]
    },
    {
     "name": "stdout",
     "output_type": "stream",
     "text": [
      "2022-04-21 23:55:28,511 - stpipe - INFO - Reading parameter file: ./yaml/F277W/jw01433010001_01101_00011_nrca5.yaml\n",
      "2022-04-21 23:55:28,513 - mirage.seed_image.catalog_seed_image - INFO - \n"
     ]
    },
    {
     "name": "stderr",
     "output_type": "stream",
     "text": [
      "2022-04-21 23:55:28,513 - stpipe - INFO - \n"
     ]
    },
    {
     "name": "stdout",
     "output_type": "stream",
     "text": [
      "2022-04-21 23:55:28,513 - stpipe - INFO - \n",
      "2022-04-21 23:55:28,514 - mirage.seed_image.catalog_seed_image - INFO - Original log file name: ./mirage_latest.log\n"
     ]
    },
    {
     "name": "stderr",
     "output_type": "stream",
     "text": [
      "2022-04-21 23:55:28,514 - stpipe - INFO - Original log file name: ./mirage_latest.log\n"
     ]
    },
    {
     "name": "stdout",
     "output_type": "stream",
     "text": [
      "2022-04-21 23:55:28,514 - stpipe - INFO - Original log file name: ./mirage_latest.log\n",
      "2022-04-21 23:55:28,539 - mirage.utils.utils.full_paths - INFO - From CRDS, found /Users/dcoe/crds_cache/references/jwst/nircam/jwst_nircam_mask_0052.fits as the badpixmask reference file.\n"
     ]
    },
    {
     "name": "stderr",
     "output_type": "stream",
     "text": [
      "2022-04-21 23:55:28,539 - stpipe - INFO - From CRDS, found /Users/dcoe/crds_cache/references/jwst/nircam/jwst_nircam_mask_0052.fits as the badpixmask reference file.\n"
     ]
    },
    {
     "name": "stdout",
     "output_type": "stream",
     "text": [
      "2022-04-21 23:55:28,539 - stpipe - INFO - From CRDS, found /Users/dcoe/crds_cache/references/jwst/nircam/jwst_nircam_mask_0052.fits as the badpixmask reference file.\n",
      "2022-04-21 23:55:28,541 - mirage.utils.utils.full_paths - INFO - From CRDS, found /Users/dcoe/crds_cache/references/jwst/nircam/jwst_nircam_superbias_0022.fits as the superbias reference file.\n"
     ]
    },
    {
     "name": "stderr",
     "output_type": "stream",
     "text": [
      "2022-04-21 23:55:28,541 - stpipe - INFO - From CRDS, found /Users/dcoe/crds_cache/references/jwst/nircam/jwst_nircam_superbias_0022.fits as the superbias reference file.\n"
     ]
    },
    {
     "name": "stdout",
     "output_type": "stream",
     "text": [
      "2022-04-21 23:55:28,541 - stpipe - INFO - From CRDS, found /Users/dcoe/crds_cache/references/jwst/nircam/jwst_nircam_superbias_0022.fits as the superbias reference file.\n",
      "2022-04-21 23:55:28,544 - mirage.utils.utils.full_paths - INFO - From CRDS, found /Users/dcoe/crds_cache/references/jwst/nircam/jwst_nircam_linearity_0052.fits as the linearity reference file.\n"
     ]
    },
    {
     "name": "stderr",
     "output_type": "stream",
     "text": [
      "2022-04-21 23:55:28,544 - stpipe - INFO - From CRDS, found /Users/dcoe/crds_cache/references/jwst/nircam/jwst_nircam_linearity_0052.fits as the linearity reference file.\n"
     ]
    },
    {
     "name": "stdout",
     "output_type": "stream",
     "text": [
      "2022-04-21 23:55:28,544 - stpipe - INFO - From CRDS, found /Users/dcoe/crds_cache/references/jwst/nircam/jwst_nircam_linearity_0052.fits as the linearity reference file.\n",
      "2022-04-21 23:55:28,547 - mirage.utils.utils.full_paths - INFO - From CRDS, found /Users/dcoe/crds_cache/references/jwst/nircam/jwst_nircam_saturation_0091.fits as the saturation reference file.\n"
     ]
    },
    {
     "name": "stderr",
     "output_type": "stream",
     "text": [
      "2022-04-21 23:55:28,547 - stpipe - INFO - From CRDS, found /Users/dcoe/crds_cache/references/jwst/nircam/jwst_nircam_saturation_0091.fits as the saturation reference file.\n"
     ]
    },
    {
     "name": "stdout",
     "output_type": "stream",
     "text": [
      "2022-04-21 23:55:28,547 - stpipe - INFO - From CRDS, found /Users/dcoe/crds_cache/references/jwst/nircam/jwst_nircam_saturation_0091.fits as the saturation reference file.\n",
      "2022-04-21 23:55:28,550 - mirage.utils.utils.full_paths - INFO - From CRDS, found /Users/dcoe/crds_cache/references/jwst/nircam/jwst_nircam_gain_0056.fits as the gain reference file.\n"
     ]
    },
    {
     "name": "stderr",
     "output_type": "stream",
     "text": [
      "2022-04-21 23:55:28,550 - stpipe - INFO - From CRDS, found /Users/dcoe/crds_cache/references/jwst/nircam/jwst_nircam_gain_0056.fits as the gain reference file.\n"
     ]
    },
    {
     "name": "stdout",
     "output_type": "stream",
     "text": [
      "2022-04-21 23:55:28,550 - stpipe - INFO - From CRDS, found /Users/dcoe/crds_cache/references/jwst/nircam/jwst_nircam_gain_0056.fits as the gain reference file.\n",
      "2022-04-21 23:55:28,553 - mirage.utils.utils.full_paths - INFO - From CRDS, found /Users/dcoe/crds_cache/references/jwst/nircam/jwst_nircam_flat_0266.fits as the pixelflat reference file.\n"
     ]
    },
    {
     "name": "stderr",
     "output_type": "stream",
     "text": [
      "2022-04-21 23:55:28,553 - stpipe - INFO - From CRDS, found /Users/dcoe/crds_cache/references/jwst/nircam/jwst_nircam_flat_0266.fits as the pixelflat reference file.\n"
     ]
    },
    {
     "name": "stdout",
     "output_type": "stream",
     "text": [
      "2022-04-21 23:55:28,553 - stpipe - INFO - From CRDS, found /Users/dcoe/crds_cache/references/jwst/nircam/jwst_nircam_flat_0266.fits as the pixelflat reference file.\n",
      "2022-04-21 23:55:28,556 - mirage.utils.utils.full_paths - INFO - From CRDS, found /Users/dcoe/crds_cache/references/jwst/nircam/jwst_nircam_ipc_0028.fits as the ipc reference file.\n"
     ]
    },
    {
     "name": "stderr",
     "output_type": "stream",
     "text": [
      "2022-04-21 23:55:28,556 - stpipe - INFO - From CRDS, found /Users/dcoe/crds_cache/references/jwst/nircam/jwst_nircam_ipc_0028.fits as the ipc reference file.\n"
     ]
    },
    {
     "name": "stdout",
     "output_type": "stream",
     "text": [
      "2022-04-21 23:55:28,556 - stpipe - INFO - From CRDS, found /Users/dcoe/crds_cache/references/jwst/nircam/jwst_nircam_ipc_0028.fits as the ipc reference file.\n",
      "2022-04-21 23:55:28,557 - mirage.utils.utils.full_paths - INFO - Found an existing inverted kernel for this IPC file: /Users/dcoe/crds_cache/references/jwst/nircam/Kernel_to_add_IPC_effects_from_jwst_nircam_ipc_0028.fits\n"
     ]
    },
    {
     "name": "stderr",
     "output_type": "stream",
     "text": [
      "2022-04-21 23:55:28,557 - stpipe - INFO - Found an existing inverted kernel for this IPC file: /Users/dcoe/crds_cache/references/jwst/nircam/Kernel_to_add_IPC_effects_from_jwst_nircam_ipc_0028.fits\n"
     ]
    },
    {
     "name": "stdout",
     "output_type": "stream",
     "text": [
      "2022-04-21 23:55:28,557 - stpipe - INFO - Found an existing inverted kernel for this IPC file: /Users/dcoe/crds_cache/references/jwst/nircam/Kernel_to_add_IPC_effects_from_jwst_nircam_ipc_0028.fits\n",
      "2022-04-21 23:55:28,560 - mirage.utils.utils.full_paths - INFO - From CRDS, found /Users/dcoe/crds_cache/references/jwst/nircam/jwst_nircam_distortion_0133.asdf as the astrometric reference file.\n"
     ]
    },
    {
     "name": "stderr",
     "output_type": "stream",
     "text": [
      "2022-04-21 23:55:28,560 - stpipe - INFO - From CRDS, found /Users/dcoe/crds_cache/references/jwst/nircam/jwst_nircam_distortion_0133.asdf as the astrometric reference file.\n"
     ]
    },
    {
     "name": "stdout",
     "output_type": "stream",
     "text": [
      "2022-04-21 23:55:28,560 - stpipe - INFO - From CRDS, found /Users/dcoe/crds_cache/references/jwst/nircam/jwst_nircam_distortion_0133.asdf as the astrometric reference file.\n",
      "2022-04-21 23:55:28,562 - mirage.utils.utils.full_paths - INFO - From CRDS, found /Users/dcoe/crds_cache/references/jwst/nircam/jwst_nircam_area_0015.fits as the pixelAreaMap reference file.\n"
     ]
    },
    {
     "name": "stderr",
     "output_type": "stream",
     "text": [
      "2022-04-21 23:55:28,562 - stpipe - INFO - From CRDS, found /Users/dcoe/crds_cache/references/jwst/nircam/jwst_nircam_area_0015.fits as the pixelAreaMap reference file.\n"
     ]
    },
    {
     "name": "stdout",
     "output_type": "stream",
     "text": [
      "2022-04-21 23:55:28,562 - stpipe - INFO - From CRDS, found /Users/dcoe/crds_cache/references/jwst/nircam/jwst_nircam_area_0015.fits as the pixelAreaMap reference file.\n",
      "2022-04-21 23:55:28,563 - mirage.reference_files.utils.get_transmission_file - INFO - POM Transmission filename: None\n"
     ]
    },
    {
     "name": "stderr",
     "output_type": "stream",
     "text": [
      "2022-04-21 23:55:28,563 - stpipe - INFO - POM Transmission filename: None\n"
     ]
    },
    {
     "name": "stdout",
     "output_type": "stream",
     "text": [
      "2022-04-21 23:55:28,563 - stpipe - INFO - POM Transmission filename: None\n",
      "2022-04-21 23:55:28,565 - mirage.utils.utils.full_paths - INFO - From grism library, found None as the POM transmission file.\n"
     ]
    },
    {
     "name": "stderr",
     "output_type": "stream",
     "text": [
      "2022-04-21 23:55:28,565 - stpipe - INFO - From grism library, found None as the POM transmission file.\n"
     ]
    },
    {
     "name": "stdout",
     "output_type": "stream",
     "text": [
      "2022-04-21 23:55:28,565 - stpipe - INFO - From grism library, found None as the POM transmission file.\n",
      "2022-04-21 23:55:28,567 - mirage.utils.utils.full_paths - INFO - From CRDS, found /Users/dcoe/crds_cache/references/jwst/nircam/jwst_nircam_photom_0092.fits as the photom reference file.\n"
     ]
    },
    {
     "name": "stderr",
     "output_type": "stream",
     "text": [
      "2022-04-21 23:55:28,567 - stpipe - INFO - From CRDS, found /Users/dcoe/crds_cache/references/jwst/nircam/jwst_nircam_photom_0092.fits as the photom reference file.\n"
     ]
    },
    {
     "name": "stdout",
     "output_type": "stream",
     "text": [
      "2022-04-21 23:55:28,567 - stpipe - INFO - From CRDS, found /Users/dcoe/crds_cache/references/jwst/nircam/jwst_nircam_photom_0092.fits as the photom reference file.\n",
      "2022-04-21 23:55:28,576 - mirage.seed_image.catalog_seed_image - INFO - Requested readout pattern SHALLOW4 is valid. Using the nframe = 4 and nskip = 1\n"
     ]
    },
    {
     "name": "stderr",
     "output_type": "stream",
     "text": [
      "2022-04-21 23:55:28,576 - stpipe - INFO - Requested readout pattern SHALLOW4 is valid. Using the nframe = 4 and nskip = 1\n"
     ]
    },
    {
     "name": "stdout",
     "output_type": "stream",
     "text": [
      "2022-04-21 23:55:28,576 - stpipe - INFO - Requested readout pattern SHALLOW4 is valid. Using the nframe = 4 and nskip = 1\n",
      "2022-04-21 23:55:28,578 - mirage.seed_image.catalog_seed_image - INFO - No point source catalog provided in yaml file.\n"
     ]
    },
    {
     "name": "stderr",
     "output_type": "stream",
     "text": [
      "2022-04-21 23:55:28,578 - stpipe - INFO - No point source catalog provided in yaml file.\n"
     ]
    },
    {
     "name": "stdout",
     "output_type": "stream",
     "text": [
      "2022-04-21 23:55:28,578 - stpipe - INFO - No point source catalog provided in yaml file.\n",
      "2022-04-21 23:55:28,949 - mirage.seed_image.catalog_seed_image - INFO - SIAF: Requested NRCA5_FULL   got NRCA5_FULL\n"
     ]
    },
    {
     "name": "stderr",
     "output_type": "stream",
     "text": [
      "2022-04-21 23:55:28,949 - stpipe - INFO - SIAF: Requested NRCA5_FULL   got NRCA5_FULL\n"
     ]
    },
    {
     "name": "stdout",
     "output_type": "stream",
     "text": [
      "2022-04-21 23:55:28,949 - stpipe - INFO - SIAF: Requested NRCA5_FULL   got NRCA5_FULL\n",
      "2022-04-21 23:55:28,951 - mirage.seed_image.catalog_seed_image - INFO - Calculating background rate using jwst_background based on medium level\n"
     ]
    },
    {
     "name": "stderr",
     "output_type": "stream",
     "text": [
      "2022-04-21 23:55:28,951 - stpipe - INFO - Calculating background rate using jwst_background based on medium level\n"
     ]
    },
    {
     "name": "stdout",
     "output_type": "stream",
     "text": [
      "2022-04-21 23:55:28,951 - stpipe - INFO - Calculating background rate using jwst_background based on medium level\n",
      "2022-04-21 23:55:28,952 - mirage.seed_image.catalog_seed_image - INFO - Using /Users/dcoe/miniconda3/envs/python3.10/lib/python3.10/site-packages/mirage/config/F277W_CLEAR_nircam_plus_ote_throughput_moda_sorted.txt filter throughput file for background calculation.\n"
     ]
    },
    {
     "name": "stderr",
     "output_type": "stream",
     "text": [
      "2022-04-21 23:55:28,952 - stpipe - INFO - Using /Users/dcoe/miniconda3/envs/python3.10/lib/python3.10/site-packages/mirage/config/F277W_CLEAR_nircam_plus_ote_throughput_moda_sorted.txt filter throughput file for background calculation.\n"
     ]
    },
    {
     "name": "stdout",
     "output_type": "stream",
     "text": [
      "2022-04-21 23:55:28,952 - stpipe - INFO - Using /Users/dcoe/miniconda3/envs/python3.10/lib/python3.10/site-packages/mirage/config/F277W_CLEAR_nircam_plus_ote_throughput_moda_sorted.txt filter throughput file for background calculation.\n",
      "2022-04-21 23:55:29,662 - mirage.seed_image.catalog_seed_image - INFO - Background rate determined using medium level: 0.2699153975533858\n"
     ]
    },
    {
     "name": "stderr",
     "output_type": "stream",
     "text": [
      "2022-04-21 23:55:29,662 - stpipe - INFO - Background rate determined using medium level: 0.2699153975533858\n"
     ]
    },
    {
     "name": "stdout",
     "output_type": "stream",
     "text": [
      "2022-04-21 23:55:29,662 - stpipe - INFO - Background rate determined using medium level: 0.2699153975533858\n",
      "2022-04-21 23:55:29,791 - mirage.seed_image.catalog_seed_image - INFO - No transmission file given. Assuming full transmission for all pixels, not including flat field effects. (no e.g. occulters blocking any pixels).\n"
     ]
    },
    {
     "name": "stderr",
     "output_type": "stream",
     "text": [
      "2022-04-21 23:55:29,791 - stpipe - INFO - No transmission file given. Assuming full transmission for all pixels, not including flat field effects. (no e.g. occulters blocking any pixels).\n"
     ]
    },
    {
     "name": "stdout",
     "output_type": "stream",
     "text": [
      "2022-04-21 23:55:29,791 - stpipe - INFO - No transmission file given. Assuming full transmission for all pixels, not including flat field effects. (no e.g. occulters blocking any pixels).\n",
      "2022-04-21 23:55:29,808 - mirage.seed_image.catalog_seed_image - INFO - XXXXXXXXXXXXXXXXXXXXXXXXXXXXXXXXXXXXXXXXXXXXXXXXXXXX\n"
     ]
    },
    {
     "name": "stderr",
     "output_type": "stream",
     "text": [
      "2022-04-21 23:55:29,808 - stpipe - INFO - XXXXXXXXXXXXXXXXXXXXXXXXXXXXXXXXXXXXXXXXXXXXXXXXXXXX\n"
     ]
    },
    {
     "name": "stdout",
     "output_type": "stream",
     "text": [
      "2022-04-21 23:55:29,808 - stpipe - INFO - XXXXXXXXXXXXXXXXXXXXXXXXXXXXXXXXXXXXXXXXXXXXXXXXXXXX\n",
      "2022-04-21 23:55:29,811 - mirage.seed_image.catalog_seed_image - INFO - Seed image output dimensions (x, y) are: (2048, 2048)\n"
     ]
    },
    {
     "name": "stderr",
     "output_type": "stream",
     "text": [
      "2022-04-21 23:55:29,811 - stpipe - INFO - Seed image output dimensions (x, y) are: (2048, 2048)\n"
     ]
    },
    {
     "name": "stdout",
     "output_type": "stream",
     "text": [
      "2022-04-21 23:55:29,811 - stpipe - INFO - Seed image output dimensions (x, y) are: (2048, 2048)\n",
      "2022-04-21 23:55:29,813 - mirage.seed_image.catalog_seed_image - INFO - XXXXXXXXXXXXXXXXXXXXXXXXXXXXXXXXXXXXXXXXXXXXXXXXXXXX\n"
     ]
    },
    {
     "name": "stderr",
     "output_type": "stream",
     "text": [
      "2022-04-21 23:55:29,813 - stpipe - INFO - XXXXXXXXXXXXXXXXXXXXXXXXXXXXXXXXXXXXXXXXXXXXXXXXXXXX\n"
     ]
    },
    {
     "name": "stdout",
     "output_type": "stream",
     "text": [
      "2022-04-21 23:55:29,813 - stpipe - INFO - XXXXXXXXXXXXXXXXXXXXXXXXXXXXXXXXXXXXXXXXXXXXXXXXXXXX\n",
      "2022-04-21 23:55:29,816 - mirage.seed_image.catalog_seed_image - INFO - Frametime is 10.736770000000002\n"
     ]
    },
    {
     "name": "stderr",
     "output_type": "stream",
     "text": [
      "2022-04-21 23:55:29,816 - stpipe - INFO - Frametime is 10.736770000000002\n"
     ]
    },
    {
     "name": "stdout",
     "output_type": "stream",
     "text": [
      "2022-04-21 23:55:29,816 - stpipe - INFO - Frametime is 10.736770000000002\n",
      "2022-04-21 23:55:32,895 - mirage.psf.psf_selection.get_gridded_psf_library - INFO - PSFs will be generated using: /ifs/jwst/wit/mirage_data/nircam/gridded_psf_library/nircam_nrca5_f277w_clear_fovp43_samp5_npsf16_predicted_realization0.fits\n"
     ]
    },
    {
     "name": "stderr",
     "output_type": "stream",
     "text": [
      "2022-04-21 23:55:32,895 - stpipe - INFO - PSFs will be generated using: /ifs/jwst/wit/mirage_data/nircam/gridded_psf_library/nircam_nrca5_f277w_clear_fovp43_samp5_npsf16_predicted_realization0.fits\n"
     ]
    },
    {
     "name": "stdout",
     "output_type": "stream",
     "text": [
      "2022-04-21 23:55:32,895 - stpipe - INFO - PSFs will be generated using: /ifs/jwst/wit/mirage_data/nircam/gridded_psf_library/nircam_nrca5_f277w_clear_fovp43_samp5_npsf16_predicted_realization0.fits\n",
      "2022-04-21 23:55:41,371 - mirage.psf.psf_selection.get_psf_wings - INFO - PSF wings will be from: nircam_nrca5_f277w_clear_fovp401_samp1_predicted_realization0.fits\n"
     ]
    },
    {
     "name": "stderr",
     "output_type": "stream",
     "text": [
      "2022-04-21 23:55:41,371 - stpipe - INFO - PSF wings will be from: nircam_nrca5_f277w_clear_fovp401_samp1_predicted_realization0.fits\n"
     ]
    },
    {
     "name": "stdout",
     "output_type": "stream",
     "text": [
      "2022-04-21 23:55:41,371 - stpipe - INFO - PSF wings will be from: nircam_nrca5_f277w_clear_fovp401_samp1_predicted_realization0.fits\n",
      "2022-04-21 23:55:42,019 - mirage.seed_image.catalog_seed_image - INFO - Creating signal rate image of sidereal synthetic inputs.\n"
     ]
    },
    {
     "name": "stderr",
     "output_type": "stream",
     "text": [
      "2022-04-21 23:55:42,019 - stpipe - INFO - Creating signal rate image of sidereal synthetic inputs.\n"
     ]
    },
    {
     "name": "stdout",
     "output_type": "stream",
     "text": [
      "2022-04-21 23:55:42,019 - stpipe - INFO - Creating signal rate image of sidereal synthetic inputs.\n",
      "2022-04-21 23:55:42,048 - mirage.seed_image.catalog_seed_image - INFO - Galaxy list input positions assumed to be in units of RA and Dec.\n"
     ]
    },
    {
     "name": "stderr",
     "output_type": "stream",
     "text": [
      "2022-04-21 23:55:42,048 - stpipe - INFO - Galaxy list input positions assumed to be in units of RA and Dec.\n"
     ]
    },
    {
     "name": "stdout",
     "output_type": "stream",
     "text": [
      "2022-04-21 23:55:42,048 - stpipe - INFO - Galaxy list input positions assumed to be in units of RA and Dec.\n",
      "2022-04-21 23:55:42,050 - mirage.seed_image.catalog_seed_image - INFO - Galaxy list input radii assumed to be in units of arcsec.\n"
     ]
    },
    {
     "name": "stderr",
     "output_type": "stream",
     "text": [
      "2022-04-21 23:55:42,050 - stpipe - INFO - Galaxy list input radii assumed to be in units of arcsec.\n"
     ]
    },
    {
     "name": "stdout",
     "output_type": "stream",
     "text": [
      "2022-04-21 23:55:42,050 - stpipe - INFO - Galaxy list input radii assumed to be in units of arcsec.\n",
      "2022-04-21 23:55:42,064 - mirage.seed_image.catalog_seed_image - WARNING - WARNING: Catalog MACS0647_MIRAGE_galaxy_catalog_F277W.cat does not have a magnitude column called nircam_f277w_magnitude, but does have a generic 'magnitude' column. Continuing simulation using that.\n"
     ]
    },
    {
     "name": "stderr",
     "output_type": "stream",
     "text": [
      "2022-04-21 23:55:42,064 - stpipe - WARNING - WARNING: Catalog MACS0647_MIRAGE_galaxy_catalog_F277W.cat does not have a magnitude column called nircam_f277w_magnitude, but does have a generic 'magnitude' column. Continuing simulation using that.\n"
     ]
    },
    {
     "name": "stdout",
     "output_type": "stream",
     "text": [
      "2022-04-21 23:55:42,064 - stpipe - WARNING - WARNING: Catalog MACS0647_MIRAGE_galaxy_catalog_F277W.cat does not have a magnitude column called nircam_f277w_magnitude, but does have a generic 'magnitude' column. Continuing simulation using that.\n",
      "2022-04-21 23:55:48,047 - mirage.seed_image.catalog_seed_image - INFO - Number of galaxies found within or close to the requested aperture: 982\n"
     ]
    },
    {
     "name": "stderr",
     "output_type": "stream",
     "text": [
      "2022-04-21 23:55:48,047 - stpipe - INFO - Number of galaxies found within or close to the requested aperture: 982\n"
     ]
    },
    {
     "name": "stdout",
     "output_type": "stream",
     "text": [
      "2022-04-21 23:55:48,047 - stpipe - INFO - Number of galaxies found within or close to the requested aperture: 982\n",
      "2022-04-21 23:55:48,543 - mirage.seed_image.catalog_seed_image - INFO - Working on galaxy #20. Estimated time remaining to add all galaxies to the stamp image: 7.2 minutes. Projected finish time: 2022-04-22 00:03:00.543072\n"
     ]
    },
    {
     "name": "stderr",
     "output_type": "stream",
     "text": [
      "2022-04-21 23:55:48,543 - stpipe - INFO - Working on galaxy #20. Estimated time remaining to add all galaxies to the stamp image: 7.2 minutes. Projected finish time: 2022-04-22 00:03:00.543072\n"
     ]
    },
    {
     "name": "stdout",
     "output_type": "stream",
     "text": [
      "2022-04-21 23:55:48,543 - stpipe - INFO - Working on galaxy #20. Estimated time remaining to add all galaxies to the stamp image: 7.2 minutes. Projected finish time: 2022-04-22 00:03:00.543072\n",
      "2022-04-21 23:55:49,685 - mirage.seed_image.catalog_seed_image - INFO - Working on galaxy #100. Estimated time remaining to add all galaxies to the stamp image: 1.37 minutes. Projected finish time: 2022-04-21 23:57:11.885168\n"
     ]
    },
    {
     "name": "stderr",
     "output_type": "stream",
     "text": [
      "2022-04-21 23:55:49,685 - stpipe - INFO - Working on galaxy #100. Estimated time remaining to add all galaxies to the stamp image: 1.37 minutes. Projected finish time: 2022-04-21 23:57:11.885168\n"
     ]
    },
    {
     "name": "stdout",
     "output_type": "stream",
     "text": [
      "2022-04-21 23:55:49,685 - stpipe - INFO - Working on galaxy #100. Estimated time remaining to add all galaxies to the stamp image: 1.37 minutes. Projected finish time: 2022-04-21 23:57:11.885168\n",
      "2022-04-21 23:55:50,767 - mirage.seed_image.catalog_seed_image - INFO - Working on galaxy #200. Estimated time remaining to add all galaxies to the stamp image: 0.62 minutes. Projected finish time: 2022-04-21 23:56:27.967380\n"
     ]
    },
    {
     "name": "stderr",
     "output_type": "stream",
     "text": [
      "2022-04-21 23:55:50,767 - stpipe - INFO - Working on galaxy #200. Estimated time remaining to add all galaxies to the stamp image: 0.62 minutes. Projected finish time: 2022-04-21 23:56:27.967380\n"
     ]
    },
    {
     "name": "stdout",
     "output_type": "stream",
     "text": [
      "2022-04-21 23:55:50,767 - stpipe - INFO - Working on galaxy #200. Estimated time remaining to add all galaxies to the stamp image: 0.62 minutes. Projected finish time: 2022-04-21 23:56:27.967380\n",
      "2022-04-21 23:55:51,765 - mirage.seed_image.catalog_seed_image - INFO - Working on galaxy #300. Estimated time remaining to add all galaxies to the stamp image: 0.36 minutes. Projected finish time: 2022-04-21 23:56:13.365370\n"
     ]
    },
    {
     "name": "stderr",
     "output_type": "stream",
     "text": [
      "2022-04-21 23:55:51,765 - stpipe - INFO - Working on galaxy #300. Estimated time remaining to add all galaxies to the stamp image: 0.36 minutes. Projected finish time: 2022-04-21 23:56:13.365370\n"
     ]
    },
    {
     "name": "stdout",
     "output_type": "stream",
     "text": [
      "2022-04-21 23:55:51,765 - stpipe - INFO - Working on galaxy #300. Estimated time remaining to add all galaxies to the stamp image: 0.36 minutes. Projected finish time: 2022-04-21 23:56:13.365370\n",
      "2022-04-21 23:55:52,661 - mirage.seed_image.catalog_seed_image - INFO - Working on galaxy #400. Estimated time remaining to add all galaxies to the stamp image: 0.23 minutes. Projected finish time: 2022-04-21 23:56:06.461836\n"
     ]
    },
    {
     "name": "stderr",
     "output_type": "stream",
     "text": [
      "2022-04-21 23:55:52,661 - stpipe - INFO - Working on galaxy #400. Estimated time remaining to add all galaxies to the stamp image: 0.23 minutes. Projected finish time: 2022-04-21 23:56:06.461836\n"
     ]
    },
    {
     "name": "stdout",
     "output_type": "stream",
     "text": [
      "2022-04-21 23:55:52,661 - stpipe - INFO - Working on galaxy #400. Estimated time remaining to add all galaxies to the stamp image: 0.23 minutes. Projected finish time: 2022-04-21 23:56:06.461836\n",
      "2022-04-21 23:55:53,603 - mirage.seed_image.catalog_seed_image - INFO - Working on galaxy #500. Estimated time remaining to add all galaxies to the stamp image: 0.16 minutes. Projected finish time: 2022-04-21 23:56:03.203398\n"
     ]
    },
    {
     "name": "stderr",
     "output_type": "stream",
     "text": [
      "2022-04-21 23:55:53,603 - stpipe - INFO - Working on galaxy #500. Estimated time remaining to add all galaxies to the stamp image: 0.16 minutes. Projected finish time: 2022-04-21 23:56:03.203398\n"
     ]
    },
    {
     "name": "stdout",
     "output_type": "stream",
     "text": [
      "2022-04-21 23:55:53,603 - stpipe - INFO - Working on galaxy #500. Estimated time remaining to add all galaxies to the stamp image: 0.16 minutes. Projected finish time: 2022-04-21 23:56:03.203398\n",
      "2022-04-21 23:55:54,433 - mirage.seed_image.catalog_seed_image - INFO - Working on galaxy #600. Estimated time remaining to add all galaxies to the stamp image: 0.1 minutes. Projected finish time: 2022-04-21 23:56:00.433292\n"
     ]
    },
    {
     "name": "stderr",
     "output_type": "stream",
     "text": [
      "2022-04-21 23:55:54,433 - stpipe - INFO - Working on galaxy #600. Estimated time remaining to add all galaxies to the stamp image: 0.1 minutes. Projected finish time: 2022-04-21 23:56:00.433292\n"
     ]
    },
    {
     "name": "stdout",
     "output_type": "stream",
     "text": [
      "2022-04-21 23:55:54,433 - stpipe - INFO - Working on galaxy #600. Estimated time remaining to add all galaxies to the stamp image: 0.1 minutes. Projected finish time: 2022-04-21 23:56:00.433292\n",
      "2022-04-21 23:55:55,319 - mirage.seed_image.catalog_seed_image - INFO - Working on galaxy #700. Estimated time remaining to add all galaxies to the stamp image: 0.07 minutes. Projected finish time: 2022-04-21 23:55:59.519633\n"
     ]
    },
    {
     "name": "stderr",
     "output_type": "stream",
     "text": [
      "2022-04-21 23:55:55,319 - stpipe - INFO - Working on galaxy #700. Estimated time remaining to add all galaxies to the stamp image: 0.07 minutes. Projected finish time: 2022-04-21 23:55:59.519633\n"
     ]
    },
    {
     "name": "stdout",
     "output_type": "stream",
     "text": [
      "2022-04-21 23:55:55,319 - stpipe - INFO - Working on galaxy #700. Estimated time remaining to add all galaxies to the stamp image: 0.07 minutes. Projected finish time: 2022-04-21 23:55:59.519633\n",
      "2022-04-21 23:55:56,135 - mirage.seed_image.catalog_seed_image - INFO - Working on galaxy #800. Estimated time remaining to add all galaxies to the stamp image: 0.04 minutes. Projected finish time: 2022-04-21 23:55:58.535652\n"
     ]
    },
    {
     "name": "stderr",
     "output_type": "stream",
     "text": [
      "2022-04-21 23:55:56,135 - stpipe - INFO - Working on galaxy #800. Estimated time remaining to add all galaxies to the stamp image: 0.04 minutes. Projected finish time: 2022-04-21 23:55:58.535652\n"
     ]
    },
    {
     "name": "stdout",
     "output_type": "stream",
     "text": [
      "2022-04-21 23:55:56,135 - stpipe - INFO - Working on galaxy #800. Estimated time remaining to add all galaxies to the stamp image: 0.04 minutes. Projected finish time: 2022-04-21 23:55:58.535652\n",
      "2022-04-21 23:55:56,939 - mirage.seed_image.catalog_seed_image - INFO - Working on galaxy #900. Estimated time remaining to add all galaxies to the stamp image: 0.01 minutes. Projected finish time: 2022-04-21 23:55:57.539202\n"
     ]
    },
    {
     "name": "stderr",
     "output_type": "stream",
     "text": [
      "2022-04-21 23:55:56,939 - stpipe - INFO - Working on galaxy #900. Estimated time remaining to add all galaxies to the stamp image: 0.01 minutes. Projected finish time: 2022-04-21 23:55:57.539202\n"
     ]
    },
    {
     "name": "stdout",
     "output_type": "stream",
     "text": [
      "2022-04-21 23:55:56,939 - stpipe - INFO - Working on galaxy #900. Estimated time remaining to add all galaxies to the stamp image: 0.01 minutes. Projected finish time: 2022-04-21 23:55:57.539202\n",
      "2022-04-21 23:55:57,833 - mirage.seed_image.catalog_seed_image - INFO - Seed image is 2D.\n"
     ]
    },
    {
     "name": "stderr",
     "output_type": "stream",
     "text": [
      "2022-04-21 23:55:57,833 - stpipe - INFO - Seed image is 2D.\n"
     ]
    },
    {
     "name": "stdout",
     "output_type": "stream",
     "text": [
      "2022-04-21 23:55:57,833 - stpipe - INFO - Seed image is 2D.\n",
      "2022-04-21 23:55:58,181 - mirage.seed_image.catalog_seed_image - INFO - Simulated galaxy image and segmap saved as /Users/dcoe/NIRCam/MIRAGE/2022April/images/F277W/jw01433010001_01101_00011_nrca5_uncal_F277W_CLEAR_galaxy_seed_image.fits\n"
     ]
    },
    {
     "name": "stderr",
     "output_type": "stream",
     "text": [
      "2022-04-21 23:55:58,181 - stpipe - INFO - Simulated galaxy image and segmap saved as /Users/dcoe/NIRCam/MIRAGE/2022April/images/F277W/jw01433010001_01101_00011_nrca5_uncal_F277W_CLEAR_galaxy_seed_image.fits\n"
     ]
    },
    {
     "name": "stdout",
     "output_type": "stream",
     "text": [
      "2022-04-21 23:55:58,181 - stpipe - INFO - Simulated galaxy image and segmap saved as /Users/dcoe/NIRCam/MIRAGE/2022April/images/F277W/jw01433010001_01101_00011_nrca5_uncal_F277W_CLEAR_galaxy_seed_image.fits\n",
      "2022-04-21 23:55:58,333 - mirage.seed_image.catalog_seed_image - INFO - Multiplying seed by POM transmission image.\n"
     ]
    },
    {
     "name": "stderr",
     "output_type": "stream",
     "text": [
      "2022-04-21 23:55:58,333 - stpipe - INFO - Multiplying seed by POM transmission image.\n"
     ]
    },
    {
     "name": "stdout",
     "output_type": "stream",
     "text": [
      "2022-04-21 23:55:58,333 - stpipe - INFO - Multiplying seed by POM transmission image.\n",
      "2022-04-21 23:55:58,340 - mirage.seed_image.catalog_seed_image - INFO - Seed image is 2D.\n"
     ]
    },
    {
     "name": "stderr",
     "output_type": "stream",
     "text": [
      "2022-04-21 23:55:58,340 - stpipe - INFO - Seed image is 2D.\n"
     ]
    },
    {
     "name": "stdout",
     "output_type": "stream",
     "text": [
      "2022-04-21 23:55:58,340 - stpipe - INFO - Seed image is 2D.\n",
      "2022-04-21 23:55:58,678 - mirage.seed_image.catalog_seed_image - INFO - Final seed image and segmentation map saved as /Users/dcoe/NIRCam/MIRAGE/2022April/images/F277W/jw01433010001_01101_00011_nrca5_uncal_F277W_CLEAR_final_seed_image.fits\n"
     ]
    },
    {
     "name": "stderr",
     "output_type": "stream",
     "text": [
      "2022-04-21 23:55:58,678 - stpipe - INFO - Final seed image and segmentation map saved as /Users/dcoe/NIRCam/MIRAGE/2022April/images/F277W/jw01433010001_01101_00011_nrca5_uncal_F277W_CLEAR_final_seed_image.fits\n"
     ]
    },
    {
     "name": "stdout",
     "output_type": "stream",
     "text": [
      "2022-04-21 23:55:58,678 - stpipe - INFO - Final seed image and segmentation map saved as /Users/dcoe/NIRCam/MIRAGE/2022April/images/F277W/jw01433010001_01101_00011_nrca5_uncal_F277W_CLEAR_final_seed_image.fits\n",
      "2022-04-21 23:55:58,680 - mirage.seed_image.catalog_seed_image - INFO - Seed image, segmentation map, and metadata available as:\n"
     ]
    },
    {
     "name": "stderr",
     "output_type": "stream",
     "text": [
      "2022-04-21 23:55:58,680 - stpipe - INFO - Seed image, segmentation map, and metadata available as:\n"
     ]
    },
    {
     "name": "stdout",
     "output_type": "stream",
     "text": [
      "2022-04-21 23:55:58,680 - stpipe - INFO - Seed image, segmentation map, and metadata available as:\n",
      "2022-04-21 23:55:58,682 - mirage.seed_image.catalog_seed_image - INFO - self.seedimage, self.seed_segmap, self.seedinfo.\n"
     ]
    },
    {
     "name": "stderr",
     "output_type": "stream",
     "text": [
      "2022-04-21 23:55:58,682 - stpipe - INFO - self.seedimage, self.seed_segmap, self.seedinfo.\n"
     ]
    },
    {
     "name": "stdout",
     "output_type": "stream",
     "text": [
      "2022-04-21 23:55:58,682 - stpipe - INFO - self.seedimage, self.seed_segmap, self.seedinfo.\n",
      "2022-04-21 23:55:58,684 - mirage.seed_image.catalog_seed_image - INFO - \n"
     ]
    },
    {
     "name": "stderr",
     "output_type": "stream",
     "text": [
      "2022-04-21 23:55:58,684 - stpipe - INFO - \n"
     ]
    },
    {
     "name": "stdout",
     "output_type": "stream",
     "text": [
      "2022-04-21 23:55:58,684 - stpipe - INFO - \n",
      "2022-04-21 23:55:58,685 - mirage.seed_image.catalog_seed_image - INFO - \n"
     ]
    },
    {
     "name": "stderr",
     "output_type": "stream",
     "text": [
      "2022-04-21 23:55:58,685 - stpipe - INFO - \n"
     ]
    },
    {
     "name": "stdout",
     "output_type": "stream",
     "text": [
      "2022-04-21 23:55:58,685 - stpipe - INFO - \n",
      "2022-04-21 23:55:58,690 - mirage.imaging_simulator - INFO - Perform dark preparation:\n"
     ]
    },
    {
     "name": "stderr",
     "output_type": "stream",
     "text": [
      "2022-04-21 23:55:58,690 - stpipe - INFO - Perform dark preparation:\n"
     ]
    },
    {
     "name": "stdout",
     "output_type": "stream",
     "text": [
      "2022-04-21 23:55:58,690 - stpipe - INFO - Perform dark preparation:\n",
      "2022-04-21 23:55:58,721 - mirage.dark.dark_prep - INFO - \n"
     ]
    },
    {
     "name": "stderr",
     "output_type": "stream",
     "text": [
      "2022-04-21 23:55:58,721 - stpipe - INFO - \n"
     ]
    },
    {
     "name": "stdout",
     "output_type": "stream",
     "text": [
      "2022-04-21 23:55:58,721 - stpipe - INFO - \n",
      "2022-04-21 23:55:58,723 - mirage.dark.dark_prep - INFO - \n"
     ]
    },
    {
     "name": "stderr",
     "output_type": "stream",
     "text": [
      "2022-04-21 23:55:58,723 - stpipe - INFO - \n"
     ]
    },
    {
     "name": "stdout",
     "output_type": "stream",
     "text": [
      "2022-04-21 23:55:58,723 - stpipe - INFO - \n",
      "2022-04-21 23:55:58,725 - mirage.dark.dark_prep - INFO - Running dark_prep..\n"
     ]
    },
    {
     "name": "stderr",
     "output_type": "stream",
     "text": [
      "2022-04-21 23:55:58,725 - stpipe - INFO - Running dark_prep..\n"
     ]
    },
    {
     "name": "stdout",
     "output_type": "stream",
     "text": [
      "2022-04-21 23:55:58,725 - stpipe - INFO - Running dark_prep..\n",
      "2022-04-21 23:55:58,727 - mirage.dark.dark_prep - INFO - \n"
     ]
    },
    {
     "name": "stderr",
     "output_type": "stream",
     "text": [
      "2022-04-21 23:55:58,727 - stpipe - INFO - \n"
     ]
    },
    {
     "name": "stdout",
     "output_type": "stream",
     "text": [
      "2022-04-21 23:55:58,727 - stpipe - INFO - \n",
      "2022-04-21 23:55:58,728 - mirage.dark.dark_prep - INFO - Reading parameter file: ./yaml/F277W/jw01433010001_01101_00011_nrca5.yaml\n"
     ]
    },
    {
     "name": "stderr",
     "output_type": "stream",
     "text": [
      "2022-04-21 23:55:58,728 - stpipe - INFO - Reading parameter file: ./yaml/F277W/jw01433010001_01101_00011_nrca5.yaml\n"
     ]
    },
    {
     "name": "stdout",
     "output_type": "stream",
     "text": [
      "2022-04-21 23:55:58,728 - stpipe - INFO - Reading parameter file: ./yaml/F277W/jw01433010001_01101_00011_nrca5.yaml\n",
      "2022-04-21 23:55:58,730 - mirage.dark.dark_prep - INFO - \n"
     ]
    },
    {
     "name": "stderr",
     "output_type": "stream",
     "text": [
      "2022-04-21 23:55:58,730 - stpipe - INFO - \n"
     ]
    },
    {
     "name": "stdout",
     "output_type": "stream",
     "text": [
      "2022-04-21 23:55:58,730 - stpipe - INFO - \n",
      "2022-04-21 23:55:58,732 - mirage.dark.dark_prep - INFO - Original log file name: ./mirage_latest.log\n"
     ]
    },
    {
     "name": "stderr",
     "output_type": "stream",
     "text": [
      "2022-04-21 23:55:58,732 - stpipe - INFO - Original log file name: ./mirage_latest.log\n"
     ]
    },
    {
     "name": "stdout",
     "output_type": "stream",
     "text": [
      "2022-04-21 23:55:58,732 - stpipe - INFO - Original log file name: ./mirage_latest.log\n",
      "2022-04-21 23:55:58,735 - mirage.utils.utils.full_paths - INFO - From CRDS, found /Users/dcoe/crds_cache/references/jwst/nircam/jwst_nircam_mask_0052.fits as the badpixmask reference file.\n"
     ]
    },
    {
     "name": "stderr",
     "output_type": "stream",
     "text": [
      "2022-04-21 23:55:58,735 - stpipe - INFO - From CRDS, found /Users/dcoe/crds_cache/references/jwst/nircam/jwst_nircam_mask_0052.fits as the badpixmask reference file.\n"
     ]
    },
    {
     "name": "stdout",
     "output_type": "stream",
     "text": [
      "2022-04-21 23:55:58,735 - stpipe - INFO - From CRDS, found /Users/dcoe/crds_cache/references/jwst/nircam/jwst_nircam_mask_0052.fits as the badpixmask reference file.\n",
      "2022-04-21 23:55:58,737 - mirage.utils.utils.full_paths - INFO - From CRDS, found /Users/dcoe/crds_cache/references/jwst/nircam/jwst_nircam_superbias_0022.fits as the superbias reference file.\n"
     ]
    },
    {
     "name": "stderr",
     "output_type": "stream",
     "text": [
      "2022-04-21 23:55:58,737 - stpipe - INFO - From CRDS, found /Users/dcoe/crds_cache/references/jwst/nircam/jwst_nircam_superbias_0022.fits as the superbias reference file.\n"
     ]
    },
    {
     "name": "stdout",
     "output_type": "stream",
     "text": [
      "2022-04-21 23:55:58,737 - stpipe - INFO - From CRDS, found /Users/dcoe/crds_cache/references/jwst/nircam/jwst_nircam_superbias_0022.fits as the superbias reference file.\n",
      "2022-04-21 23:55:58,740 - mirage.utils.utils.full_paths - INFO - From CRDS, found /Users/dcoe/crds_cache/references/jwst/nircam/jwst_nircam_linearity_0052.fits as the linearity reference file.\n"
     ]
    },
    {
     "name": "stderr",
     "output_type": "stream",
     "text": [
      "2022-04-21 23:55:58,740 - stpipe - INFO - From CRDS, found /Users/dcoe/crds_cache/references/jwst/nircam/jwst_nircam_linearity_0052.fits as the linearity reference file.\n"
     ]
    },
    {
     "name": "stdout",
     "output_type": "stream",
     "text": [
      "2022-04-21 23:55:58,740 - stpipe - INFO - From CRDS, found /Users/dcoe/crds_cache/references/jwst/nircam/jwst_nircam_linearity_0052.fits as the linearity reference file.\n",
      "2022-04-21 23:55:58,742 - mirage.utils.utils.full_paths - INFO - From CRDS, found /Users/dcoe/crds_cache/references/jwst/nircam/jwst_nircam_saturation_0091.fits as the saturation reference file.\n"
     ]
    },
    {
     "name": "stderr",
     "output_type": "stream",
     "text": [
      "2022-04-21 23:55:58,742 - stpipe - INFO - From CRDS, found /Users/dcoe/crds_cache/references/jwst/nircam/jwst_nircam_saturation_0091.fits as the saturation reference file.\n"
     ]
    },
    {
     "name": "stdout",
     "output_type": "stream",
     "text": [
      "2022-04-21 23:55:58,742 - stpipe - INFO - From CRDS, found /Users/dcoe/crds_cache/references/jwst/nircam/jwst_nircam_saturation_0091.fits as the saturation reference file.\n",
      "2022-04-21 23:55:58,745 - mirage.utils.utils.full_paths - INFO - From CRDS, found /Users/dcoe/crds_cache/references/jwst/nircam/jwst_nircam_gain_0056.fits as the gain reference file.\n"
     ]
    },
    {
     "name": "stderr",
     "output_type": "stream",
     "text": [
      "2022-04-21 23:55:58,745 - stpipe - INFO - From CRDS, found /Users/dcoe/crds_cache/references/jwst/nircam/jwst_nircam_gain_0056.fits as the gain reference file.\n"
     ]
    },
    {
     "name": "stdout",
     "output_type": "stream",
     "text": [
      "2022-04-21 23:55:58,745 - stpipe - INFO - From CRDS, found /Users/dcoe/crds_cache/references/jwst/nircam/jwst_nircam_gain_0056.fits as the gain reference file.\n",
      "2022-04-21 23:55:58,748 - mirage.utils.utils.full_paths - INFO - From CRDS, found /Users/dcoe/crds_cache/references/jwst/nircam/jwst_nircam_flat_0266.fits as the pixelflat reference file.\n"
     ]
    },
    {
     "name": "stderr",
     "output_type": "stream",
     "text": [
      "2022-04-21 23:55:58,748 - stpipe - INFO - From CRDS, found /Users/dcoe/crds_cache/references/jwst/nircam/jwst_nircam_flat_0266.fits as the pixelflat reference file.\n"
     ]
    },
    {
     "name": "stdout",
     "output_type": "stream",
     "text": [
      "2022-04-21 23:55:58,748 - stpipe - INFO - From CRDS, found /Users/dcoe/crds_cache/references/jwst/nircam/jwst_nircam_flat_0266.fits as the pixelflat reference file.\n",
      "2022-04-21 23:55:58,751 - mirage.utils.utils.full_paths - INFO - From CRDS, found /Users/dcoe/crds_cache/references/jwst/nircam/jwst_nircam_ipc_0028.fits as the ipc reference file.\n"
     ]
    },
    {
     "name": "stderr",
     "output_type": "stream",
     "text": [
      "2022-04-21 23:55:58,751 - stpipe - INFO - From CRDS, found /Users/dcoe/crds_cache/references/jwst/nircam/jwst_nircam_ipc_0028.fits as the ipc reference file.\n"
     ]
    },
    {
     "name": "stdout",
     "output_type": "stream",
     "text": [
      "2022-04-21 23:55:58,751 - stpipe - INFO - From CRDS, found /Users/dcoe/crds_cache/references/jwst/nircam/jwst_nircam_ipc_0028.fits as the ipc reference file.\n",
      "2022-04-21 23:55:58,753 - mirage.utils.utils.full_paths - INFO - Found an existing inverted kernel for this IPC file: /Users/dcoe/crds_cache/references/jwst/nircam/Kernel_to_add_IPC_effects_from_jwst_nircam_ipc_0028.fits\n"
     ]
    },
    {
     "name": "stderr",
     "output_type": "stream",
     "text": [
      "2022-04-21 23:55:58,753 - stpipe - INFO - Found an existing inverted kernel for this IPC file: /Users/dcoe/crds_cache/references/jwst/nircam/Kernel_to_add_IPC_effects_from_jwst_nircam_ipc_0028.fits\n"
     ]
    },
    {
     "name": "stdout",
     "output_type": "stream",
     "text": [
      "2022-04-21 23:55:58,753 - stpipe - INFO - Found an existing inverted kernel for this IPC file: /Users/dcoe/crds_cache/references/jwst/nircam/Kernel_to_add_IPC_effects_from_jwst_nircam_ipc_0028.fits\n",
      "2022-04-21 23:55:58,755 - mirage.utils.utils.full_paths - INFO - From CRDS, found /Users/dcoe/crds_cache/references/jwst/nircam/jwst_nircam_distortion_0133.asdf as the astrometric reference file.\n"
     ]
    },
    {
     "name": "stderr",
     "output_type": "stream",
     "text": [
      "2022-04-21 23:55:58,755 - stpipe - INFO - From CRDS, found /Users/dcoe/crds_cache/references/jwst/nircam/jwst_nircam_distortion_0133.asdf as the astrometric reference file.\n"
     ]
    },
    {
     "name": "stdout",
     "output_type": "stream",
     "text": [
      "2022-04-21 23:55:58,755 - stpipe - INFO - From CRDS, found /Users/dcoe/crds_cache/references/jwst/nircam/jwst_nircam_distortion_0133.asdf as the astrometric reference file.\n",
      "2022-04-21 23:55:58,758 - mirage.utils.utils.full_paths - INFO - From CRDS, found /Users/dcoe/crds_cache/references/jwst/nircam/jwst_nircam_area_0015.fits as the pixelAreaMap reference file.\n"
     ]
    },
    {
     "name": "stderr",
     "output_type": "stream",
     "text": [
      "2022-04-21 23:55:58,758 - stpipe - INFO - From CRDS, found /Users/dcoe/crds_cache/references/jwst/nircam/jwst_nircam_area_0015.fits as the pixelAreaMap reference file.\n"
     ]
    },
    {
     "name": "stdout",
     "output_type": "stream",
     "text": [
      "2022-04-21 23:55:58,758 - stpipe - INFO - From CRDS, found /Users/dcoe/crds_cache/references/jwst/nircam/jwst_nircam_area_0015.fits as the pixelAreaMap reference file.\n",
      "2022-04-21 23:55:58,759 - mirage.reference_files.utils.get_transmission_file - INFO - POM Transmission filename: None\n"
     ]
    },
    {
     "name": "stderr",
     "output_type": "stream",
     "text": [
      "2022-04-21 23:55:58,759 - stpipe - INFO - POM Transmission filename: None\n"
     ]
    },
    {
     "name": "stdout",
     "output_type": "stream",
     "text": [
      "2022-04-21 23:55:58,759 - stpipe - INFO - POM Transmission filename: None\n",
      "2022-04-21 23:55:58,761 - mirage.utils.utils.full_paths - INFO - From grism library, found None as the POM transmission file.\n"
     ]
    },
    {
     "name": "stderr",
     "output_type": "stream",
     "text": [
      "2022-04-21 23:55:58,761 - stpipe - INFO - From grism library, found None as the POM transmission file.\n"
     ]
    },
    {
     "name": "stdout",
     "output_type": "stream",
     "text": [
      "2022-04-21 23:55:58,761 - stpipe - INFO - From grism library, found None as the POM transmission file.\n",
      "2022-04-21 23:55:58,764 - mirage.utils.utils.full_paths - INFO - From CRDS, found /Users/dcoe/crds_cache/references/jwst/nircam/jwst_nircam_photom_0092.fits as the photom reference file.\n"
     ]
    },
    {
     "name": "stderr",
     "output_type": "stream",
     "text": [
      "2022-04-21 23:55:58,764 - stpipe - INFO - From CRDS, found /Users/dcoe/crds_cache/references/jwst/nircam/jwst_nircam_photom_0092.fits as the photom reference file.\n"
     ]
    },
    {
     "name": "stdout",
     "output_type": "stream",
     "text": [
      "2022-04-21 23:55:58,764 - stpipe - INFO - From CRDS, found /Users/dcoe/crds_cache/references/jwst/nircam/jwst_nircam_photom_0092.fits as the photom reference file.\n",
      "2022-04-21 23:55:59,433 - mirage.dark.dark_prep - INFO - Requested readout pattern SHALLOW4 is valid. Using the nframe = 4 and nskip = 1\n"
     ]
    },
    {
     "name": "stderr",
     "output_type": "stream",
     "text": [
      "2022-04-21 23:55:59,433 - stpipe - INFO - Requested readout pattern SHALLOW4 is valid. Using the nframe = 4 and nskip = 1\n"
     ]
    },
    {
     "name": "stdout",
     "output_type": "stream",
     "text": [
      "2022-04-21 23:55:59,433 - stpipe - INFO - Requested readout pattern SHALLOW4 is valid. Using the nframe = 4 and nskip = 1\n",
      "2022-04-21 23:55:59,889 - mirage.dark.dark_prep - INFO - File splitting enabled. Starting integration numbers for all file segments: [0 1]\n"
     ]
    },
    {
     "name": "stderr",
     "output_type": "stream",
     "text": [
      "2022-04-21 23:55:59,889 - stpipe - INFO - File splitting enabled. Starting integration numbers for all file segments: [0 1]\n"
     ]
    },
    {
     "name": "stdout",
     "output_type": "stream",
     "text": [
      "2022-04-21 23:55:59,889 - stpipe - INFO - File splitting enabled. Starting integration numbers for all file segments: [0 1]\n",
      "2022-04-21 23:55:59,891 - mirage.dark.dark_prep - INFO - Segment number: 0\n"
     ]
    },
    {
     "name": "stderr",
     "output_type": "stream",
     "text": [
      "2022-04-21 23:55:59,891 - stpipe - INFO - Segment number: 0\n"
     ]
    },
    {
     "name": "stdout",
     "output_type": "stream",
     "text": [
      "2022-04-21 23:55:59,891 - stpipe - INFO - Segment number: 0\n",
      "2022-04-21 23:55:59,894 - mirage.dark.dark_prep - INFO - Number of integrations: 1\n"
     ]
    },
    {
     "name": "stderr",
     "output_type": "stream",
     "text": [
      "2022-04-21 23:55:59,894 - stpipe - INFO - Number of integrations: 1\n"
     ]
    },
    {
     "name": "stdout",
     "output_type": "stream",
     "text": [
      "2022-04-21 23:55:59,894 - stpipe - INFO - Number of integrations: 1\n",
      "2022-04-21 23:55:59,896 - mirage.dark.dark_prep - INFO - Dark files to use:\n"
     ]
    },
    {
     "name": "stderr",
     "output_type": "stream",
     "text": [
      "2022-04-21 23:55:59,896 - stpipe - INFO - Dark files to use:\n"
     ]
    },
    {
     "name": "stdout",
     "output_type": "stream",
     "text": [
      "2022-04-21 23:55:59,896 - stpipe - INFO - Dark files to use:\n",
      "2022-04-21 23:55:59,898 - mirage.dark.dark_prep - INFO - /ifs/jwst/wit/mirage_data/nircam/darks/linearized/A5/Linearized_Dark_and_SBRefpix_NRCNRCALONG-DARK-53562311041_1_485_SE_2015-12-23T01h42m19_uncal.fits\n"
     ]
    },
    {
     "name": "stderr",
     "output_type": "stream",
     "text": [
      "2022-04-21 23:55:59,898 - stpipe - INFO - /ifs/jwst/wit/mirage_data/nircam/darks/linearized/A5/Linearized_Dark_and_SBRefpix_NRCNRCALONG-DARK-53562311041_1_485_SE_2015-12-23T01h42m19_uncal.fits\n"
     ]
    },
    {
     "name": "stdout",
     "output_type": "stream",
     "text": [
      "2022-04-21 23:55:59,898 - stpipe - INFO - /ifs/jwst/wit/mirage_data/nircam/darks/linearized/A5/Linearized_Dark_and_SBRefpix_NRCNRCALONG-DARK-53562311041_1_485_SE_2015-12-23T01h42m19_uncal.fits\n",
      "2022-04-21 23:55:59,900 - mirage.dark.dark_prep - INFO - Working on dark file: /ifs/jwst/wit/mirage_data/nircam/darks/linearized/A5/Linearized_Dark_and_SBRefpix_NRCNRCALONG-DARK-53562311041_1_485_SE_2015-12-23T01h42m19_uncal.fits\n"
     ]
    },
    {
     "name": "stderr",
     "output_type": "stream",
     "text": [
      "2022-04-21 23:55:59,900 - stpipe - INFO - Working on dark file: /ifs/jwst/wit/mirage_data/nircam/darks/linearized/A5/Linearized_Dark_and_SBRefpix_NRCNRCALONG-DARK-53562311041_1_485_SE_2015-12-23T01h42m19_uncal.fits\n"
     ]
    },
    {
     "name": "stdout",
     "output_type": "stream",
     "text": [
      "2022-04-21 23:55:59,900 - stpipe - INFO - Working on dark file: /ifs/jwst/wit/mirage_data/nircam/darks/linearized/A5/Linearized_Dark_and_SBRefpix_NRCNRCALONG-DARK-53562311041_1_485_SE_2015-12-23T01h42m19_uncal.fits\n",
      "2022-04-21 23:55:59,903 - mirage.dark.dark_prep - INFO - Reading in linearized dark current ramp from /ifs/jwst/wit/mirage_data/nircam/darks/linearized/A5/Linearized_Dark_and_SBRefpix_NRCNRCALONG-DARK-53562311041_1_485_SE_2015-12-23T01h42m19_uncal.fits\n"
     ]
    },
    {
     "name": "stderr",
     "output_type": "stream",
     "text": [
      "2022-04-21 23:55:59,903 - stpipe - INFO - Reading in linearized dark current ramp from /ifs/jwst/wit/mirage_data/nircam/darks/linearized/A5/Linearized_Dark_and_SBRefpix_NRCNRCALONG-DARK-53562311041_1_485_SE_2015-12-23T01h42m19_uncal.fits\n"
     ]
    },
    {
     "name": "stdout",
     "output_type": "stream",
     "text": [
      "2022-04-21 23:55:59,903 - stpipe - INFO - Reading in linearized dark current ramp from /ifs/jwst/wit/mirage_data/nircam/darks/linearized/A5/Linearized_Dark_and_SBRefpix_NRCNRCALONG-DARK-53562311041_1_485_SE_2015-12-23T01h42m19_uncal.fits\n",
      "2022-04-21 23:56:02,101 - mirage.dark.dark_prep - INFO - Averaging dark current ramp. Frames [0 1 2 3], to become group 0\n"
     ]
    },
    {
     "name": "stderr",
     "output_type": "stream",
     "text": [
      "2022-04-21 23:56:02,101 - stpipe - INFO - Averaging dark current ramp. Frames [0 1 2 3], to become group 0\n"
     ]
    },
    {
     "name": "stdout",
     "output_type": "stream",
     "text": [
      "2022-04-21 23:56:02,101 - stpipe - INFO - Averaging dark current ramp. Frames [0 1 2 3], to become group 0\n",
      "2022-04-21 23:58:15,890 - mirage.dark.dark_prep - INFO - Averaging dark current ramp. Frames [5 6 7 8], to become group 1\n"
     ]
    },
    {
     "name": "stderr",
     "output_type": "stream",
     "text": [
      "2022-04-21 23:58:15,890 - stpipe - INFO - Averaging dark current ramp. Frames [5 6 7 8], to become group 1\n"
     ]
    },
    {
     "name": "stdout",
     "output_type": "stream",
     "text": [
      "2022-04-21 23:58:15,890 - stpipe - INFO - Averaging dark current ramp. Frames [5 6 7 8], to become group 1\n",
      "2022-04-22 00:00:28,496 - mirage.dark.dark_prep - INFO - Averaging dark current ramp. Frames [10 11 12 13], to become group 2\n"
     ]
    },
    {
     "name": "stderr",
     "output_type": "stream",
     "text": [
      "2022-04-22 00:00:28,496 - stpipe - INFO - Averaging dark current ramp. Frames [10 11 12 13], to become group 2\n"
     ]
    },
    {
     "name": "stdout",
     "output_type": "stream",
     "text": [
      "2022-04-22 00:00:28,496 - stpipe - INFO - Averaging dark current ramp. Frames [10 11 12 13], to become group 2\n",
      "2022-04-22 00:02:17,897 - mirage.dark.dark_prep - INFO - Averaging dark current ramp. Frames [15 16 17 18], to become group 3\n"
     ]
    },
    {
     "name": "stderr",
     "output_type": "stream",
     "text": [
      "2022-04-22 00:02:17,897 - stpipe - INFO - Averaging dark current ramp. Frames [15 16 17 18], to become group 3\n"
     ]
    },
    {
     "name": "stdout",
     "output_type": "stream",
     "text": [
      "2022-04-22 00:02:17,897 - stpipe - INFO - Averaging dark current ramp. Frames [15 16 17 18], to become group 3\n",
      "2022-04-22 00:04:20,260 - mirage.dark.dark_prep - INFO - Averaging dark current ramp. Frames [20 21 22 23], to become group 4\n"
     ]
    },
    {
     "name": "stderr",
     "output_type": "stream",
     "text": [
      "2022-04-22 00:04:20,260 - stpipe - INFO - Averaging dark current ramp. Frames [20 21 22 23], to become group 4\n"
     ]
    },
    {
     "name": "stdout",
     "output_type": "stream",
     "text": [
      "2022-04-22 00:04:20,260 - stpipe - INFO - Averaging dark current ramp. Frames [20 21 22 23], to become group 4\n",
      "2022-04-22 00:06:10,810 - mirage.dark.dark_prep - INFO - Averaging dark current ramp. Frames [25 26 27 28], to become group 5\n"
     ]
    },
    {
     "name": "stderr",
     "output_type": "stream",
     "text": [
      "2022-04-22 00:06:10,810 - stpipe - INFO - Averaging dark current ramp. Frames [25 26 27 28], to become group 5\n"
     ]
    },
    {
     "name": "stdout",
     "output_type": "stream",
     "text": [
      "2022-04-22 00:06:10,810 - stpipe - INFO - Averaging dark current ramp. Frames [25 26 27 28], to become group 5\n",
      "2022-04-22 00:07:27,260 - mirage.dark.dark_prep - INFO - Averaging dark current ramp. Frames [30 31 32 33], to become group 6\n"
     ]
    },
    {
     "name": "stderr",
     "output_type": "stream",
     "text": [
      "2022-04-22 00:07:27,260 - stpipe - INFO - Averaging dark current ramp. Frames [30 31 32 33], to become group 6\n"
     ]
    },
    {
     "name": "stdout",
     "output_type": "stream",
     "text": [
      "2022-04-22 00:07:27,260 - stpipe - INFO - Averaging dark current ramp. Frames [30 31 32 33], to become group 6\n",
      "2022-04-22 00:09:30,939 - mirage.dark.dark_prep - INFO - Averaging dark current ramp. Frames [35 36 37 38], to become group 7\n"
     ]
    },
    {
     "name": "stderr",
     "output_type": "stream",
     "text": [
      "2022-04-22 00:09:30,939 - stpipe - INFO - Averaging dark current ramp. Frames [35 36 37 38], to become group 7\n"
     ]
    },
    {
     "name": "stdout",
     "output_type": "stream",
     "text": [
      "2022-04-22 00:09:30,939 - stpipe - INFO - Averaging dark current ramp. Frames [35 36 37 38], to become group 7\n",
      "2022-04-22 00:11:52,138 - mirage.dark.dark_prep - INFO - Averaging dark current ramp. Frames [40 41 42 43], to become group 8\n"
     ]
    },
    {
     "name": "stderr",
     "output_type": "stream",
     "text": [
      "2022-04-22 00:11:52,138 - stpipe - INFO - Averaging dark current ramp. Frames [40 41 42 43], to become group 8\n"
     ]
    },
    {
     "name": "stdout",
     "output_type": "stream",
     "text": [
      "2022-04-22 00:11:52,138 - stpipe - INFO - Averaging dark current ramp. Frames [40 41 42 43], to become group 8\n",
      "2022-04-22 00:12:57,965 - mirage.dark.dark_prep - INFO - Averaging dark current ramp. Frames [45 46 47 48], to become group 9\n"
     ]
    },
    {
     "name": "stderr",
     "output_type": "stream",
     "text": [
      "2022-04-22 00:12:57,965 - stpipe - INFO - Averaging dark current ramp. Frames [45 46 47 48], to become group 9\n"
     ]
    },
    {
     "name": "stdout",
     "output_type": "stream",
     "text": [
      "2022-04-22 00:12:57,965 - stpipe - INFO - Averaging dark current ramp. Frames [45 46 47 48], to become group 9\n",
      "2022-04-22 00:13:48,752 - mirage.dark.dark_prep - INFO - DARK has been reordered to (1, 10, 2048, 2048) to match the input readpattern of SHALLOW4\n"
     ]
    },
    {
     "name": "stderr",
     "output_type": "stream",
     "text": [
      "2022-04-22 00:13:48,752 - stpipe - INFO - DARK has been reordered to (1, 10, 2048, 2048) to match the input readpattern of SHALLOW4\n"
     ]
    },
    {
     "name": "stdout",
     "output_type": "stream",
     "text": [
      "2022-04-22 00:13:48,752 - stpipe - INFO - DARK has been reordered to (1, 10, 2048, 2048) to match the input readpattern of SHALLOW4\n",
      "2022-04-22 00:13:48,759 - mirage.dark.dark_prep - INFO - Setting integration 0 to use file Linearized_Dark_and_SBRefpix_NRCNRCALONG-DARK-53562311041_1_485_SE_2015-12-23T01h42m19_uncal.fits\n"
     ]
    },
    {
     "name": "stderr",
     "output_type": "stream",
     "text": [
      "2022-04-22 00:13:48,759 - stpipe - INFO - Setting integration 0 to use file Linearized_Dark_and_SBRefpix_NRCNRCALONG-DARK-53562311041_1_485_SE_2015-12-23T01h42m19_uncal.fits\n"
     ]
    },
    {
     "name": "stdout",
     "output_type": "stream",
     "text": [
      "2022-04-22 00:13:48,759 - stpipe - INFO - Setting integration 0 to use file Linearized_Dark_and_SBRefpix_NRCNRCALONG-DARK-53562311041_1_485_SE_2015-12-23T01h42m19_uncal.fits\n",
      "2022-04-22 00:13:48,761 - mirage.dark.dark_prep - INFO - \n"
     ]
    },
    {
     "name": "stderr",
     "output_type": "stream",
     "text": [
      "2022-04-22 00:13:48,761 - stpipe - INFO - \n"
     ]
    },
    {
     "name": "stdout",
     "output_type": "stream",
     "text": [
      "2022-04-22 00:13:48,761 - stpipe - INFO - \n",
      "2022-04-22 00:13:56,239 - py.warnings - WARNING - /Users/dcoe/miniconda3/envs/python3.10/lib/python3.10/site-packages/astropy/io/fits/card.py:1009: VerifyWarning: Card is too long, comment will be truncated.\n",
      "  warnings.warn('Card is too long, comment will be truncated.',\n",
      "\n"
     ]
    },
    {
     "name": "stderr",
     "output_type": "stream",
     "text": [
      "2022-04-22 00:13:56,239 - stpipe - WARNING - /Users/dcoe/miniconda3/envs/python3.10/lib/python3.10/site-packages/astropy/io/fits/card.py:1009: VerifyWarning: Card is too long, comment will be truncated.\n",
      "  warnings.warn('Card is too long, comment will be truncated.',\n",
      "\n"
     ]
    },
    {
     "name": "stdout",
     "output_type": "stream",
     "text": [
      "2022-04-22 00:13:56,239 - stpipe - WARNING - /Users/dcoe/miniconda3/envs/python3.10/lib/python3.10/site-packages/astropy/io/fits/card.py:1009: VerifyWarning: Card is too long, comment will be truncated.\n",
      "  warnings.warn('Card is too long, comment will be truncated.',\n",
      "\n",
      "2022-04-22 00:13:57,646 - mirage.dark.dark_prep - INFO - Linearized dark frame plus superbias and referencepixel signals, as well as zeroframe, saved to /Users/dcoe/NIRCam/MIRAGE/2022April/images/F277W/jw01433010001_01101_00011_nrca5_uncal_linear_dark_prep_object.fits. This can be used as input to the observation generator.\n"
     ]
    },
    {
     "name": "stderr",
     "output_type": "stream",
     "text": [
      "2022-04-22 00:13:57,646 - stpipe - INFO - Linearized dark frame plus superbias and referencepixel signals, as well as zeroframe, saved to /Users/dcoe/NIRCam/MIRAGE/2022April/images/F277W/jw01433010001_01101_00011_nrca5_uncal_linear_dark_prep_object.fits. This can be used as input to the observation generator.\n"
     ]
    },
    {
     "name": "stdout",
     "output_type": "stream",
     "text": [
      "2022-04-22 00:13:57,646 - stpipe - INFO - Linearized dark frame plus superbias and referencepixel signals, as well as zeroframe, saved to /Users/dcoe/NIRCam/MIRAGE/2022April/images/F277W/jw01433010001_01101_00011_nrca5_uncal_linear_dark_prep_object.fits. This can be used as input to the observation generator.\n",
      "2022-04-22 00:13:57,648 - mirage.dark.dark_prep - INFO - \n"
     ]
    },
    {
     "name": "stderr",
     "output_type": "stream",
     "text": [
      "2022-04-22 00:13:57,648 - stpipe - INFO - \n"
     ]
    },
    {
     "name": "stdout",
     "output_type": "stream",
     "text": [
      "2022-04-22 00:13:57,648 - stpipe - INFO - \n",
      "2022-04-22 00:13:57,649 - mirage.dark.dark_prep - INFO - \n"
     ]
    },
    {
     "name": "stderr",
     "output_type": "stream",
     "text": [
      "2022-04-22 00:13:57,649 - stpipe - INFO - \n"
     ]
    },
    {
     "name": "stdout",
     "output_type": "stream",
     "text": [
      "2022-04-22 00:13:57,649 - stpipe - INFO - \n",
      "2022-04-22 00:13:57,650 - mirage.dark.dark_prep - INFO - Segment 1 out of 1 complete.\n"
     ]
    },
    {
     "name": "stderr",
     "output_type": "stream",
     "text": [
      "2022-04-22 00:13:57,650 - stpipe - INFO - Segment 1 out of 1 complete.\n"
     ]
    },
    {
     "name": "stdout",
     "output_type": "stream",
     "text": [
      "2022-04-22 00:13:57,650 - stpipe - INFO - Segment 1 out of 1 complete.\n",
      "2022-04-22 00:13:57,673 - mirage.ramp_generator.obs_generator - INFO - \n"
     ]
    },
    {
     "name": "stderr",
     "output_type": "stream",
     "text": [
      "2022-04-22 00:13:57,673 - stpipe - INFO - \n"
     ]
    },
    {
     "name": "stdout",
     "output_type": "stream",
     "text": [
      "2022-04-22 00:13:57,673 - stpipe - INFO - \n",
      "2022-04-22 00:13:57,675 - mirage.ramp_generator.obs_generator - INFO - \n"
     ]
    },
    {
     "name": "stderr",
     "output_type": "stream",
     "text": [
      "2022-04-22 00:13:57,675 - stpipe - INFO - \n"
     ]
    },
    {
     "name": "stdout",
     "output_type": "stream",
     "text": [
      "2022-04-22 00:13:57,675 - stpipe - INFO - \n",
      "2022-04-22 00:13:57,677 - mirage.ramp_generator.obs_generator - INFO - Running observation generator....\n"
     ]
    },
    {
     "name": "stderr",
     "output_type": "stream",
     "text": [
      "2022-04-22 00:13:57,677 - stpipe - INFO - Running observation generator....\n"
     ]
    },
    {
     "name": "stdout",
     "output_type": "stream",
     "text": [
      "2022-04-22 00:13:57,677 - stpipe - INFO - Running observation generator....\n",
      "2022-04-22 00:13:57,678 - mirage.ramp_generator.obs_generator - INFO - \n"
     ]
    },
    {
     "name": "stderr",
     "output_type": "stream",
     "text": [
      "2022-04-22 00:13:57,678 - stpipe - INFO - \n"
     ]
    },
    {
     "name": "stdout",
     "output_type": "stream",
     "text": [
      "2022-04-22 00:13:57,678 - stpipe - INFO - \n",
      "2022-04-22 00:13:57,679 - mirage.ramp_generator.obs_generator - INFO - Reading parameter file: ./yaml/F277W/jw01433010001_01101_00011_nrca5.yaml\n"
     ]
    },
    {
     "name": "stderr",
     "output_type": "stream",
     "text": [
      "2022-04-22 00:13:57,679 - stpipe - INFO - Reading parameter file: ./yaml/F277W/jw01433010001_01101_00011_nrca5.yaml\n"
     ]
    },
    {
     "name": "stdout",
     "output_type": "stream",
     "text": [
      "2022-04-22 00:13:57,679 - stpipe - INFO - Reading parameter file: ./yaml/F277W/jw01433010001_01101_00011_nrca5.yaml\n",
      "2022-04-22 00:13:57,681 - mirage.ramp_generator.obs_generator - INFO - \n"
     ]
    },
    {
     "name": "stderr",
     "output_type": "stream",
     "text": [
      "2022-04-22 00:13:57,681 - stpipe - INFO - \n"
     ]
    },
    {
     "name": "stdout",
     "output_type": "stream",
     "text": [
      "2022-04-22 00:13:57,681 - stpipe - INFO - \n",
      "2022-04-22 00:13:57,682 - mirage.ramp_generator.obs_generator - INFO - Original log file name: ./mirage_latest.log\n"
     ]
    },
    {
     "name": "stderr",
     "output_type": "stream",
     "text": [
      "2022-04-22 00:13:57,682 - stpipe - INFO - Original log file name: ./mirage_latest.log\n"
     ]
    },
    {
     "name": "stdout",
     "output_type": "stream",
     "text": [
      "2022-04-22 00:13:57,682 - stpipe - INFO - Original log file name: ./mirage_latest.log\n",
      "2022-04-22 00:13:57,689 - mirage.utils.utils.full_paths - INFO - From CRDS, found /Users/dcoe/crds_cache/references/jwst/nircam/jwst_nircam_mask_0052.fits as the badpixmask reference file.\n"
     ]
    },
    {
     "name": "stderr",
     "output_type": "stream",
     "text": [
      "2022-04-22 00:13:57,689 - stpipe - INFO - From CRDS, found /Users/dcoe/crds_cache/references/jwst/nircam/jwst_nircam_mask_0052.fits as the badpixmask reference file.\n"
     ]
    },
    {
     "name": "stdout",
     "output_type": "stream",
     "text": [
      "2022-04-22 00:13:57,689 - stpipe - INFO - From CRDS, found /Users/dcoe/crds_cache/references/jwst/nircam/jwst_nircam_mask_0052.fits as the badpixmask reference file.\n",
      "2022-04-22 00:13:57,691 - mirage.utils.utils.full_paths - INFO - From CRDS, found /Users/dcoe/crds_cache/references/jwst/nircam/jwst_nircam_superbias_0022.fits as the superbias reference file.\n"
     ]
    },
    {
     "name": "stderr",
     "output_type": "stream",
     "text": [
      "2022-04-22 00:13:57,691 - stpipe - INFO - From CRDS, found /Users/dcoe/crds_cache/references/jwst/nircam/jwst_nircam_superbias_0022.fits as the superbias reference file.\n"
     ]
    },
    {
     "name": "stdout",
     "output_type": "stream",
     "text": [
      "2022-04-22 00:13:57,691 - stpipe - INFO - From CRDS, found /Users/dcoe/crds_cache/references/jwst/nircam/jwst_nircam_superbias_0022.fits as the superbias reference file.\n",
      "2022-04-22 00:13:57,693 - mirage.utils.utils.full_paths - INFO - From CRDS, found /Users/dcoe/crds_cache/references/jwst/nircam/jwst_nircam_linearity_0052.fits as the linearity reference file.\n"
     ]
    },
    {
     "name": "stderr",
     "output_type": "stream",
     "text": [
      "2022-04-22 00:13:57,693 - stpipe - INFO - From CRDS, found /Users/dcoe/crds_cache/references/jwst/nircam/jwst_nircam_linearity_0052.fits as the linearity reference file.\n"
     ]
    },
    {
     "name": "stdout",
     "output_type": "stream",
     "text": [
      "2022-04-22 00:13:57,693 - stpipe - INFO - From CRDS, found /Users/dcoe/crds_cache/references/jwst/nircam/jwst_nircam_linearity_0052.fits as the linearity reference file.\n",
      "2022-04-22 00:13:57,695 - mirage.utils.utils.full_paths - INFO - From CRDS, found /Users/dcoe/crds_cache/references/jwst/nircam/jwst_nircam_saturation_0091.fits as the saturation reference file.\n"
     ]
    },
    {
     "name": "stderr",
     "output_type": "stream",
     "text": [
      "2022-04-22 00:13:57,695 - stpipe - INFO - From CRDS, found /Users/dcoe/crds_cache/references/jwst/nircam/jwst_nircam_saturation_0091.fits as the saturation reference file.\n"
     ]
    },
    {
     "name": "stdout",
     "output_type": "stream",
     "text": [
      "2022-04-22 00:13:57,695 - stpipe - INFO - From CRDS, found /Users/dcoe/crds_cache/references/jwst/nircam/jwst_nircam_saturation_0091.fits as the saturation reference file.\n",
      "2022-04-22 00:13:57,697 - mirage.utils.utils.full_paths - INFO - From CRDS, found /Users/dcoe/crds_cache/references/jwst/nircam/jwst_nircam_gain_0056.fits as the gain reference file.\n"
     ]
    },
    {
     "name": "stderr",
     "output_type": "stream",
     "text": [
      "2022-04-22 00:13:57,697 - stpipe - INFO - From CRDS, found /Users/dcoe/crds_cache/references/jwst/nircam/jwst_nircam_gain_0056.fits as the gain reference file.\n"
     ]
    },
    {
     "name": "stdout",
     "output_type": "stream",
     "text": [
      "2022-04-22 00:13:57,697 - stpipe - INFO - From CRDS, found /Users/dcoe/crds_cache/references/jwst/nircam/jwst_nircam_gain_0056.fits as the gain reference file.\n",
      "2022-04-22 00:13:57,699 - mirage.utils.utils.full_paths - INFO - From CRDS, found /Users/dcoe/crds_cache/references/jwst/nircam/jwst_nircam_flat_0266.fits as the pixelflat reference file.\n"
     ]
    },
    {
     "name": "stderr",
     "output_type": "stream",
     "text": [
      "2022-04-22 00:13:57,699 - stpipe - INFO - From CRDS, found /Users/dcoe/crds_cache/references/jwst/nircam/jwst_nircam_flat_0266.fits as the pixelflat reference file.\n"
     ]
    },
    {
     "name": "stdout",
     "output_type": "stream",
     "text": [
      "2022-04-22 00:13:57,699 - stpipe - INFO - From CRDS, found /Users/dcoe/crds_cache/references/jwst/nircam/jwst_nircam_flat_0266.fits as the pixelflat reference file.\n",
      "2022-04-22 00:13:57,702 - mirage.utils.utils.full_paths - INFO - From CRDS, found /Users/dcoe/crds_cache/references/jwst/nircam/jwst_nircam_ipc_0028.fits as the ipc reference file.\n"
     ]
    },
    {
     "name": "stderr",
     "output_type": "stream",
     "text": [
      "2022-04-22 00:13:57,702 - stpipe - INFO - From CRDS, found /Users/dcoe/crds_cache/references/jwst/nircam/jwst_nircam_ipc_0028.fits as the ipc reference file.\n"
     ]
    },
    {
     "name": "stdout",
     "output_type": "stream",
     "text": [
      "2022-04-22 00:13:57,702 - stpipe - INFO - From CRDS, found /Users/dcoe/crds_cache/references/jwst/nircam/jwst_nircam_ipc_0028.fits as the ipc reference file.\n",
      "2022-04-22 00:13:57,703 - mirage.utils.utils.full_paths - INFO - Found an existing inverted kernel for this IPC file: /Users/dcoe/crds_cache/references/jwst/nircam/Kernel_to_add_IPC_effects_from_jwst_nircam_ipc_0028.fits\n"
     ]
    },
    {
     "name": "stderr",
     "output_type": "stream",
     "text": [
      "2022-04-22 00:13:57,703 - stpipe - INFO - Found an existing inverted kernel for this IPC file: /Users/dcoe/crds_cache/references/jwst/nircam/Kernel_to_add_IPC_effects_from_jwst_nircam_ipc_0028.fits\n"
     ]
    },
    {
     "name": "stdout",
     "output_type": "stream",
     "text": [
      "2022-04-22 00:13:57,703 - stpipe - INFO - Found an existing inverted kernel for this IPC file: /Users/dcoe/crds_cache/references/jwst/nircam/Kernel_to_add_IPC_effects_from_jwst_nircam_ipc_0028.fits\n",
      "2022-04-22 00:13:57,705 - mirage.utils.utils.full_paths - INFO - From CRDS, found /Users/dcoe/crds_cache/references/jwst/nircam/jwst_nircam_distortion_0133.asdf as the astrometric reference file.\n"
     ]
    },
    {
     "name": "stderr",
     "output_type": "stream",
     "text": [
      "2022-04-22 00:13:57,705 - stpipe - INFO - From CRDS, found /Users/dcoe/crds_cache/references/jwst/nircam/jwst_nircam_distortion_0133.asdf as the astrometric reference file.\n"
     ]
    },
    {
     "name": "stdout",
     "output_type": "stream",
     "text": [
      "2022-04-22 00:13:57,705 - stpipe - INFO - From CRDS, found /Users/dcoe/crds_cache/references/jwst/nircam/jwst_nircam_distortion_0133.asdf as the astrometric reference file.\n",
      "2022-04-22 00:13:57,706 - mirage.utils.utils.full_paths - INFO - From CRDS, found /Users/dcoe/crds_cache/references/jwst/nircam/jwst_nircam_area_0015.fits as the pixelAreaMap reference file.\n"
     ]
    },
    {
     "name": "stderr",
     "output_type": "stream",
     "text": [
      "2022-04-22 00:13:57,706 - stpipe - INFO - From CRDS, found /Users/dcoe/crds_cache/references/jwst/nircam/jwst_nircam_area_0015.fits as the pixelAreaMap reference file.\n"
     ]
    },
    {
     "name": "stdout",
     "output_type": "stream",
     "text": [
      "2022-04-22 00:13:57,706 - stpipe - INFO - From CRDS, found /Users/dcoe/crds_cache/references/jwst/nircam/jwst_nircam_area_0015.fits as the pixelAreaMap reference file.\n",
      "2022-04-22 00:13:57,708 - mirage.reference_files.utils.get_transmission_file - INFO - POM Transmission filename: None\n"
     ]
    },
    {
     "name": "stderr",
     "output_type": "stream",
     "text": [
      "2022-04-22 00:13:57,708 - stpipe - INFO - POM Transmission filename: None\n"
     ]
    },
    {
     "name": "stdout",
     "output_type": "stream",
     "text": [
      "2022-04-22 00:13:57,708 - stpipe - INFO - POM Transmission filename: None\n",
      "2022-04-22 00:13:57,710 - mirage.utils.utils.full_paths - INFO - From grism library, found None as the POM transmission file.\n"
     ]
    },
    {
     "name": "stderr",
     "output_type": "stream",
     "text": [
      "2022-04-22 00:13:57,710 - stpipe - INFO - From grism library, found None as the POM transmission file.\n"
     ]
    },
    {
     "name": "stdout",
     "output_type": "stream",
     "text": [
      "2022-04-22 00:13:57,710 - stpipe - INFO - From grism library, found None as the POM transmission file.\n",
      "2022-04-22 00:13:57,714 - mirage.utils.utils.full_paths - INFO - From CRDS, found /Users/dcoe/crds_cache/references/jwst/nircam/jwst_nircam_photom_0092.fits as the photom reference file.\n"
     ]
    },
    {
     "name": "stderr",
     "output_type": "stream",
     "text": [
      "2022-04-22 00:13:57,714 - stpipe - INFO - From CRDS, found /Users/dcoe/crds_cache/references/jwst/nircam/jwst_nircam_photom_0092.fits as the photom reference file.\n"
     ]
    },
    {
     "name": "stdout",
     "output_type": "stream",
     "text": [
      "2022-04-22 00:13:57,714 - stpipe - INFO - From CRDS, found /Users/dcoe/crds_cache/references/jwst/nircam/jwst_nircam_photom_0092.fits as the photom reference file.\n",
      "2022-04-22 00:13:57,717 - mirage.ramp_generator.obs_generator - INFO - Reading in dark file: /Users/dcoe/NIRCam/MIRAGE/2022April/images/F277W/jw01433010001_01101_00011_nrca5_uncal_linear_dark_prep_object.fits\n"
     ]
    },
    {
     "name": "stderr",
     "output_type": "stream",
     "text": [
      "2022-04-22 00:13:57,717 - stpipe - INFO - Reading in dark file: /Users/dcoe/NIRCam/MIRAGE/2022April/images/F277W/jw01433010001_01101_00011_nrca5_uncal_linear_dark_prep_object.fits\n"
     ]
    },
    {
     "name": "stdout",
     "output_type": "stream",
     "text": [
      "2022-04-22 00:13:57,717 - stpipe - INFO - Reading in dark file: /Users/dcoe/NIRCam/MIRAGE/2022April/images/F277W/jw01433010001_01101_00011_nrca5_uncal_linear_dark_prep_object.fits\n",
      "2022-04-22 00:13:57,764 - mirage.ramp_generator.obs_generator - INFO - Requested readout pattern SHALLOW4 is valid. Using nframe = 4 and nskip = 1\n"
     ]
    },
    {
     "name": "stderr",
     "output_type": "stream",
     "text": [
      "2022-04-22 00:13:57,764 - stpipe - INFO - Requested readout pattern SHALLOW4 is valid. Using nframe = 4 and nskip = 1\n"
     ]
    },
    {
     "name": "stdout",
     "output_type": "stream",
     "text": [
      "2022-04-22 00:13:57,764 - stpipe - INFO - Requested readout pattern SHALLOW4 is valid. Using nframe = 4 and nskip = 1\n",
      "2022-04-22 00:14:01,161 - mirage.ramp_generator.obs_generator - INFO - Frametime is 10.736770000000002\n"
     ]
    },
    {
     "name": "stderr",
     "output_type": "stream",
     "text": [
      "2022-04-22 00:14:01,161 - stpipe - INFO - Frametime is 10.736770000000002\n"
     ]
    },
    {
     "name": "stdout",
     "output_type": "stream",
     "text": [
      "2022-04-22 00:14:01,161 - stpipe - INFO - Frametime is 10.736770000000002\n",
      "2022-04-22 00:14:01,165 - mirage.ramp_generator.obs_generator - INFO - Base cosmic ray probability per pixel per second: 5.762e-06\n"
     ]
    },
    {
     "name": "stderr",
     "output_type": "stream",
     "text": [
      "2022-04-22 00:14:01,165 - stpipe - INFO - Base cosmic ray probability per pixel per second: 5.762e-06\n"
     ]
    },
    {
     "name": "stdout",
     "output_type": "stream",
     "text": [
      "2022-04-22 00:14:01,165 - stpipe - INFO - Base cosmic ray probability per pixel per second: 5.762e-06\n",
      "2022-04-22 00:14:01,418 - mirage.ramp_generator.obs_generator - INFO - The linearity coefficients of 9990 pixels are NaNs. Setting these coefficients such that no linearity correction is made.\n"
     ]
    },
    {
     "name": "stderr",
     "output_type": "stream",
     "text": [
      "2022-04-22 00:14:01,418 - stpipe - INFO - The linearity coefficients of 9990 pixels are NaNs. Setting these coefficients such that no linearity correction is made.\n"
     ]
    },
    {
     "name": "stdout",
     "output_type": "stream",
     "text": [
      "2022-04-22 00:14:01,418 - stpipe - INFO - The linearity coefficients of 9990 pixels are NaNs. Setting these coefficients such that no linearity correction is made.\n",
      "2022-04-22 00:14:02,196 - mirage.ramp_generator.obs_generator - INFO - Integration 0:\n"
     ]
    },
    {
     "name": "stderr",
     "output_type": "stream",
     "text": [
      "2022-04-22 00:14:02,196 - stpipe - INFO - Integration 0:\n"
     ]
    },
    {
     "name": "stdout",
     "output_type": "stream",
     "text": [
      "2022-04-22 00:14:02,196 - stpipe - INFO - Integration 0:\n",
      "2022-04-22 00:14:08,069 - mirage.ramp_generator.obs_generator - INFO -     Averaging frame 0 into group 0\n"
     ]
    },
    {
     "name": "stderr",
     "output_type": "stream",
     "text": [
      "2022-04-22 00:14:08,069 - stpipe - INFO -     Averaging frame 0 into group 0\n"
     ]
    },
    {
     "name": "stdout",
     "output_type": "stream",
     "text": [
      "2022-04-22 00:14:08,069 - stpipe - INFO -     Averaging frame 0 into group 0\n",
      "2022-04-22 00:14:10,676 - mirage.ramp_generator.obs_generator - INFO -     Averaging frame 1 into group 0\n"
     ]
    },
    {
     "name": "stderr",
     "output_type": "stream",
     "text": [
      "2022-04-22 00:14:10,676 - stpipe - INFO -     Averaging frame 1 into group 0\n"
     ]
    },
    {
     "name": "stdout",
     "output_type": "stream",
     "text": [
      "2022-04-22 00:14:10,676 - stpipe - INFO -     Averaging frame 1 into group 0\n",
      "2022-04-22 00:14:14,810 - mirage.ramp_generator.obs_generator - INFO -     Averaging frame 2 into group 0\n"
     ]
    },
    {
     "name": "stderr",
     "output_type": "stream",
     "text": [
      "2022-04-22 00:14:14,810 - stpipe - INFO -     Averaging frame 2 into group 0\n"
     ]
    },
    {
     "name": "stdout",
     "output_type": "stream",
     "text": [
      "2022-04-22 00:14:14,810 - stpipe - INFO -     Averaging frame 2 into group 0\n",
      "2022-04-22 00:14:17,255 - mirage.ramp_generator.obs_generator - INFO -     Averaging frame 3 into group 0\n"
     ]
    },
    {
     "name": "stderr",
     "output_type": "stream",
     "text": [
      "2022-04-22 00:14:17,255 - stpipe - INFO -     Averaging frame 3 into group 0\n"
     ]
    },
    {
     "name": "stdout",
     "output_type": "stream",
     "text": [
      "2022-04-22 00:14:17,255 - stpipe - INFO -     Averaging frame 3 into group 0\n",
      "2022-04-22 00:14:19,118 - mirage.ramp_generator.obs_generator - INFO -     Skipping frame 4\n"
     ]
    },
    {
     "name": "stderr",
     "output_type": "stream",
     "text": [
      "2022-04-22 00:14:19,118 - stpipe - INFO -     Skipping frame 4\n"
     ]
    },
    {
     "name": "stdout",
     "output_type": "stream",
     "text": [
      "2022-04-22 00:14:19,118 - stpipe - INFO -     Skipping frame 4\n",
      "2022-04-22 00:14:21,595 - mirage.ramp_generator.obs_generator - INFO -     Averaging frame 5 into group 1\n"
     ]
    },
    {
     "name": "stderr",
     "output_type": "stream",
     "text": [
      "2022-04-22 00:14:21,595 - stpipe - INFO -     Averaging frame 5 into group 1\n"
     ]
    },
    {
     "name": "stdout",
     "output_type": "stream",
     "text": [
      "2022-04-22 00:14:21,595 - stpipe - INFO -     Averaging frame 5 into group 1\n",
      "2022-04-22 00:14:23,304 - mirage.ramp_generator.obs_generator - INFO -     Averaging frame 6 into group 1\n"
     ]
    },
    {
     "name": "stderr",
     "output_type": "stream",
     "text": [
      "2022-04-22 00:14:23,304 - stpipe - INFO -     Averaging frame 6 into group 1\n"
     ]
    },
    {
     "name": "stdout",
     "output_type": "stream",
     "text": [
      "2022-04-22 00:14:23,304 - stpipe - INFO -     Averaging frame 6 into group 1\n",
      "2022-04-22 00:14:24,336 - mirage.ramp_generator.obs_generator - INFO -     Averaging frame 7 into group 1\n"
     ]
    },
    {
     "name": "stderr",
     "output_type": "stream",
     "text": [
      "2022-04-22 00:14:24,336 - stpipe - INFO -     Averaging frame 7 into group 1\n"
     ]
    },
    {
     "name": "stdout",
     "output_type": "stream",
     "text": [
      "2022-04-22 00:14:24,336 - stpipe - INFO -     Averaging frame 7 into group 1\n",
      "2022-04-22 00:14:25,079 - mirage.ramp_generator.obs_generator - INFO -     Averaging frame 8 into group 1\n"
     ]
    },
    {
     "name": "stderr",
     "output_type": "stream",
     "text": [
      "2022-04-22 00:14:25,079 - stpipe - INFO -     Averaging frame 8 into group 1\n"
     ]
    },
    {
     "name": "stdout",
     "output_type": "stream",
     "text": [
      "2022-04-22 00:14:25,079 - stpipe - INFO -     Averaging frame 8 into group 1\n",
      "2022-04-22 00:14:28,051 - mirage.ramp_generator.obs_generator - INFO -     Skipping frame 9\n"
     ]
    },
    {
     "name": "stderr",
     "output_type": "stream",
     "text": [
      "2022-04-22 00:14:28,051 - stpipe - INFO -     Skipping frame 9\n"
     ]
    },
    {
     "name": "stdout",
     "output_type": "stream",
     "text": [
      "2022-04-22 00:14:28,051 - stpipe - INFO -     Skipping frame 9\n",
      "2022-04-22 00:14:32,914 - mirage.ramp_generator.obs_generator - INFO -     Averaging frame 10 into group 2\n"
     ]
    },
    {
     "name": "stderr",
     "output_type": "stream",
     "text": [
      "2022-04-22 00:14:32,914 - stpipe - INFO -     Averaging frame 10 into group 2\n"
     ]
    },
    {
     "name": "stdout",
     "output_type": "stream",
     "text": [
      "2022-04-22 00:14:32,914 - stpipe - INFO -     Averaging frame 10 into group 2\n",
      "2022-04-22 00:14:35,556 - mirage.ramp_generator.obs_generator - INFO -     Averaging frame 11 into group 2\n"
     ]
    },
    {
     "name": "stderr",
     "output_type": "stream",
     "text": [
      "2022-04-22 00:14:35,556 - stpipe - INFO -     Averaging frame 11 into group 2\n"
     ]
    },
    {
     "name": "stdout",
     "output_type": "stream",
     "text": [
      "2022-04-22 00:14:35,556 - stpipe - INFO -     Averaging frame 11 into group 2\n",
      "2022-04-22 00:14:38,980 - mirage.ramp_generator.obs_generator - INFO -     Averaging frame 12 into group 2\n"
     ]
    },
    {
     "name": "stderr",
     "output_type": "stream",
     "text": [
      "2022-04-22 00:14:38,980 - stpipe - INFO -     Averaging frame 12 into group 2\n"
     ]
    },
    {
     "name": "stdout",
     "output_type": "stream",
     "text": [
      "2022-04-22 00:14:38,980 - stpipe - INFO -     Averaging frame 12 into group 2\n",
      "2022-04-22 00:14:41,084 - mirage.ramp_generator.obs_generator - INFO -     Averaging frame 13 into group 2\n"
     ]
    },
    {
     "name": "stderr",
     "output_type": "stream",
     "text": [
      "2022-04-22 00:14:41,084 - stpipe - INFO -     Averaging frame 13 into group 2\n"
     ]
    },
    {
     "name": "stdout",
     "output_type": "stream",
     "text": [
      "2022-04-22 00:14:41,084 - stpipe - INFO -     Averaging frame 13 into group 2\n",
      "2022-04-22 00:14:43,164 - mirage.ramp_generator.obs_generator - INFO -     Skipping frame 14\n"
     ]
    },
    {
     "name": "stderr",
     "output_type": "stream",
     "text": [
      "2022-04-22 00:14:43,164 - stpipe - INFO -     Skipping frame 14\n"
     ]
    },
    {
     "name": "stdout",
     "output_type": "stream",
     "text": [
      "2022-04-22 00:14:43,164 - stpipe - INFO -     Skipping frame 14\n",
      "2022-04-22 00:14:45,107 - mirage.ramp_generator.obs_generator - INFO -     Averaging frame 15 into group 3\n"
     ]
    },
    {
     "name": "stderr",
     "output_type": "stream",
     "text": [
      "2022-04-22 00:14:45,107 - stpipe - INFO -     Averaging frame 15 into group 3\n"
     ]
    },
    {
     "name": "stdout",
     "output_type": "stream",
     "text": [
      "2022-04-22 00:14:45,107 - stpipe - INFO -     Averaging frame 15 into group 3\n",
      "2022-04-22 00:14:46,797 - mirage.ramp_generator.obs_generator - INFO -     Averaging frame 16 into group 3\n"
     ]
    },
    {
     "name": "stderr",
     "output_type": "stream",
     "text": [
      "2022-04-22 00:14:46,797 - stpipe - INFO -     Averaging frame 16 into group 3\n"
     ]
    },
    {
     "name": "stdout",
     "output_type": "stream",
     "text": [
      "2022-04-22 00:14:46,797 - stpipe - INFO -     Averaging frame 16 into group 3\n",
      "2022-04-22 00:14:48,575 - mirage.ramp_generator.obs_generator - INFO -     Averaging frame 17 into group 3\n"
     ]
    },
    {
     "name": "stderr",
     "output_type": "stream",
     "text": [
      "2022-04-22 00:14:48,575 - stpipe - INFO -     Averaging frame 17 into group 3\n"
     ]
    },
    {
     "name": "stdout",
     "output_type": "stream",
     "text": [
      "2022-04-22 00:14:48,575 - stpipe - INFO -     Averaging frame 17 into group 3\n",
      "2022-04-22 00:14:50,189 - mirage.ramp_generator.obs_generator - INFO -     Averaging frame 18 into group 3\n"
     ]
    },
    {
     "name": "stderr",
     "output_type": "stream",
     "text": [
      "2022-04-22 00:14:50,189 - stpipe - INFO -     Averaging frame 18 into group 3\n"
     ]
    },
    {
     "name": "stdout",
     "output_type": "stream",
     "text": [
      "2022-04-22 00:14:50,189 - stpipe - INFO -     Averaging frame 18 into group 3\n",
      "2022-04-22 00:14:51,761 - mirage.ramp_generator.obs_generator - INFO -     Skipping frame 19\n"
     ]
    },
    {
     "name": "stderr",
     "output_type": "stream",
     "text": [
      "2022-04-22 00:14:51,761 - stpipe - INFO -     Skipping frame 19\n"
     ]
    },
    {
     "name": "stdout",
     "output_type": "stream",
     "text": [
      "2022-04-22 00:14:51,761 - stpipe - INFO -     Skipping frame 19\n",
      "2022-04-22 00:14:53,176 - mirage.ramp_generator.obs_generator - INFO -     Averaging frame 20 into group 4\n"
     ]
    },
    {
     "name": "stderr",
     "output_type": "stream",
     "text": [
      "2022-04-22 00:14:53,176 - stpipe - INFO -     Averaging frame 20 into group 4\n"
     ]
    },
    {
     "name": "stdout",
     "output_type": "stream",
     "text": [
      "2022-04-22 00:14:53,176 - stpipe - INFO -     Averaging frame 20 into group 4\n",
      "2022-04-22 00:14:54,524 - mirage.ramp_generator.obs_generator - INFO -     Averaging frame 21 into group 4\n"
     ]
    },
    {
     "name": "stderr",
     "output_type": "stream",
     "text": [
      "2022-04-22 00:14:54,524 - stpipe - INFO -     Averaging frame 21 into group 4\n"
     ]
    },
    {
     "name": "stdout",
     "output_type": "stream",
     "text": [
      "2022-04-22 00:14:54,524 - stpipe - INFO -     Averaging frame 21 into group 4\n",
      "2022-04-22 00:14:57,049 - mirage.ramp_generator.obs_generator - INFO -     Averaging frame 22 into group 4\n"
     ]
    },
    {
     "name": "stderr",
     "output_type": "stream",
     "text": [
      "2022-04-22 00:14:57,049 - stpipe - INFO -     Averaging frame 22 into group 4\n"
     ]
    },
    {
     "name": "stdout",
     "output_type": "stream",
     "text": [
      "2022-04-22 00:14:57,049 - stpipe - INFO -     Averaging frame 22 into group 4\n",
      "2022-04-22 00:14:58,262 - mirage.ramp_generator.obs_generator - INFO -     Averaging frame 23 into group 4\n"
     ]
    },
    {
     "name": "stderr",
     "output_type": "stream",
     "text": [
      "2022-04-22 00:14:58,262 - stpipe - INFO -     Averaging frame 23 into group 4\n"
     ]
    },
    {
     "name": "stdout",
     "output_type": "stream",
     "text": [
      "2022-04-22 00:14:58,262 - stpipe - INFO -     Averaging frame 23 into group 4\n",
      "2022-04-22 00:14:59,551 - mirage.ramp_generator.obs_generator - INFO -     Skipping frame 24\n"
     ]
    },
    {
     "name": "stderr",
     "output_type": "stream",
     "text": [
      "2022-04-22 00:14:59,551 - stpipe - INFO -     Skipping frame 24\n"
     ]
    },
    {
     "name": "stdout",
     "output_type": "stream",
     "text": [
      "2022-04-22 00:14:59,551 - stpipe - INFO -     Skipping frame 24\n",
      "2022-04-22 00:15:00,819 - mirage.ramp_generator.obs_generator - INFO -     Averaging frame 25 into group 5\n"
     ]
    },
    {
     "name": "stderr",
     "output_type": "stream",
     "text": [
      "2022-04-22 00:15:00,819 - stpipe - INFO -     Averaging frame 25 into group 5\n"
     ]
    },
    {
     "name": "stdout",
     "output_type": "stream",
     "text": [
      "2022-04-22 00:15:00,819 - stpipe - INFO -     Averaging frame 25 into group 5\n",
      "2022-04-22 00:15:02,322 - mirage.ramp_generator.obs_generator - INFO -     Averaging frame 26 into group 5\n"
     ]
    },
    {
     "name": "stderr",
     "output_type": "stream",
     "text": [
      "2022-04-22 00:15:02,322 - stpipe - INFO -     Averaging frame 26 into group 5\n"
     ]
    },
    {
     "name": "stdout",
     "output_type": "stream",
     "text": [
      "2022-04-22 00:15:02,322 - stpipe - INFO -     Averaging frame 26 into group 5\n",
      "2022-04-22 00:15:03,698 - mirage.ramp_generator.obs_generator - INFO -     Averaging frame 27 into group 5\n"
     ]
    },
    {
     "name": "stderr",
     "output_type": "stream",
     "text": [
      "2022-04-22 00:15:03,698 - stpipe - INFO -     Averaging frame 27 into group 5\n"
     ]
    },
    {
     "name": "stdout",
     "output_type": "stream",
     "text": [
      "2022-04-22 00:15:03,698 - stpipe - INFO -     Averaging frame 27 into group 5\n",
      "2022-04-22 00:15:04,963 - mirage.ramp_generator.obs_generator - INFO -     Averaging frame 28 into group 5\n"
     ]
    },
    {
     "name": "stderr",
     "output_type": "stream",
     "text": [
      "2022-04-22 00:15:04,963 - stpipe - INFO -     Averaging frame 28 into group 5\n"
     ]
    },
    {
     "name": "stdout",
     "output_type": "stream",
     "text": [
      "2022-04-22 00:15:04,963 - stpipe - INFO -     Averaging frame 28 into group 5\n",
      "2022-04-22 00:15:06,253 - mirage.ramp_generator.obs_generator - INFO -     Skipping frame 29\n"
     ]
    },
    {
     "name": "stderr",
     "output_type": "stream",
     "text": [
      "2022-04-22 00:15:06,253 - stpipe - INFO -     Skipping frame 29\n"
     ]
    },
    {
     "name": "stdout",
     "output_type": "stream",
     "text": [
      "2022-04-22 00:15:06,253 - stpipe - INFO -     Skipping frame 29\n",
      "2022-04-22 00:15:07,231 - mirage.ramp_generator.obs_generator - INFO -     Averaging frame 30 into group 6\n"
     ]
    },
    {
     "name": "stderr",
     "output_type": "stream",
     "text": [
      "2022-04-22 00:15:07,231 - stpipe - INFO -     Averaging frame 30 into group 6\n"
     ]
    },
    {
     "name": "stdout",
     "output_type": "stream",
     "text": [
      "2022-04-22 00:15:07,231 - stpipe - INFO -     Averaging frame 30 into group 6\n",
      "2022-04-22 00:15:08,244 - mirage.ramp_generator.obs_generator - INFO -     Averaging frame 31 into group 6\n"
     ]
    },
    {
     "name": "stderr",
     "output_type": "stream",
     "text": [
      "2022-04-22 00:15:08,244 - stpipe - INFO -     Averaging frame 31 into group 6\n"
     ]
    },
    {
     "name": "stdout",
     "output_type": "stream",
     "text": [
      "2022-04-22 00:15:08,244 - stpipe - INFO -     Averaging frame 31 into group 6\n",
      "2022-04-22 00:15:09,416 - mirage.ramp_generator.obs_generator - INFO -     Averaging frame 32 into group 6\n"
     ]
    },
    {
     "name": "stderr",
     "output_type": "stream",
     "text": [
      "2022-04-22 00:15:09,416 - stpipe - INFO -     Averaging frame 32 into group 6\n"
     ]
    },
    {
     "name": "stdout",
     "output_type": "stream",
     "text": [
      "2022-04-22 00:15:09,416 - stpipe - INFO -     Averaging frame 32 into group 6\n",
      "2022-04-22 00:15:10,374 - mirage.ramp_generator.obs_generator - INFO -     Averaging frame 33 into group 6\n"
     ]
    },
    {
     "name": "stderr",
     "output_type": "stream",
     "text": [
      "2022-04-22 00:15:10,374 - stpipe - INFO -     Averaging frame 33 into group 6\n"
     ]
    },
    {
     "name": "stdout",
     "output_type": "stream",
     "text": [
      "2022-04-22 00:15:10,374 - stpipe - INFO -     Averaging frame 33 into group 6\n",
      "2022-04-22 00:15:11,245 - mirage.ramp_generator.obs_generator - INFO -     Skipping frame 34\n"
     ]
    },
    {
     "name": "stderr",
     "output_type": "stream",
     "text": [
      "2022-04-22 00:15:11,245 - stpipe - INFO -     Skipping frame 34\n"
     ]
    },
    {
     "name": "stdout",
     "output_type": "stream",
     "text": [
      "2022-04-22 00:15:11,245 - stpipe - INFO -     Skipping frame 34\n",
      "2022-04-22 00:15:12,034 - mirage.ramp_generator.obs_generator - INFO -     Averaging frame 35 into group 7\n"
     ]
    },
    {
     "name": "stderr",
     "output_type": "stream",
     "text": [
      "2022-04-22 00:15:12,034 - stpipe - INFO -     Averaging frame 35 into group 7\n"
     ]
    },
    {
     "name": "stdout",
     "output_type": "stream",
     "text": [
      "2022-04-22 00:15:12,034 - stpipe - INFO -     Averaging frame 35 into group 7\n",
      "2022-04-22 00:15:12,832 - mirage.ramp_generator.obs_generator - INFO -     Averaging frame 36 into group 7\n"
     ]
    },
    {
     "name": "stderr",
     "output_type": "stream",
     "text": [
      "2022-04-22 00:15:12,832 - stpipe - INFO -     Averaging frame 36 into group 7\n"
     ]
    },
    {
     "name": "stdout",
     "output_type": "stream",
     "text": [
      "2022-04-22 00:15:12,832 - stpipe - INFO -     Averaging frame 36 into group 7\n",
      "2022-04-22 00:15:13,675 - mirage.ramp_generator.obs_generator - INFO -     Averaging frame 37 into group 7\n"
     ]
    },
    {
     "name": "stderr",
     "output_type": "stream",
     "text": [
      "2022-04-22 00:15:13,675 - stpipe - INFO -     Averaging frame 37 into group 7\n"
     ]
    },
    {
     "name": "stdout",
     "output_type": "stream",
     "text": [
      "2022-04-22 00:15:13,675 - stpipe - INFO -     Averaging frame 37 into group 7\n",
      "2022-04-22 00:15:14,506 - mirage.ramp_generator.obs_generator - INFO -     Averaging frame 38 into group 7\n"
     ]
    },
    {
     "name": "stderr",
     "output_type": "stream",
     "text": [
      "2022-04-22 00:15:14,506 - stpipe - INFO -     Averaging frame 38 into group 7\n"
     ]
    },
    {
     "name": "stdout",
     "output_type": "stream",
     "text": [
      "2022-04-22 00:15:14,506 - stpipe - INFO -     Averaging frame 38 into group 7\n",
      "2022-04-22 00:15:15,201 - mirage.ramp_generator.obs_generator - INFO -     Skipping frame 39\n"
     ]
    },
    {
     "name": "stderr",
     "output_type": "stream",
     "text": [
      "2022-04-22 00:15:15,201 - stpipe - INFO -     Skipping frame 39\n"
     ]
    },
    {
     "name": "stdout",
     "output_type": "stream",
     "text": [
      "2022-04-22 00:15:15,201 - stpipe - INFO -     Skipping frame 39\n",
      "2022-04-22 00:15:16,411 - mirage.ramp_generator.obs_generator - INFO -     Averaging frame 40 into group 8\n"
     ]
    },
    {
     "name": "stderr",
     "output_type": "stream",
     "text": [
      "2022-04-22 00:15:16,411 - stpipe - INFO -     Averaging frame 40 into group 8\n"
     ]
    },
    {
     "name": "stdout",
     "output_type": "stream",
     "text": [
      "2022-04-22 00:15:16,411 - stpipe - INFO -     Averaging frame 40 into group 8\n",
      "2022-04-22 00:15:17,224 - mirage.ramp_generator.obs_generator - INFO -     Averaging frame 41 into group 8\n"
     ]
    },
    {
     "name": "stderr",
     "output_type": "stream",
     "text": [
      "2022-04-22 00:15:17,224 - stpipe - INFO -     Averaging frame 41 into group 8\n"
     ]
    },
    {
     "name": "stdout",
     "output_type": "stream",
     "text": [
      "2022-04-22 00:15:17,224 - stpipe - INFO -     Averaging frame 41 into group 8\n",
      "2022-04-22 00:15:17,991 - mirage.ramp_generator.obs_generator - INFO -     Averaging frame 42 into group 8\n"
     ]
    },
    {
     "name": "stderr",
     "output_type": "stream",
     "text": [
      "2022-04-22 00:15:17,991 - stpipe - INFO -     Averaging frame 42 into group 8\n"
     ]
    },
    {
     "name": "stdout",
     "output_type": "stream",
     "text": [
      "2022-04-22 00:15:17,991 - stpipe - INFO -     Averaging frame 42 into group 8\n",
      "2022-04-22 00:15:18,601 - mirage.ramp_generator.obs_generator - INFO -     Averaging frame 43 into group 8\n"
     ]
    },
    {
     "name": "stderr",
     "output_type": "stream",
     "text": [
      "2022-04-22 00:15:18,601 - stpipe - INFO -     Averaging frame 43 into group 8\n"
     ]
    },
    {
     "name": "stdout",
     "output_type": "stream",
     "text": [
      "2022-04-22 00:15:18,601 - stpipe - INFO -     Averaging frame 43 into group 8\n",
      "2022-04-22 00:15:19,381 - mirage.ramp_generator.obs_generator - INFO -     Skipping frame 44\n"
     ]
    },
    {
     "name": "stderr",
     "output_type": "stream",
     "text": [
      "2022-04-22 00:15:19,381 - stpipe - INFO -     Skipping frame 44\n"
     ]
    },
    {
     "name": "stdout",
     "output_type": "stream",
     "text": [
      "2022-04-22 00:15:19,381 - stpipe - INFO -     Skipping frame 44\n",
      "2022-04-22 00:15:20,112 - mirage.ramp_generator.obs_generator - INFO -     Averaging frame 45 into group 9\n"
     ]
    },
    {
     "name": "stderr",
     "output_type": "stream",
     "text": [
      "2022-04-22 00:15:20,112 - stpipe - INFO -     Averaging frame 45 into group 9\n"
     ]
    },
    {
     "name": "stdout",
     "output_type": "stream",
     "text": [
      "2022-04-22 00:15:20,112 - stpipe - INFO -     Averaging frame 45 into group 9\n",
      "2022-04-22 00:15:20,743 - mirage.ramp_generator.obs_generator - INFO -     Averaging frame 46 into group 9\n"
     ]
    },
    {
     "name": "stderr",
     "output_type": "stream",
     "text": [
      "2022-04-22 00:15:20,743 - stpipe - INFO -     Averaging frame 46 into group 9\n"
     ]
    },
    {
     "name": "stdout",
     "output_type": "stream",
     "text": [
      "2022-04-22 00:15:20,743 - stpipe - INFO -     Averaging frame 46 into group 9\n",
      "2022-04-22 00:15:21,312 - mirage.ramp_generator.obs_generator - INFO -     Averaging frame 47 into group 9\n"
     ]
    },
    {
     "name": "stderr",
     "output_type": "stream",
     "text": [
      "2022-04-22 00:15:21,312 - stpipe - INFO -     Averaging frame 47 into group 9\n"
     ]
    },
    {
     "name": "stdout",
     "output_type": "stream",
     "text": [
      "2022-04-22 00:15:21,312 - stpipe - INFO -     Averaging frame 47 into group 9\n",
      "2022-04-22 00:15:21,974 - mirage.ramp_generator.obs_generator - INFO -     Averaging frame 48 into group 9\n"
     ]
    },
    {
     "name": "stderr",
     "output_type": "stream",
     "text": [
      "2022-04-22 00:15:21,974 - stpipe - INFO -     Averaging frame 48 into group 9\n"
     ]
    },
    {
     "name": "stdout",
     "output_type": "stream",
     "text": [
      "2022-04-22 00:15:21,974 - stpipe - INFO -     Averaging frame 48 into group 9\n",
      "2022-04-22 00:15:27,248 - mirage.ramp_generator.obs_generator - INFO - Adding crosstalk\n"
     ]
    },
    {
     "name": "stderr",
     "output_type": "stream",
     "text": [
      "2022-04-22 00:15:27,248 - stpipe - INFO - Adding crosstalk\n"
     ]
    },
    {
     "name": "stdout",
     "output_type": "stream",
     "text": [
      "2022-04-22 00:15:27,248 - stpipe - INFO - Adding crosstalk\n",
      "2022-04-22 00:15:29,313 - mirage.ramp_generator.obs_generator - INFO - Unlinearizing exposure.\n"
     ]
    },
    {
     "name": "stderr",
     "output_type": "stream",
     "text": [
      "2022-04-22 00:15:29,313 - stpipe - INFO - Unlinearizing exposure.\n"
     ]
    },
    {
     "name": "stdout",
     "output_type": "stream",
     "text": [
      "2022-04-22 00:15:29,313 - stpipe - INFO - Unlinearizing exposure.\n",
      "2022-04-22 00:15:39,252 - py.warnings - WARNING - /Users/dcoe/miniconda3/envs/python3.10/lib/python3.10/site-packages/mirage/ramp_generator/unlinearize.py:65: RuntimeWarning: divide by zero encountered in true_divide\n",
      "  x[i1] = (image[i1]+image[i1]/val[i1]) / 2.\n",
      "\n"
     ]
    },
    {
     "name": "stderr",
     "output_type": "stream",
     "text": [
      "2022-04-22 00:15:39,252 - stpipe - WARNING - /Users/dcoe/miniconda3/envs/python3.10/lib/python3.10/site-packages/mirage/ramp_generator/unlinearize.py:65: RuntimeWarning: divide by zero encountered in true_divide\n",
      "  x[i1] = (image[i1]+image[i1]/val[i1]) / 2.\n",
      "\n"
     ]
    },
    {
     "name": "stdout",
     "output_type": "stream",
     "text": [
      "2022-04-22 00:15:39,252 - stpipe - WARNING - /Users/dcoe/miniconda3/envs/python3.10/lib/python3.10/site-packages/mirage/ramp_generator/unlinearize.py:65: RuntimeWarning: divide by zero encountered in true_divide\n",
      "  x[i1] = (image[i1]+image[i1]/val[i1]) / 2.\n",
      "\n",
      "2022-04-22 00:15:45,866 - py.warnings - WARNING - /Users/dcoe/miniconda3/envs/python3.10/lib/python3.10/site-packages/mirage/ramp_generator/unlinearize.py:70: RuntimeWarning: divide by zero encountered in true_divide\n",
      "  dev[i1] = np.abs(image[i1] / val[i1]-1.)\n",
      "\n"
     ]
    },
    {
     "name": "stderr",
     "output_type": "stream",
     "text": [
      "2022-04-22 00:15:45,866 - stpipe - WARNING - /Users/dcoe/miniconda3/envs/python3.10/lib/python3.10/site-packages/mirage/ramp_generator/unlinearize.py:70: RuntimeWarning: divide by zero encountered in true_divide\n",
      "  dev[i1] = np.abs(image[i1] / val[i1]-1.)\n",
      "\n"
     ]
    },
    {
     "name": "stdout",
     "output_type": "stream",
     "text": [
      "2022-04-22 00:15:45,866 - stpipe - WARNING - /Users/dcoe/miniconda3/envs/python3.10/lib/python3.10/site-packages/mirage/ramp_generator/unlinearize.py:70: RuntimeWarning: divide by zero encountered in true_divide\n",
      "  dev[i1] = np.abs(image[i1] / val[i1]-1.)\n",
      "\n",
      "2022-04-22 00:17:50,169 - mirage.ramp_generator.obs_generator - INFO - Adding superbias and reference pixel signals.\n"
     ]
    },
    {
     "name": "stderr",
     "output_type": "stream",
     "text": [
      "2022-04-22 00:17:50,169 - stpipe - INFO - Adding superbias and reference pixel signals.\n"
     ]
    },
    {
     "name": "stdout",
     "output_type": "stream",
     "text": [
      "2022-04-22 00:17:50,169 - stpipe - INFO - Adding superbias and reference pixel signals.\n",
      "2022-04-22 00:17:51,162 - mirage.ramp_generator.obs_generator - INFO - \n"
     ]
    },
    {
     "name": "stderr",
     "output_type": "stream",
     "text": [
      "2022-04-22 00:17:51,162 - stpipe - INFO - \n"
     ]
    },
    {
     "name": "stdout",
     "output_type": "stream",
     "text": [
      "2022-04-22 00:17:51,162 - stpipe - INFO - \n",
      "2022-04-22 00:17:51,163 - mirage.ramp_generator.obs_generator - INFO - \n"
     ]
    },
    {
     "name": "stderr",
     "output_type": "stream",
     "text": [
      "2022-04-22 00:17:51,163 - stpipe - INFO - \n"
     ]
    },
    {
     "name": "stdout",
     "output_type": "stream",
     "text": [
      "2022-04-22 00:17:51,163 - stpipe - INFO - \n",
      "2022-04-22 00:17:51,165 - mirage.ramp_generator.obs_generator - INFO - Populating xref_sci in output file:\n"
     ]
    },
    {
     "name": "stderr",
     "output_type": "stream",
     "text": [
      "2022-04-22 00:17:51,165 - stpipe - INFO - Populating xref_sci in output file:\n"
     ]
    },
    {
     "name": "stdout",
     "output_type": "stream",
     "text": [
      "2022-04-22 00:17:51,165 - stpipe - INFO - Populating xref_sci in output file:\n",
      "2022-04-22 00:17:51,167 - mirage.ramp_generator.obs_generator - INFO - 1024.5\n"
     ]
    },
    {
     "name": "stderr",
     "output_type": "stream",
     "text": [
      "2022-04-22 00:17:51,167 - stpipe - INFO - 1024.5\n"
     ]
    },
    {
     "name": "stdout",
     "output_type": "stream",
     "text": [
      "2022-04-22 00:17:51,167 - stpipe - INFO - 1024.5\n"
     ]
    },
    {
     "name": "stderr",
     "output_type": "stream",
     "text": [
      "WCS info for /Users/dcoe/NIRCam/MIRAGE/2022April/images/F277W/jw01433010001_01101_00011_nrca5_uncal.fits complete.\n"
     ]
    },
    {
     "name": "stdout",
     "output_type": "stream",
     "text": [
      "2022-04-22 00:17:51,739 - mirage.utils.set_telescope_pointing_separated - INFO - WCS info for /Users/dcoe/NIRCam/MIRAGE/2022April/images/F277W/jw01433010001_01101_00011_nrca5_uncal.fits complete.\n"
     ]
    },
    {
     "name": "stderr",
     "output_type": "stream",
     "text": [
      "2022-04-22 00:17:51,739 - stpipe - INFO - WCS info for /Users/dcoe/NIRCam/MIRAGE/2022April/images/F277W/jw01433010001_01101_00011_nrca5_uncal.fits complete.\n"
     ]
    },
    {
     "name": "stdout",
     "output_type": "stream",
     "text": [
      "2022-04-22 00:17:51,739 - stpipe - INFO - WCS info for /Users/dcoe/NIRCam/MIRAGE/2022April/images/F277W/jw01433010001_01101_00011_nrca5_uncal.fits complete.\n",
      "2022-04-22 00:17:51,741 - mirage.ramp_generator.obs_generator - INFO - Final raw exposure saved to: \n"
     ]
    },
    {
     "name": "stderr",
     "output_type": "stream",
     "text": [
      "2022-04-22 00:17:51,741 - stpipe - INFO - Final raw exposure saved to: \n"
     ]
    },
    {
     "name": "stdout",
     "output_type": "stream",
     "text": [
      "2022-04-22 00:17:51,741 - stpipe - INFO - Final raw exposure saved to: \n",
      "2022-04-22 00:17:51,743 - mirage.ramp_generator.obs_generator - INFO - /Users/dcoe/NIRCam/MIRAGE/2022April/images/F277W/jw01433010001_01101_00011_nrca5_uncal.fits\n"
     ]
    },
    {
     "name": "stderr",
     "output_type": "stream",
     "text": [
      "2022-04-22 00:17:51,743 - stpipe - INFO - /Users/dcoe/NIRCam/MIRAGE/2022April/images/F277W/jw01433010001_01101_00011_nrca5_uncal.fits\n"
     ]
    },
    {
     "name": "stdout",
     "output_type": "stream",
     "text": [
      "2022-04-22 00:17:51,743 - stpipe - INFO - /Users/dcoe/NIRCam/MIRAGE/2022April/images/F277W/jw01433010001_01101_00011_nrca5_uncal.fits\n",
      "2022-04-22 00:17:51,744 - mirage.ramp_generator.obs_generator - INFO - \n"
     ]
    },
    {
     "name": "stderr",
     "output_type": "stream",
     "text": [
      "2022-04-22 00:17:51,744 - stpipe - INFO - \n"
     ]
    },
    {
     "name": "stdout",
     "output_type": "stream",
     "text": [
      "2022-04-22 00:17:51,744 - stpipe - INFO - \n",
      "2022-04-22 00:17:51,745 - mirage.ramp_generator.obs_generator - INFO - \n"
     ]
    },
    {
     "name": "stderr",
     "output_type": "stream",
     "text": [
      "2022-04-22 00:17:51,745 - stpipe - INFO - \n"
     ]
    },
    {
     "name": "stdout",
     "output_type": "stream",
     "text": [
      "2022-04-22 00:17:51,745 - stpipe - INFO - \n",
      "2022-04-22 00:17:51,747 - mirage.ramp_generator.obs_generator - INFO - Segment 1 out of 1 complete.\n"
     ]
    },
    {
     "name": "stderr",
     "output_type": "stream",
     "text": [
      "2022-04-22 00:17:51,747 - stpipe - INFO - Segment 1 out of 1 complete.\n"
     ]
    },
    {
     "name": "stdout",
     "output_type": "stream",
     "text": [
      "2022-04-22 00:17:51,747 - stpipe - INFO - Segment 1 out of 1 complete.\n",
      "2022-04-22 00:17:51,748 - mirage.ramp_generator.obs_generator - INFO - Observation generation complete.\n"
     ]
    },
    {
     "name": "stderr",
     "output_type": "stream",
     "text": [
      "2022-04-22 00:17:51,748 - stpipe - INFO - Observation generation complete.\n"
     ]
    },
    {
     "name": "stdout",
     "output_type": "stream",
     "text": [
      "2022-04-22 00:17:51,748 - stpipe - INFO - Observation generation complete.\n",
      "2022-04-22 00:17:51,837 - mirage.imaging_simulator - INFO - \n"
     ]
    },
    {
     "name": "stderr",
     "output_type": "stream",
     "text": [
      "2022-04-22 00:17:51,837 - stpipe - INFO - \n"
     ]
    },
    {
     "name": "stdout",
     "output_type": "stream",
     "text": [
      "2022-04-22 00:17:51,837 - stpipe - INFO - \n",
      "2022-04-22 00:17:51,839 - mirage.imaging_simulator - INFO - Imaging simulator complete\n"
     ]
    },
    {
     "name": "stderr",
     "output_type": "stream",
     "text": [
      "2022-04-22 00:17:51,839 - stpipe - INFO - Imaging simulator complete\n"
     ]
    },
    {
     "name": "stdout",
     "output_type": "stream",
     "text": [
      "2022-04-22 00:17:51,839 - stpipe - INFO - Imaging simulator complete\n",
      "./yaml/F277W/jw01433010001_01101_00012_nrca5.yaml\n",
      "2022-04-22 00:17:54,333 - mirage.imaging_simulator - INFO - \n"
     ]
    },
    {
     "name": "stderr",
     "output_type": "stream",
     "text": [
      "2022-04-22 00:17:54,333 - stpipe - INFO - \n"
     ]
    },
    {
     "name": "stdout",
     "output_type": "stream",
     "text": [
      "2022-04-22 00:17:54,333 - stpipe - INFO - \n",
      "2022-04-22 00:17:54,335 - mirage.imaging_simulator - INFO - \n"
     ]
    },
    {
     "name": "stderr",
     "output_type": "stream",
     "text": [
      "2022-04-22 00:17:54,335 - stpipe - INFO - \n"
     ]
    },
    {
     "name": "stdout",
     "output_type": "stream",
     "text": [
      "2022-04-22 00:17:54,335 - stpipe - INFO - \n",
      "2022-04-22 00:17:54,337 - mirage.imaging_simulator - INFO - Running imaging_simulator....\n"
     ]
    },
    {
     "name": "stderr",
     "output_type": "stream",
     "text": [
      "2022-04-22 00:17:54,337 - stpipe - INFO - Running imaging_simulator....\n"
     ]
    },
    {
     "name": "stdout",
     "output_type": "stream",
     "text": [
      "2022-04-22 00:17:54,337 - stpipe - INFO - Running imaging_simulator....\n",
      "2022-04-22 00:17:54,338 - mirage.imaging_simulator - INFO - \n"
     ]
    },
    {
     "name": "stderr",
     "output_type": "stream",
     "text": [
      "2022-04-22 00:17:54,338 - stpipe - INFO - \n"
     ]
    },
    {
     "name": "stdout",
     "output_type": "stream",
     "text": [
      "2022-04-22 00:17:54,338 - stpipe - INFO - \n",
      "2022-04-22 00:17:54,340 - mirage.imaging_simulator - INFO - using parameter file: ./yaml/F277W/jw01433010001_01101_00012_nrca5.yaml\n"
     ]
    },
    {
     "name": "stderr",
     "output_type": "stream",
     "text": [
      "2022-04-22 00:17:54,340 - stpipe - INFO - using parameter file: ./yaml/F277W/jw01433010001_01101_00012_nrca5.yaml\n"
     ]
    },
    {
     "name": "stdout",
     "output_type": "stream",
     "text": [
      "2022-04-22 00:17:54,340 - stpipe - INFO - using parameter file: ./yaml/F277W/jw01433010001_01101_00012_nrca5.yaml\n",
      "2022-04-22 00:17:54,366 - mirage.seed_image.catalog_seed_image - INFO - \n"
     ]
    },
    {
     "name": "stderr",
     "output_type": "stream",
     "text": [
      "2022-04-22 00:17:54,366 - stpipe - INFO - \n"
     ]
    },
    {
     "name": "stdout",
     "output_type": "stream",
     "text": [
      "2022-04-22 00:17:54,366 - stpipe - INFO - \n",
      "2022-04-22 00:17:54,367 - mirage.seed_image.catalog_seed_image - INFO - \n"
     ]
    },
    {
     "name": "stderr",
     "output_type": "stream",
     "text": [
      "2022-04-22 00:17:54,367 - stpipe - INFO - \n"
     ]
    },
    {
     "name": "stdout",
     "output_type": "stream",
     "text": [
      "2022-04-22 00:17:54,367 - stpipe - INFO - \n",
      "2022-04-22 00:17:54,369 - mirage.seed_image.catalog_seed_image - INFO - Running catalog_seed_image..\n"
     ]
    },
    {
     "name": "stderr",
     "output_type": "stream",
     "text": [
      "2022-04-22 00:17:54,369 - stpipe - INFO - Running catalog_seed_image..\n"
     ]
    },
    {
     "name": "stdout",
     "output_type": "stream",
     "text": [
      "2022-04-22 00:17:54,369 - stpipe - INFO - Running catalog_seed_image..\n",
      "2022-04-22 00:17:54,370 - mirage.seed_image.catalog_seed_image - INFO - \n"
     ]
    },
    {
     "name": "stderr",
     "output_type": "stream",
     "text": [
      "2022-04-22 00:17:54,370 - stpipe - INFO - \n"
     ]
    },
    {
     "name": "stdout",
     "output_type": "stream",
     "text": [
      "2022-04-22 00:17:54,370 - stpipe - INFO - \n",
      "2022-04-22 00:17:54,371 - mirage.seed_image.catalog_seed_image - INFO - Reading parameter file: ./yaml/F277W/jw01433010001_01101_00012_nrca5.yaml\n"
     ]
    },
    {
     "name": "stderr",
     "output_type": "stream",
     "text": [
      "2022-04-22 00:17:54,371 - stpipe - INFO - Reading parameter file: ./yaml/F277W/jw01433010001_01101_00012_nrca5.yaml\n"
     ]
    },
    {
     "name": "stdout",
     "output_type": "stream",
     "text": [
      "2022-04-22 00:17:54,371 - stpipe - INFO - Reading parameter file: ./yaml/F277W/jw01433010001_01101_00012_nrca5.yaml\n",
      "2022-04-22 00:17:54,373 - mirage.seed_image.catalog_seed_image - INFO - \n"
     ]
    },
    {
     "name": "stderr",
     "output_type": "stream",
     "text": [
      "2022-04-22 00:17:54,373 - stpipe - INFO - \n"
     ]
    },
    {
     "name": "stdout",
     "output_type": "stream",
     "text": [
      "2022-04-22 00:17:54,373 - stpipe - INFO - \n",
      "2022-04-22 00:17:54,375 - mirage.seed_image.catalog_seed_image - INFO - Original log file name: ./mirage_latest.log\n"
     ]
    },
    {
     "name": "stderr",
     "output_type": "stream",
     "text": [
      "2022-04-22 00:17:54,375 - stpipe - INFO - Original log file name: ./mirage_latest.log\n"
     ]
    },
    {
     "name": "stdout",
     "output_type": "stream",
     "text": [
      "2022-04-22 00:17:54,375 - stpipe - INFO - Original log file name: ./mirage_latest.log\n",
      "2022-04-22 00:17:54,402 - mirage.utils.utils.full_paths - INFO - From CRDS, found /Users/dcoe/crds_cache/references/jwst/nircam/jwst_nircam_mask_0052.fits as the badpixmask reference file.\n"
     ]
    },
    {
     "name": "stderr",
     "output_type": "stream",
     "text": [
      "2022-04-22 00:17:54,402 - stpipe - INFO - From CRDS, found /Users/dcoe/crds_cache/references/jwst/nircam/jwst_nircam_mask_0052.fits as the badpixmask reference file.\n"
     ]
    },
    {
     "name": "stdout",
     "output_type": "stream",
     "text": [
      "2022-04-22 00:17:54,402 - stpipe - INFO - From CRDS, found /Users/dcoe/crds_cache/references/jwst/nircam/jwst_nircam_mask_0052.fits as the badpixmask reference file.\n",
      "2022-04-22 00:17:54,404 - mirage.utils.utils.full_paths - INFO - From CRDS, found /Users/dcoe/crds_cache/references/jwst/nircam/jwst_nircam_superbias_0022.fits as the superbias reference file.\n"
     ]
    },
    {
     "name": "stderr",
     "output_type": "stream",
     "text": [
      "2022-04-22 00:17:54,404 - stpipe - INFO - From CRDS, found /Users/dcoe/crds_cache/references/jwst/nircam/jwst_nircam_superbias_0022.fits as the superbias reference file.\n"
     ]
    },
    {
     "name": "stdout",
     "output_type": "stream",
     "text": [
      "2022-04-22 00:17:54,404 - stpipe - INFO - From CRDS, found /Users/dcoe/crds_cache/references/jwst/nircam/jwst_nircam_superbias_0022.fits as the superbias reference file.\n",
      "2022-04-22 00:17:54,406 - mirage.utils.utils.full_paths - INFO - From CRDS, found /Users/dcoe/crds_cache/references/jwst/nircam/jwst_nircam_linearity_0052.fits as the linearity reference file.\n"
     ]
    },
    {
     "name": "stderr",
     "output_type": "stream",
     "text": [
      "2022-04-22 00:17:54,406 - stpipe - INFO - From CRDS, found /Users/dcoe/crds_cache/references/jwst/nircam/jwst_nircam_linearity_0052.fits as the linearity reference file.\n"
     ]
    },
    {
     "name": "stdout",
     "output_type": "stream",
     "text": [
      "2022-04-22 00:17:54,406 - stpipe - INFO - From CRDS, found /Users/dcoe/crds_cache/references/jwst/nircam/jwst_nircam_linearity_0052.fits as the linearity reference file.\n",
      "2022-04-22 00:17:54,408 - mirage.utils.utils.full_paths - INFO - From CRDS, found /Users/dcoe/crds_cache/references/jwst/nircam/jwst_nircam_saturation_0091.fits as the saturation reference file.\n"
     ]
    },
    {
     "name": "stderr",
     "output_type": "stream",
     "text": [
      "2022-04-22 00:17:54,408 - stpipe - INFO - From CRDS, found /Users/dcoe/crds_cache/references/jwst/nircam/jwst_nircam_saturation_0091.fits as the saturation reference file.\n"
     ]
    },
    {
     "name": "stdout",
     "output_type": "stream",
     "text": [
      "2022-04-22 00:17:54,408 - stpipe - INFO - From CRDS, found /Users/dcoe/crds_cache/references/jwst/nircam/jwst_nircam_saturation_0091.fits as the saturation reference file.\n",
      "2022-04-22 00:17:54,410 - mirage.utils.utils.full_paths - INFO - From CRDS, found /Users/dcoe/crds_cache/references/jwst/nircam/jwst_nircam_gain_0056.fits as the gain reference file.\n"
     ]
    },
    {
     "name": "stderr",
     "output_type": "stream",
     "text": [
      "2022-04-22 00:17:54,410 - stpipe - INFO - From CRDS, found /Users/dcoe/crds_cache/references/jwst/nircam/jwst_nircam_gain_0056.fits as the gain reference file.\n"
     ]
    },
    {
     "name": "stdout",
     "output_type": "stream",
     "text": [
      "2022-04-22 00:17:54,410 - stpipe - INFO - From CRDS, found /Users/dcoe/crds_cache/references/jwst/nircam/jwst_nircam_gain_0056.fits as the gain reference file.\n",
      "2022-04-22 00:17:54,413 - mirage.utils.utils.full_paths - INFO - From CRDS, found /Users/dcoe/crds_cache/references/jwst/nircam/jwst_nircam_flat_0266.fits as the pixelflat reference file.\n"
     ]
    },
    {
     "name": "stderr",
     "output_type": "stream",
     "text": [
      "2022-04-22 00:17:54,413 - stpipe - INFO - From CRDS, found /Users/dcoe/crds_cache/references/jwst/nircam/jwst_nircam_flat_0266.fits as the pixelflat reference file.\n"
     ]
    },
    {
     "name": "stdout",
     "output_type": "stream",
     "text": [
      "2022-04-22 00:17:54,413 - stpipe - INFO - From CRDS, found /Users/dcoe/crds_cache/references/jwst/nircam/jwst_nircam_flat_0266.fits as the pixelflat reference file.\n",
      "2022-04-22 00:17:54,414 - mirage.utils.utils.full_paths - INFO - From CRDS, found /Users/dcoe/crds_cache/references/jwst/nircam/jwst_nircam_ipc_0028.fits as the ipc reference file.\n"
     ]
    },
    {
     "name": "stderr",
     "output_type": "stream",
     "text": [
      "2022-04-22 00:17:54,414 - stpipe - INFO - From CRDS, found /Users/dcoe/crds_cache/references/jwst/nircam/jwst_nircam_ipc_0028.fits as the ipc reference file.\n"
     ]
    },
    {
     "name": "stdout",
     "output_type": "stream",
     "text": [
      "2022-04-22 00:17:54,414 - stpipe - INFO - From CRDS, found /Users/dcoe/crds_cache/references/jwst/nircam/jwst_nircam_ipc_0028.fits as the ipc reference file.\n",
      "2022-04-22 00:17:54,416 - mirage.utils.utils.full_paths - INFO - Found an existing inverted kernel for this IPC file: /Users/dcoe/crds_cache/references/jwst/nircam/Kernel_to_add_IPC_effects_from_jwst_nircam_ipc_0028.fits\n"
     ]
    },
    {
     "name": "stderr",
     "output_type": "stream",
     "text": [
      "2022-04-22 00:17:54,416 - stpipe - INFO - Found an existing inverted kernel for this IPC file: /Users/dcoe/crds_cache/references/jwst/nircam/Kernel_to_add_IPC_effects_from_jwst_nircam_ipc_0028.fits\n"
     ]
    },
    {
     "name": "stdout",
     "output_type": "stream",
     "text": [
      "2022-04-22 00:17:54,416 - stpipe - INFO - Found an existing inverted kernel for this IPC file: /Users/dcoe/crds_cache/references/jwst/nircam/Kernel_to_add_IPC_effects_from_jwst_nircam_ipc_0028.fits\n",
      "2022-04-22 00:17:54,419 - mirage.utils.utils.full_paths - INFO - From CRDS, found /Users/dcoe/crds_cache/references/jwst/nircam/jwst_nircam_distortion_0133.asdf as the astrometric reference file.\n"
     ]
    },
    {
     "name": "stderr",
     "output_type": "stream",
     "text": [
      "2022-04-22 00:17:54,419 - stpipe - INFO - From CRDS, found /Users/dcoe/crds_cache/references/jwst/nircam/jwst_nircam_distortion_0133.asdf as the astrometric reference file.\n"
     ]
    },
    {
     "name": "stdout",
     "output_type": "stream",
     "text": [
      "2022-04-22 00:17:54,419 - stpipe - INFO - From CRDS, found /Users/dcoe/crds_cache/references/jwst/nircam/jwst_nircam_distortion_0133.asdf as the astrometric reference file.\n",
      "2022-04-22 00:17:54,421 - mirage.utils.utils.full_paths - INFO - From CRDS, found /Users/dcoe/crds_cache/references/jwst/nircam/jwst_nircam_area_0015.fits as the pixelAreaMap reference file.\n"
     ]
    },
    {
     "name": "stderr",
     "output_type": "stream",
     "text": [
      "2022-04-22 00:17:54,421 - stpipe - INFO - From CRDS, found /Users/dcoe/crds_cache/references/jwst/nircam/jwst_nircam_area_0015.fits as the pixelAreaMap reference file.\n"
     ]
    },
    {
     "name": "stdout",
     "output_type": "stream",
     "text": [
      "2022-04-22 00:17:54,421 - stpipe - INFO - From CRDS, found /Users/dcoe/crds_cache/references/jwst/nircam/jwst_nircam_area_0015.fits as the pixelAreaMap reference file.\n",
      "2022-04-22 00:17:54,422 - mirage.reference_files.utils.get_transmission_file - INFO - POM Transmission filename: None\n"
     ]
    },
    {
     "name": "stderr",
     "output_type": "stream",
     "text": [
      "2022-04-22 00:17:54,422 - stpipe - INFO - POM Transmission filename: None\n"
     ]
    },
    {
     "name": "stdout",
     "output_type": "stream",
     "text": [
      "2022-04-22 00:17:54,422 - stpipe - INFO - POM Transmission filename: None\n",
      "2022-04-22 00:17:54,424 - mirage.utils.utils.full_paths - INFO - From grism library, found None as the POM transmission file.\n"
     ]
    },
    {
     "name": "stderr",
     "output_type": "stream",
     "text": [
      "2022-04-22 00:17:54,424 - stpipe - INFO - From grism library, found None as the POM transmission file.\n"
     ]
    },
    {
     "name": "stdout",
     "output_type": "stream",
     "text": [
      "2022-04-22 00:17:54,424 - stpipe - INFO - From grism library, found None as the POM transmission file.\n",
      "2022-04-22 00:17:54,426 - mirage.utils.utils.full_paths - INFO - From CRDS, found /Users/dcoe/crds_cache/references/jwst/nircam/jwst_nircam_photom_0092.fits as the photom reference file.\n"
     ]
    },
    {
     "name": "stderr",
     "output_type": "stream",
     "text": [
      "2022-04-22 00:17:54,426 - stpipe - INFO - From CRDS, found /Users/dcoe/crds_cache/references/jwst/nircam/jwst_nircam_photom_0092.fits as the photom reference file.\n"
     ]
    },
    {
     "name": "stdout",
     "output_type": "stream",
     "text": [
      "2022-04-22 00:17:54,426 - stpipe - INFO - From CRDS, found /Users/dcoe/crds_cache/references/jwst/nircam/jwst_nircam_photom_0092.fits as the photom reference file.\n",
      "2022-04-22 00:17:55,019 - mirage.seed_image.catalog_seed_image - INFO - Requested readout pattern SHALLOW4 is valid. Using the nframe = 4 and nskip = 1\n"
     ]
    },
    {
     "name": "stderr",
     "output_type": "stream",
     "text": [
      "2022-04-22 00:17:55,019 - stpipe - INFO - Requested readout pattern SHALLOW4 is valid. Using the nframe = 4 and nskip = 1\n"
     ]
    },
    {
     "name": "stdout",
     "output_type": "stream",
     "text": [
      "2022-04-22 00:17:55,019 - stpipe - INFO - Requested readout pattern SHALLOW4 is valid. Using the nframe = 4 and nskip = 1\n",
      "2022-04-22 00:17:55,021 - mirage.seed_image.catalog_seed_image - INFO - No point source catalog provided in yaml file.\n"
     ]
    },
    {
     "name": "stderr",
     "output_type": "stream",
     "text": [
      "2022-04-22 00:17:55,021 - stpipe - INFO - No point source catalog provided in yaml file.\n"
     ]
    },
    {
     "name": "stdout",
     "output_type": "stream",
     "text": [
      "2022-04-22 00:17:55,021 - stpipe - INFO - No point source catalog provided in yaml file.\n",
      "2022-04-22 00:17:55,387 - mirage.seed_image.catalog_seed_image - INFO - SIAF: Requested NRCA5_FULL   got NRCA5_FULL\n"
     ]
    },
    {
     "name": "stderr",
     "output_type": "stream",
     "text": [
      "2022-04-22 00:17:55,387 - stpipe - INFO - SIAF: Requested NRCA5_FULL   got NRCA5_FULL\n"
     ]
    },
    {
     "name": "stdout",
     "output_type": "stream",
     "text": [
      "2022-04-22 00:17:55,387 - stpipe - INFO - SIAF: Requested NRCA5_FULL   got NRCA5_FULL\n",
      "2022-04-22 00:17:55,388 - mirage.seed_image.catalog_seed_image - INFO - Calculating background rate using jwst_background based on medium level\n"
     ]
    },
    {
     "name": "stderr",
     "output_type": "stream",
     "text": [
      "2022-04-22 00:17:55,388 - stpipe - INFO - Calculating background rate using jwst_background based on medium level\n"
     ]
    },
    {
     "name": "stdout",
     "output_type": "stream",
     "text": [
      "2022-04-22 00:17:55,388 - stpipe - INFO - Calculating background rate using jwst_background based on medium level\n",
      "2022-04-22 00:17:55,390 - mirage.seed_image.catalog_seed_image - INFO - Using /Users/dcoe/miniconda3/envs/python3.10/lib/python3.10/site-packages/mirage/config/F277W_CLEAR_nircam_plus_ote_throughput_moda_sorted.txt filter throughput file for background calculation.\n"
     ]
    },
    {
     "name": "stderr",
     "output_type": "stream",
     "text": [
      "2022-04-22 00:17:55,390 - stpipe - INFO - Using /Users/dcoe/miniconda3/envs/python3.10/lib/python3.10/site-packages/mirage/config/F277W_CLEAR_nircam_plus_ote_throughput_moda_sorted.txt filter throughput file for background calculation.\n"
     ]
    },
    {
     "name": "stdout",
     "output_type": "stream",
     "text": [
      "2022-04-22 00:17:55,390 - stpipe - INFO - Using /Users/dcoe/miniconda3/envs/python3.10/lib/python3.10/site-packages/mirage/config/F277W_CLEAR_nircam_plus_ote_throughput_moda_sorted.txt filter throughput file for background calculation.\n",
      "2022-04-22 00:17:57,279 - mirage.seed_image.catalog_seed_image - INFO - Background rate determined using medium level: 0.2699153975533858\n"
     ]
    },
    {
     "name": "stderr",
     "output_type": "stream",
     "text": [
      "2022-04-22 00:17:57,279 - stpipe - INFO - Background rate determined using medium level: 0.2699153975533858\n"
     ]
    },
    {
     "name": "stdout",
     "output_type": "stream",
     "text": [
      "2022-04-22 00:17:57,279 - stpipe - INFO - Background rate determined using medium level: 0.2699153975533858\n",
      "2022-04-22 00:17:57,363 - mirage.seed_image.catalog_seed_image - INFO - No transmission file given. Assuming full transmission for all pixels, not including flat field effects. (no e.g. occulters blocking any pixels).\n"
     ]
    },
    {
     "name": "stderr",
     "output_type": "stream",
     "text": [
      "2022-04-22 00:17:57,363 - stpipe - INFO - No transmission file given. Assuming full transmission for all pixels, not including flat field effects. (no e.g. occulters blocking any pixels).\n"
     ]
    },
    {
     "name": "stdout",
     "output_type": "stream",
     "text": [
      "2022-04-22 00:17:57,363 - stpipe - INFO - No transmission file given. Assuming full transmission for all pixels, not including flat field effects. (no e.g. occulters blocking any pixels).\n",
      "2022-04-22 00:17:57,377 - mirage.seed_image.catalog_seed_image - INFO - XXXXXXXXXXXXXXXXXXXXXXXXXXXXXXXXXXXXXXXXXXXXXXXXXXXX\n"
     ]
    },
    {
     "name": "stderr",
     "output_type": "stream",
     "text": [
      "2022-04-22 00:17:57,377 - stpipe - INFO - XXXXXXXXXXXXXXXXXXXXXXXXXXXXXXXXXXXXXXXXXXXXXXXXXXXX\n"
     ]
    },
    {
     "name": "stdout",
     "output_type": "stream",
     "text": [
      "2022-04-22 00:17:57,377 - stpipe - INFO - XXXXXXXXXXXXXXXXXXXXXXXXXXXXXXXXXXXXXXXXXXXXXXXXXXXX\n",
      "2022-04-22 00:17:57,378 - mirage.seed_image.catalog_seed_image - INFO - Seed image output dimensions (x, y) are: (2048, 2048)\n"
     ]
    },
    {
     "name": "stderr",
     "output_type": "stream",
     "text": [
      "2022-04-22 00:17:57,378 - stpipe - INFO - Seed image output dimensions (x, y) are: (2048, 2048)\n"
     ]
    },
    {
     "name": "stdout",
     "output_type": "stream",
     "text": [
      "2022-04-22 00:17:57,378 - stpipe - INFO - Seed image output dimensions (x, y) are: (2048, 2048)\n",
      "2022-04-22 00:17:57,379 - mirage.seed_image.catalog_seed_image - INFO - XXXXXXXXXXXXXXXXXXXXXXXXXXXXXXXXXXXXXXXXXXXXXXXXXXXX\n"
     ]
    },
    {
     "name": "stderr",
     "output_type": "stream",
     "text": [
      "2022-04-22 00:17:57,379 - stpipe - INFO - XXXXXXXXXXXXXXXXXXXXXXXXXXXXXXXXXXXXXXXXXXXXXXXXXXXX\n"
     ]
    },
    {
     "name": "stdout",
     "output_type": "stream",
     "text": [
      "2022-04-22 00:17:57,379 - stpipe - INFO - XXXXXXXXXXXXXXXXXXXXXXXXXXXXXXXXXXXXXXXXXXXXXXXXXXXX\n",
      "2022-04-22 00:17:57,381 - mirage.seed_image.catalog_seed_image - INFO - Frametime is 10.736770000000002\n"
     ]
    },
    {
     "name": "stderr",
     "output_type": "stream",
     "text": [
      "2022-04-22 00:17:57,381 - stpipe - INFO - Frametime is 10.736770000000002\n"
     ]
    },
    {
     "name": "stdout",
     "output_type": "stream",
     "text": [
      "2022-04-22 00:17:57,381 - stpipe - INFO - Frametime is 10.736770000000002\n",
      "2022-04-22 00:18:05,741 - mirage.psf.psf_selection.get_gridded_psf_library - INFO - PSFs will be generated using: /ifs/jwst/wit/mirage_data/nircam/gridded_psf_library/nircam_nrca5_f277w_clear_fovp43_samp5_npsf16_predicted_realization0.fits\n"
     ]
    },
    {
     "name": "stderr",
     "output_type": "stream",
     "text": [
      "2022-04-22 00:18:05,741 - stpipe - INFO - PSFs will be generated using: /ifs/jwst/wit/mirage_data/nircam/gridded_psf_library/nircam_nrca5_f277w_clear_fovp43_samp5_npsf16_predicted_realization0.fits\n"
     ]
    },
    {
     "name": "stdout",
     "output_type": "stream",
     "text": [
      "2022-04-22 00:18:05,741 - stpipe - INFO - PSFs will be generated using: /ifs/jwst/wit/mirage_data/nircam/gridded_psf_library/nircam_nrca5_f277w_clear_fovp43_samp5_npsf16_predicted_realization0.fits\n",
      "2022-04-22 00:18:17,187 - mirage.psf.psf_selection.get_psf_wings - INFO - PSF wings will be from: nircam_nrca5_f277w_clear_fovp401_samp1_predicted_realization0.fits\n"
     ]
    },
    {
     "name": "stderr",
     "output_type": "stream",
     "text": [
      "2022-04-22 00:18:17,187 - stpipe - INFO - PSF wings will be from: nircam_nrca5_f277w_clear_fovp401_samp1_predicted_realization0.fits\n"
     ]
    },
    {
     "name": "stdout",
     "output_type": "stream",
     "text": [
      "2022-04-22 00:18:17,187 - stpipe - INFO - PSF wings will be from: nircam_nrca5_f277w_clear_fovp401_samp1_predicted_realization0.fits\n",
      "2022-04-22 00:18:18,650 - mirage.seed_image.catalog_seed_image - INFO - Creating signal rate image of sidereal synthetic inputs.\n"
     ]
    },
    {
     "name": "stderr",
     "output_type": "stream",
     "text": [
      "2022-04-22 00:18:18,650 - stpipe - INFO - Creating signal rate image of sidereal synthetic inputs.\n"
     ]
    },
    {
     "name": "stdout",
     "output_type": "stream",
     "text": [
      "2022-04-22 00:18:18,650 - stpipe - INFO - Creating signal rate image of sidereal synthetic inputs.\n",
      "2022-04-22 00:18:18,678 - mirage.seed_image.catalog_seed_image - INFO - Galaxy list input positions assumed to be in units of RA and Dec.\n"
     ]
    },
    {
     "name": "stderr",
     "output_type": "stream",
     "text": [
      "2022-04-22 00:18:18,678 - stpipe - INFO - Galaxy list input positions assumed to be in units of RA and Dec.\n"
     ]
    },
    {
     "name": "stdout",
     "output_type": "stream",
     "text": [
      "2022-04-22 00:18:18,678 - stpipe - INFO - Galaxy list input positions assumed to be in units of RA and Dec.\n",
      "2022-04-22 00:18:18,680 - mirage.seed_image.catalog_seed_image - INFO - Galaxy list input radii assumed to be in units of arcsec.\n"
     ]
    },
    {
     "name": "stderr",
     "output_type": "stream",
     "text": [
      "2022-04-22 00:18:18,680 - stpipe - INFO - Galaxy list input radii assumed to be in units of arcsec.\n"
     ]
    },
    {
     "name": "stdout",
     "output_type": "stream",
     "text": [
      "2022-04-22 00:18:18,680 - stpipe - INFO - Galaxy list input radii assumed to be in units of arcsec.\n",
      "2022-04-22 00:18:18,693 - mirage.seed_image.catalog_seed_image - WARNING - WARNING: Catalog MACS0647_MIRAGE_galaxy_catalog_F277W.cat does not have a magnitude column called nircam_f277w_magnitude, but does have a generic 'magnitude' column. Continuing simulation using that.\n"
     ]
    },
    {
     "name": "stderr",
     "output_type": "stream",
     "text": [
      "2022-04-22 00:18:18,693 - stpipe - WARNING - WARNING: Catalog MACS0647_MIRAGE_galaxy_catalog_F277W.cat does not have a magnitude column called nircam_f277w_magnitude, but does have a generic 'magnitude' column. Continuing simulation using that.\n"
     ]
    },
    {
     "name": "stdout",
     "output_type": "stream",
     "text": [
      "2022-04-22 00:18:18,693 - stpipe - WARNING - WARNING: Catalog MACS0647_MIRAGE_galaxy_catalog_F277W.cat does not have a magnitude column called nircam_f277w_magnitude, but does have a generic 'magnitude' column. Continuing simulation using that.\n",
      "2022-04-22 00:18:22,967 - mirage.seed_image.catalog_seed_image - INFO - Number of galaxies found within or close to the requested aperture: 986\n"
     ]
    },
    {
     "name": "stderr",
     "output_type": "stream",
     "text": [
      "2022-04-22 00:18:22,967 - stpipe - INFO - Number of galaxies found within or close to the requested aperture: 986\n"
     ]
    },
    {
     "name": "stdout",
     "output_type": "stream",
     "text": [
      "2022-04-22 00:18:22,967 - stpipe - INFO - Number of galaxies found within or close to the requested aperture: 986\n",
      "2022-04-22 00:18:23,359 - mirage.seed_image.catalog_seed_image - INFO - Working on galaxy #20. Estimated time remaining to add all galaxies to the stamp image: 7.38 minutes. Projected finish time: 2022-04-22 00:25:46.159900\n"
     ]
    },
    {
     "name": "stderr",
     "output_type": "stream",
     "text": [
      "2022-04-22 00:18:23,359 - stpipe - INFO - Working on galaxy #20. Estimated time remaining to add all galaxies to the stamp image: 7.38 minutes. Projected finish time: 2022-04-22 00:25:46.159900\n"
     ]
    },
    {
     "name": "stdout",
     "output_type": "stream",
     "text": [
      "2022-04-22 00:18:23,359 - stpipe - INFO - Working on galaxy #20. Estimated time remaining to add all galaxies to the stamp image: 7.38 minutes. Projected finish time: 2022-04-22 00:25:46.159900\n",
      "2022-04-22 00:18:24,298 - mirage.seed_image.catalog_seed_image - INFO - Working on galaxy #100. Estimated time remaining to add all galaxies to the stamp image: 1.38 minutes. Projected finish time: 2022-04-22 00:19:47.097971\n"
     ]
    },
    {
     "name": "stderr",
     "output_type": "stream",
     "text": [
      "2022-04-22 00:18:24,298 - stpipe - INFO - Working on galaxy #100. Estimated time remaining to add all galaxies to the stamp image: 1.38 minutes. Projected finish time: 2022-04-22 00:19:47.097971\n"
     ]
    },
    {
     "name": "stdout",
     "output_type": "stream",
     "text": [
      "2022-04-22 00:18:24,298 - stpipe - INFO - Working on galaxy #100. Estimated time remaining to add all galaxies to the stamp image: 1.38 minutes. Projected finish time: 2022-04-22 00:19:47.097971\n",
      "2022-04-22 00:18:24,945 - mirage.seed_image.catalog_seed_image - INFO - Working on galaxy #200. Estimated time remaining to add all galaxies to the stamp image: 0.59 minutes. Projected finish time: 2022-04-22 00:19:00.344976\n"
     ]
    },
    {
     "name": "stderr",
     "output_type": "stream",
     "text": [
      "2022-04-22 00:18:24,945 - stpipe - INFO - Working on galaxy #200. Estimated time remaining to add all galaxies to the stamp image: 0.59 minutes. Projected finish time: 2022-04-22 00:19:00.344976\n"
     ]
    },
    {
     "name": "stdout",
     "output_type": "stream",
     "text": [
      "2022-04-22 00:18:24,945 - stpipe - INFO - Working on galaxy #200. Estimated time remaining to add all galaxies to the stamp image: 0.59 minutes. Projected finish time: 2022-04-22 00:19:00.344976\n",
      "2022-04-22 00:18:25,617 - mirage.seed_image.catalog_seed_image - INFO - Working on galaxy #300. Estimated time remaining to add all galaxies to the stamp image: 0.33 minutes. Projected finish time: 2022-04-22 00:18:45.417708\n"
     ]
    },
    {
     "name": "stderr",
     "output_type": "stream",
     "text": [
      "2022-04-22 00:18:25,617 - stpipe - INFO - Working on galaxy #300. Estimated time remaining to add all galaxies to the stamp image: 0.33 minutes. Projected finish time: 2022-04-22 00:18:45.417708\n"
     ]
    },
    {
     "name": "stdout",
     "output_type": "stream",
     "text": [
      "2022-04-22 00:18:25,617 - stpipe - INFO - Working on galaxy #300. Estimated time remaining to add all galaxies to the stamp image: 0.33 minutes. Projected finish time: 2022-04-22 00:18:45.417708\n",
      "2022-04-22 00:18:26,228 - mirage.seed_image.catalog_seed_image - INFO - Working on galaxy #400. Estimated time remaining to add all galaxies to the stamp image: 0.2 minutes. Projected finish time: 2022-04-22 00:18:38.228820\n"
     ]
    },
    {
     "name": "stderr",
     "output_type": "stream",
     "text": [
      "2022-04-22 00:18:26,228 - stpipe - INFO - Working on galaxy #400. Estimated time remaining to add all galaxies to the stamp image: 0.2 minutes. Projected finish time: 2022-04-22 00:18:38.228820\n"
     ]
    },
    {
     "name": "stdout",
     "output_type": "stream",
     "text": [
      "2022-04-22 00:18:26,228 - stpipe - INFO - Working on galaxy #400. Estimated time remaining to add all galaxies to the stamp image: 0.2 minutes. Projected finish time: 2022-04-22 00:18:38.228820\n",
      "2022-04-22 00:18:26,855 - mirage.seed_image.catalog_seed_image - INFO - Working on galaxy #500. Estimated time remaining to add all galaxies to the stamp image: 0.13 minutes. Projected finish time: 2022-04-22 00:18:34.655766\n"
     ]
    },
    {
     "name": "stderr",
     "output_type": "stream",
     "text": [
      "2022-04-22 00:18:26,855 - stpipe - INFO - Working on galaxy #500. Estimated time remaining to add all galaxies to the stamp image: 0.13 minutes. Projected finish time: 2022-04-22 00:18:34.655766\n"
     ]
    },
    {
     "name": "stdout",
     "output_type": "stream",
     "text": [
      "2022-04-22 00:18:26,855 - stpipe - INFO - Working on galaxy #500. Estimated time remaining to add all galaxies to the stamp image: 0.13 minutes. Projected finish time: 2022-04-22 00:18:34.655766\n",
      "2022-04-22 00:18:27,411 - mirage.seed_image.catalog_seed_image - INFO - Working on galaxy #600. Estimated time remaining to add all galaxies to the stamp image: 0.08 minutes. Projected finish time: 2022-04-22 00:18:32.211289\n"
     ]
    },
    {
     "name": "stderr",
     "output_type": "stream",
     "text": [
      "2022-04-22 00:18:27,411 - stpipe - INFO - Working on galaxy #600. Estimated time remaining to add all galaxies to the stamp image: 0.08 minutes. Projected finish time: 2022-04-22 00:18:32.211289\n"
     ]
    },
    {
     "name": "stdout",
     "output_type": "stream",
     "text": [
      "2022-04-22 00:18:27,411 - stpipe - INFO - Working on galaxy #600. Estimated time remaining to add all galaxies to the stamp image: 0.08 minutes. Projected finish time: 2022-04-22 00:18:32.211289\n",
      "2022-04-22 00:18:28,020 - mirage.seed_image.catalog_seed_image - INFO - Working on galaxy #700. Estimated time remaining to add all galaxies to the stamp image: 0.05 minutes. Projected finish time: 2022-04-22 00:18:31.020191\n"
     ]
    },
    {
     "name": "stderr",
     "output_type": "stream",
     "text": [
      "2022-04-22 00:18:28,020 - stpipe - INFO - Working on galaxy #700. Estimated time remaining to add all galaxies to the stamp image: 0.05 minutes. Projected finish time: 2022-04-22 00:18:31.020191\n"
     ]
    },
    {
     "name": "stdout",
     "output_type": "stream",
     "text": [
      "2022-04-22 00:18:28,020 - stpipe - INFO - Working on galaxy #700. Estimated time remaining to add all galaxies to the stamp image: 0.05 minutes. Projected finish time: 2022-04-22 00:18:31.020191\n",
      "2022-04-22 00:18:28,594 - mirage.seed_image.catalog_seed_image - INFO - Working on galaxy #800. Estimated time remaining to add all galaxies to the stamp image: 0.03 minutes. Projected finish time: 2022-04-22 00:18:30.394226\n"
     ]
    },
    {
     "name": "stderr",
     "output_type": "stream",
     "text": [
      "2022-04-22 00:18:28,594 - stpipe - INFO - Working on galaxy #800. Estimated time remaining to add all galaxies to the stamp image: 0.03 minutes. Projected finish time: 2022-04-22 00:18:30.394226\n"
     ]
    },
    {
     "name": "stdout",
     "output_type": "stream",
     "text": [
      "2022-04-22 00:18:28,594 - stpipe - INFO - Working on galaxy #800. Estimated time remaining to add all galaxies to the stamp image: 0.03 minutes. Projected finish time: 2022-04-22 00:18:30.394226\n",
      "2022-04-22 00:18:29,096 - mirage.seed_image.catalog_seed_image - INFO - Working on galaxy #900. Estimated time remaining to add all galaxies to the stamp image: 0.01 minutes. Projected finish time: 2022-04-22 00:18:29.696590\n"
     ]
    },
    {
     "name": "stderr",
     "output_type": "stream",
     "text": [
      "2022-04-22 00:18:29,096 - stpipe - INFO - Working on galaxy #900. Estimated time remaining to add all galaxies to the stamp image: 0.01 minutes. Projected finish time: 2022-04-22 00:18:29.696590\n"
     ]
    },
    {
     "name": "stdout",
     "output_type": "stream",
     "text": [
      "2022-04-22 00:18:29,096 - stpipe - INFO - Working on galaxy #900. Estimated time remaining to add all galaxies to the stamp image: 0.01 minutes. Projected finish time: 2022-04-22 00:18:29.696590\n",
      "2022-04-22 00:18:29,721 - mirage.seed_image.catalog_seed_image - INFO - Seed image is 2D.\n"
     ]
    },
    {
     "name": "stderr",
     "output_type": "stream",
     "text": [
      "2022-04-22 00:18:29,721 - stpipe - INFO - Seed image is 2D.\n"
     ]
    },
    {
     "name": "stdout",
     "output_type": "stream",
     "text": [
      "2022-04-22 00:18:29,721 - stpipe - INFO - Seed image is 2D.\n",
      "2022-04-22 00:18:29,976 - mirage.seed_image.catalog_seed_image - INFO - Simulated galaxy image and segmap saved as /Users/dcoe/NIRCam/MIRAGE/2022April/images/F277W/jw01433010001_01101_00012_nrca5_uncal_F277W_CLEAR_galaxy_seed_image.fits\n"
     ]
    },
    {
     "name": "stderr",
     "output_type": "stream",
     "text": [
      "2022-04-22 00:18:29,976 - stpipe - INFO - Simulated galaxy image and segmap saved as /Users/dcoe/NIRCam/MIRAGE/2022April/images/F277W/jw01433010001_01101_00012_nrca5_uncal_F277W_CLEAR_galaxy_seed_image.fits\n"
     ]
    },
    {
     "name": "stdout",
     "output_type": "stream",
     "text": [
      "2022-04-22 00:18:29,976 - stpipe - INFO - Simulated galaxy image and segmap saved as /Users/dcoe/NIRCam/MIRAGE/2022April/images/F277W/jw01433010001_01101_00012_nrca5_uncal_F277W_CLEAR_galaxy_seed_image.fits\n",
      "2022-04-22 00:18:30,098 - mirage.seed_image.catalog_seed_image - INFO - Multiplying seed by POM transmission image.\n"
     ]
    },
    {
     "name": "stderr",
     "output_type": "stream",
     "text": [
      "2022-04-22 00:18:30,098 - stpipe - INFO - Multiplying seed by POM transmission image.\n"
     ]
    },
    {
     "name": "stdout",
     "output_type": "stream",
     "text": [
      "2022-04-22 00:18:30,098 - stpipe - INFO - Multiplying seed by POM transmission image.\n",
      "2022-04-22 00:18:30,104 - mirage.seed_image.catalog_seed_image - INFO - Seed image is 2D.\n"
     ]
    },
    {
     "name": "stderr",
     "output_type": "stream",
     "text": [
      "2022-04-22 00:18:30,104 - stpipe - INFO - Seed image is 2D.\n"
     ]
    },
    {
     "name": "stdout",
     "output_type": "stream",
     "text": [
      "2022-04-22 00:18:30,104 - stpipe - INFO - Seed image is 2D.\n",
      "2022-04-22 00:18:30,358 - mirage.seed_image.catalog_seed_image - INFO - Final seed image and segmentation map saved as /Users/dcoe/NIRCam/MIRAGE/2022April/images/F277W/jw01433010001_01101_00012_nrca5_uncal_F277W_CLEAR_final_seed_image.fits\n"
     ]
    },
    {
     "name": "stderr",
     "output_type": "stream",
     "text": [
      "2022-04-22 00:18:30,358 - stpipe - INFO - Final seed image and segmentation map saved as /Users/dcoe/NIRCam/MIRAGE/2022April/images/F277W/jw01433010001_01101_00012_nrca5_uncal_F277W_CLEAR_final_seed_image.fits\n"
     ]
    },
    {
     "name": "stdout",
     "output_type": "stream",
     "text": [
      "2022-04-22 00:18:30,358 - stpipe - INFO - Final seed image and segmentation map saved as /Users/dcoe/NIRCam/MIRAGE/2022April/images/F277W/jw01433010001_01101_00012_nrca5_uncal_F277W_CLEAR_final_seed_image.fits\n",
      "2022-04-22 00:18:30,359 - mirage.seed_image.catalog_seed_image - INFO - Seed image, segmentation map, and metadata available as:\n"
     ]
    },
    {
     "name": "stderr",
     "output_type": "stream",
     "text": [
      "2022-04-22 00:18:30,359 - stpipe - INFO - Seed image, segmentation map, and metadata available as:\n"
     ]
    },
    {
     "name": "stdout",
     "output_type": "stream",
     "text": [
      "2022-04-22 00:18:30,359 - stpipe - INFO - Seed image, segmentation map, and metadata available as:\n",
      "2022-04-22 00:18:30,360 - mirage.seed_image.catalog_seed_image - INFO - self.seedimage, self.seed_segmap, self.seedinfo.\n"
     ]
    },
    {
     "name": "stderr",
     "output_type": "stream",
     "text": [
      "2022-04-22 00:18:30,360 - stpipe - INFO - self.seedimage, self.seed_segmap, self.seedinfo.\n"
     ]
    },
    {
     "name": "stdout",
     "output_type": "stream",
     "text": [
      "2022-04-22 00:18:30,360 - stpipe - INFO - self.seedimage, self.seed_segmap, self.seedinfo.\n",
      "2022-04-22 00:18:30,361 - mirage.seed_image.catalog_seed_image - INFO - \n"
     ]
    },
    {
     "name": "stderr",
     "output_type": "stream",
     "text": [
      "2022-04-22 00:18:30,361 - stpipe - INFO - \n"
     ]
    },
    {
     "name": "stdout",
     "output_type": "stream",
     "text": [
      "2022-04-22 00:18:30,361 - stpipe - INFO - \n",
      "2022-04-22 00:18:30,362 - mirage.seed_image.catalog_seed_image - INFO - \n"
     ]
    },
    {
     "name": "stderr",
     "output_type": "stream",
     "text": [
      "2022-04-22 00:18:30,362 - stpipe - INFO - \n"
     ]
    },
    {
     "name": "stdout",
     "output_type": "stream",
     "text": [
      "2022-04-22 00:18:30,362 - stpipe - INFO - \n",
      "2022-04-22 00:18:30,365 - mirage.imaging_simulator - INFO - Perform dark preparation:\n"
     ]
    },
    {
     "name": "stderr",
     "output_type": "stream",
     "text": [
      "2022-04-22 00:18:30,365 - stpipe - INFO - Perform dark preparation:\n"
     ]
    },
    {
     "name": "stdout",
     "output_type": "stream",
     "text": [
      "2022-04-22 00:18:30,365 - stpipe - INFO - Perform dark preparation:\n",
      "2022-04-22 00:18:30,386 - mirage.dark.dark_prep - INFO - \n"
     ]
    },
    {
     "name": "stderr",
     "output_type": "stream",
     "text": [
      "2022-04-22 00:18:30,386 - stpipe - INFO - \n"
     ]
    },
    {
     "name": "stdout",
     "output_type": "stream",
     "text": [
      "2022-04-22 00:18:30,386 - stpipe - INFO - \n",
      "2022-04-22 00:18:30,387 - mirage.dark.dark_prep - INFO - \n"
     ]
    },
    {
     "name": "stderr",
     "output_type": "stream",
     "text": [
      "2022-04-22 00:18:30,387 - stpipe - INFO - \n"
     ]
    },
    {
     "name": "stdout",
     "output_type": "stream",
     "text": [
      "2022-04-22 00:18:30,387 - stpipe - INFO - \n",
      "2022-04-22 00:18:30,388 - mirage.dark.dark_prep - INFO - Running dark_prep..\n"
     ]
    },
    {
     "name": "stderr",
     "output_type": "stream",
     "text": [
      "2022-04-22 00:18:30,388 - stpipe - INFO - Running dark_prep..\n"
     ]
    },
    {
     "name": "stdout",
     "output_type": "stream",
     "text": [
      "2022-04-22 00:18:30,388 - stpipe - INFO - Running dark_prep..\n",
      "2022-04-22 00:18:30,390 - mirage.dark.dark_prep - INFO - \n"
     ]
    },
    {
     "name": "stderr",
     "output_type": "stream",
     "text": [
      "2022-04-22 00:18:30,390 - stpipe - INFO - \n"
     ]
    },
    {
     "name": "stdout",
     "output_type": "stream",
     "text": [
      "2022-04-22 00:18:30,390 - stpipe - INFO - \n",
      "2022-04-22 00:18:30,391 - mirage.dark.dark_prep - INFO - Reading parameter file: ./yaml/F277W/jw01433010001_01101_00012_nrca5.yaml\n"
     ]
    },
    {
     "name": "stderr",
     "output_type": "stream",
     "text": [
      "2022-04-22 00:18:30,391 - stpipe - INFO - Reading parameter file: ./yaml/F277W/jw01433010001_01101_00012_nrca5.yaml\n"
     ]
    },
    {
     "name": "stdout",
     "output_type": "stream",
     "text": [
      "2022-04-22 00:18:30,391 - stpipe - INFO - Reading parameter file: ./yaml/F277W/jw01433010001_01101_00012_nrca5.yaml\n",
      "2022-04-22 00:18:30,392 - mirage.dark.dark_prep - INFO - \n"
     ]
    },
    {
     "name": "stderr",
     "output_type": "stream",
     "text": [
      "2022-04-22 00:18:30,392 - stpipe - INFO - \n"
     ]
    },
    {
     "name": "stdout",
     "output_type": "stream",
     "text": [
      "2022-04-22 00:18:30,392 - stpipe - INFO - \n",
      "2022-04-22 00:18:30,393 - mirage.dark.dark_prep - INFO - Original log file name: ./mirage_latest.log\n"
     ]
    },
    {
     "name": "stderr",
     "output_type": "stream",
     "text": [
      "2022-04-22 00:18:30,393 - stpipe - INFO - Original log file name: ./mirage_latest.log\n"
     ]
    },
    {
     "name": "stdout",
     "output_type": "stream",
     "text": [
      "2022-04-22 00:18:30,393 - stpipe - INFO - Original log file name: ./mirage_latest.log\n",
      "2022-04-22 00:18:30,395 - mirage.utils.utils.full_paths - INFO - From CRDS, found /Users/dcoe/crds_cache/references/jwst/nircam/jwst_nircam_mask_0052.fits as the badpixmask reference file.\n"
     ]
    },
    {
     "name": "stderr",
     "output_type": "stream",
     "text": [
      "2022-04-22 00:18:30,395 - stpipe - INFO - From CRDS, found /Users/dcoe/crds_cache/references/jwst/nircam/jwst_nircam_mask_0052.fits as the badpixmask reference file.\n"
     ]
    },
    {
     "name": "stdout",
     "output_type": "stream",
     "text": [
      "2022-04-22 00:18:30,395 - stpipe - INFO - From CRDS, found /Users/dcoe/crds_cache/references/jwst/nircam/jwst_nircam_mask_0052.fits as the badpixmask reference file.\n",
      "2022-04-22 00:18:30,397 - mirage.utils.utils.full_paths - INFO - From CRDS, found /Users/dcoe/crds_cache/references/jwst/nircam/jwst_nircam_superbias_0022.fits as the superbias reference file.\n"
     ]
    },
    {
     "name": "stderr",
     "output_type": "stream",
     "text": [
      "2022-04-22 00:18:30,397 - stpipe - INFO - From CRDS, found /Users/dcoe/crds_cache/references/jwst/nircam/jwst_nircam_superbias_0022.fits as the superbias reference file.\n"
     ]
    },
    {
     "name": "stdout",
     "output_type": "stream",
     "text": [
      "2022-04-22 00:18:30,397 - stpipe - INFO - From CRDS, found /Users/dcoe/crds_cache/references/jwst/nircam/jwst_nircam_superbias_0022.fits as the superbias reference file.\n",
      "2022-04-22 00:18:30,399 - mirage.utils.utils.full_paths - INFO - From CRDS, found /Users/dcoe/crds_cache/references/jwst/nircam/jwst_nircam_linearity_0052.fits as the linearity reference file.\n"
     ]
    },
    {
     "name": "stderr",
     "output_type": "stream",
     "text": [
      "2022-04-22 00:18:30,399 - stpipe - INFO - From CRDS, found /Users/dcoe/crds_cache/references/jwst/nircam/jwst_nircam_linearity_0052.fits as the linearity reference file.\n"
     ]
    },
    {
     "name": "stdout",
     "output_type": "stream",
     "text": [
      "2022-04-22 00:18:30,399 - stpipe - INFO - From CRDS, found /Users/dcoe/crds_cache/references/jwst/nircam/jwst_nircam_linearity_0052.fits as the linearity reference file.\n",
      "2022-04-22 00:18:30,401 - mirage.utils.utils.full_paths - INFO - From CRDS, found /Users/dcoe/crds_cache/references/jwst/nircam/jwst_nircam_saturation_0091.fits as the saturation reference file.\n"
     ]
    },
    {
     "name": "stderr",
     "output_type": "stream",
     "text": [
      "2022-04-22 00:18:30,401 - stpipe - INFO - From CRDS, found /Users/dcoe/crds_cache/references/jwst/nircam/jwst_nircam_saturation_0091.fits as the saturation reference file.\n"
     ]
    },
    {
     "name": "stdout",
     "output_type": "stream",
     "text": [
      "2022-04-22 00:18:30,401 - stpipe - INFO - From CRDS, found /Users/dcoe/crds_cache/references/jwst/nircam/jwst_nircam_saturation_0091.fits as the saturation reference file.\n",
      "2022-04-22 00:18:30,402 - mirage.utils.utils.full_paths - INFO - From CRDS, found /Users/dcoe/crds_cache/references/jwst/nircam/jwst_nircam_gain_0056.fits as the gain reference file.\n"
     ]
    },
    {
     "name": "stderr",
     "output_type": "stream",
     "text": [
      "2022-04-22 00:18:30,402 - stpipe - INFO - From CRDS, found /Users/dcoe/crds_cache/references/jwst/nircam/jwst_nircam_gain_0056.fits as the gain reference file.\n"
     ]
    },
    {
     "name": "stdout",
     "output_type": "stream",
     "text": [
      "2022-04-22 00:18:30,402 - stpipe - INFO - From CRDS, found /Users/dcoe/crds_cache/references/jwst/nircam/jwst_nircam_gain_0056.fits as the gain reference file.\n",
      "2022-04-22 00:18:30,404 - mirage.utils.utils.full_paths - INFO - From CRDS, found /Users/dcoe/crds_cache/references/jwst/nircam/jwst_nircam_flat_0266.fits as the pixelflat reference file.\n"
     ]
    },
    {
     "name": "stderr",
     "output_type": "stream",
     "text": [
      "2022-04-22 00:18:30,404 - stpipe - INFO - From CRDS, found /Users/dcoe/crds_cache/references/jwst/nircam/jwst_nircam_flat_0266.fits as the pixelflat reference file.\n"
     ]
    },
    {
     "name": "stdout",
     "output_type": "stream",
     "text": [
      "2022-04-22 00:18:30,404 - stpipe - INFO - From CRDS, found /Users/dcoe/crds_cache/references/jwst/nircam/jwst_nircam_flat_0266.fits as the pixelflat reference file.\n",
      "2022-04-22 00:18:30,405 - mirage.utils.utils.full_paths - INFO - From CRDS, found /Users/dcoe/crds_cache/references/jwst/nircam/jwst_nircam_ipc_0028.fits as the ipc reference file.\n"
     ]
    },
    {
     "name": "stderr",
     "output_type": "stream",
     "text": [
      "2022-04-22 00:18:30,405 - stpipe - INFO - From CRDS, found /Users/dcoe/crds_cache/references/jwst/nircam/jwst_nircam_ipc_0028.fits as the ipc reference file.\n"
     ]
    },
    {
     "name": "stdout",
     "output_type": "stream",
     "text": [
      "2022-04-22 00:18:30,405 - stpipe - INFO - From CRDS, found /Users/dcoe/crds_cache/references/jwst/nircam/jwst_nircam_ipc_0028.fits as the ipc reference file.\n",
      "2022-04-22 00:18:30,406 - mirage.utils.utils.full_paths - INFO - Found an existing inverted kernel for this IPC file: /Users/dcoe/crds_cache/references/jwst/nircam/Kernel_to_add_IPC_effects_from_jwst_nircam_ipc_0028.fits\n"
     ]
    },
    {
     "name": "stderr",
     "output_type": "stream",
     "text": [
      "2022-04-22 00:18:30,406 - stpipe - INFO - Found an existing inverted kernel for this IPC file: /Users/dcoe/crds_cache/references/jwst/nircam/Kernel_to_add_IPC_effects_from_jwst_nircam_ipc_0028.fits\n"
     ]
    },
    {
     "name": "stdout",
     "output_type": "stream",
     "text": [
      "2022-04-22 00:18:30,406 - stpipe - INFO - Found an existing inverted kernel for this IPC file: /Users/dcoe/crds_cache/references/jwst/nircam/Kernel_to_add_IPC_effects_from_jwst_nircam_ipc_0028.fits\n",
      "2022-04-22 00:18:30,408 - mirage.utils.utils.full_paths - INFO - From CRDS, found /Users/dcoe/crds_cache/references/jwst/nircam/jwst_nircam_distortion_0133.asdf as the astrometric reference file.\n"
     ]
    },
    {
     "name": "stderr",
     "output_type": "stream",
     "text": [
      "2022-04-22 00:18:30,408 - stpipe - INFO - From CRDS, found /Users/dcoe/crds_cache/references/jwst/nircam/jwst_nircam_distortion_0133.asdf as the astrometric reference file.\n"
     ]
    },
    {
     "name": "stdout",
     "output_type": "stream",
     "text": [
      "2022-04-22 00:18:30,408 - stpipe - INFO - From CRDS, found /Users/dcoe/crds_cache/references/jwst/nircam/jwst_nircam_distortion_0133.asdf as the astrometric reference file.\n",
      "2022-04-22 00:18:30,410 - mirage.utils.utils.full_paths - INFO - From CRDS, found /Users/dcoe/crds_cache/references/jwst/nircam/jwst_nircam_area_0015.fits as the pixelAreaMap reference file.\n"
     ]
    },
    {
     "name": "stderr",
     "output_type": "stream",
     "text": [
      "2022-04-22 00:18:30,410 - stpipe - INFO - From CRDS, found /Users/dcoe/crds_cache/references/jwst/nircam/jwst_nircam_area_0015.fits as the pixelAreaMap reference file.\n"
     ]
    },
    {
     "name": "stdout",
     "output_type": "stream",
     "text": [
      "2022-04-22 00:18:30,410 - stpipe - INFO - From CRDS, found /Users/dcoe/crds_cache/references/jwst/nircam/jwst_nircam_area_0015.fits as the pixelAreaMap reference file.\n",
      "2022-04-22 00:18:30,411 - mirage.reference_files.utils.get_transmission_file - INFO - POM Transmission filename: None\n"
     ]
    },
    {
     "name": "stderr",
     "output_type": "stream",
     "text": [
      "2022-04-22 00:18:30,411 - stpipe - INFO - POM Transmission filename: None\n"
     ]
    },
    {
     "name": "stdout",
     "output_type": "stream",
     "text": [
      "2022-04-22 00:18:30,411 - stpipe - INFO - POM Transmission filename: None\n",
      "2022-04-22 00:18:30,412 - mirage.utils.utils.full_paths - INFO - From grism library, found None as the POM transmission file.\n"
     ]
    },
    {
     "name": "stderr",
     "output_type": "stream",
     "text": [
      "2022-04-22 00:18:30,412 - stpipe - INFO - From grism library, found None as the POM transmission file.\n"
     ]
    },
    {
     "name": "stdout",
     "output_type": "stream",
     "text": [
      "2022-04-22 00:18:30,412 - stpipe - INFO - From grism library, found None as the POM transmission file.\n",
      "2022-04-22 00:18:30,413 - mirage.utils.utils.full_paths - INFO - From CRDS, found /Users/dcoe/crds_cache/references/jwst/nircam/jwst_nircam_photom_0092.fits as the photom reference file.\n"
     ]
    },
    {
     "name": "stderr",
     "output_type": "stream",
     "text": [
      "2022-04-22 00:18:30,413 - stpipe - INFO - From CRDS, found /Users/dcoe/crds_cache/references/jwst/nircam/jwst_nircam_photom_0092.fits as the photom reference file.\n"
     ]
    },
    {
     "name": "stdout",
     "output_type": "stream",
     "text": [
      "2022-04-22 00:18:30,413 - stpipe - INFO - From CRDS, found /Users/dcoe/crds_cache/references/jwst/nircam/jwst_nircam_photom_0092.fits as the photom reference file.\n",
      "2022-04-22 00:18:31,577 - mirage.dark.dark_prep - INFO - Requested readout pattern SHALLOW4 is valid. Using the nframe = 4 and nskip = 1\n"
     ]
    },
    {
     "name": "stderr",
     "output_type": "stream",
     "text": [
      "2022-04-22 00:18:31,577 - stpipe - INFO - Requested readout pattern SHALLOW4 is valid. Using the nframe = 4 and nskip = 1\n"
     ]
    },
    {
     "name": "stdout",
     "output_type": "stream",
     "text": [
      "2022-04-22 00:18:31,577 - stpipe - INFO - Requested readout pattern SHALLOW4 is valid. Using the nframe = 4 and nskip = 1\n",
      "2022-04-22 00:18:31,867 - mirage.dark.dark_prep - INFO - File splitting enabled. Starting integration numbers for all file segments: [0 1]\n"
     ]
    },
    {
     "name": "stderr",
     "output_type": "stream",
     "text": [
      "2022-04-22 00:18:31,867 - stpipe - INFO - File splitting enabled. Starting integration numbers for all file segments: [0 1]\n"
     ]
    },
    {
     "name": "stdout",
     "output_type": "stream",
     "text": [
      "2022-04-22 00:18:31,867 - stpipe - INFO - File splitting enabled. Starting integration numbers for all file segments: [0 1]\n",
      "2022-04-22 00:18:31,870 - mirage.dark.dark_prep - INFO - Segment number: 0\n"
     ]
    },
    {
     "name": "stderr",
     "output_type": "stream",
     "text": [
      "2022-04-22 00:18:31,870 - stpipe - INFO - Segment number: 0\n"
     ]
    },
    {
     "name": "stdout",
     "output_type": "stream",
     "text": [
      "2022-04-22 00:18:31,870 - stpipe - INFO - Segment number: 0\n",
      "2022-04-22 00:18:31,872 - mirage.dark.dark_prep - INFO - Number of integrations: 1\n"
     ]
    },
    {
     "name": "stderr",
     "output_type": "stream",
     "text": [
      "2022-04-22 00:18:31,872 - stpipe - INFO - Number of integrations: 1\n"
     ]
    },
    {
     "name": "stdout",
     "output_type": "stream",
     "text": [
      "2022-04-22 00:18:31,872 - stpipe - INFO - Number of integrations: 1\n",
      "2022-04-22 00:18:31,874 - mirage.dark.dark_prep - INFO - Dark files to use:\n"
     ]
    },
    {
     "name": "stderr",
     "output_type": "stream",
     "text": [
      "2022-04-22 00:18:31,874 - stpipe - INFO - Dark files to use:\n"
     ]
    },
    {
     "name": "stdout",
     "output_type": "stream",
     "text": [
      "2022-04-22 00:18:31,874 - stpipe - INFO - Dark files to use:\n",
      "2022-04-22 00:18:31,876 - mirage.dark.dark_prep - INFO - /ifs/jwst/wit/mirage_data/nircam/darks/linearized/A5/Linearized_Dark_and_SBRefpix_NRCNRCALONG-DARK-53521422131_1_485_SE_2015-12-18T15h05m59_uncal.fits\n"
     ]
    },
    {
     "name": "stderr",
     "output_type": "stream",
     "text": [
      "2022-04-22 00:18:31,876 - stpipe - INFO - /ifs/jwst/wit/mirage_data/nircam/darks/linearized/A5/Linearized_Dark_and_SBRefpix_NRCNRCALONG-DARK-53521422131_1_485_SE_2015-12-18T15h05m59_uncal.fits\n"
     ]
    },
    {
     "name": "stdout",
     "output_type": "stream",
     "text": [
      "2022-04-22 00:18:31,876 - stpipe - INFO - /ifs/jwst/wit/mirage_data/nircam/darks/linearized/A5/Linearized_Dark_and_SBRefpix_NRCNRCALONG-DARK-53521422131_1_485_SE_2015-12-18T15h05m59_uncal.fits\n",
      "2022-04-22 00:18:31,878 - mirage.dark.dark_prep - INFO - Working on dark file: /ifs/jwst/wit/mirage_data/nircam/darks/linearized/A5/Linearized_Dark_and_SBRefpix_NRCNRCALONG-DARK-53521422131_1_485_SE_2015-12-18T15h05m59_uncal.fits\n"
     ]
    },
    {
     "name": "stderr",
     "output_type": "stream",
     "text": [
      "2022-04-22 00:18:31,878 - stpipe - INFO - Working on dark file: /ifs/jwst/wit/mirage_data/nircam/darks/linearized/A5/Linearized_Dark_and_SBRefpix_NRCNRCALONG-DARK-53521422131_1_485_SE_2015-12-18T15h05m59_uncal.fits\n"
     ]
    },
    {
     "name": "stdout",
     "output_type": "stream",
     "text": [
      "2022-04-22 00:18:31,878 - stpipe - INFO - Working on dark file: /ifs/jwst/wit/mirage_data/nircam/darks/linearized/A5/Linearized_Dark_and_SBRefpix_NRCNRCALONG-DARK-53521422131_1_485_SE_2015-12-18T15h05m59_uncal.fits\n",
      "2022-04-22 00:18:31,879 - mirage.dark.dark_prep - INFO - Reading in linearized dark current ramp from /ifs/jwst/wit/mirage_data/nircam/darks/linearized/A5/Linearized_Dark_and_SBRefpix_NRCNRCALONG-DARK-53521422131_1_485_SE_2015-12-18T15h05m59_uncal.fits\n"
     ]
    },
    {
     "name": "stderr",
     "output_type": "stream",
     "text": [
      "2022-04-22 00:18:31,879 - stpipe - INFO - Reading in linearized dark current ramp from /ifs/jwst/wit/mirage_data/nircam/darks/linearized/A5/Linearized_Dark_and_SBRefpix_NRCNRCALONG-DARK-53521422131_1_485_SE_2015-12-18T15h05m59_uncal.fits\n"
     ]
    },
    {
     "name": "stdout",
     "output_type": "stream",
     "text": [
      "2022-04-22 00:18:31,879 - stpipe - INFO - Reading in linearized dark current ramp from /ifs/jwst/wit/mirage_data/nircam/darks/linearized/A5/Linearized_Dark_and_SBRefpix_NRCNRCALONG-DARK-53521422131_1_485_SE_2015-12-18T15h05m59_uncal.fits\n",
      "2022-04-22 00:18:35,128 - mirage.dark.dark_prep - INFO - Averaging dark current ramp. Frames [0 1 2 3], to become group 0\n"
     ]
    },
    {
     "name": "stderr",
     "output_type": "stream",
     "text": [
      "2022-04-22 00:18:35,128 - stpipe - INFO - Averaging dark current ramp. Frames [0 1 2 3], to become group 0\n"
     ]
    },
    {
     "name": "stdout",
     "output_type": "stream",
     "text": [
      "2022-04-22 00:18:35,128 - stpipe - INFO - Averaging dark current ramp. Frames [0 1 2 3], to become group 0\n",
      "2022-04-22 00:19:59,991 - mirage.dark.dark_prep - INFO - Averaging dark current ramp. Frames [5 6 7 8], to become group 1\n"
     ]
    },
    {
     "name": "stderr",
     "output_type": "stream",
     "text": [
      "2022-04-22 00:19:59,991 - stpipe - INFO - Averaging dark current ramp. Frames [5 6 7 8], to become group 1\n"
     ]
    },
    {
     "name": "stdout",
     "output_type": "stream",
     "text": [
      "2022-04-22 00:19:59,991 - stpipe - INFO - Averaging dark current ramp. Frames [5 6 7 8], to become group 1\n",
      "2022-04-22 00:21:25,816 - mirage.dark.dark_prep - INFO - Averaging dark current ramp. Frames [10 11 12 13], to become group 2\n"
     ]
    },
    {
     "name": "stderr",
     "output_type": "stream",
     "text": [
      "2022-04-22 00:21:25,816 - stpipe - INFO - Averaging dark current ramp. Frames [10 11 12 13], to become group 2\n"
     ]
    },
    {
     "name": "stdout",
     "output_type": "stream",
     "text": [
      "2022-04-22 00:21:25,816 - stpipe - INFO - Averaging dark current ramp. Frames [10 11 12 13], to become group 2\n",
      "2022-04-22 00:22:50,906 - mirage.dark.dark_prep - INFO - Averaging dark current ramp. Frames [15 16 17 18], to become group 3\n"
     ]
    },
    {
     "name": "stderr",
     "output_type": "stream",
     "text": [
      "2022-04-22 00:22:50,906 - stpipe - INFO - Averaging dark current ramp. Frames [15 16 17 18], to become group 3\n"
     ]
    },
    {
     "name": "stdout",
     "output_type": "stream",
     "text": [
      "2022-04-22 00:22:50,906 - stpipe - INFO - Averaging dark current ramp. Frames [15 16 17 18], to become group 3\n",
      "2022-04-22 00:24:05,553 - mirage.dark.dark_prep - INFO - Averaging dark current ramp. Frames [20 21 22 23], to become group 4\n"
     ]
    },
    {
     "name": "stderr",
     "output_type": "stream",
     "text": [
      "2022-04-22 00:24:05,553 - stpipe - INFO - Averaging dark current ramp. Frames [20 21 22 23], to become group 4\n"
     ]
    },
    {
     "name": "stdout",
     "output_type": "stream",
     "text": [
      "2022-04-22 00:24:05,553 - stpipe - INFO - Averaging dark current ramp. Frames [20 21 22 23], to become group 4\n",
      "2022-04-22 00:25:35,559 - mirage.dark.dark_prep - INFO - Averaging dark current ramp. Frames [25 26 27 28], to become group 5\n"
     ]
    },
    {
     "name": "stderr",
     "output_type": "stream",
     "text": [
      "2022-04-22 00:25:35,559 - stpipe - INFO - Averaging dark current ramp. Frames [25 26 27 28], to become group 5\n"
     ]
    },
    {
     "name": "stdout",
     "output_type": "stream",
     "text": [
      "2022-04-22 00:25:35,559 - stpipe - INFO - Averaging dark current ramp. Frames [25 26 27 28], to become group 5\n",
      "2022-04-22 00:27:19,884 - mirage.dark.dark_prep - INFO - Averaging dark current ramp. Frames [30 31 32 33], to become group 6\n"
     ]
    },
    {
     "name": "stderr",
     "output_type": "stream",
     "text": [
      "2022-04-22 00:27:19,884 - stpipe - INFO - Averaging dark current ramp. Frames [30 31 32 33], to become group 6\n"
     ]
    },
    {
     "name": "stdout",
     "output_type": "stream",
     "text": [
      "2022-04-22 00:27:19,884 - stpipe - INFO - Averaging dark current ramp. Frames [30 31 32 33], to become group 6\n",
      "2022-04-22 00:28:53,556 - mirage.dark.dark_prep - INFO - Averaging dark current ramp. Frames [35 36 37 38], to become group 7\n"
     ]
    },
    {
     "name": "stderr",
     "output_type": "stream",
     "text": [
      "2022-04-22 00:28:53,556 - stpipe - INFO - Averaging dark current ramp. Frames [35 36 37 38], to become group 7\n"
     ]
    },
    {
     "name": "stdout",
     "output_type": "stream",
     "text": [
      "2022-04-22 00:28:53,556 - stpipe - INFO - Averaging dark current ramp. Frames [35 36 37 38], to become group 7\n",
      "2022-04-22 00:30:09,641 - mirage.dark.dark_prep - INFO - Averaging dark current ramp. Frames [40 41 42 43], to become group 8\n"
     ]
    },
    {
     "name": "stderr",
     "output_type": "stream",
     "text": [
      "2022-04-22 00:30:09,641 - stpipe - INFO - Averaging dark current ramp. Frames [40 41 42 43], to become group 8\n"
     ]
    },
    {
     "name": "stdout",
     "output_type": "stream",
     "text": [
      "2022-04-22 00:30:09,641 - stpipe - INFO - Averaging dark current ramp. Frames [40 41 42 43], to become group 8\n",
      "2022-04-22 00:31:12,165 - mirage.dark.dark_prep - INFO - Averaging dark current ramp. Frames [45 46 47 48], to become group 9\n"
     ]
    },
    {
     "name": "stderr",
     "output_type": "stream",
     "text": [
      "2022-04-22 00:31:12,165 - stpipe - INFO - Averaging dark current ramp. Frames [45 46 47 48], to become group 9\n"
     ]
    },
    {
     "name": "stdout",
     "output_type": "stream",
     "text": [
      "2022-04-22 00:31:12,165 - stpipe - INFO - Averaging dark current ramp. Frames [45 46 47 48], to become group 9\n",
      "2022-04-22 00:32:07,872 - mirage.dark.dark_prep - INFO - DARK has been reordered to (1, 10, 2048, 2048) to match the input readpattern of SHALLOW4\n"
     ]
    },
    {
     "name": "stderr",
     "output_type": "stream",
     "text": [
      "2022-04-22 00:32:07,872 - stpipe - INFO - DARK has been reordered to (1, 10, 2048, 2048) to match the input readpattern of SHALLOW4\n"
     ]
    },
    {
     "name": "stdout",
     "output_type": "stream",
     "text": [
      "2022-04-22 00:32:07,872 - stpipe - INFO - DARK has been reordered to (1, 10, 2048, 2048) to match the input readpattern of SHALLOW4\n",
      "2022-04-22 00:32:07,877 - mirage.dark.dark_prep - INFO - Setting integration 0 to use file Linearized_Dark_and_SBRefpix_NRCNRCALONG-DARK-53521422131_1_485_SE_2015-12-18T15h05m59_uncal.fits\n"
     ]
    },
    {
     "name": "stderr",
     "output_type": "stream",
     "text": [
      "2022-04-22 00:32:07,877 - stpipe - INFO - Setting integration 0 to use file Linearized_Dark_and_SBRefpix_NRCNRCALONG-DARK-53521422131_1_485_SE_2015-12-18T15h05m59_uncal.fits\n"
     ]
    },
    {
     "name": "stdout",
     "output_type": "stream",
     "text": [
      "2022-04-22 00:32:07,877 - stpipe - INFO - Setting integration 0 to use file Linearized_Dark_and_SBRefpix_NRCNRCALONG-DARK-53521422131_1_485_SE_2015-12-18T15h05m59_uncal.fits\n",
      "2022-04-22 00:32:07,879 - mirage.dark.dark_prep - INFO - \n"
     ]
    },
    {
     "name": "stderr",
     "output_type": "stream",
     "text": [
      "2022-04-22 00:32:07,879 - stpipe - INFO - \n"
     ]
    },
    {
     "name": "stdout",
     "output_type": "stream",
     "text": [
      "2022-04-22 00:32:07,879 - stpipe - INFO - \n",
      "2022-04-22 00:32:14,382 - py.warnings - WARNING - /Users/dcoe/miniconda3/envs/python3.10/lib/python3.10/site-packages/astropy/io/fits/card.py:1009: VerifyWarning: Card is too long, comment will be truncated.\n",
      "  warnings.warn('Card is too long, comment will be truncated.',\n",
      "\n"
     ]
    },
    {
     "name": "stderr",
     "output_type": "stream",
     "text": [
      "2022-04-22 00:32:14,382 - stpipe - WARNING - /Users/dcoe/miniconda3/envs/python3.10/lib/python3.10/site-packages/astropy/io/fits/card.py:1009: VerifyWarning: Card is too long, comment will be truncated.\n",
      "  warnings.warn('Card is too long, comment will be truncated.',\n",
      "\n"
     ]
    },
    {
     "name": "stdout",
     "output_type": "stream",
     "text": [
      "2022-04-22 00:32:14,382 - stpipe - WARNING - /Users/dcoe/miniconda3/envs/python3.10/lib/python3.10/site-packages/astropy/io/fits/card.py:1009: VerifyWarning: Card is too long, comment will be truncated.\n",
      "  warnings.warn('Card is too long, comment will be truncated.',\n",
      "\n",
      "2022-04-22 00:32:15,702 - mirage.dark.dark_prep - INFO - Linearized dark frame plus superbias and referencepixel signals, as well as zeroframe, saved to /Users/dcoe/NIRCam/MIRAGE/2022April/images/F277W/jw01433010001_01101_00012_nrca5_uncal_linear_dark_prep_object.fits. This can be used as input to the observation generator.\n"
     ]
    },
    {
     "name": "stderr",
     "output_type": "stream",
     "text": [
      "2022-04-22 00:32:15,702 - stpipe - INFO - Linearized dark frame plus superbias and referencepixel signals, as well as zeroframe, saved to /Users/dcoe/NIRCam/MIRAGE/2022April/images/F277W/jw01433010001_01101_00012_nrca5_uncal_linear_dark_prep_object.fits. This can be used as input to the observation generator.\n"
     ]
    },
    {
     "name": "stdout",
     "output_type": "stream",
     "text": [
      "2022-04-22 00:32:15,702 - stpipe - INFO - Linearized dark frame plus superbias and referencepixel signals, as well as zeroframe, saved to /Users/dcoe/NIRCam/MIRAGE/2022April/images/F277W/jw01433010001_01101_00012_nrca5_uncal_linear_dark_prep_object.fits. This can be used as input to the observation generator.\n",
      "2022-04-22 00:32:15,703 - mirage.dark.dark_prep - INFO - \n"
     ]
    },
    {
     "name": "stderr",
     "output_type": "stream",
     "text": [
      "2022-04-22 00:32:15,703 - stpipe - INFO - \n"
     ]
    },
    {
     "name": "stdout",
     "output_type": "stream",
     "text": [
      "2022-04-22 00:32:15,703 - stpipe - INFO - \n",
      "2022-04-22 00:32:15,705 - mirage.dark.dark_prep - INFO - \n"
     ]
    },
    {
     "name": "stderr",
     "output_type": "stream",
     "text": [
      "2022-04-22 00:32:15,705 - stpipe - INFO - \n"
     ]
    },
    {
     "name": "stdout",
     "output_type": "stream",
     "text": [
      "2022-04-22 00:32:15,705 - stpipe - INFO - \n",
      "2022-04-22 00:32:15,706 - mirage.dark.dark_prep - INFO - Segment 1 out of 1 complete.\n"
     ]
    },
    {
     "name": "stderr",
     "output_type": "stream",
     "text": [
      "2022-04-22 00:32:15,706 - stpipe - INFO - Segment 1 out of 1 complete.\n"
     ]
    },
    {
     "name": "stdout",
     "output_type": "stream",
     "text": [
      "2022-04-22 00:32:15,706 - stpipe - INFO - Segment 1 out of 1 complete.\n",
      "2022-04-22 00:32:15,730 - mirage.ramp_generator.obs_generator - INFO - \n"
     ]
    },
    {
     "name": "stderr",
     "output_type": "stream",
     "text": [
      "2022-04-22 00:32:15,730 - stpipe - INFO - \n"
     ]
    },
    {
     "name": "stdout",
     "output_type": "stream",
     "text": [
      "2022-04-22 00:32:15,730 - stpipe - INFO - \n",
      "2022-04-22 00:32:15,732 - mirage.ramp_generator.obs_generator - INFO - \n"
     ]
    },
    {
     "name": "stderr",
     "output_type": "stream",
     "text": [
      "2022-04-22 00:32:15,732 - stpipe - INFO - \n"
     ]
    },
    {
     "name": "stdout",
     "output_type": "stream",
     "text": [
      "2022-04-22 00:32:15,732 - stpipe - INFO - \n",
      "2022-04-22 00:32:15,734 - mirage.ramp_generator.obs_generator - INFO - Running observation generator....\n"
     ]
    },
    {
     "name": "stderr",
     "output_type": "stream",
     "text": [
      "2022-04-22 00:32:15,734 - stpipe - INFO - Running observation generator....\n"
     ]
    },
    {
     "name": "stdout",
     "output_type": "stream",
     "text": [
      "2022-04-22 00:32:15,734 - stpipe - INFO - Running observation generator....\n",
      "2022-04-22 00:32:15,735 - mirage.ramp_generator.obs_generator - INFO - \n"
     ]
    },
    {
     "name": "stderr",
     "output_type": "stream",
     "text": [
      "2022-04-22 00:32:15,735 - stpipe - INFO - \n"
     ]
    },
    {
     "name": "stdout",
     "output_type": "stream",
     "text": [
      "2022-04-22 00:32:15,735 - stpipe - INFO - \n",
      "2022-04-22 00:32:15,737 - mirage.ramp_generator.obs_generator - INFO - Reading parameter file: ./yaml/F277W/jw01433010001_01101_00012_nrca5.yaml\n"
     ]
    },
    {
     "name": "stderr",
     "output_type": "stream",
     "text": [
      "2022-04-22 00:32:15,737 - stpipe - INFO - Reading parameter file: ./yaml/F277W/jw01433010001_01101_00012_nrca5.yaml\n"
     ]
    },
    {
     "name": "stdout",
     "output_type": "stream",
     "text": [
      "2022-04-22 00:32:15,737 - stpipe - INFO - Reading parameter file: ./yaml/F277W/jw01433010001_01101_00012_nrca5.yaml\n",
      "2022-04-22 00:32:15,738 - mirage.ramp_generator.obs_generator - INFO - \n"
     ]
    },
    {
     "name": "stderr",
     "output_type": "stream",
     "text": [
      "2022-04-22 00:32:15,738 - stpipe - INFO - \n"
     ]
    },
    {
     "name": "stdout",
     "output_type": "stream",
     "text": [
      "2022-04-22 00:32:15,738 - stpipe - INFO - \n",
      "2022-04-22 00:32:15,739 - mirage.ramp_generator.obs_generator - INFO - Original log file name: ./mirage_latest.log\n"
     ]
    },
    {
     "name": "stderr",
     "output_type": "stream",
     "text": [
      "2022-04-22 00:32:15,739 - stpipe - INFO - Original log file name: ./mirage_latest.log\n"
     ]
    },
    {
     "name": "stdout",
     "output_type": "stream",
     "text": [
      "2022-04-22 00:32:15,739 - stpipe - INFO - Original log file name: ./mirage_latest.log\n",
      "2022-04-22 00:32:15,741 - mirage.utils.utils.full_paths - INFO - From CRDS, found /Users/dcoe/crds_cache/references/jwst/nircam/jwst_nircam_mask_0052.fits as the badpixmask reference file.\n"
     ]
    },
    {
     "name": "stderr",
     "output_type": "stream",
     "text": [
      "2022-04-22 00:32:15,741 - stpipe - INFO - From CRDS, found /Users/dcoe/crds_cache/references/jwst/nircam/jwst_nircam_mask_0052.fits as the badpixmask reference file.\n"
     ]
    },
    {
     "name": "stdout",
     "output_type": "stream",
     "text": [
      "2022-04-22 00:32:15,741 - stpipe - INFO - From CRDS, found /Users/dcoe/crds_cache/references/jwst/nircam/jwst_nircam_mask_0052.fits as the badpixmask reference file.\n",
      "2022-04-22 00:32:15,743 - mirage.utils.utils.full_paths - INFO - From CRDS, found /Users/dcoe/crds_cache/references/jwst/nircam/jwst_nircam_superbias_0022.fits as the superbias reference file.\n"
     ]
    },
    {
     "name": "stderr",
     "output_type": "stream",
     "text": [
      "2022-04-22 00:32:15,743 - stpipe - INFO - From CRDS, found /Users/dcoe/crds_cache/references/jwst/nircam/jwst_nircam_superbias_0022.fits as the superbias reference file.\n"
     ]
    },
    {
     "name": "stdout",
     "output_type": "stream",
     "text": [
      "2022-04-22 00:32:15,743 - stpipe - INFO - From CRDS, found /Users/dcoe/crds_cache/references/jwst/nircam/jwst_nircam_superbias_0022.fits as the superbias reference file.\n",
      "2022-04-22 00:32:15,745 - mirage.utils.utils.full_paths - INFO - From CRDS, found /Users/dcoe/crds_cache/references/jwst/nircam/jwst_nircam_linearity_0052.fits as the linearity reference file.\n"
     ]
    },
    {
     "name": "stderr",
     "output_type": "stream",
     "text": [
      "2022-04-22 00:32:15,745 - stpipe - INFO - From CRDS, found /Users/dcoe/crds_cache/references/jwst/nircam/jwst_nircam_linearity_0052.fits as the linearity reference file.\n"
     ]
    },
    {
     "name": "stdout",
     "output_type": "stream",
     "text": [
      "2022-04-22 00:32:15,745 - stpipe - INFO - From CRDS, found /Users/dcoe/crds_cache/references/jwst/nircam/jwst_nircam_linearity_0052.fits as the linearity reference file.\n",
      "2022-04-22 00:32:15,747 - mirage.utils.utils.full_paths - INFO - From CRDS, found /Users/dcoe/crds_cache/references/jwst/nircam/jwst_nircam_saturation_0091.fits as the saturation reference file.\n"
     ]
    },
    {
     "name": "stderr",
     "output_type": "stream",
     "text": [
      "2022-04-22 00:32:15,747 - stpipe - INFO - From CRDS, found /Users/dcoe/crds_cache/references/jwst/nircam/jwst_nircam_saturation_0091.fits as the saturation reference file.\n"
     ]
    },
    {
     "name": "stdout",
     "output_type": "stream",
     "text": [
      "2022-04-22 00:32:15,747 - stpipe - INFO - From CRDS, found /Users/dcoe/crds_cache/references/jwst/nircam/jwst_nircam_saturation_0091.fits as the saturation reference file.\n",
      "2022-04-22 00:32:15,748 - mirage.utils.utils.full_paths - INFO - From CRDS, found /Users/dcoe/crds_cache/references/jwst/nircam/jwst_nircam_gain_0056.fits as the gain reference file.\n"
     ]
    },
    {
     "name": "stderr",
     "output_type": "stream",
     "text": [
      "2022-04-22 00:32:15,748 - stpipe - INFO - From CRDS, found /Users/dcoe/crds_cache/references/jwst/nircam/jwst_nircam_gain_0056.fits as the gain reference file.\n"
     ]
    },
    {
     "name": "stdout",
     "output_type": "stream",
     "text": [
      "2022-04-22 00:32:15,748 - stpipe - INFO - From CRDS, found /Users/dcoe/crds_cache/references/jwst/nircam/jwst_nircam_gain_0056.fits as the gain reference file.\n",
      "2022-04-22 00:32:15,750 - mirage.utils.utils.full_paths - INFO - From CRDS, found /Users/dcoe/crds_cache/references/jwst/nircam/jwst_nircam_flat_0266.fits as the pixelflat reference file.\n"
     ]
    },
    {
     "name": "stderr",
     "output_type": "stream",
     "text": [
      "2022-04-22 00:32:15,750 - stpipe - INFO - From CRDS, found /Users/dcoe/crds_cache/references/jwst/nircam/jwst_nircam_flat_0266.fits as the pixelflat reference file.\n"
     ]
    },
    {
     "name": "stdout",
     "output_type": "stream",
     "text": [
      "2022-04-22 00:32:15,750 - stpipe - INFO - From CRDS, found /Users/dcoe/crds_cache/references/jwst/nircam/jwst_nircam_flat_0266.fits as the pixelflat reference file.\n",
      "2022-04-22 00:32:15,752 - mirage.utils.utils.full_paths - INFO - From CRDS, found /Users/dcoe/crds_cache/references/jwst/nircam/jwst_nircam_ipc_0028.fits as the ipc reference file.\n"
     ]
    },
    {
     "name": "stderr",
     "output_type": "stream",
     "text": [
      "2022-04-22 00:32:15,752 - stpipe - INFO - From CRDS, found /Users/dcoe/crds_cache/references/jwst/nircam/jwst_nircam_ipc_0028.fits as the ipc reference file.\n"
     ]
    },
    {
     "name": "stdout",
     "output_type": "stream",
     "text": [
      "2022-04-22 00:32:15,752 - stpipe - INFO - From CRDS, found /Users/dcoe/crds_cache/references/jwst/nircam/jwst_nircam_ipc_0028.fits as the ipc reference file.\n",
      "2022-04-22 00:32:15,753 - mirage.utils.utils.full_paths - INFO - Found an existing inverted kernel for this IPC file: /Users/dcoe/crds_cache/references/jwst/nircam/Kernel_to_add_IPC_effects_from_jwst_nircam_ipc_0028.fits\n"
     ]
    },
    {
     "name": "stderr",
     "output_type": "stream",
     "text": [
      "2022-04-22 00:32:15,753 - stpipe - INFO - Found an existing inverted kernel for this IPC file: /Users/dcoe/crds_cache/references/jwst/nircam/Kernel_to_add_IPC_effects_from_jwst_nircam_ipc_0028.fits\n"
     ]
    },
    {
     "name": "stdout",
     "output_type": "stream",
     "text": [
      "2022-04-22 00:32:15,753 - stpipe - INFO - Found an existing inverted kernel for this IPC file: /Users/dcoe/crds_cache/references/jwst/nircam/Kernel_to_add_IPC_effects_from_jwst_nircam_ipc_0028.fits\n",
      "2022-04-22 00:32:15,755 - mirage.utils.utils.full_paths - INFO - From CRDS, found /Users/dcoe/crds_cache/references/jwst/nircam/jwst_nircam_distortion_0133.asdf as the astrometric reference file.\n"
     ]
    },
    {
     "name": "stderr",
     "output_type": "stream",
     "text": [
      "2022-04-22 00:32:15,755 - stpipe - INFO - From CRDS, found /Users/dcoe/crds_cache/references/jwst/nircam/jwst_nircam_distortion_0133.asdf as the astrometric reference file.\n"
     ]
    },
    {
     "name": "stdout",
     "output_type": "stream",
     "text": [
      "2022-04-22 00:32:15,755 - stpipe - INFO - From CRDS, found /Users/dcoe/crds_cache/references/jwst/nircam/jwst_nircam_distortion_0133.asdf as the astrometric reference file.\n",
      "2022-04-22 00:32:15,756 - mirage.utils.utils.full_paths - INFO - From CRDS, found /Users/dcoe/crds_cache/references/jwst/nircam/jwst_nircam_area_0015.fits as the pixelAreaMap reference file.\n"
     ]
    },
    {
     "name": "stderr",
     "output_type": "stream",
     "text": [
      "2022-04-22 00:32:15,756 - stpipe - INFO - From CRDS, found /Users/dcoe/crds_cache/references/jwst/nircam/jwst_nircam_area_0015.fits as the pixelAreaMap reference file.\n"
     ]
    },
    {
     "name": "stdout",
     "output_type": "stream",
     "text": [
      "2022-04-22 00:32:15,756 - stpipe - INFO - From CRDS, found /Users/dcoe/crds_cache/references/jwst/nircam/jwst_nircam_area_0015.fits as the pixelAreaMap reference file.\n",
      "2022-04-22 00:32:15,757 - mirage.reference_files.utils.get_transmission_file - INFO - POM Transmission filename: None\n"
     ]
    },
    {
     "name": "stderr",
     "output_type": "stream",
     "text": [
      "2022-04-22 00:32:15,757 - stpipe - INFO - POM Transmission filename: None\n"
     ]
    },
    {
     "name": "stdout",
     "output_type": "stream",
     "text": [
      "2022-04-22 00:32:15,757 - stpipe - INFO - POM Transmission filename: None\n",
      "2022-04-22 00:32:15,758 - mirage.utils.utils.full_paths - INFO - From grism library, found None as the POM transmission file.\n"
     ]
    },
    {
     "name": "stderr",
     "output_type": "stream",
     "text": [
      "2022-04-22 00:32:15,758 - stpipe - INFO - From grism library, found None as the POM transmission file.\n"
     ]
    },
    {
     "name": "stdout",
     "output_type": "stream",
     "text": [
      "2022-04-22 00:32:15,758 - stpipe - INFO - From grism library, found None as the POM transmission file.\n",
      "2022-04-22 00:32:15,759 - mirage.utils.utils.full_paths - INFO - From CRDS, found /Users/dcoe/crds_cache/references/jwst/nircam/jwst_nircam_photom_0092.fits as the photom reference file.\n"
     ]
    },
    {
     "name": "stderr",
     "output_type": "stream",
     "text": [
      "2022-04-22 00:32:15,759 - stpipe - INFO - From CRDS, found /Users/dcoe/crds_cache/references/jwst/nircam/jwst_nircam_photom_0092.fits as the photom reference file.\n"
     ]
    },
    {
     "name": "stdout",
     "output_type": "stream",
     "text": [
      "2022-04-22 00:32:15,759 - stpipe - INFO - From CRDS, found /Users/dcoe/crds_cache/references/jwst/nircam/jwst_nircam_photom_0092.fits as the photom reference file.\n",
      "2022-04-22 00:32:15,854 - mirage.ramp_generator.obs_generator - INFO - Reading in dark file: /Users/dcoe/NIRCam/MIRAGE/2022April/images/F277W/jw01433010001_01101_00012_nrca5_uncal_linear_dark_prep_object.fits\n"
     ]
    },
    {
     "name": "stderr",
     "output_type": "stream",
     "text": [
      "2022-04-22 00:32:15,854 - stpipe - INFO - Reading in dark file: /Users/dcoe/NIRCam/MIRAGE/2022April/images/F277W/jw01433010001_01101_00012_nrca5_uncal_linear_dark_prep_object.fits\n"
     ]
    },
    {
     "name": "stdout",
     "output_type": "stream",
     "text": [
      "2022-04-22 00:32:15,854 - stpipe - INFO - Reading in dark file: /Users/dcoe/NIRCam/MIRAGE/2022April/images/F277W/jw01433010001_01101_00012_nrca5_uncal_linear_dark_prep_object.fits\n",
      "2022-04-22 00:32:15,907 - mirage.ramp_generator.obs_generator - INFO - Requested readout pattern SHALLOW4 is valid. Using nframe = 4 and nskip = 1\n"
     ]
    },
    {
     "name": "stderr",
     "output_type": "stream",
     "text": [
      "2022-04-22 00:32:15,907 - stpipe - INFO - Requested readout pattern SHALLOW4 is valid. Using nframe = 4 and nskip = 1\n"
     ]
    },
    {
     "name": "stdout",
     "output_type": "stream",
     "text": [
      "2022-04-22 00:32:15,907 - stpipe - INFO - Requested readout pattern SHALLOW4 is valid. Using nframe = 4 and nskip = 1\n",
      "2022-04-22 00:32:20,768 - mirage.ramp_generator.obs_generator - INFO - Frametime is 10.736770000000002\n"
     ]
    },
    {
     "name": "stderr",
     "output_type": "stream",
     "text": [
      "2022-04-22 00:32:20,768 - stpipe - INFO - Frametime is 10.736770000000002\n"
     ]
    },
    {
     "name": "stdout",
     "output_type": "stream",
     "text": [
      "2022-04-22 00:32:20,768 - stpipe - INFO - Frametime is 10.736770000000002\n",
      "2022-04-22 00:32:20,771 - mirage.ramp_generator.obs_generator - INFO - Base cosmic ray probability per pixel per second: 5.762e-06\n"
     ]
    },
    {
     "name": "stderr",
     "output_type": "stream",
     "text": [
      "2022-04-22 00:32:20,771 - stpipe - INFO - Base cosmic ray probability per pixel per second: 5.762e-06\n"
     ]
    },
    {
     "name": "stdout",
     "output_type": "stream",
     "text": [
      "2022-04-22 00:32:20,771 - stpipe - INFO - Base cosmic ray probability per pixel per second: 5.762e-06\n",
      "2022-04-22 00:32:21,054 - mirage.ramp_generator.obs_generator - INFO - The linearity coefficients of 9990 pixels are NaNs. Setting these coefficients such that no linearity correction is made.\n"
     ]
    },
    {
     "name": "stderr",
     "output_type": "stream",
     "text": [
      "2022-04-22 00:32:21,054 - stpipe - INFO - The linearity coefficients of 9990 pixels are NaNs. Setting these coefficients such that no linearity correction is made.\n"
     ]
    },
    {
     "name": "stdout",
     "output_type": "stream",
     "text": [
      "2022-04-22 00:32:21,054 - stpipe - INFO - The linearity coefficients of 9990 pixels are NaNs. Setting these coefficients such that no linearity correction is made.\n",
      "2022-04-22 00:32:21,649 - mirage.ramp_generator.obs_generator - INFO - Integration 0:\n"
     ]
    },
    {
     "name": "stderr",
     "output_type": "stream",
     "text": [
      "2022-04-22 00:32:21,649 - stpipe - INFO - Integration 0:\n"
     ]
    },
    {
     "name": "stdout",
     "output_type": "stream",
     "text": [
      "2022-04-22 00:32:21,649 - stpipe - INFO - Integration 0:\n",
      "2022-04-22 00:32:32,317 - mirage.ramp_generator.obs_generator - INFO -     Averaging frame 0 into group 0\n"
     ]
    },
    {
     "name": "stderr",
     "output_type": "stream",
     "text": [
      "2022-04-22 00:32:32,317 - stpipe - INFO -     Averaging frame 0 into group 0\n"
     ]
    },
    {
     "name": "stdout",
     "output_type": "stream",
     "text": [
      "2022-04-22 00:32:32,317 - stpipe - INFO -     Averaging frame 0 into group 0\n",
      "2022-04-22 00:32:33,085 - mirage.ramp_generator.obs_generator - INFO -     Averaging frame 1 into group 0\n"
     ]
    },
    {
     "name": "stderr",
     "output_type": "stream",
     "text": [
      "2022-04-22 00:32:33,085 - stpipe - INFO -     Averaging frame 1 into group 0\n"
     ]
    },
    {
     "name": "stdout",
     "output_type": "stream",
     "text": [
      "2022-04-22 00:32:33,085 - stpipe - INFO -     Averaging frame 1 into group 0\n",
      "2022-04-22 00:32:33,545 - mirage.ramp_generator.obs_generator - INFO -     Averaging frame 2 into group 0\n"
     ]
    },
    {
     "name": "stderr",
     "output_type": "stream",
     "text": [
      "2022-04-22 00:32:33,545 - stpipe - INFO -     Averaging frame 2 into group 0\n"
     ]
    },
    {
     "name": "stdout",
     "output_type": "stream",
     "text": [
      "2022-04-22 00:32:33,545 - stpipe - INFO -     Averaging frame 2 into group 0\n",
      "2022-04-22 00:32:33,978 - mirage.ramp_generator.obs_generator - INFO -     Averaging frame 3 into group 0\n"
     ]
    },
    {
     "name": "stderr",
     "output_type": "stream",
     "text": [
      "2022-04-22 00:32:33,978 - stpipe - INFO -     Averaging frame 3 into group 0\n"
     ]
    },
    {
     "name": "stdout",
     "output_type": "stream",
     "text": [
      "2022-04-22 00:32:33,978 - stpipe - INFO -     Averaging frame 3 into group 0\n",
      "2022-04-22 00:32:34,442 - mirage.ramp_generator.obs_generator - INFO -     Skipping frame 4\n"
     ]
    },
    {
     "name": "stderr",
     "output_type": "stream",
     "text": [
      "2022-04-22 00:32:34,442 - stpipe - INFO -     Skipping frame 4\n"
     ]
    },
    {
     "name": "stdout",
     "output_type": "stream",
     "text": [
      "2022-04-22 00:32:34,442 - stpipe - INFO -     Skipping frame 4\n",
      "2022-04-22 00:32:34,888 - mirage.ramp_generator.obs_generator - INFO -     Averaging frame 5 into group 1\n"
     ]
    },
    {
     "name": "stderr",
     "output_type": "stream",
     "text": [
      "2022-04-22 00:32:34,888 - stpipe - INFO -     Averaging frame 5 into group 1\n"
     ]
    },
    {
     "name": "stdout",
     "output_type": "stream",
     "text": [
      "2022-04-22 00:32:34,888 - stpipe - INFO -     Averaging frame 5 into group 1\n",
      "2022-04-22 00:32:35,427 - mirage.ramp_generator.obs_generator - INFO -     Averaging frame 6 into group 1\n"
     ]
    },
    {
     "name": "stderr",
     "output_type": "stream",
     "text": [
      "2022-04-22 00:32:35,427 - stpipe - INFO -     Averaging frame 6 into group 1\n"
     ]
    },
    {
     "name": "stdout",
     "output_type": "stream",
     "text": [
      "2022-04-22 00:32:35,427 - stpipe - INFO -     Averaging frame 6 into group 1\n",
      "2022-04-22 00:32:36,426 - mirage.ramp_generator.obs_generator - INFO -     Averaging frame 7 into group 1\n"
     ]
    },
    {
     "name": "stderr",
     "output_type": "stream",
     "text": [
      "2022-04-22 00:32:36,426 - stpipe - INFO -     Averaging frame 7 into group 1\n"
     ]
    },
    {
     "name": "stdout",
     "output_type": "stream",
     "text": [
      "2022-04-22 00:32:36,426 - stpipe - INFO -     Averaging frame 7 into group 1\n",
      "2022-04-22 00:32:37,351 - mirage.ramp_generator.obs_generator - INFO -     Averaging frame 8 into group 1\n"
     ]
    },
    {
     "name": "stderr",
     "output_type": "stream",
     "text": [
      "2022-04-22 00:32:37,351 - stpipe - INFO -     Averaging frame 8 into group 1\n"
     ]
    },
    {
     "name": "stdout",
     "output_type": "stream",
     "text": [
      "2022-04-22 00:32:37,351 - stpipe - INFO -     Averaging frame 8 into group 1\n",
      "2022-04-22 00:32:38,246 - mirage.ramp_generator.obs_generator - INFO -     Skipping frame 9\n"
     ]
    },
    {
     "name": "stderr",
     "output_type": "stream",
     "text": [
      "2022-04-22 00:32:38,246 - stpipe - INFO -     Skipping frame 9\n"
     ]
    },
    {
     "name": "stdout",
     "output_type": "stream",
     "text": [
      "2022-04-22 00:32:38,246 - stpipe - INFO -     Skipping frame 9\n",
      "2022-04-22 00:32:39,006 - mirage.ramp_generator.obs_generator - INFO -     Averaging frame 10 into group 2\n"
     ]
    },
    {
     "name": "stderr",
     "output_type": "stream",
     "text": [
      "2022-04-22 00:32:39,006 - stpipe - INFO -     Averaging frame 10 into group 2\n"
     ]
    },
    {
     "name": "stdout",
     "output_type": "stream",
     "text": [
      "2022-04-22 00:32:39,006 - stpipe - INFO -     Averaging frame 10 into group 2\n",
      "2022-04-22 00:32:39,600 - mirage.ramp_generator.obs_generator - INFO -     Averaging frame 11 into group 2\n"
     ]
    },
    {
     "name": "stderr",
     "output_type": "stream",
     "text": [
      "2022-04-22 00:32:39,600 - stpipe - INFO -     Averaging frame 11 into group 2\n"
     ]
    },
    {
     "name": "stdout",
     "output_type": "stream",
     "text": [
      "2022-04-22 00:32:39,600 - stpipe - INFO -     Averaging frame 11 into group 2\n",
      "2022-04-22 00:32:40,172 - mirage.ramp_generator.obs_generator - INFO -     Averaging frame 12 into group 2\n"
     ]
    },
    {
     "name": "stderr",
     "output_type": "stream",
     "text": [
      "2022-04-22 00:32:40,172 - stpipe - INFO -     Averaging frame 12 into group 2\n"
     ]
    },
    {
     "name": "stdout",
     "output_type": "stream",
     "text": [
      "2022-04-22 00:32:40,172 - stpipe - INFO -     Averaging frame 12 into group 2\n",
      "2022-04-22 00:32:40,668 - mirage.ramp_generator.obs_generator - INFO -     Averaging frame 13 into group 2\n"
     ]
    },
    {
     "name": "stderr",
     "output_type": "stream",
     "text": [
      "2022-04-22 00:32:40,668 - stpipe - INFO -     Averaging frame 13 into group 2\n"
     ]
    },
    {
     "name": "stdout",
     "output_type": "stream",
     "text": [
      "2022-04-22 00:32:40,668 - stpipe - INFO -     Averaging frame 13 into group 2\n",
      "2022-04-22 00:32:41,282 - mirage.ramp_generator.obs_generator - INFO -     Skipping frame 14\n"
     ]
    },
    {
     "name": "stderr",
     "output_type": "stream",
     "text": [
      "2022-04-22 00:32:41,282 - stpipe - INFO -     Skipping frame 14\n"
     ]
    },
    {
     "name": "stdout",
     "output_type": "stream",
     "text": [
      "2022-04-22 00:32:41,282 - stpipe - INFO -     Skipping frame 14\n",
      "2022-04-22 00:32:42,207 - mirage.ramp_generator.obs_generator - INFO -     Averaging frame 15 into group 3\n"
     ]
    },
    {
     "name": "stderr",
     "output_type": "stream",
     "text": [
      "2022-04-22 00:32:42,207 - stpipe - INFO -     Averaging frame 15 into group 3\n"
     ]
    },
    {
     "name": "stdout",
     "output_type": "stream",
     "text": [
      "2022-04-22 00:32:42,207 - stpipe - INFO -     Averaging frame 15 into group 3\n",
      "2022-04-22 00:32:43,026 - mirage.ramp_generator.obs_generator - INFO -     Averaging frame 16 into group 3\n"
     ]
    },
    {
     "name": "stderr",
     "output_type": "stream",
     "text": [
      "2022-04-22 00:32:43,026 - stpipe - INFO -     Averaging frame 16 into group 3\n"
     ]
    },
    {
     "name": "stdout",
     "output_type": "stream",
     "text": [
      "2022-04-22 00:32:43,026 - stpipe - INFO -     Averaging frame 16 into group 3\n",
      "2022-04-22 00:32:44,032 - mirage.ramp_generator.obs_generator - INFO -     Averaging frame 17 into group 3\n"
     ]
    },
    {
     "name": "stderr",
     "output_type": "stream",
     "text": [
      "2022-04-22 00:32:44,032 - stpipe - INFO -     Averaging frame 17 into group 3\n"
     ]
    },
    {
     "name": "stdout",
     "output_type": "stream",
     "text": [
      "2022-04-22 00:32:44,032 - stpipe - INFO -     Averaging frame 17 into group 3\n",
      "2022-04-22 00:32:44,669 - mirage.ramp_generator.obs_generator - INFO -     Averaging frame 18 into group 3\n"
     ]
    },
    {
     "name": "stderr",
     "output_type": "stream",
     "text": [
      "2022-04-22 00:32:44,669 - stpipe - INFO -     Averaging frame 18 into group 3\n"
     ]
    },
    {
     "name": "stdout",
     "output_type": "stream",
     "text": [
      "2022-04-22 00:32:44,669 - stpipe - INFO -     Averaging frame 18 into group 3\n",
      "2022-04-22 00:32:47,754 - mirage.ramp_generator.obs_generator - INFO -     Skipping frame 19\n"
     ]
    },
    {
     "name": "stderr",
     "output_type": "stream",
     "text": [
      "2022-04-22 00:32:47,754 - stpipe - INFO -     Skipping frame 19\n"
     ]
    },
    {
     "name": "stdout",
     "output_type": "stream",
     "text": [
      "2022-04-22 00:32:47,754 - stpipe - INFO -     Skipping frame 19\n",
      "2022-04-22 00:32:49,292 - mirage.ramp_generator.obs_generator - INFO -     Averaging frame 20 into group 4\n"
     ]
    },
    {
     "name": "stderr",
     "output_type": "stream",
     "text": [
      "2022-04-22 00:32:49,292 - stpipe - INFO -     Averaging frame 20 into group 4\n"
     ]
    },
    {
     "name": "stdout",
     "output_type": "stream",
     "text": [
      "2022-04-22 00:32:49,292 - stpipe - INFO -     Averaging frame 20 into group 4\n",
      "2022-04-22 00:32:50,734 - mirage.ramp_generator.obs_generator - INFO -     Averaging frame 21 into group 4\n"
     ]
    },
    {
     "name": "stderr",
     "output_type": "stream",
     "text": [
      "2022-04-22 00:32:50,734 - stpipe - INFO -     Averaging frame 21 into group 4\n"
     ]
    },
    {
     "name": "stdout",
     "output_type": "stream",
     "text": [
      "2022-04-22 00:32:50,734 - stpipe - INFO -     Averaging frame 21 into group 4\n",
      "2022-04-22 00:32:52,190 - mirage.ramp_generator.obs_generator - INFO -     Averaging frame 22 into group 4\n"
     ]
    },
    {
     "name": "stderr",
     "output_type": "stream",
     "text": [
      "2022-04-22 00:32:52,190 - stpipe - INFO -     Averaging frame 22 into group 4\n"
     ]
    },
    {
     "name": "stdout",
     "output_type": "stream",
     "text": [
      "2022-04-22 00:32:52,190 - stpipe - INFO -     Averaging frame 22 into group 4\n",
      "2022-04-22 00:32:53,451 - mirage.ramp_generator.obs_generator - INFO -     Averaging frame 23 into group 4\n"
     ]
    },
    {
     "name": "stderr",
     "output_type": "stream",
     "text": [
      "2022-04-22 00:32:53,451 - stpipe - INFO -     Averaging frame 23 into group 4\n"
     ]
    },
    {
     "name": "stdout",
     "output_type": "stream",
     "text": [
      "2022-04-22 00:32:53,451 - stpipe - INFO -     Averaging frame 23 into group 4\n",
      "2022-04-22 00:32:55,866 - mirage.ramp_generator.obs_generator - INFO -     Skipping frame 24\n"
     ]
    },
    {
     "name": "stderr",
     "output_type": "stream",
     "text": [
      "2022-04-22 00:32:55,866 - stpipe - INFO -     Skipping frame 24\n"
     ]
    },
    {
     "name": "stdout",
     "output_type": "stream",
     "text": [
      "2022-04-22 00:32:55,866 - stpipe - INFO -     Skipping frame 24\n",
      "2022-04-22 00:32:57,292 - mirage.ramp_generator.obs_generator - INFO -     Averaging frame 25 into group 5\n"
     ]
    },
    {
     "name": "stderr",
     "output_type": "stream",
     "text": [
      "2022-04-22 00:32:57,292 - stpipe - INFO -     Averaging frame 25 into group 5\n"
     ]
    },
    {
     "name": "stdout",
     "output_type": "stream",
     "text": [
      "2022-04-22 00:32:57,292 - stpipe - INFO -     Averaging frame 25 into group 5\n",
      "2022-04-22 00:32:58,513 - mirage.ramp_generator.obs_generator - INFO -     Averaging frame 26 into group 5\n"
     ]
    },
    {
     "name": "stderr",
     "output_type": "stream",
     "text": [
      "2022-04-22 00:32:58,513 - stpipe - INFO -     Averaging frame 26 into group 5\n"
     ]
    },
    {
     "name": "stdout",
     "output_type": "stream",
     "text": [
      "2022-04-22 00:32:58,513 - stpipe - INFO -     Averaging frame 26 into group 5\n",
      "2022-04-22 00:32:59,583 - mirage.ramp_generator.obs_generator - INFO -     Averaging frame 27 into group 5\n"
     ]
    },
    {
     "name": "stderr",
     "output_type": "stream",
     "text": [
      "2022-04-22 00:32:59,583 - stpipe - INFO -     Averaging frame 27 into group 5\n"
     ]
    },
    {
     "name": "stdout",
     "output_type": "stream",
     "text": [
      "2022-04-22 00:32:59,583 - stpipe - INFO -     Averaging frame 27 into group 5\n",
      "2022-04-22 00:33:00,609 - mirage.ramp_generator.obs_generator - INFO -     Averaging frame 28 into group 5\n"
     ]
    },
    {
     "name": "stderr",
     "output_type": "stream",
     "text": [
      "2022-04-22 00:33:00,609 - stpipe - INFO -     Averaging frame 28 into group 5\n"
     ]
    },
    {
     "name": "stdout",
     "output_type": "stream",
     "text": [
      "2022-04-22 00:33:00,609 - stpipe - INFO -     Averaging frame 28 into group 5\n",
      "2022-04-22 00:33:02,743 - mirage.ramp_generator.obs_generator - INFO -     Skipping frame 29\n"
     ]
    },
    {
     "name": "stderr",
     "output_type": "stream",
     "text": [
      "2022-04-22 00:33:02,743 - stpipe - INFO -     Skipping frame 29\n"
     ]
    },
    {
     "name": "stdout",
     "output_type": "stream",
     "text": [
      "2022-04-22 00:33:02,743 - stpipe - INFO -     Skipping frame 29\n",
      "2022-04-22 00:33:03,751 - mirage.ramp_generator.obs_generator - INFO -     Averaging frame 30 into group 6\n"
     ]
    },
    {
     "name": "stderr",
     "output_type": "stream",
     "text": [
      "2022-04-22 00:33:03,751 - stpipe - INFO -     Averaging frame 30 into group 6\n"
     ]
    },
    {
     "name": "stdout",
     "output_type": "stream",
     "text": [
      "2022-04-22 00:33:03,751 - stpipe - INFO -     Averaging frame 30 into group 6\n",
      "2022-04-22 00:33:04,838 - mirage.ramp_generator.obs_generator - INFO -     Averaging frame 31 into group 6\n"
     ]
    },
    {
     "name": "stderr",
     "output_type": "stream",
     "text": [
      "2022-04-22 00:33:04,838 - stpipe - INFO -     Averaging frame 31 into group 6\n"
     ]
    },
    {
     "name": "stdout",
     "output_type": "stream",
     "text": [
      "2022-04-22 00:33:04,838 - stpipe - INFO -     Averaging frame 31 into group 6\n",
      "2022-04-22 00:33:05,910 - mirage.ramp_generator.obs_generator - INFO -     Averaging frame 32 into group 6\n"
     ]
    },
    {
     "name": "stderr",
     "output_type": "stream",
     "text": [
      "2022-04-22 00:33:05,910 - stpipe - INFO -     Averaging frame 32 into group 6\n"
     ]
    },
    {
     "name": "stdout",
     "output_type": "stream",
     "text": [
      "2022-04-22 00:33:05,910 - stpipe - INFO -     Averaging frame 32 into group 6\n",
      "2022-04-22 00:33:06,609 - mirage.ramp_generator.obs_generator - INFO -     Averaging frame 33 into group 6\n"
     ]
    },
    {
     "name": "stderr",
     "output_type": "stream",
     "text": [
      "2022-04-22 00:33:06,609 - stpipe - INFO -     Averaging frame 33 into group 6\n"
     ]
    },
    {
     "name": "stdout",
     "output_type": "stream",
     "text": [
      "2022-04-22 00:33:06,609 - stpipe - INFO -     Averaging frame 33 into group 6\n",
      "2022-04-22 00:33:07,380 - mirage.ramp_generator.obs_generator - INFO -     Skipping frame 34\n"
     ]
    },
    {
     "name": "stderr",
     "output_type": "stream",
     "text": [
      "2022-04-22 00:33:07,380 - stpipe - INFO -     Skipping frame 34\n"
     ]
    },
    {
     "name": "stdout",
     "output_type": "stream",
     "text": [
      "2022-04-22 00:33:07,380 - stpipe - INFO -     Skipping frame 34\n",
      "2022-04-22 00:33:08,258 - mirage.ramp_generator.obs_generator - INFO -     Averaging frame 35 into group 7\n"
     ]
    },
    {
     "name": "stderr",
     "output_type": "stream",
     "text": [
      "2022-04-22 00:33:08,258 - stpipe - INFO -     Averaging frame 35 into group 7\n"
     ]
    },
    {
     "name": "stdout",
     "output_type": "stream",
     "text": [
      "2022-04-22 00:33:08,258 - stpipe - INFO -     Averaging frame 35 into group 7\n",
      "2022-04-22 00:33:08,904 - mirage.ramp_generator.obs_generator - INFO -     Averaging frame 36 into group 7\n"
     ]
    },
    {
     "name": "stderr",
     "output_type": "stream",
     "text": [
      "2022-04-22 00:33:08,904 - stpipe - INFO -     Averaging frame 36 into group 7\n"
     ]
    },
    {
     "name": "stdout",
     "output_type": "stream",
     "text": [
      "2022-04-22 00:33:08,904 - stpipe - INFO -     Averaging frame 36 into group 7\n",
      "2022-04-22 00:33:09,692 - mirage.ramp_generator.obs_generator - INFO -     Averaging frame 37 into group 7\n"
     ]
    },
    {
     "name": "stderr",
     "output_type": "stream",
     "text": [
      "2022-04-22 00:33:09,692 - stpipe - INFO -     Averaging frame 37 into group 7\n"
     ]
    },
    {
     "name": "stdout",
     "output_type": "stream",
     "text": [
      "2022-04-22 00:33:09,692 - stpipe - INFO -     Averaging frame 37 into group 7\n",
      "2022-04-22 00:33:10,253 - mirage.ramp_generator.obs_generator - INFO -     Averaging frame 38 into group 7\n"
     ]
    },
    {
     "name": "stderr",
     "output_type": "stream",
     "text": [
      "2022-04-22 00:33:10,253 - stpipe - INFO -     Averaging frame 38 into group 7\n"
     ]
    },
    {
     "name": "stdout",
     "output_type": "stream",
     "text": [
      "2022-04-22 00:33:10,253 - stpipe - INFO -     Averaging frame 38 into group 7\n",
      "2022-04-22 00:33:10,843 - mirage.ramp_generator.obs_generator - INFO -     Skipping frame 39\n"
     ]
    },
    {
     "name": "stderr",
     "output_type": "stream",
     "text": [
      "2022-04-22 00:33:10,843 - stpipe - INFO -     Skipping frame 39\n"
     ]
    },
    {
     "name": "stdout",
     "output_type": "stream",
     "text": [
      "2022-04-22 00:33:10,843 - stpipe - INFO -     Skipping frame 39\n",
      "2022-04-22 00:33:11,413 - mirage.ramp_generator.obs_generator - INFO -     Averaging frame 40 into group 8\n"
     ]
    },
    {
     "name": "stderr",
     "output_type": "stream",
     "text": [
      "2022-04-22 00:33:11,413 - stpipe - INFO -     Averaging frame 40 into group 8\n"
     ]
    },
    {
     "name": "stdout",
     "output_type": "stream",
     "text": [
      "2022-04-22 00:33:11,413 - stpipe - INFO -     Averaging frame 40 into group 8\n",
      "2022-04-22 00:33:12,032 - mirage.ramp_generator.obs_generator - INFO -     Averaging frame 41 into group 8\n"
     ]
    },
    {
     "name": "stderr",
     "output_type": "stream",
     "text": [
      "2022-04-22 00:33:12,032 - stpipe - INFO -     Averaging frame 41 into group 8\n"
     ]
    },
    {
     "name": "stdout",
     "output_type": "stream",
     "text": [
      "2022-04-22 00:33:12,032 - stpipe - INFO -     Averaging frame 41 into group 8\n",
      "2022-04-22 00:33:12,619 - mirage.ramp_generator.obs_generator - INFO -     Averaging frame 42 into group 8\n"
     ]
    },
    {
     "name": "stderr",
     "output_type": "stream",
     "text": [
      "2022-04-22 00:33:12,619 - stpipe - INFO -     Averaging frame 42 into group 8\n"
     ]
    },
    {
     "name": "stdout",
     "output_type": "stream",
     "text": [
      "2022-04-22 00:33:12,619 - stpipe - INFO -     Averaging frame 42 into group 8\n",
      "2022-04-22 00:33:13,271 - mirage.ramp_generator.obs_generator - INFO -     Averaging frame 43 into group 8\n"
     ]
    },
    {
     "name": "stderr",
     "output_type": "stream",
     "text": [
      "2022-04-22 00:33:13,271 - stpipe - INFO -     Averaging frame 43 into group 8\n"
     ]
    },
    {
     "name": "stdout",
     "output_type": "stream",
     "text": [
      "2022-04-22 00:33:13,271 - stpipe - INFO -     Averaging frame 43 into group 8\n",
      "2022-04-22 00:33:13,972 - mirage.ramp_generator.obs_generator - INFO -     Skipping frame 44\n"
     ]
    },
    {
     "name": "stderr",
     "output_type": "stream",
     "text": [
      "2022-04-22 00:33:13,972 - stpipe - INFO -     Skipping frame 44\n"
     ]
    },
    {
     "name": "stdout",
     "output_type": "stream",
     "text": [
      "2022-04-22 00:33:13,972 - stpipe - INFO -     Skipping frame 44\n",
      "2022-04-22 00:33:14,522 - mirage.ramp_generator.obs_generator - INFO -     Averaging frame 45 into group 9\n"
     ]
    },
    {
     "name": "stderr",
     "output_type": "stream",
     "text": [
      "2022-04-22 00:33:14,522 - stpipe - INFO -     Averaging frame 45 into group 9\n"
     ]
    },
    {
     "name": "stdout",
     "output_type": "stream",
     "text": [
      "2022-04-22 00:33:14,522 - stpipe - INFO -     Averaging frame 45 into group 9\n",
      "2022-04-22 00:33:15,120 - mirage.ramp_generator.obs_generator - INFO -     Averaging frame 46 into group 9\n"
     ]
    },
    {
     "name": "stderr",
     "output_type": "stream",
     "text": [
      "2022-04-22 00:33:15,120 - stpipe - INFO -     Averaging frame 46 into group 9\n"
     ]
    },
    {
     "name": "stdout",
     "output_type": "stream",
     "text": [
      "2022-04-22 00:33:15,120 - stpipe - INFO -     Averaging frame 46 into group 9\n",
      "2022-04-22 00:33:15,679 - mirage.ramp_generator.obs_generator - INFO -     Averaging frame 47 into group 9\n"
     ]
    },
    {
     "name": "stderr",
     "output_type": "stream",
     "text": [
      "2022-04-22 00:33:15,679 - stpipe - INFO -     Averaging frame 47 into group 9\n"
     ]
    },
    {
     "name": "stdout",
     "output_type": "stream",
     "text": [
      "2022-04-22 00:33:15,679 - stpipe - INFO -     Averaging frame 47 into group 9\n",
      "2022-04-22 00:33:16,380 - mirage.ramp_generator.obs_generator - INFO -     Averaging frame 48 into group 9\n"
     ]
    },
    {
     "name": "stderr",
     "output_type": "stream",
     "text": [
      "2022-04-22 00:33:16,380 - stpipe - INFO -     Averaging frame 48 into group 9\n"
     ]
    },
    {
     "name": "stdout",
     "output_type": "stream",
     "text": [
      "2022-04-22 00:33:16,380 - stpipe - INFO -     Averaging frame 48 into group 9\n",
      "2022-04-22 00:33:20,904 - mirage.ramp_generator.obs_generator - INFO - Adding crosstalk\n"
     ]
    },
    {
     "name": "stderr",
     "output_type": "stream",
     "text": [
      "2022-04-22 00:33:20,904 - stpipe - INFO - Adding crosstalk\n"
     ]
    },
    {
     "name": "stdout",
     "output_type": "stream",
     "text": [
      "2022-04-22 00:33:20,904 - stpipe - INFO - Adding crosstalk\n",
      "2022-04-22 00:33:22,669 - mirage.ramp_generator.obs_generator - INFO - Unlinearizing exposure.\n"
     ]
    },
    {
     "name": "stderr",
     "output_type": "stream",
     "text": [
      "2022-04-22 00:33:22,669 - stpipe - INFO - Unlinearizing exposure.\n"
     ]
    },
    {
     "name": "stdout",
     "output_type": "stream",
     "text": [
      "2022-04-22 00:33:22,669 - stpipe - INFO - Unlinearizing exposure.\n",
      "2022-04-22 00:33:31,612 - py.warnings - WARNING - /Users/dcoe/miniconda3/envs/python3.10/lib/python3.10/site-packages/mirage/ramp_generator/unlinearize.py:65: RuntimeWarning: divide by zero encountered in true_divide\n",
      "  x[i1] = (image[i1]+image[i1]/val[i1]) / 2.\n",
      "\n"
     ]
    },
    {
     "name": "stderr",
     "output_type": "stream",
     "text": [
      "2022-04-22 00:33:31,612 - stpipe - WARNING - /Users/dcoe/miniconda3/envs/python3.10/lib/python3.10/site-packages/mirage/ramp_generator/unlinearize.py:65: RuntimeWarning: divide by zero encountered in true_divide\n",
      "  x[i1] = (image[i1]+image[i1]/val[i1]) / 2.\n",
      "\n"
     ]
    },
    {
     "name": "stdout",
     "output_type": "stream",
     "text": [
      "2022-04-22 00:33:31,612 - stpipe - WARNING - /Users/dcoe/miniconda3/envs/python3.10/lib/python3.10/site-packages/mirage/ramp_generator/unlinearize.py:65: RuntimeWarning: divide by zero encountered in true_divide\n",
      "  x[i1] = (image[i1]+image[i1]/val[i1]) / 2.\n",
      "\n",
      "2022-04-22 00:33:39,432 - py.warnings - WARNING - /Users/dcoe/miniconda3/envs/python3.10/lib/python3.10/site-packages/mirage/ramp_generator/unlinearize.py:70: RuntimeWarning: divide by zero encountered in true_divide\n",
      "  dev[i1] = np.abs(image[i1] / val[i1]-1.)\n",
      "\n"
     ]
    },
    {
     "name": "stderr",
     "output_type": "stream",
     "text": [
      "2022-04-22 00:33:39,432 - stpipe - WARNING - /Users/dcoe/miniconda3/envs/python3.10/lib/python3.10/site-packages/mirage/ramp_generator/unlinearize.py:70: RuntimeWarning: divide by zero encountered in true_divide\n",
      "  dev[i1] = np.abs(image[i1] / val[i1]-1.)\n",
      "\n"
     ]
    },
    {
     "name": "stdout",
     "output_type": "stream",
     "text": [
      "2022-04-22 00:33:39,432 - stpipe - WARNING - /Users/dcoe/miniconda3/envs/python3.10/lib/python3.10/site-packages/mirage/ramp_generator/unlinearize.py:70: RuntimeWarning: divide by zero encountered in true_divide\n",
      "  dev[i1] = np.abs(image[i1] / val[i1]-1.)\n",
      "\n",
      "2022-04-22 00:35:58,726 - mirage.ramp_generator.obs_generator - INFO - Adding superbias and reference pixel signals.\n"
     ]
    },
    {
     "name": "stderr",
     "output_type": "stream",
     "text": [
      "2022-04-22 00:35:58,726 - stpipe - INFO - Adding superbias and reference pixel signals.\n"
     ]
    },
    {
     "name": "stdout",
     "output_type": "stream",
     "text": [
      "2022-04-22 00:35:58,726 - stpipe - INFO - Adding superbias and reference pixel signals.\n",
      "2022-04-22 00:35:59,764 - mirage.ramp_generator.obs_generator - INFO - \n"
     ]
    },
    {
     "name": "stderr",
     "output_type": "stream",
     "text": [
      "2022-04-22 00:35:59,764 - stpipe - INFO - \n"
     ]
    },
    {
     "name": "stdout",
     "output_type": "stream",
     "text": [
      "2022-04-22 00:35:59,764 - stpipe - INFO - \n",
      "2022-04-22 00:35:59,770 - mirage.ramp_generator.obs_generator - INFO - \n"
     ]
    },
    {
     "name": "stderr",
     "output_type": "stream",
     "text": [
      "2022-04-22 00:35:59,770 - stpipe - INFO - \n"
     ]
    },
    {
     "name": "stdout",
     "output_type": "stream",
     "text": [
      "2022-04-22 00:35:59,770 - stpipe - INFO - \n",
      "2022-04-22 00:35:59,772 - mirage.ramp_generator.obs_generator - INFO - Populating xref_sci in output file:\n"
     ]
    },
    {
     "name": "stderr",
     "output_type": "stream",
     "text": [
      "2022-04-22 00:35:59,772 - stpipe - INFO - Populating xref_sci in output file:\n"
     ]
    },
    {
     "name": "stdout",
     "output_type": "stream",
     "text": [
      "2022-04-22 00:35:59,772 - stpipe - INFO - Populating xref_sci in output file:\n",
      "2022-04-22 00:35:59,773 - mirage.ramp_generator.obs_generator - INFO - 1024.5\n"
     ]
    },
    {
     "name": "stderr",
     "output_type": "stream",
     "text": [
      "2022-04-22 00:35:59,773 - stpipe - INFO - 1024.5\n"
     ]
    },
    {
     "name": "stdout",
     "output_type": "stream",
     "text": [
      "2022-04-22 00:35:59,773 - stpipe - INFO - 1024.5\n"
     ]
    },
    {
     "name": "stderr",
     "output_type": "stream",
     "text": [
      "WCS info for /Users/dcoe/NIRCam/MIRAGE/2022April/images/F277W/jw01433010001_01101_00012_nrca5_uncal.fits complete.\n"
     ]
    },
    {
     "name": "stdout",
     "output_type": "stream",
     "text": [
      "2022-04-22 00:36:00,383 - mirage.utils.set_telescope_pointing_separated - INFO - WCS info for /Users/dcoe/NIRCam/MIRAGE/2022April/images/F277W/jw01433010001_01101_00012_nrca5_uncal.fits complete.\n"
     ]
    },
    {
     "name": "stderr",
     "output_type": "stream",
     "text": [
      "2022-04-22 00:36:00,383 - stpipe - INFO - WCS info for /Users/dcoe/NIRCam/MIRAGE/2022April/images/F277W/jw01433010001_01101_00012_nrca5_uncal.fits complete.\n"
     ]
    },
    {
     "name": "stdout",
     "output_type": "stream",
     "text": [
      "2022-04-22 00:36:00,383 - stpipe - INFO - WCS info for /Users/dcoe/NIRCam/MIRAGE/2022April/images/F277W/jw01433010001_01101_00012_nrca5_uncal.fits complete.\n",
      "2022-04-22 00:36:00,385 - mirage.ramp_generator.obs_generator - INFO - Final raw exposure saved to: \n"
     ]
    },
    {
     "name": "stderr",
     "output_type": "stream",
     "text": [
      "2022-04-22 00:36:00,385 - stpipe - INFO - Final raw exposure saved to: \n"
     ]
    },
    {
     "name": "stdout",
     "output_type": "stream",
     "text": [
      "2022-04-22 00:36:00,385 - stpipe - INFO - Final raw exposure saved to: \n",
      "2022-04-22 00:36:00,386 - mirage.ramp_generator.obs_generator - INFO - /Users/dcoe/NIRCam/MIRAGE/2022April/images/F277W/jw01433010001_01101_00012_nrca5_uncal.fits\n"
     ]
    },
    {
     "name": "stderr",
     "output_type": "stream",
     "text": [
      "2022-04-22 00:36:00,386 - stpipe - INFO - /Users/dcoe/NIRCam/MIRAGE/2022April/images/F277W/jw01433010001_01101_00012_nrca5_uncal.fits\n"
     ]
    },
    {
     "name": "stdout",
     "output_type": "stream",
     "text": [
      "2022-04-22 00:36:00,386 - stpipe - INFO - /Users/dcoe/NIRCam/MIRAGE/2022April/images/F277W/jw01433010001_01101_00012_nrca5_uncal.fits\n",
      "2022-04-22 00:36:00,387 - mirage.ramp_generator.obs_generator - INFO - \n"
     ]
    },
    {
     "name": "stderr",
     "output_type": "stream",
     "text": [
      "2022-04-22 00:36:00,387 - stpipe - INFO - \n"
     ]
    },
    {
     "name": "stdout",
     "output_type": "stream",
     "text": [
      "2022-04-22 00:36:00,387 - stpipe - INFO - \n",
      "2022-04-22 00:36:00,389 - mirage.ramp_generator.obs_generator - INFO - \n"
     ]
    },
    {
     "name": "stderr",
     "output_type": "stream",
     "text": [
      "2022-04-22 00:36:00,389 - stpipe - INFO - \n"
     ]
    },
    {
     "name": "stdout",
     "output_type": "stream",
     "text": [
      "2022-04-22 00:36:00,389 - stpipe - INFO - \n",
      "2022-04-22 00:36:00,390 - mirage.ramp_generator.obs_generator - INFO - Segment 1 out of 1 complete.\n"
     ]
    },
    {
     "name": "stderr",
     "output_type": "stream",
     "text": [
      "2022-04-22 00:36:00,390 - stpipe - INFO - Segment 1 out of 1 complete.\n"
     ]
    },
    {
     "name": "stdout",
     "output_type": "stream",
     "text": [
      "2022-04-22 00:36:00,390 - stpipe - INFO - Segment 1 out of 1 complete.\n",
      "2022-04-22 00:36:00,391 - mirage.ramp_generator.obs_generator - INFO - Observation generation complete.\n"
     ]
    },
    {
     "name": "stderr",
     "output_type": "stream",
     "text": [
      "2022-04-22 00:36:00,391 - stpipe - INFO - Observation generation complete.\n"
     ]
    },
    {
     "name": "stdout",
     "output_type": "stream",
     "text": [
      "2022-04-22 00:36:00,391 - stpipe - INFO - Observation generation complete.\n",
      "2022-04-22 00:36:00,439 - mirage.imaging_simulator - INFO - \n"
     ]
    },
    {
     "name": "stderr",
     "output_type": "stream",
     "text": [
      "2022-04-22 00:36:00,439 - stpipe - INFO - \n"
     ]
    },
    {
     "name": "stdout",
     "output_type": "stream",
     "text": [
      "2022-04-22 00:36:00,439 - stpipe - INFO - \n",
      "2022-04-22 00:36:00,441 - mirage.imaging_simulator - INFO - Imaging simulator complete\n"
     ]
    },
    {
     "name": "stderr",
     "output_type": "stream",
     "text": [
      "2022-04-22 00:36:00,441 - stpipe - INFO - Imaging simulator complete\n"
     ]
    },
    {
     "name": "stdout",
     "output_type": "stream",
     "text": [
      "2022-04-22 00:36:00,441 - stpipe - INFO - Imaging simulator complete\n"
     ]
    }
   ],
   "source": [
    "cal_images = []\n",
    "for yfile in yamls_to_process:\n",
    "    print(yfile)\n",
    "    uncal_image = yfile.replace('.yaml', '_uncal.fits').replace(yaml_dir, image_dir)\n",
    "\n",
    "    # MIRAGE\n",
    "    # 3 (7) minutes per image at work (home on VPN)\n",
    "    if not os.path.exists(uncal_image):\n",
    "        m = imaging_simulator.ImgSim()\n",
    "        m.paramfile = yfile\n",
    "        m.create()\n",
    "        \n",
    "    hdu = fits.open(uncal_image)\n",
    "    try:\n",
    "        noutputs = hdu[0].header['NOUTPUTS']\n",
    "    except:\n",
    "        hdu[0].header['NOUTPUTS'] = 4\n",
    "        hdu.writeto(uncal_image, overwrite=True)"
   ]
  },
  {
   "cell_type": "markdown",
   "metadata": {},
   "source": [
    "The raw data file is now ready to be run through the [JWST calibration pipeline](https://jwst-pipeline.readthedocs.io/en/stable/) from the beginning. If dark current subtraction is not important for you, you can use Mirage's linear output, skip some of the initial steps of the pipeline, and begin by running the [Jump detection](https://jwst-pipeline.readthedocs.io/en/stable/jwst/jump/index.html?highlight=jump) and [ramp fitting](https://jwst-pipeline.readthedocs.io/en/stable/jwst/ramp_fitting/index.html) steps."
   ]
  },
  {
   "cell_type": "markdown",
   "metadata": {},
   "source": [
    "---\n",
    "<a id='mult_sims'></a>\n",
    "## Simulating Multiple Exposures"
   ]
  },
  {
   "cell_type": "markdown",
   "metadata": {},
   "source": [
    "Each yaml file will simulate an exposure for a single pointing using a single detector. To simulate multiple exposures, or a single exposure with multiple detectors, multiple calls to the *imaging_simulator* must be made."
   ]
  },
  {
   "cell_type": "markdown",
   "metadata": {},
   "source": [
    "### In Series\n",
    "```python\n",
    "paramlist = [yaml_a1,yaml_a2,yaml_a3,yaml_a4,yaml_a5]\n",
    "\n",
    "def many_sim(paramlist):\n",
    "    '''Function to run many simulations in series\n",
    "    '''\n",
    "    for file in paramlist:\n",
    "        m = imaging_simulator.ImgSim()\n",
    "        m.paramfile = file\n",
    "        m.create()\n",
    "```\n",
    "\n",
    "### In Parallel\n",
    "\n",
    "Since each `yaml` simulations does not depend on the others, we can parallelize the process to speed things up:\n",
    "```python\n",
    "from multiprocessing import Pool\n",
    "\n",
    "n_procs = 5 # number of cores available\n",
    "\n",
    "with Pool(n_procs) as pool:\n",
    "    pool.map(make_sim, paramlist)\n",
    "```"
   ]
  },
  {
   "cell_type": "code",
   "execution_count": null,
   "metadata": {},
   "outputs": [],
   "source": [
    "# https://techwiser.com/how-many-cores-does-my-cpu-have/\n",
    "n_procs = 6 # number of cores available"
   ]
  }
 ],
 "metadata": {
  "kernelspec": {
   "display_name": "Python 3",
   "language": "python",
   "name": "python3"
  },
  "language_info": {
   "codemirror_mode": {
    "name": "ipython",
    "version": 3
   },
   "file_extension": ".py",
   "mimetype": "text/x-python",
   "name": "python",
   "nbconvert_exporter": "python",
   "pygments_lexer": "ipython3",
   "version": "3.10.2"
  }
 },
 "nbformat": 4,
 "nbformat_minor": 2
}
